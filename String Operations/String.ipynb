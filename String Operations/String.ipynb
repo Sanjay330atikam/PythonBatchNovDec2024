{
 "cells": [
  {
   "cell_type": "code",
   "execution_count": 1,
   "metadata": {},
   "outputs": [
    {
     "name": "stdout",
     "output_type": "stream",
     "text": [
      "sanjay <class 'str'>\n"
     ]
    }
   ],
   "source": [
    "name = 'sanjay'\n",
    "print(name,type(name))\n",
    "\n"
   ]
  },
  {
   "cell_type": "code",
   "execution_count": 2,
   "metadata": {},
   "outputs": [
    {
     "name": "stdout",
     "output_type": "stream",
     "text": [
      "Howdy how is'it going <class 'str'>\n"
     ]
    }
   ],
   "source": [
    "greet = \"Howdy how is'it going\"\n",
    "print(greet,type(greet))"
   ]
  },
  {
   "cell_type": "code",
   "execution_count": 3,
   "metadata": {},
   "outputs": [
    {
     "name": "stdout",
     "output_type": "stream",
     "text": [
      " It is a beautiful\"language\" where it-s's useful <class 'str'>\n"
     ]
    }
   ],
   "source": [
    "string = ''' It is a beautiful\"language\" where it-s's useful'''\n",
    "print(string,type(string))"
   ]
  },
  {
   "cell_type": "markdown",
   "metadata": {},
   "source": [
    "## Multi-line. Strings"
   ]
  },
  {
   "cell_type": "code",
   "execution_count": 4,
   "metadata": {},
   "outputs": [
    {
     "ename": "SyntaxError",
     "evalue": "unterminated string literal (detected at line 1) (2501900269.py, line 1)",
     "output_type": "error",
     "traceback": [
      "\u001b[0;36m  Cell \u001b[0;32mIn[4], line 1\u001b[0;36m\u001b[0m\n\u001b[0;31m    print('hey\u001b[0m\n\u001b[0m          ^\u001b[0m\n\u001b[0;31mSyntaxError\u001b[0m\u001b[0;31m:\u001b[0m unterminated string literal (detected at line 1)\n"
     ]
    }
   ],
   "source": [
    "print('hey\n",
    "      how it going')"
   ]
  },
  {
   "cell_type": "code",
   "execution_count": null,
   "metadata": {},
   "outputs": [
    {
     "name": "stdout",
     "output_type": "stream",
     "text": [
      "hey      how it going\n",
      "hey\n",
      "      how it going\n"
     ]
    }
   ],
   "source": [
    "print('hey\\\n",
    "      how it going')\n",
    "print('''hey\n",
    "      how it going''')\n",
    "# \\ is a continution operator\n",
    "# Triple ''' used to combines Mutiple lines"
   ]
  },
  {
   "cell_type": "code",
   "execution_count": null,
   "metadata": {},
   "outputs": [
    {
     "name": "stdout",
     "output_type": "stream",
     "text": [
      "select * from String, where string = \"Operator\" and coloumn = 'Data objects' ;\n"
     ]
    }
   ],
   "source": [
    "sql = '''select * from String, where string = \"Operator\" and coloumn = 'Data objects' ; '''\n",
    "print(sql)"
   ]
  },
  {
   "cell_type": "markdown",
   "metadata": {},
   "source": [
    "#String Indexing"
   ]
  },
  {
   "cell_type": "code",
   "execution_count": 11,
   "metadata": {},
   "outputs": [
    {
     "name": "stdout",
     "output_type": "stream",
     "text": [
      "n\n"
     ]
    }
   ],
   "source": [
    "code = 'string is not a lanuage'\n",
    "print(code[4])"
   ]
  },
  {
   "cell_type": "code",
   "execution_count": 13,
   "metadata": {},
   "outputs": [
    {
     "name": "stdout",
     "output_type": "stream",
     "text": [
      "code[10] =  n\n"
     ]
    }
   ],
   "source": [
    "print('code[10] = ',code[10])"
   ]
  },
  {
   "cell_type": "code",
   "execution_count": null,
   "metadata": {},
   "outputs": [
    {
     "name": "stdout",
     "output_type": "stream",
     "text": [
      "code[-0]= s\n"
     ]
    }
   ],
   "source": [
    "print('code[-0]=',code[-0])\n",
    "# if we give index value even -0 it gives correct index position -0 doest have any value it is same as 0."
   ]
  },
  {
   "cell_type": "markdown",
   "metadata": {},
   "source": [
    "Indexing can be done from -n to (n-1)\n",
    "Indexing cannot be done to float values.\n",
    "\n"
   ]
  },
  {
   "cell_type": "markdown",
   "metadata": {},
   "source": [
    "##String Slicing"
   ]
  },
  {
   "cell_type": "code",
   "execution_count": null,
   "metadata": {},
   "outputs": [
    {
     "name": "stdout",
     "output_type": "stream",
     "text": [
      "python\n"
     ]
    }
   ],
   "source": [
    "lang = 'python git'\n",
    "print(lang[0:6])\n",
    "# asking beyond the limits in the expereesion for lang [1:20]it doe'snot threw error in slicing."
   ]
  },
  {
   "cell_type": "code",
   "execution_count": 18,
   "metadata": {},
   "outputs": [
    {
     "name": "stdout",
     "output_type": "stream",
     "text": [
      "lang[0:7]= python gi\n"
     ]
    }
   ],
   "source": [
    "print('lang[0:7]=',lang[0:9])"
   ]
  },
  {
   "cell_type": "markdown",
   "metadata": {},
   "source": [
    "In Python, it doesn'ython, it does'not include the last value in the boundary condition(like slicing etc)."
   ]
  },
  {
   "cell_type": "code",
   "execution_count": null,
   "metadata": {},
   "outputs": [
    {
     "name": "stdout",
     "output_type": "stream",
     "text": [
      "Srn t\n"
     ]
    }
   ],
   "source": [
    "#Step up \n",
    "# S T R I N G   S  T  E  P  U  P \n",
    "# 0 1 2 3 4 5 6 7 8  9  10 11 12\n",
    "#  S T  R    I  N   G      S   T   E    P    U   P \n",
    "#-13-12 -11 -10 -9  -8  -7 -6  -5    -4   -3  -2 -1\n",
    "step='String StepUp'         \n",
    "print(step[0:10:2])         "
   ]
  },
  {
   "cell_type": "code",
   "execution_count": 32,
   "metadata": {},
   "outputs": [
    {
     "name": "stdout",
     "output_type": "stream",
     "text": [
      "ppt n\n"
     ]
    }
   ],
   "source": [
    "print(step[12:2:-2])"
   ]
  },
  {
   "cell_type": "code",
   "execution_count": null,
   "metadata": {},
   "outputs": [
    {
     "name": "stdout",
     "output_type": "stream",
     "text": [
      "ppt n\n"
     ]
    }
   ],
   "source": [
    "print(step[14:2:-2])  # Here 14 goes beyound the string limit, still it will take \n",
    "                    #  slicing from actual lenghth index of string."
   ]
  },
  {
   "cell_type": "markdown",
   "metadata": {},
   "source": [
    "#Default starting is = 0\n",
    "#Default final index = lenght of the string \n",
    "#Default step Up is = +1\n"
   ]
  },
  {
   "cell_type": "code",
   "execution_count": 40,
   "metadata": {},
   "outputs": [
    {
     "name": "stdout",
     "output_type": "stream",
     "text": [
      "String StepUp\n",
      "String StepU\n",
      "String StepUp\n",
      "String StepUp\n",
      "String StepUp\n",
      "Srn tpp\n",
      "ppt nrS\n"
     ]
    }
   ],
   "source": [
    "print(step[0:])# starts from starting index\n",
    "print(step[:12])#Ends with final index\n",
    "print(step[:]) # nothing is given everything is default\n",
    "print(step)# No string Slicing\n",
    "print(step[::]) # strats from default step 0 i.e 0+1...\n",
    "print(step[::2])# default value 0 with step up +2 i.e 0+2,+4...\n",
    "print(step[::-2])"
   ]
  },
  {
   "cell_type": "markdown",
   "metadata": {},
   "source": [
    "##Assingment - Inplace reversing\n"
   ]
  },
  {
   "cell_type": "code",
   "execution_count": null,
   "metadata": {},
   "outputs": [
    {
     "name": "stdout",
     "output_type": "stream",
     "text": [
      "Sanjay Goud\n",
      "duoG yajnaS\n",
      "\n"
     ]
    }
   ],
   "source": [
    "name = 'Sanjay Goud'\n",
    "print(name[::])\n",
    "print(name[::-1])\n",
    "print(name[-12::1])"
   ]
  }
 ],
 "metadata": {
  "kernelspec": {
   "display_name": "Python 3",
   "language": "python",
   "name": "python3"
  },
  "language_info": {
   "codemirror_mode": {
    "name": "ipython",
    "version": 3
   },
   "file_extension": ".py",
   "mimetype": "text/x-python",
   "name": "python",
   "nbconvert_exporter": "python",
   "pygments_lexer": "ipython3",
   "version": "3.12.1"
  }
 },
 "nbformat": 4,
 "nbformat_minor": 2
}
