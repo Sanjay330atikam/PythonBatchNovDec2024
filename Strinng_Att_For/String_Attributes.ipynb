{
 "cells": [
  {
   "cell_type": "code",
   "execution_count": 2,
   "metadata": {},
   "outputs": [
    {
     "name": "stdout",
     "output_type": "stream",
     "text": [
      "['__add__', '__class__', '__contains__', '__delattr__', '__dir__', '__doc__', '__eq__', '__format__', '__ge__', '__getattribute__', '__getitem__', '__getnewargs__', '__getstate__', '__gt__', '__hash__', '__init__', '__init_subclass__', '__iter__', '__le__', '__len__', '__lt__', '__mod__', '__mul__', '__ne__', '__new__', '__reduce__', '__reduce_ex__', '__repr__', '__rmod__', '__rmul__', '__setattr__', '__sizeof__', '__str__', '__subclasshook__', 'capitalize', 'casefold', 'center', 'count', 'encode', 'endswith', 'expandtabs', 'find', 'format', 'format_map', 'index', 'isalnum', 'isalpha', 'isascii', 'isdecimal', 'isdigit', 'isidentifier', 'islower', 'isnumeric', 'isprintable', 'isspace', 'istitle', 'isupper', 'join', 'ljust', 'lower', 'lstrip', 'maketrans', 'partition', 'removeprefix', 'removesuffix', 'replace', 'rfind', 'rindex', 'rjust', 'rpartition', 'rsplit', 'rstrip', 'split', 'splitlines', 'startswith', 'strip', 'swapcase', 'title', 'translate', 'upper', 'zfill']\n"
     ]
    }
   ],
   "source": [
    "name ='sanjay'\n",
    "print(dir(name))"
   ]
  },
  {
   "cell_type": "code",
   "execution_count": 3,
   "metadata": {},
   "outputs": [
    {
     "data": {
      "text/plain": [
       "['__add__',\n",
       " '__class__',\n",
       " '__contains__',\n",
       " '__delattr__',\n",
       " '__dir__',\n",
       " '__doc__',\n",
       " '__eq__',\n",
       " '__format__',\n",
       " '__ge__',\n",
       " '__getattribute__',\n",
       " '__getitem__',\n",
       " '__getnewargs__',\n",
       " '__getstate__',\n",
       " '__gt__',\n",
       " '__hash__',\n",
       " '__init__',\n",
       " '__init_subclass__',\n",
       " '__iter__',\n",
       " '__le__',\n",
       " '__len__',\n",
       " '__lt__',\n",
       " '__mod__',\n",
       " '__mul__',\n",
       " '__ne__',\n",
       " '__new__',\n",
       " '__reduce__',\n",
       " '__reduce_ex__',\n",
       " '__repr__',\n",
       " '__rmod__',\n",
       " '__rmul__',\n",
       " '__setattr__',\n",
       " '__sizeof__',\n",
       " '__str__',\n",
       " '__subclasshook__',\n",
       " 'capitalize',\n",
       " 'casefold',\n",
       " 'center',\n",
       " 'count',\n",
       " 'encode',\n",
       " 'endswith',\n",
       " 'expandtabs',\n",
       " 'find',\n",
       " 'format',\n",
       " 'format_map',\n",
       " 'index',\n",
       " 'isalnum',\n",
       " 'isalpha',\n",
       " 'isascii',\n",
       " 'isdecimal',\n",
       " 'isdigit',\n",
       " 'isidentifier',\n",
       " 'islower',\n",
       " 'isnumeric',\n",
       " 'isprintable',\n",
       " 'isspace',\n",
       " 'istitle',\n",
       " 'isupper',\n",
       " 'join',\n",
       " 'ljust',\n",
       " 'lower',\n",
       " 'lstrip',\n",
       " 'maketrans',\n",
       " 'partition',\n",
       " 'removeprefix',\n",
       " 'removesuffix',\n",
       " 'replace',\n",
       " 'rfind',\n",
       " 'rindex',\n",
       " 'rjust',\n",
       " 'rpartition',\n",
       " 'rsplit',\n",
       " 'rstrip',\n",
       " 'split',\n",
       " 'splitlines',\n",
       " 'startswith',\n",
       " 'strip',\n",
       " 'swapcase',\n",
       " 'title',\n",
       " 'translate',\n",
       " 'upper',\n",
       " 'zfill']"
      ]
     },
     "execution_count": 3,
     "metadata": {},
     "output_type": "execute_result"
    }
   ],
   "source": [
    "dir(name)"
   ]
  },
  {
   "cell_type": "code",
   "execution_count": 4,
   "metadata": {},
   "outputs": [
    {
     "name": "stdout",
     "output_type": "stream",
     "text": [
      "Result =  Textbook\n"
     ]
    }
   ],
   "source": [
    "one = 'Text'\n",
    "two = 'book'\n",
    "Result = one + two\n",
    "print('Result = ',Result)"
   ]
  },
  {
   "cell_type": "code",
   "execution_count": 8,
   "metadata": {},
   "outputs": [
    {
     "name": "stdout",
     "output_type": "stream",
     "text": [
      "Textbook\n"
     ]
    }
   ],
   "source": [
    "Result= one.__add__(two)\n",
    "print(Result)"
   ]
  },
  {
   "cell_type": "code",
   "execution_count": 11,
   "metadata": {},
   "outputs": [
    {
     "name": "stdout",
     "output_type": "stream",
     "text": [
      "TextTextTextTextText\n",
      "TextTextTextTextText\n"
     ]
    }
   ],
   "source": [
    "Result=one*5\n",
    "print(Result)\n",
    "Result =one.__mul__(5)\n",
    "print(Result)"
   ]
  },
  {
   "cell_type": "code",
   "execution_count": null,
   "metadata": {},
   "outputs": [
    {
     "name": "stdout",
     "output_type": "stream",
     "text": [
      "V_S = Github\n",
      "V_S.capatilize() = Github\n",
      "V-S.title()= Github\n",
      "V_S.upper()= GITHUB\n",
      "V_S.lower()= github\n",
      "V_S.swapcase()= gITHUB\n"
     ]
    }
   ],
   "source": [
    "V_S = 'Github'\n",
    "print('V_S =', V_S)\n",
    "print('V_S.capatilize() =',V_S.capitalize())\n",
    "print('V-S.title()=',V_S.title())\n",
    "print('V_S.upper()=',V_S.upper())\n",
    "print('V_S.lower()=',V_S.lower())\n",
    "print('V_S.swapcase()=',V_S.swapcase())#convert small to big and big to small"
   ]
  },
  {
   "cell_type": "code",
   "execution_count": 41,
   "metadata": {},
   "outputs": [
    {
     "name": "stdout",
     "output_type": "stream",
     "text": [
      "c.casefold() =  i̇stanbul\n",
      "j.casefold() =  aérea\n",
      "j.casefold() =  aérea\n",
      "b.casefold() =  strasse\n",
      "e.casefold() =  réplace\n"
     ]
    }
   ],
   "source": [
    "#Identify different few examples in different languages for casefold attributes use case\n",
    "\n",
    "c='İstanbul'\n",
    "print('c.casefold() = ',c.casefold())\n",
    "j='Aérea'\n",
    "print('j.casefold() = ',j.casefold())\n",
    "print('j.casefold() = ',j.lower())\n",
    "b='Straße'\n",
    "print('b.casefold() = ',b.casefold())\n",
    "e='RÉPlACE'\n",
    "print('e.casefold() = ',e.casefold())\n"
   ]
  },
  {
   "cell_type": "code",
   "execution_count": 3,
   "metadata": {},
   "outputs": [
    {
     "name": "stdout",
     "output_type": "stream",
     "text": [
      "V_S.istitle() = True\n"
     ]
    }
   ],
   "source": [
    "#istitle\n",
    "print('V_S.istitle() =',V_S.istitle())\n"
   ]
  },
  {
   "cell_type": "code",
   "execution_count": 11,
   "metadata": {},
   "outputs": [
    {
     "name": "stdout",
     "output_type": "stream",
     "text": [
      "V_S.isupper()= False\n",
      "N.isupper()= True\n"
     ]
    }
   ],
   "source": [
    "#isupper every charcter should be in upper case-then true\n",
    "#even one lower case also-Fals\n",
    "print('V_S.isupper()=',V_S.isupper())\n",
    "N='SANJAY'\n",
    "print('N.isupper()=',N.isupper())"
   ]
  },
  {
   "cell_type": "code",
   "execution_count": null,
   "metadata": {},
   "outputs": [
    {
     "name": "stdout",
     "output_type": "stream",
     "text": [
      "M.islower()= True\n",
      "True\n",
      "False\n"
     ]
    }
   ],
   "source": [
    "#islower - no upper case charcter should be present all charcters should be lower case\n",
    "M='github'\n",
    "print('M.islower()=',M.islower())\n",
    "S='abc123#'\n",
    "print(S.islower())\n",
    "s='ABsanj'\n",
    "print(s.islower())"
   ]
  },
  {
   "cell_type": "code",
   "execution_count": 44,
   "metadata": {},
   "outputs": [
    {
     "name": "stdout",
     "output_type": "stream",
     "text": [
      "num.isnumeric()= True\n",
      "num.isdigit()= True\n",
      "n.isnumeric()= False\n",
      "n.isdigit()= False\n",
      "i.isnumeric()= False\n",
      "i.isdigit()= False\n"
     ]
    }
   ],
   "source": [
    "#isdigit\n",
    "num ='200'\n",
    "print('num.isnumeric()=',num.isnumeric())\n",
    "print('num.isdigit()=',num.isdigit())\n",
    "n = '2 00'\n",
    "print('n.isnumeric()=',n.isnumeric())\n",
    "print('n.isdigit()=',n.isdigit())\n",
    "i ='234. @sd'\n",
    "print('i.isnumeric()=',i.isnumeric())\n",
    "print('i.isdigit()=',i.isdigit())\n"
   ]
  },
  {
   "cell_type": "code",
   "execution_count": null,
   "metadata": {},
   "outputs": [
    {
     "name": "stdout",
     "output_type": "stream",
     "text": [
      "True\n",
      "False\n",
      "True\n",
      "False\n",
      "True\n",
      "False\n",
      "True\n",
      "True\n"
     ]
    }
   ],
   "source": [
    "#ASSIGNMENt# identify difference between str.isdigit vs str.isnumeric\n",
    "#isdigit-identfies decimal(0-9) and sub and superscripts\n",
    "#isnumeric-identifies decimals(0-9),romans,currency numerators,fractions,sub and superscripts\n",
    "txt='Ⅴ12'\n",
    "print(txt.isnumeric())\n",
    "print(txt.isdigit())\n",
    "n=\"¼20\"\n",
    "print(n.isnumeric())\n",
    "print(n.isdigit())\n",
    "s='₁⅔'\n",
    "print(s.isnumeric())\n",
    "print(s.isdigit())\n",
    "a='₁'\n",
    "print(a.isnumeric())\n",
    "print(a.isdigit())"
   ]
  },
  {
   "cell_type": "code",
   "execution_count": null,
   "metadata": {},
   "outputs": [
    {
     "name": "stdout",
     "output_type": "stream",
     "text": [
      "sam.isalpha()= True\n",
      "False\n"
     ]
    }
   ],
   "source": [
    "#isalpha-all charcters should be alphabets\n",
    "sam='ABCD'\n",
    "print('sam.isalpha()=',sam.isalpha())\n",
    "i='ABC12'\n",
    "print(i.isalpha())"
   ]
  },
  {
   "cell_type": "code",
   "execution_count": 26,
   "metadata": {},
   "outputs": [
    {
     "name": "stdout",
     "output_type": "stream",
     "text": [
      "n.isalnum()= True\n",
      "True\n",
      "True\n",
      "False\n"
     ]
    }
   ],
   "source": [
    "#isalnum-All charcters should be aplhabets or numbers\n",
    "n='Sanj123'\n",
    "print('n.isalnum()=',n.isalnum())\n",
    "m='sanj'\n",
    "print(m.isalnum())\n",
    "k='123'\n",
    "print(k.isalnum())\n",
    "j='sanj123@#'\n",
    "print(j.isalnum())"
   ]
  },
  {
   "cell_type": "code",
   "execution_count": 32,
   "metadata": {},
   "outputs": [
    {
     "name": "stdout",
     "output_type": "stream",
     "text": [
      "o,isspace()= True\n",
      "False\n"
     ]
    }
   ],
   "source": [
    "#isspace - if we have one or many spcase it is true other than space any other charcter it is false\n",
    "o='  '\n",
    "print('o,isspace()=',o.isspace())\n",
    "o='.a.   '\n",
    "print(o.isspace())"
   ]
  },
  {
   "cell_type": "code",
   "execution_count": 39,
   "metadata": {},
   "outputs": [
    {
     "name": "stdout",
     "output_type": "stream",
     "text": [
      "a.isprintable()= True\n",
      "a.isprintable()= False\n"
     ]
    }
   ],
   "source": [
    "#isacii\n",
    "#isprintable\n",
    "a='sam'\n",
    "print('a.isprintable()=',a.isprintable())\n",
    "a='\\t'\n",
    "print(r'a.isprintable()=',a.isprintable())"
   ]
  },
  {
   "cell_type": "code",
   "execution_count": 41,
   "metadata": {},
   "outputs": [
    {
     "name": "stdout",
     "output_type": "stream",
     "text": [
      "mm.isidentifier= True\n",
      "mm.isidentifier= False\n"
     ]
    }
   ],
   "source": [
    "#isidentifier - In this starting charcter should be aplabhet either upper or lower or _\n",
    "#not special charcters\n",
    "mm='Sanjay'\n",
    "print('mm.isidentifier=',mm.isidentifier())\n",
    "mm='@sanjay'\n",
    "print('mm.isidentifier=',mm.isidentifier())\n"
   ]
  },
  {
   "cell_type": "code",
   "execution_count": 66,
   "metadata": {},
   "outputs": [
    {
     "name": "stdout",
     "output_type": "stream",
     "text": [
      "nn.find()= 0\n",
      "nn.rfind()= 4\n",
      "nn.find()= 4\n",
      "nn.find()= 4\n",
      "nn.find()= 4\n"
     ]
    }
   ],
   "source": [
    "#find-used to find the first occurance of given substring with in bounds\n",
    "# rfind gives second occurance in string\n",
    "#.find('t',1)) gives occurance of characte after the specified index position in substring\n",
    "nn='tomato'\n",
    "print('nn.find()=',nn.find('t'))\n",
    "print('nn.rfind()=',nn.rfind('t'))\n",
    "print('nn.find()=',nn.find('t',1))\n",
    "print('nn.find()=',nn.rfind('t',3))\n",
    "print('nn.find()=',nn.find('t',1,5))"
   ]
  },
  {
   "cell_type": "code",
   "execution_count": 67,
   "metadata": {},
   "outputs": [
    {
     "name": "stdout",
     "output_type": "stream",
     "text": [
      "nn.index()= 0\n",
      "nn.rindex()= 4\n",
      "nn.index()= 4\n",
      "nn.index()= 4\n",
      "nn.index()= 4\n"
     ]
    }
   ],
   "source": [
    "#index\n",
    "nn='tomato'\n",
    "print('nn.index()=',nn.index('t'))\n",
    "print('nn.rindex()=',nn.rindex('t'))\n",
    "print('nn.index()=',nn.index('t',1))\n",
    "print('nn.index()=',nn.rindex('t',3))\n",
    "print('nn.index()=',nn.index('t',1,5))"
   ]
  },
  {
   "cell_type": "code",
   "execution_count": null,
   "metadata": {},
   "outputs": [
    {
     "name": "stdout",
     "output_type": "stream",
     "text": [
      "ss.find()= -1\n",
      "ss.index()= -1\n"
     ]
    }
   ],
   "source": [
    "#Difference Between Find and Index\n",
    "# Both operations are same but in find if a chracter that is not there is substring is asked then it gives -1.as_integer_ratio\n",
    "#Index charcter if we ask a chracter which is not in substring it gives error.\n",
    "\n",
    "ss='Sanjay'\n",
    "print('ss.find()=',ss.find('o'))\n",
    "#print('ss.index()=',ss.index('o'))\n",
    "print('ss.index()=',ss.find('Sna'))\n",
    "#print('ss.index()=',ss.index('Sna'))\n",
    "# find and index gives -1 and error if chracters are not present and there are not inorder\n",
    "#Sanjay = find"
   ]
  },
  {
   "cell_type": "code",
   "execution_count": 82,
   "metadata": {},
   "outputs": [
    {
     "name": "stdout",
     "output_type": "stream",
     "text": [
      "language.strip()= Python Programming\n",
      "language.rstrip()=   Python Programming\n",
      "language.ltrip()= Python Programming  \n",
      "language.strip()= n Programming\n"
     ]
    }
   ],
   "source": [
    "#strip- This is used to remove the widespaces on the start and ending of string.\n",
    "#rstrip-removes the right side wide space\n",
    "#lstrip-removes the left side wide spcae\n",
    "language='  Python Programming  '\n",
    "print('language.strip()=',language.strip())\n",
    "print('language.rstrip()=',language.rstrip())\n",
    "print('language.ltrip()=',language.lstrip())\n",
    "print('language.strip()=',language.strip('  Pyth Pro'))"
   ]
  },
  {
   "cell_type": "code",
   "execution_count": 89,
   "metadata": {},
   "outputs": [
    {
     "name": "stdout",
     "output_type": "stream",
     "text": [
      "num.zfill= 0123\n",
      "num.zfill= 00123\n",
      "num.zfill= 000123\n"
     ]
    }
   ],
   "source": [
    "#zfill\n",
    "num ='123'\n",
    "'123'.zfill(4)\n",
    "print('num.zfill=',num.zfill(4))\n",
    "print('num.zfill=',num.zfill(5))\n",
    "print('num.zfill=',num.zfill(6))\n",
    "\n"
   ]
  },
  {
   "cell_type": "code",
   "execution_count": 15,
   "metadata": {},
   "outputs": [
    {
     "name": "stdout",
     "output_type": "stream",
     "text": [
      "jsplit= ['Python', 'Production']\n",
      "jsplit= ['Python', 'Production']\n",
      "jsplit= ['', 'ython ', 'roduction']\n",
      "jsplit= ['Python Produc', '']\n",
      "jsplit= ['Py', 'hon Produc', 'ion']\n"
     ]
    }
   ],
   "source": [
    "#split-used to split the mentioned charcter of substring and returns rest charcters\n",
    "j='Python Production'\n",
    "print('jsplit=',j.split())\n",
    "print('jsplit=',j.split(' '))\n",
    "print('jsplit=',j.split('P'))\n",
    "print('jsplit=',j.split('tion'))\n",
    "print('jsplit=',j.split('t'))"
   ]
  },
  {
   "cell_type": "code",
   "execution_count": null,
   "metadata": {},
   "outputs": [
    {
     "name": "stdout",
     "output_type": "stream",
     "text": [
      "jsplit= ['a', 'b', 'c', 'd', 'e', 'f']\n",
      "jsplit= ['a', '', '', 'b', '', 'c', '', '', 'd', '', '', '', '', 'e', '', '', '', 'f']\n",
      "jsplit= ['', '   b  c   d     e    f']\n"
     ]
    }
   ],
   "source": [
    "s='a   b  c   d     e    f'\n",
    "print('jsplit=',s.split())#splits by widespace default\n",
    "print('jsplit=',s.split(' '))#splits by  all widespaces mentioned in the string\n",
    "print('jsplit=',s.split(''))#gives error"
   ]
  },
  {
   "cell_type": "code",
   "execution_count": 28,
   "metadata": {},
   "outputs": [
    {
     "name": "stdout",
     "output_type": "stream",
     "text": [
      "ss= ['1201201301201']\n",
      "ss= ['12', '1201301201']\n",
      "ss= ['12', '12', '1301201']\n",
      "ss= ['12', '12', '13', '12', '1']\n",
      "ss= ['12012', '13', '12', '1']\n",
      "ss= ['12012013', '12', '1']\n",
      "ss= ['12', '12', '13', '12', '1']\n"
     ]
    }
   ],
   "source": [
    "ss='1201201301201'\n",
    "print('ss=',ss.split('0',maxsplit=0))\n",
    "print('ss=',ss.split('0',maxsplit=1))\n",
    "print('ss=',ss.split('0',maxsplit=2))\n",
    "print('ss=',ss.split('0',maxsplit=56))\n",
    "#rsplit-splits from the right side\n",
    "print('ss=',ss.rsplit('0',maxsplit=3))\n",
    "print('ss=',ss.rsplit('0',maxsplit=2))\n",
    "print('ss=',ss.rsplit('0',4))"
   ]
  },
  {
   "cell_type": "code",
   "execution_count": null,
   "metadata": {},
   "outputs": [
    {
     "name": "stdout",
     "output_type": "stream",
     "text": [
      "j.partition= ('', 'P', 'ython Production')\n",
      "j.partition= ('Python Pro', 'd', 'uction')\n",
      "j.partition= ('Python ', 'P', 'roduction')\n"
     ]
    }
   ],
   "source": [
    "#partition\n",
    "j='Python Production'\n",
    "print('j.partition=',j.partition('P'))\n",
    "print('j.partition=',j.partition('d'))\n",
    "print('j.partition=',j.rpartition('P'))# does partition from right side"
   ]
  },
  {
   "cell_type": "code",
   "execution_count": null,
   "metadata": {},
   "outputs": [
    {
     "name": "stdout",
     "output_type": "stream",
     "text": [
      "('Sanjay ', 'G', 'oud')\n"
     ]
    }
   ],
   "source": [
    "#Assignment-Modify the Partition attribute to Specific index positions(like a substring partition substring)\n",
    "name='Sanjay Goud'\n",
    "#print(name.partition('G',7)) partition of G by giving index also\n",
    "print(name.partitioned('G'))"
   ]
  }
 ],
 "metadata": {
  "kernelspec": {
   "display_name": "Python 3",
   "language": "python",
   "name": "python3"
  },
  "language_info": {
   "codemirror_mode": {
    "name": "ipython",
    "version": 3
   },
   "file_extension": ".py",
   "mimetype": "text/x-python",
   "name": "python",
   "nbconvert_exporter": "python",
   "pygments_lexer": "ipython3",
   "version": "3.12.1"
  }
 },
 "nbformat": 4,
 "nbformat_minor": 2
}
