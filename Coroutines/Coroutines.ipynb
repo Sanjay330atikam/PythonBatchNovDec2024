{
 "cells": [
  {
   "cell_type": "markdown",
   "metadata": {},
   "source": [
    "## Coroutines ##\n",
    "\n",
    "-These are also a type of special Generators\n",
    "-Generators are data producers.\n",
    "-Coroutines are data consumer\n",
    "-Corountines conusmes value using Yeild."
   ]
  },
  {
   "cell_type": "code",
   "execution_count": 1,
   "metadata": {},
   "outputs": [
    {
     "name": "stdout",
     "output_type": "stream",
     "text": [
      "<class 'function'> <function hello at 0x718133e59260>\n"
     ]
    }
   ],
   "source": [
    "def hello():\n",
    "    return 'hello World'\n",
    "result = hello()\n",
    "print(type(hello),hello)"
   ]
  },
  {
   "cell_type": "code",
   "execution_count": 9,
   "metadata": {},
   "outputs": [
    {
     "name": "stdout",
     "output_type": "stream",
     "text": [
      "type(result)=<class 'generator'>,(<class 'function'>, <function hello at 0x7181334ddee0>)\n"
     ]
    }
   ],
   "source": [
    "def hello():\n",
    "    yield 'hello world'#generator\n",
    "result = hello()\n",
    "print(f\"{type(result)=},{type(hello),hello}\")\n"
   ]
  },
  {
   "cell_type": "code",
   "execution_count": 16,
   "metadata": {},
   "outputs": [
    {
     "name": "stdout",
     "output_type": "stream",
     "text": [
      "(<generator object Coroutine at 0x718133eb28c0>, <class 'generator'>),(<function Coroutine at 0x7181335096c0>, <class 'function'>)\n"
     ]
    }
   ],
   "source": [
    "def Coroutine():\n",
    "    value = yield'Hello Wolrd'\n",
    "    yield value\n",
    "\n",
    "result = Coroutine()\n",
    "print(f\"{result,type(result)},{Coroutine,type(Coroutine)}\")"
   ]
  },
  {
   "cell_type": "code",
   "execution_count": 20,
   "metadata": {},
   "outputs": [
    {
     "data": {
      "text/plain": [
       "'Hello Wolrd'"
      ]
     },
     "execution_count": 20,
     "metadata": {},
     "output_type": "execute_result"
    }
   ],
   "source": [
    "next(result)"
   ]
  },
  {
   "cell_type": "code",
   "execution_count": 1,
   "metadata": {},
   "outputs": [
    {
     "name": "stdout",
     "output_type": "stream",
     "text": [
      "(<generator object Coroutine at 0x7e146c2cd9c0>, <class 'generator'>),(<function Coroutine at 0x7e1456fc8360>, <class 'function'>)\n"
     ]
    }
   ],
   "source": [
    "def Coroutine():\n",
    "    value = yield 12312\n",
    "    yield f\"passed value is {value}\"\n",
    "\n",
    "result = Coroutine()\n",
    "print(f\"{result,type(result)},{Coroutine,type(Coroutine)}\")"
   ]
  },
  {
   "cell_type": "code",
   "execution_count": 2,
   "metadata": {},
   "outputs": [
    {
     "name": "stdout",
     "output_type": "stream",
     "text": [
      "next(result) =12312\n"
     ]
    }
   ],
   "source": [
    "#all coroutines must be primed by first calling next() or send(none))\n",
    "print(f\"{next(result) =}\") "
   ]
  },
  {
   "cell_type": "code",
   "execution_count": 26,
   "metadata": {},
   "outputs": [
    {
     "name": "stdout",
     "output_type": "stream",
     "text": [
      "(<generator object gen at 0x718133eb3640>, <class 'generator'>),(<class 'function'>, <function gen at 0x718132749440>)\n"
     ]
    }
   ],
   "source": [
    "def gen():\n",
    "    value = yield 123456\n",
    "    yield f\"passed value is {value}\"\n",
    "\n",
    "result = gen()\n",
    "print(f\"{result,type(result)},{type(gen),gen}\")"
   ]
  },
  {
   "cell_type": "code",
   "execution_count": 27,
   "metadata": {},
   "outputs": [
    {
     "name": "stdout",
     "output_type": "stream",
     "text": [
      "next(result)   =123456\n"
     ]
    }
   ],
   "source": [
    "print(f\"{next(result)   =}\")"
   ]
  },
  {
   "cell_type": "code",
   "execution_count": 3,
   "metadata": {},
   "outputs": [
    {
     "name": "stdout",
     "output_type": "stream",
     "text": [
      "passed value is Sanjay\n"
     ]
    }
   ],
   "source": [
    "print(f\"{result.send('Sanjay')}\")\n",
    "# this is coorect only value is executed once already"
   ]
  },
  {
   "cell_type": "markdown",
   "metadata": {},
   "source": [
    "##ANOTHER EXAMPLE\n"
   ]
  },
  {
   "cell_type": "code",
   "execution_count": 31,
   "metadata": {},
   "outputs": [],
   "source": [
    "def my_coro(num):\n",
    "    value = yield\"Default String\"\n",
    "    yield value\n",
    "    yield value\n",
    "    value = yield\"New String\"\n",
    "    yield value"
   ]
  },
  {
   "cell_type": "code",
   "execution_count": 33,
   "metadata": {},
   "outputs": [
    {
     "name": "stdout",
     "output_type": "stream",
     "text": [
      "<generator object my_coro at 0x718133eb2800>\n",
      "<class 'generator'>\n"
     ]
    }
   ],
   "source": [
    "# STEP 1 : To call\n",
    "c = my_coro(4)\n",
    "print(f\"{c}\")\n",
    "print(f\"{type(c)}\")"
   ]
  },
  {
   "cell_type": "code",
   "execution_count": 34,
   "metadata": {},
   "outputs": [
    {
     "name": "stdout",
     "output_type": "stream",
     "text": [
      "next(c)='Default String'\n"
     ]
    }
   ],
   "source": [
    "#Step 2: To prime the courotine\n",
    "print(f\"{next(c)=}\")"
   ]
  },
  {
   "cell_type": "code",
   "execution_count": 35,
   "metadata": {},
   "outputs": [
    {
     "name": "stdout",
     "output_type": "stream",
     "text": [
      "c.send('first')    ='first'\n",
      "c.send('second')    ='first'\n",
      "c.send('third')    ='New String'\n"
     ]
    }
   ],
   "source": [
    "#STEP 3: Sending values to Coroutine\n",
    "print(f\"{c.send('first')    =}\")\n",
    "print(f\"{c.send('second')    =}\")\n",
    "print(f\"{c.send('third')    =}\")"
   ]
  },
  {
   "cell_type": "code",
   "execution_count": 36,
   "metadata": {},
   "outputs": [
    {
     "name": "stdout",
     "output_type": "stream",
     "text": [
      "c.send('fourth')   ='fourth'\n"
     ]
    }
   ],
   "source": [
    "print(f\"{c.send('fourth')   =}\")"
   ]
  },
  {
   "cell_type": "code",
   "execution_count": 37,
   "metadata": {},
   "outputs": [],
   "source": [
    "c.close()"
   ]
  }
 ],
 "metadata": {
  "kernelspec": {
   "display_name": "Python 3",
   "language": "python",
   "name": "python3"
  },
  "language_info": {
   "codemirror_mode": {
    "name": "ipython",
    "version": 3
   },
   "file_extension": ".py",
   "mimetype": "text/x-python",
   "name": "python",
   "nbconvert_exporter": "python",
   "pygments_lexer": "ipython3",
   "version": "3.12.1"
  }
 },
 "nbformat": 4,
 "nbformat_minor": 2
}
