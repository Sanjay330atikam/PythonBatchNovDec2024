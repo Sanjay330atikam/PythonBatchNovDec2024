{
 "cells": [
  {
   "cell_type": "markdown",
   "metadata": {},
   "source": [
    "### Static Code Analysis\n",
    "    These static code analysis are the tools that doesnot even run the code \n",
    "    They will execute as it is          \n",
    "    TOOLS\n",
    "    1. Pylint\n",
    "    2. Pyflakes\n",
    "    3. Mypy\n",
    "    4. Prospector\n",
    "    5. bandit - secure coding (SQL injection) analyses\n",
    "    These tool helps in execution of things                                                "
   ]
  },
  {
   "cell_type": "markdown",
   "metadata": {},
   "source": [
    "### Command for create backup and changes\n",
    "    cp a0_ex_unformatted.py 0_ex_unformatted.py.bak && autopep8 --aggressive --in-place a1_ex_formatted.py\n",
    "\n",
    "### python -m autopep8 a0_ex_unformatted.py : \n",
    "    Gives all the problems of the code\n",
    "    "
   ]
  }
 ],
 "metadata": {
  "language_info": {
   "name": "python"
  }
 },
 "nbformat": 4,
 "nbformat_minor": 2
}
