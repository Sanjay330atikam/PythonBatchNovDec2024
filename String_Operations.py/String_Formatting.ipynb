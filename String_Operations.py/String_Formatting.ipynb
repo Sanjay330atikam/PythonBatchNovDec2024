{
 "cells": [
  {
   "cell_type": "code",
   "execution_count": 43,
   "metadata": {},
   "outputs": [
    {
     "name": "stdout",
     "output_type": "stream",
     "text": [
      "My lucky number is %d\n",
      "My lucky number is 12\n",
      "My lucky number is 12\n",
      "My lucky number is 12\n"
     ]
    }
   ],
   "source": [
    "#%d-interger formatting\n",
    "print(\"My lucky number is %d\")\n",
    "print(\"My lucky number is %d\"%12)\n",
    "print(\"My lucky number is %d\"%(12))#if we have one value use ()\n",
    "print(\"My lucky number is %d\"%12.344)"
   ]
  },
  {
   "cell_type": "code",
   "execution_count": 44,
   "metadata": {},
   "outputs": [
    {
     "name": "stdout",
     "output_type": "stream",
     "text": [
      "My lucky number is %s\n",
      "My lucky number is True\n",
      "My lucky number is None\n",
      "My lucky number is 12\n",
      "My lucky number is 12.3456\n",
      "My lucky number is python\n"
     ]
    }
   ],
   "source": [
    "# %s-string formatting\n",
    "print(\"My lucky number is %s\")\n",
    "print(\"My lucky number is %s\"%True)\n",
    "print(\"My lucky number is %s\"%None)\n",
    "print(\"My lucky number is %s\"%12)\n",
    "print(\"My lucky number is %s\"%12.3456)\n",
    "print(\"My lucky number is %s\"%'python')"
   ]
  },
  {
   "cell_type": "code",
   "execution_count": 45,
   "metadata": {},
   "outputs": [
    {
     "name": "stdout",
     "output_type": "stream",
     "text": [
      "My lucky number is %f\n",
      "My lucky number is 12.340000\n",
      "My lucky number is 0.000000\n",
      "My lucky number is 12.000000\n"
     ]
    }
   ],
   "source": [
    "#%f-float formatting\n",
    "print(\"My lucky number is %f\")\n",
    "print(\"My lucky number is %f\"%12.34)\n",
    "print(\"My lucky number is %f\"%False)\n",
    "print(\"My lucky number is %f\"%12)"
   ]
  },
  {
   "cell_type": "code",
   "execution_count": 1,
   "metadata": {},
   "outputs": [
    {
     "name": "stdout",
     "output_type": "stream",
     "text": [
      "My lucky number is %r\n",
      "My lucky number is True\n",
      "My lucky number is None\n",
      "My lucky number is 12\n",
      "My lucky number is 12.3456\n",
      "My lucky number is 'python'\n"
     ]
    }
   ],
   "source": [
    "#repr()-%r-Works same as %s for all datatypes expect string beacuse it\n",
    "#stores charcters in \"\" saying string types.\n",
    "print(\"My lucky number is %r\")\n",
    "print(\"My lucky number is %r\"%True)\n",
    "print(\"My lucky number is %r\"%None)\n",
    "print(\"My lucky number is %r\"%12)\n",
    "print(\"My lucky number is %r\"%12.3456)\n",
    "print(\"My lucky number is %r\"%'python')"
   ]
  },
  {
   "cell_type": "code",
   "execution_count": null,
   "metadata": {},
   "outputs": [
    {
     "name": "stdout",
     "output_type": "stream",
     "text": [
      "42 0o42\n",
      "22 0x22\n",
      "22 0x22\n"
     ]
    }
   ],
   "source": [
    "print(\"%o\"%34,oct(34))\n",
    "print(\"%x\"%34,hex(34))\n",
    "print(\"%X\"%34,hex(34))"
   ]
  },
  {
   "cell_type": "code",
   "execution_count": null,
   "metadata": {},
   "outputs": [
    {
     "name": "stdout",
     "output_type": "stream",
     "text": [
      "1\n"
     ]
    }
   ],
   "source": [
    "#%c-used to store only one charcter\n",
    "print(\"%c\"%'1')\n",
    "#print(\"%c\"%'12') give error\n",
    "\n"
   ]
  },
  {
   "cell_type": "code",
   "execution_count": null,
   "metadata": {},
   "outputs": [
    {
     "name": "stdout",
     "output_type": "stream",
     "text": [
      "12.34\n",
      "12.3422\n"
     ]
    }
   ],
   "source": [
    "#%g\n",
    "print(\"%g\"%12.34)\n",
    "print(\"%G\"%12.34222)"
   ]
  },
  {
   "cell_type": "code",
   "execution_count": null,
   "metadata": {},
   "outputs": [
    {
     "name": "stdout",
     "output_type": "stream",
     "text": [
      "1.234000e+01\n",
      "1.234226e+01\n"
     ]
    }
   ],
   "source": [
    "#Expotential form - %e,%e\n",
    "print(\"%e\"%12.34)\n",
    "print(\"%e\"%12.3422576)"
   ]
  },
  {
   "cell_type": "code",
   "execution_count": null,
   "metadata": {},
   "outputs": [
    {
     "name": "stdout",
     "output_type": "stream",
     "text": [
      "3.141592653589793\n",
      "3\n",
      "3.141593\n",
      " 3.141593\n",
      "    3.142\n"
     ]
    }
   ],
   "source": [
    "import math\n",
    "print(math.pi)\n",
    "print(\"%d\"%math.pi)\n",
    "print(\"%f\"%math.pi)\n",
    "print(\"%9f\"%math.pi)#one extra space and 8 space are reserved with digits\n",
    "print(\"%9.3f\"%math.pi)#reserver 9 space digir and 3 digit round off after post decimal"
   ]
  },
  {
   "cell_type": "code",
   "execution_count": null,
   "metadata": {},
   "outputs": [
    {
     "name": "stdout",
     "output_type": "stream",
     "text": [
      "My lucky number is 12 only.\n",
      "pi value is 3.141600!!!!!!!!!!\n",
      "pi value is   3.141600!!!!!!!!!!\n",
      "pi value is      3.142!!!!!!!!!!\n",
      "pi value is 000003.142!!!!!!!!!!\n"
     ]
    }
   ],
   "source": [
    "print(\"My lucky number is %d only.\"%12)\n",
    "print(\"pi value is %f!!!!!!!!!!\"%3.1416)\n",
    "print(\"pi value is %10f!!!!!!!!!!\"%3.1416)#10 spaces are reserved\n",
    "print(\"pi value is %10.3f!!!!!!!!!!\"%3.1416)#10 spaces are reserved post decimal round off 3 digits\n",
    "print(\"pi value is %010.3f!!!!!!!!!!\"%3.1416)#10 spaces are resverd denoted by 0"
   ]
  },
  {
   "cell_type": "code",
   "execution_count": null,
   "metadata": {},
   "outputs": [
    {
     "name": "stdout",
     "output_type": "stream",
     "text": [
      "My nam is Sanjay and 24 old, paying a tax of 12.050000. \n"
     ]
    }
   ],
   "source": [
    "print(\"My nam is %s and %d old, paying a tax of %f. \"%('Sanjay',24,12.05))"
   ]
  },
  {
   "cell_type": "code",
   "execution_count": null,
   "metadata": {},
   "outputs": [
    {
     "name": "stdout",
     "output_type": "stream",
     "text": [
      "My nam is Sanjay and 24 old, paying a tax of 12.05. \n",
      "My nam is Sanjay and 24 old, paying a tax of 12.05. \n",
      "My nam is 'Sanjay' and '24' old, paying a tax of '12.05'. \n",
      "My nam is 'Sanjay' and '24' old, paying a tax of 12.05. \n"
     ]
    }
   ],
   "source": [
    "print(\"My nam is %s and %s old, paying a tax of %s. \"%('Sanjay','24','12.05'))\n",
    "print(\"My nam is %s and %s old, paying a tax of %s. \"%('Sanjay',24,12.05))\n",
    "print(\"My nam is %r and %r old, paying a tax of %r. \"%('Sanjay','24','12.05'))\n",
    "print(\"My nam is %r and %r old, paying a tax of %r. \"%('Sanjay','24',12.05))"
   ]
  },
  {
   "cell_type": "code",
   "execution_count": null,
   "metadata": {},
   "outputs": [],
   "source": [
    "#Limitation of old style string formatting\n",
    "#1.Same data types need to be passed\n",
    "#2.Those many number of times,those many values need to be passed\n",
    "#3."
   ]
  },
  {
   "cell_type": "markdown",
   "metadata": {},
   "source": [
    "## New Style String Formatting\n"
   ]
  },
  {
   "cell_type": "code",
   "execution_count": null,
   "metadata": {},
   "outputs": [
    {
     "name": "stdout",
     "output_type": "stream",
     "text": [
      "Udhay\n",
      "{}\n",
      "{Udhay}\n",
      "{{}}\n"
     ]
    }
   ],
   "source": [
    "#.format{}\n",
    "print(\"{}\".format('Udhay'))\n",
    "print(\"{{}}\".format('Udhay'))# even number braces it gives {}\n",
    "print(\"{{{}}}\".format('Udhay'))#odd number braces it gives value.\n",
    "print(\"{{{{}}}}\".format('Udhay'))"
   ]
  },
  {
   "cell_type": "code",
   "execution_count": null,
   "metadata": {},
   "outputs": [
    {
     "name": "stdout",
     "output_type": "stream",
     "text": [
      "cat and Mouse\n",
      "cat and Mouse\n",
      "Mouse and cat\n"
     ]
    }
   ],
   "source": [
    "print(\"{} and {}\".format(\"cat\",\"Mouse\"))\n",
    "print(\"{0} and {1}\".format(\"cat\",\"Mouse\"))\n",
    "print(\"{1} and {0}\".format(\"cat\",\"Mouse\"))"
   ]
  },
  {
   "cell_type": "code",
   "execution_count": null,
   "metadata": {},
   "outputs": [
    {
     "name": "stdout",
     "output_type": "stream",
     "text": [
      "     12348\n",
      "0000012348\n",
      "aaaaa12348\n"
     ]
    }
   ],
   "source": [
    "#similar to zfill\n",
    "print(\"{:=10}\".format(12348))\n",
    "print(\"{:0=10}\".format(12348))\n",
    "print(\"{:a=10}\".format(12348))"
   ]
  },
  {
   "cell_type": "code",
   "execution_count": null,
   "metadata": {},
   "outputs": [
    {
     "name": "stdout",
     "output_type": "stream",
     "text": [
      "left alligned       \n",
      "      right alligned\n",
      "      centered      \n",
      "------centered------\n"
     ]
    }
   ],
   "source": [
    "#Allignment\n",
    "print(\"{:<20}\".format(\"left alligned\"))\n",
    "print(\"{:>20}\".format(\"right alligned\"))\n",
    "print(\"{:^20}\".format(\"centered\"))\n",
    "#with fill charcter\n",
    "print(\"{:-^20}\".format(\"centered\"))"
   ]
  },
  {
   "cell_type": "code",
   "execution_count": null,
   "metadata": {},
   "outputs": [
    {
     "name": "stdout",
     "output_type": "stream",
     "text": [
      "1024 2048\n",
      "10000000000 0b100000000000\n",
      "400 0x800\n",
      "2000 0o4000\n"
     ]
    }
   ],
   "source": [
    "#formating\n",
    "print(\"{}\".format(1024),2048)\n",
    "print(\"{:b}\".format(1024),bin(2048))\n",
    "print(\"{:x}\".format(1024),hex(2048))\n",
    "print(\"{:o}\".format(1024),oct(2048))"
   ]
  },
  {
   "cell_type": "code",
   "execution_count": 3,
   "metadata": {},
   "outputs": [
    {
     "name": "stdout",
     "output_type": "stream",
     "text": [
      "{} 3.141592653589793\n",
      "3.141592653589793\n",
      "3.141593\n",
      "3.14159\n",
      " 3.141593\n",
      "    3.142\n",
      "00003.142\n"
     ]
    }
   ],
   "source": [
    "\n",
    "import math\n",
    "print(\"{}\",math.pi)\n",
    "print(\"{}\".format(math.pi))\n",
    "\n",
    "print(\"{:f}\".format(math.pi))\n",
    "print(\"{:g}\".format(math.pi))\n",
    "print(\"{:9f}\".format(math.pi))\n",
    "print(\"{:9.3f}\".format(math.pi))\n",
    "print(\"{:09.3f}\".format(math.pi))"
   ]
  },
  {
   "cell_type": "code",
   "execution_count": 12,
   "metadata": {},
   "outputs": [
    {
     "name": "stdout",
     "output_type": "stream",
     "text": [
      "123.000000\n"
     ]
    }
   ],
   "source": [
    "#Assignmment- How to take floating point value and display in new style formatting as integer in the  string \n",
    "#print(\"{:f}\".format(123.909))\n",
    "print(\"{:f}\".format(int(123.909)))"
   ]
  },
  {
   "cell_type": "code",
   "execution_count": null,
   "metadata": {},
   "outputs": [
    {
     "name": "stdout",
     "output_type": "stream",
     "text": [
      "314.159265%\n",
      "3.141592653589793%\n",
      "23400.000000%\n",
      "234%\n"
     ]
    }
   ],
   "source": [
    "#to multiply number 100 and show and show result in %\n",
    "print(\"{:%}\".format(math.pi))\n",
    "print(\"{:}%\".format(math.pi))\n",
    "print(\"{:%}\".format(234))# treated as % formatting charcter\n",
    "print(\"{:}%\".format(234))#treated as % ordinary charcter"
   ]
  },
  {
   "cell_type": "code",
   "execution_count": 47,
   "metadata": {},
   "outputs": [
    {
     "name": "stdout",
     "output_type": "stream",
     "text": [
      " Dear Sanjay,\n",
      "           Your account ending 12345  was balance \n",
      "           of 50,000.\n",
      "      \n"
     ]
    }
   ],
   "source": [
    "print(\"\"\" Dear {Customer},\n",
    "           Your account ending {account_number}  was balance \n",
    "           of {Balance_amount}.\n",
    "      \"\"\".format(\n",
    "               Customer=\"Sanjay\",\n",
    "               account_number =\"12345\",\n",
    "               Balance_amount =\"50,000\"\n",
    "           ))"
   ]
  },
  {
   "cell_type": "markdown",
   "metadata": {},
   "source": [
    "##FStrings\n"
   ]
  },
  {
   "cell_type": "code",
   "execution_count": 57,
   "metadata": {},
   "outputs": [
    {
     "name": "stdout",
     "output_type": "stream",
     "text": [
      "123.4578\n",
      "123.4578\n",
      "123.4578\n",
      "123.4578\n",
      "+123.4578\n",
      "123.4578\n"
     ]
    }
   ],
   "source": [
    "value = 123.4578\n",
    "print(f\"{value}\")\n",
    "print(f\"{value:}\")\n",
    "print(f\"{value:,}\")\n",
    "print(f\"{value:_}\")\n",
    "print(f\"{value:+}\")\n",
    "print(f\"{value:=}\")"
   ]
  },
  {
   "cell_type": "code",
   "execution_count": 58,
   "metadata": {},
   "outputs": [
    {
     "name": "stdout",
     "output_type": "stream",
     "text": [
      "left allligned      \n",
      "     right allligned\n",
      "      centered      \n"
     ]
    }
   ],
   "source": [
    "print(f\"{'left allligned':<20}\")\n",
    "print(f\"{'right allligned':>20}\")\n",
    "print(f\"{'centered':^20}\")"
   ]
  },
  {
   "cell_type": "code",
   "execution_count": null,
   "metadata": {},
   "outputs": [],
   "source": [
    "print(f\"{1024})"
   ]
  }
 ],
 "metadata": {
  "kernelspec": {
   "display_name": "Python 3",
   "language": "python",
   "name": "python3"
  },
  "language_info": {
   "codemirror_mode": {
    "name": "ipython",
    "version": 3
   },
   "file_extension": ".py",
   "mimetype": "text/x-python",
   "name": "python",
   "nbconvert_exporter": "python",
   "pygments_lexer": "ipython3",
   "version": "3.12.1"
  }
 },
 "nbformat": 4,
 "nbformat_minor": 2
}
