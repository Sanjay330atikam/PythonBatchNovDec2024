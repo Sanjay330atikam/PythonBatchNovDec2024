{
 "cells": [
  {
   "cell_type": "markdown",
   "metadata": {},
   "source": [
    "##Generators()\n",
    "- It's like an on-demand execution.\n",
    "- return is the last statement in function after return no execution ocuurs.\n",
    "- In generator we have 'yield' Keyword.\n",
    "- For the generator, if we make a function call, it does not execute.\n",
    "- It will be executed only for the 'First Value'.\n"
   ]
  },
  {
   "cell_type": "code",
   "execution_count": 27,
   "metadata": {},
   "outputs": [
    {
     "name": "stdout",
     "output_type": "stream",
     "text": [
      "Iam in the function\n"
     ]
    },
    {
     "data": {
      "text/plain": [
       "22"
      ]
     },
     "execution_count": 27,
     "metadata": {},
     "output_type": "execute_result"
    }
   ],
   "source": [
    "def myfun():\n",
    "    \n",
    " print(\"Iam in the function\")\n",
    " return 22\n",
    "myfun()\n",
    "\n",
    "   "
   ]
  },
  {
   "cell_type": "code",
   "execution_count": 30,
   "metadata": {},
   "outputs": [
    {
     "name": "stdout",
     "output_type": "stream",
     "text": [
      "<class 'NoneType'> None\n"
     ]
    }
   ],
   "source": [
    "def my_genarator():\n",
    "   return\n",
    "result = my_genarator()\n",
    "print(type(result),result)"
   ]
  },
  {
   "cell_type": "code",
   "execution_count": 29,
   "metadata": {},
   "outputs": [
    {
     "name": "stdout",
     "output_type": "stream",
     "text": [
      "<class 'generator'> <generator object my_genarator at 0x7429f7de6e50>\n"
     ]
    }
   ],
   "source": [
    "def my_genarator():\n",
    "    yield\n",
    "result = my_genarator()\n",
    "print(type(result),result)"
   ]
  },
  {
   "cell_type": "code",
   "execution_count": 31,
   "metadata": {},
   "outputs": [
    {
     "name": "stdout",
     "output_type": "stream",
     "text": [
      "<class 'generator'> <generator object my_genarator at 0x7429f7de6da0>\n"
     ]
    }
   ],
   "source": [
    "def my_genarator():\n",
    "    return\n",
    "    yield#--Though non-reachable it is still a generator.!!!\n",
    "result = my_genarator()\n",
    "print(type(result),result)"
   ]
  },
  {
   "cell_type": "code",
   "execution_count": 32,
   "metadata": {},
   "outputs": [
    {
     "name": "stdout",
     "output_type": "stream",
     "text": [
      "<class 'generator'> <generator object my_genarator at 0x742a15536c80>\n"
     ]
    }
   ],
   "source": [
    "def my_genarator():\n",
    "   print(\"Iam in function\")\n",
    "   yield 123\n",
    "   print(\"My name is Sanju Baba\")\n",
    "   yield 420\n",
    "   print(\"My DAD is MY --HERO..!!\")\n",
    "   yield 143\n",
    "result = my_genarator()\n",
    "print(type(result),result)"
   ]
  },
  {
   "cell_type": "code",
   "execution_count": 33,
   "metadata": {},
   "outputs": [
    {
     "name": "stdout",
     "output_type": "stream",
     "text": [
      "Iam in function\n"
     ]
    },
    {
     "data": {
      "text/plain": [
       "123"
      ]
     },
     "execution_count": 33,
     "metadata": {},
     "output_type": "execute_result"
    }
   ],
   "source": [
    "result.__next__()"
   ]
  },
  {
   "cell_type": "code",
   "execution_count": 34,
   "metadata": {},
   "outputs": [
    {
     "name": "stdout",
     "output_type": "stream",
     "text": [
      "My name is Sanju Baba\n"
     ]
    },
    {
     "data": {
      "text/plain": [
       "420"
      ]
     },
     "execution_count": 34,
     "metadata": {},
     "output_type": "execute_result"
    }
   ],
   "source": [
    "result.__next__()\n"
   ]
  },
  {
   "cell_type": "code",
   "execution_count": 35,
   "metadata": {},
   "outputs": [
    {
     "name": "stdout",
     "output_type": "stream",
     "text": [
      "My DAD is MY --HERO..!!\n"
     ]
    },
    {
     "data": {
      "text/plain": [
       "143"
      ]
     },
     "execution_count": 35,
     "metadata": {},
     "output_type": "execute_result"
    }
   ],
   "source": [
    "next(result)"
   ]
  },
  {
   "cell_type": "code",
   "execution_count": 36,
   "metadata": {},
   "outputs": [
    {
     "ename": "StopIteration",
     "evalue": "",
     "output_type": "error",
     "traceback": [
      "\u001b[0;31m---------------------------------------------------------------------------\u001b[0m",
      "\u001b[0;31mStopIteration\u001b[0m                             Traceback (most recent call last)",
      "Cell \u001b[0;32mIn[36], line 1\u001b[0m\n\u001b[0;32m----> 1\u001b[0m \u001b[38;5;28;43mnext\u001b[39;49m\u001b[43m(\u001b[49m\u001b[43mresult\u001b[49m\u001b[43m)\u001b[49m\n",
      "\u001b[0;31mStopIteration\u001b[0m: "
     ]
    }
   ],
   "source": [
    "next(result)\n",
    "# no more yeilding"
   ]
  },
  {
   "cell_type": "code",
   "execution_count": 12,
   "metadata": {},
   "outputs": [
    {
     "name": "stdout",
     "output_type": "stream",
     "text": [
      "<generator object foo at 0x78a08944bac0> <class 'generator'>\n"
     ]
    }
   ],
   "source": [
    "def foo():\n",
    "    print(\"Star the FUNCTION--!!\")\n",
    "    for i in range(3):\n",
    "        print(\"\\t Before YEILD--!!\",i)\n",
    "        yield\n",
    "        print(\"\\tAfter YEILD --!!\")\n",
    "\n",
    "        print(\"END the FUnction\")\n",
    "\n",
    "f= foo()\n",
    "print(f,type(f))"
   ]
  },
  {
   "cell_type": "code",
   "execution_count": 38,
   "metadata": {},
   "outputs": [
    {
     "name": "stdout",
     "output_type": "stream",
     "text": [
      "Star the FUNCTION--!!\n",
      "\t Before YEILD--!! 0\n"
     ]
    }
   ],
   "source": [
    "next(f)"
   ]
  },
  {
   "cell_type": "code",
   "execution_count": 40,
   "metadata": {},
   "outputs": [
    {
     "name": "stdout",
     "output_type": "stream",
     "text": [
      "\tAfter YEILD --!!\n",
      "END the FUnction\n",
      "\t Before YEILD--!! 1\n"
     ]
    }
   ],
   "source": [
    "f.__next__()"
   ]
  },
  {
   "cell_type": "code",
   "execution_count": 42,
   "metadata": {},
   "outputs": [
    {
     "name": "stdout",
     "output_type": "stream",
     "text": [
      "\tAfter YEILD --!!\n",
      "END the FUnction\n",
      "\t Before YEILD--!! 2\n"
     ]
    }
   ],
   "source": [
    "next(f)"
   ]
  },
  {
   "cell_type": "code",
   "execution_count": 43,
   "metadata": {},
   "outputs": [
    {
     "name": "stdout",
     "output_type": "stream",
     "text": [
      "\tAfter YEILD --!!\n",
      "END the FUnction\n"
     ]
    },
    {
     "ename": "StopIteration",
     "evalue": "",
     "output_type": "error",
     "traceback": [
      "\u001b[0;31m---------------------------------------------------------------------------\u001b[0m",
      "\u001b[0;31mStopIteration\u001b[0m                             Traceback (most recent call last)",
      "Cell \u001b[0;32mIn[43], line 1\u001b[0m\n\u001b[0;32m----> 1\u001b[0m \u001b[43mf\u001b[49m\u001b[38;5;241;43m.\u001b[39;49m\u001b[38;5;21;43m__next__\u001b[39;49m\u001b[43m(\u001b[49m\u001b[43m)\u001b[49m\n",
      "\u001b[0;31mStopIteration\u001b[0m: "
     ]
    }
   ],
   "source": [
    "f.__next__()"
   ]
  },
  {
   "cell_type": "code",
   "execution_count": 3,
   "metadata": {},
   "outputs": [
    {
     "name": "stdout",
     "output_type": "stream",
     "text": [
      "Star the FUNCTION--!!\n",
      "\t Before YEILD--!! 0\n",
      "\t\tretrived_value =   None\n",
      "\tAfter YEILD --!!\n",
      "END the FUnction\n",
      "\t Before YEILD--!! 1\n",
      "\t\tretrived_value =   None\n",
      "\tAfter YEILD --!!\n",
      "END the FUnction\n",
      "\t Before YEILD--!! 2\n",
      "\t\tretrived_value =   None\n",
      "\tAfter YEILD --!!\n",
      "END the FUnction\n",
      "No more values\n"
     ]
    }
   ],
   "source": [
    "# for the above error we can write try method.\n",
    "while  True:\n",
    "    try:\n",
    "      retrived_value = next(f)\n",
    "    except StopIteration as ex:\n",
    "      print(f\"No more values{ex}\")\n",
    "      break\n",
    "    else:\n",
    "      print(f\"\\t\\t{retrived_value =   }\")"
   ]
  },
  {
   "cell_type": "code",
   "execution_count": 9,
   "metadata": {},
   "outputs": [
    {
     "name": "stdout",
     "output_type": "stream",
     "text": [
      "<generator object foo at 0x78a0894a8fb0> <class 'generator'>\n",
      "Star the FUNCTION--!!\n",
      "\t Before YEILD--!! 0\n",
      "\t\tretrived_value =   None\n",
      "\tAfter YEILD --!! 0\n",
      "END the FUnction\n",
      "No more valuesEnd of SEQUENCES-!!\n"
     ]
    }
   ],
   "source": [
    "def foo():\n",
    "    print(\"Star the FUNCTION--!!\")\n",
    "    for i in range(3):\n",
    "        print(\"\\t Before YEILD--!!\",i)\n",
    "        yield\n",
    "        print(\"\\tAfter YEILD --!!\",i)\n",
    "\n",
    "        print(\"END the FUnction\")\n",
    "        return 'End of SEQUENCES-!!'\n",
    "\n",
    "f= foo()\n",
    "print(f,type(f))\n",
    "\n",
    "while  True:\n",
    "    try:\n",
    "      retrived_value = next(f)\n",
    "    except StopIteration as ex:\n",
    "      print(f\"No more values{ex}\")\n",
    "      break\n",
    "    else:\n",
    "      print(f\"\\t\\t{retrived_value =   }\")"
   ]
  },
  {
   "cell_type": "code",
   "execution_count": 10,
   "metadata": {},
   "outputs": [
    {
     "name": "stdout",
     "output_type": "stream",
     "text": [
      "<generator object foo at 0x78a0894a9080> <class 'generator'>\n",
      "Star the FUNCTION--!!\n",
      "\t Before YEILD--!! 0\n",
      "\t\tretrived_value =None\n",
      "\tAfter YEILD --!! 0\n",
      "END the FUnction\n"
     ]
    }
   ],
   "source": [
    "def foo():\n",
    "    print(\"Star the FUNCTION--!!\")\n",
    "    for i in range(3):\n",
    "        print(\"\\t Before YEILD--!!\",i)\n",
    "        yield\n",
    "        print(\"\\tAfter YEILD --!!\",i)\n",
    "\n",
    "        print(\"END the FUnction\")\n",
    "        return 'End of SEQUENCES-!!'\n",
    "\n",
    "f= foo()\n",
    "print(f,type(f))\n",
    "\n",
    "for value in f:\n",
    " print(f\"\\t\\t{retrived_value =}\")"
   ]
  },
  {
   "cell_type": "code",
   "execution_count": 32,
   "metadata": {},
   "outputs": [],
   "source": [
    "# def foo():\n",
    "#     print(\"Star the FUNCTION--!!\")\n",
    "#     for i in range(3):\n",
    "#         print(\"\\t Before YEILD--!!\",i)\n",
    "#         yield\n",
    "#         print(\"\\tAfter YEILD --!!\",i)\n",
    "\n",
    "#         print(\"END the FUnction\")\n",
    "#         return 'End of SEQUENCES-!!'\n",
    "\n",
    "\n",
    "# f= foo()\n",
    "# print(f,type(f))\n",
    "\n",
    "\n",
    "# while True:\n",
    "#     try:\n",
    "#         retrived_value = next(f)\n",
    "#     except StopIteration as ex:\n",
    "#       print(f\"No more values{ex}\")\n",
    "#       break\n",
    "#     else:\n",
    "#       print(f\"\\t\\t{retrived_value =   }\")"
   ]
  },
  {
   "cell_type": "markdown",
   "metadata": {},
   "source": [
    "PROBLEM-Fibbonaci Series\n",
    "0,1,1,2,3,5,8"
   ]
  },
  {
   "cell_type": "code",
   "execution_count": 38,
   "metadata": {},
   "outputs": [
    {
     "name": "stdout",
     "output_type": "stream",
     "text": [
      "nth_number =[0, 1, 1, 2, 3, 5, 8, 13, 21, 34]\n"
     ]
    }
   ],
   "source": [
    "#Method 1 - with for loop\n",
    "\n",
    "def fib_series(pos):\n",
    "    fibs_num = []\n",
    "    first,second =0,1\n",
    "    for i in range(0,pos):\n",
    "      fibs_num.append(first)\n",
    "      first,second=second,first+second\n",
    "    return fibs_num\n",
    "\n",
    "nth_number = fib_series(10)\n",
    "print(f\"{nth_number =}\")"
   ]
  },
  {
   "cell_type": "code",
   "execution_count": 39,
   "metadata": {},
   "outputs": [
    {
     "name": "stdout",
     "output_type": "stream",
     "text": [
      "nth_number =<generator object fib_series at 0x78a0894622f0>\n"
     ]
    }
   ],
   "source": [
    "#with Generators\n",
    "def fib_series(pos):\n",
    "    fibs_num = []\n",
    "    first,second =0,1\n",
    "    for i in range(0,pos):\n",
    "      yield first\n",
    "      first,second=second,first+second\n",
    "    return fibs_num\n",
    "\n",
    "nth_number = fib_series(10)\n",
    "print(f\"{nth_number =}\")"
   ]
  },
  {
   "cell_type": "code",
   "execution_count": 40,
   "metadata": {},
   "outputs": [
    {
     "name": "stdout",
     "output_type": "stream",
     "text": [
      "0\n",
      "1\n",
      "1\n",
      "2\n",
      "3\n",
      "5\n",
      "8\n",
      "13\n",
      "21\n",
      "34\n"
     ]
    }
   ],
   "source": [
    "for num in nth_number:\n",
    "    print(num)"
   ]
  },
  {
   "cell_type": "code",
   "execution_count": 41,
   "metadata": {},
   "outputs": [
    {
     "name": "stdout",
     "output_type": "stream",
     "text": [
      "nth_number =<generator object fib_series at 0x78a0894a5fc0>\n"
     ]
    }
   ],
   "source": [
    "#with while loop\n",
    "def fib_series(pos):\n",
    "    fibs_num = []\n",
    "    first,second =0,1\n",
    "    i =0\n",
    "    while i<pos:\n",
    "      yield first\n",
    "      first,second=second,first+second\n",
    "      i+=1\n",
    "    return fibs_num\n",
    "\n",
    "nth_number = fib_series(10)\n",
    "print(f\"{nth_number =}\")"
   ]
  },
  {
   "cell_type": "code",
   "execution_count": 42,
   "metadata": {},
   "outputs": [
    {
     "name": "stdout",
     "output_type": "stream",
     "text": [
      "0\n",
      "1\n",
      "1\n",
      "2\n",
      "3\n",
      "5\n",
      "8\n",
      "13\n",
      "21\n",
      "34\n"
     ]
    }
   ],
   "source": [
    "for num in nth_number:\n",
    "    print(num)"
   ]
  },
  {
   "cell_type": "markdown",
   "metadata": {},
   "source": [
    "#@Yeild From()\n",
    "- Opeartions in iterating value cannot be done"
   ]
  },
  {
   "cell_type": "code",
   "execution_count": 43,
   "metadata": {},
   "outputs": [
    {
     "name": "stdout",
     "output_type": "stream",
     "text": [
      "list(ng)=[0, 1, 2, 3, 4, 5, 6, 7, 8, 9]\n"
     ]
    }
   ],
   "source": [
    "def num_generator(n):\n",
    "    # from i in range(n):\n",
    "    #     yield i\n",
    "    yield from range(n)\n",
    "\n",
    "ng = num_generator(10)\n",
    "print(f\"{list(ng)=}\")\n"
   ]
  },
  {
   "cell_type": "markdown",
   "metadata": {},
   "source": [
    "## Generator_Pipeline()\n",
    "Problem statement\n",
    "-for given numbers\n",
    "-filter even numbers\n",
    "-multiply by 3\n",
    "-convert to string\n"
   ]
  },
  {
   "cell_type": "code",
   "execution_count": 59,
   "metadata": {},
   "outputs": [
    {
     "data": {
      "text/plain": [
       "['6', '12', '18', '24', '30']"
      ]
     },
     "execution_count": 59,
     "metadata": {},
     "output_type": "execute_result"
    }
   ],
   "source": [
    "# method - 1\n",
    "def even_number(num):\n",
    "    result = []\n",
    "    for n in num:\n",
    "        if n % 2 == 0:\n",
    "            result.append(str(n * 3))\n",
    "    return result\n",
    "\n",
    "even_number([1,2,3,4,5,6,7,8,9,10])"
   ]
  },
  {
   "cell_type": "code",
   "execution_count": 70,
   "metadata": {},
   "outputs": [
    {
     "name": "stdout",
     "output_type": "stream",
     "text": [
      "EVEN - FILTER !!1\n",
      "MULTIPLY BY 3\n",
      "CONVERT tO String\n",
      "result =[6, 12, 18, 24]\n"
     ]
    }
   ],
   "source": [
    "# Pipeline Method\n",
    "# - means the three actions we can divide into 3 functions and perform one after the another.\n",
    "\n",
    "def my_even(nummbers):\n",
    "    print(\"EVEN - FILTER !!1\")\n",
    "    even = []\n",
    "    for n in nummbers:\n",
    "        if n % 2 == 0:\n",
    "            even.append(n)\n",
    "    return even\n",
    "\n",
    "def multi_by_3(numbers):\n",
    "    print(\"MULTIPLY BY 3\")\n",
    "    multiply = []\n",
    "    for n in numbers:\n",
    "        multiply.append(n * 3) \n",
    "    return multiply\n",
    "\n",
    "def convert_to_string(numbers):\n",
    "    print(\"CONVERT tO String\")\n",
    "    convert = []\n",
    "    for n in numbers:\n",
    "        convert.append(n)\n",
    "    return convert\n",
    "\n",
    "numbers = [1,2,3,4,5,6,7,8]\n",
    "result = convert_to_string(multi_by_3(my_even(numbers)))\n",
    "print(f\"{result =}\")\n",
    "\n",
    "# in pipeline all operations compeleted we wil get answers."
   ]
  },
  {
   "cell_type": "code",
   "execution_count": 81,
   "metadata": {},
   "outputs": [
    {
     "name": "stdout",
     "output_type": "stream",
     "text": [
      "pipeline =<generator object convert_to_string at 0x78a06b077440>\n"
     ]
    }
   ],
   "source": [
    "\n",
    "def my_even(nummbers):\n",
    "    print(\"EVEN - FILTER !!1\")\n",
    "    for n in nummbers:\n",
    "        if n % 2 == 0:\n",
    "         yield n\n",
    "\n",
    "\n",
    "def multi_by_3(numbers):\n",
    "    print(\"MULTIPLY BY 3\")\n",
    "    for n in numbers:\n",
    "     yield n*3\n",
    "\n",
    "def convert_to_string(numbers):\n",
    "    print(\"CONVERT tO String\")\n",
    "    for n in numbers:\n",
    "     yield f\"Number:{n}\"\n",
    "\n",
    "numbers = [1,2,3,4,5,6,7,8]\n",
    "pipeline = convert_to_string(multi_by_3(my_even(numbers)))\n",
    "print(f\"{pipeline =}\")"
   ]
  },
  {
   "cell_type": "code",
   "execution_count": 73,
   "metadata": {},
   "outputs": [
    {
     "name": "stdout",
     "output_type": "stream",
     "text": [
      "CONVERT tO String\n",
      "MULTIPLY BY 3\n",
      "EVEN - FILTER !!1\n"
     ]
    },
    {
     "data": {
      "text/plain": [
       "'6'"
      ]
     },
     "execution_count": 73,
     "metadata": {},
     "output_type": "execute_result"
    }
   ],
   "source": [
    "next(pipeline)"
   ]
  },
  {
   "cell_type": "code",
   "execution_count": 74,
   "metadata": {},
   "outputs": [
    {
     "data": {
      "text/plain": [
       "'12'"
      ]
     },
     "execution_count": 74,
     "metadata": {},
     "output_type": "execute_result"
    }
   ],
   "source": [
    "pipeline.__next__()"
   ]
  },
  {
   "cell_type": "code",
   "execution_count": 75,
   "metadata": {},
   "outputs": [
    {
     "data": {
      "text/plain": [
       "'18'"
      ]
     },
     "execution_count": 75,
     "metadata": {},
     "output_type": "execute_result"
    }
   ],
   "source": [
    "next(pipeline)"
   ]
  },
  {
   "cell_type": "code",
   "execution_count": 82,
   "metadata": {},
   "outputs": [
    {
     "name": "stdout",
     "output_type": "stream",
     "text": [
      "CONVERT tO String\n",
      "MULTIPLY BY 3\n",
      "EVEN - FILTER !!1\n"
     ]
    },
    {
     "data": {
      "text/plain": [
       "'Number:6'"
      ]
     },
     "execution_count": 82,
     "metadata": {},
     "output_type": "execute_result"
    }
   ],
   "source": [
    "next(pipeline)"
   ]
  },
  {
   "cell_type": "code",
   "execution_count": 83,
   "metadata": {},
   "outputs": [
    {
     "data": {
      "text/plain": [
       "'Number:12'"
      ]
     },
     "execution_count": 83,
     "metadata": {},
     "output_type": "execute_result"
    }
   ],
   "source": [
    "next(pipeline)"
   ]
  },
  {
   "cell_type": "code",
   "execution_count": 85,
   "metadata": {},
   "outputs": [
    {
     "name": "stdout",
     "output_type": "stream",
     "text": [
      "Number:18\n",
      "Number:24\n"
     ]
    }
   ],
   "source": [
    "for each in pipeline:\n",
    "    print(each)"
   ]
  }
 ],
 "metadata": {
  "kernelspec": {
   "display_name": "Python 3",
   "language": "python",
   "name": "python3"
  },
  "language_info": {
   "codemirror_mode": {
    "name": "ipython",
    "version": 3
   },
   "file_extension": ".py",
   "mimetype": "text/x-python",
   "name": "python",
   "nbconvert_exporter": "python",
   "pygments_lexer": "ipython3",
   "version": "3.12.1"
  }
 },
 "nbformat": 4,
 "nbformat_minor": 2
}
