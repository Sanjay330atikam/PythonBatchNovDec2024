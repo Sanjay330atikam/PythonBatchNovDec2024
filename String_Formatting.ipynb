{
 "cells": [
  {
   "cell_type": "code",
   "execution_count": 6,
   "metadata": {},
   "outputs": [
    {
     "name": "stdout",
     "output_type": "stream",
     "text": [
      "My lucky number is %d\n",
      "My lucky number is 12\n",
      "My lucky number is 12\n",
      "My lucky number is 12\n"
     ]
    }
   ],
   "source": [
    "#%d-interger formatting\n",
    "print(\"My lucky number is %d\")\n",
    "print(\"My lucky number is %d\"%12)\n",
    "print(\"My lucky number is %d\"%(12))#if we have one value use ()\n",
    "print(\"My lucky number is %d\"%12.344)"
   ]
  },
  {
   "cell_type": "code",
   "execution_count": 16,
   "metadata": {},
   "outputs": [
    {
     "name": "stdout",
     "output_type": "stream",
     "text": [
      "My lucky number is %s\n",
      "My lucky number is True\n",
      "My lucky number is None\n",
      "My lucky number is 12\n",
      "My lucky number is 12.3456\n",
      "My lucky number is python\n"
     ]
    }
   ],
   "source": [
    "# %s-string formatting\n",
    "print(\"My lucky number is %s\")\n",
    "print(\"My lucky number is %s\"%True)\n",
    "print(\"My lucky number is %s\"%None)\n",
    "print(\"My lucky number is %s\"%12)\n",
    "print(\"My lucky number is %s\"%12.3456)\n",
    "print(\"My lucky number is %s\"%'python')"
   ]
  },
  {
   "cell_type": "code",
   "execution_count": 20,
   "metadata": {},
   "outputs": [
    {
     "name": "stdout",
     "output_type": "stream",
     "text": [
      "My lucky number is %f\n",
      "My lucky number is 12.340000\n",
      "My lucky number is 0.000000\n",
      "My lucky number is 12.000000\n"
     ]
    }
   ],
   "source": [
    "#%f-float formatting\n",
    "print(\"My lucky number is %f\")\n",
    "print(\"My lucky number is %f\"%12.34)\n",
    "print(\"My lucky number is %f\"%False)\n",
    "print(\"My lucky number is %f\"%12)"
   ]
  },
  {
   "cell_type": "code",
   "execution_count": null,
   "metadata": {},
   "outputs": [
    {
     "name": "stdout",
     "output_type": "stream",
     "text": [
      "My lucky number is %r\n",
      "My lucky number is True\n",
      "My lucky number is None\n",
      "My lucky number is 12\n",
      "My lucky number is 12.3456\n",
      "My lucky number is 'python'\n"
     ]
    }
   ],
   "source": [
    "#repr()-%r-Works same as %s for all datatypes expect string beacuse it\n",
    "#stores charcters in \"\" saying string types.\n",
    "print(\"My lucky number is %r\")\n",
    "pr4int(\"My lucky number is %r\"%True)\n",
    "print(\"My lucky number is %r\"%None)\n",
    "print(\"My lucky number is %r\"%12)\n",
    "print(\"My lucky number is %r\"%12.3456)\n",
    "print(\"My lucky number is %r\"%'python')"
   ]
  },
  {
   "cell_type": "code",
   "execution_count": 2,
   "metadata": {},
   "outputs": [
    {
     "name": "stdout",
     "output_type": "stream",
     "text": [
      "42 0o42\n",
      "22 0x22\n",
      "22 0x22\n"
     ]
    }
   ],
   "source": [
    "print(\"%o\"%34,oct(34))\n",
    "print(\"%x\"%34,hex(34))\n",
    "print(\"%X\"%34,hex(34))"
   ]
  },
  {
   "cell_type": "code",
   "execution_count": null,
   "metadata": {},
   "outputs": [
    {
     "name": "stdout",
     "output_type": "stream",
     "text": [
      "1\n"
     ]
    }
   ],
   "source": [
    "#%c-used to store only one charcter\n",
    "print(\"%c\"%'1')\n",
    "#print(\"%c\"%'12') give error\n",
    "\n"
   ]
  },
  {
   "cell_type": "code",
   "execution_count": 7,
   "metadata": {},
   "outputs": [
    {
     "name": "stdout",
     "output_type": "stream",
     "text": [
      "12.34\n",
      "12.3422\n"
     ]
    }
   ],
   "source": [
    "#%g\n",
    "print(\"%g\"%12.34)\n",
    "print(\"%G\"%12.34222)"
   ]
  },
  {
   "cell_type": "code",
   "execution_count": 9,
   "metadata": {},
   "outputs": [
    {
     "name": "stdout",
     "output_type": "stream",
     "text": [
      "1.234000e+01\n",
      "1.234226e+01\n"
     ]
    }
   ],
   "source": [
    "#Expotential form - %e,%e\n",
    "print(\"%e\"%12.34)\n",
    "print(\"%e\"%12.3422576)"
   ]
  },
  {
   "cell_type": "code",
   "execution_count": null,
   "metadata": {},
   "outputs": [
    {
     "name": "stdout",
     "output_type": "stream",
     "text": [
      "3.141592653589793\n",
      "3\n",
      "3.141593\n",
      " 3.141593\n",
      "    3.142\n"
     ]
    }
   ],
   "source": [
    "import math\n",
    "print(math.pi)\n",
    "print(\"%d\"%math.pi)\n",
    "print(\"%f\"%math.pi)\n",
    "print(\"%9f\"%math.pi)#one extra space and 8 space are reserved with digits\n",
    "print(\"%9.3f\"%math.pi)#reserver 9 space digir and 3 digit round off after post decimal"
   ]
  },
  {
   "cell_type": "code",
   "execution_count": null,
   "metadata": {},
   "outputs": [
    {
     "name": "stdout",
     "output_type": "stream",
     "text": [
      "My lucky number is 12 only.\n",
      "pi value is 3.141600!!!!!!!!!!\n",
      "pi value is   3.141600!!!!!!!!!!\n",
      "pi value is      3.142!!!!!!!!!!\n",
      "pi value is 000003.142!!!!!!!!!!\n"
     ]
    }
   ],
   "source": [
    "print(\"My lucky number is %d only.\"%12)\n",
    "print(\"pi value is %f!!!!!!!!!!\"%3.1416)\n",
    "print(\"pi value is %10f!!!!!!!!!!\"%3.1416)#10 spaces are reserved\n",
    "print(\"pi value is %10.3f!!!!!!!!!!\"%3.1416)#10 spaces are reserved post decimal round off 3 digits\n",
    "print(\"pi value is %010.3f!!!!!!!!!!\"%3.1416)#10 spaces are resverd denoted by 0"
   ]
  },
  {
   "cell_type": "code",
   "execution_count": 31,
   "metadata": {},
   "outputs": [
    {
     "name": "stdout",
     "output_type": "stream",
     "text": [
      "My nam is Sanjay and 24 old, paying a tax of 12.050000. \n"
     ]
    }
   ],
   "source": [
    "print(\"My nam is %s and %d old, paying a tax of %f. \"%('Sanjay',24,12.05))"
   ]
  },
  {
   "cell_type": "code",
   "execution_count": 40,
   "metadata": {},
   "outputs": [
    {
     "name": "stdout",
     "output_type": "stream",
     "text": [
      "My nam is Sanjay and 24 old, paying a tax of 12.05. \n",
      "My nam is Sanjay and 24 old, paying a tax of 12.05. \n",
      "My nam is 'Sanjay' and '24' old, paying a tax of '12.05'. \n",
      "My nam is 'Sanjay' and '24' old, paying a tax of 12.05. \n"
     ]
    }
   ],
   "source": [
    "print(\"My nam is %s and %s old, paying a tax of %s. \"%('Sanjay','24','12.05'))\n",
    "print(\"My nam is %s and %s old, paying a tax of %s. \"%('Sanjay',24,12.05))\n",
    "print(\"My nam is %r and %r old, paying a tax of %r. \"%('Sanjay','24','12.05'))\n",
    "print(\"My nam is %r and %r old, paying a tax of %r. \"%('Sanjay','24',12.05))"
   ]
  },
  {
   "cell_type": "code",
   "execution_count": null,
   "metadata": {},
   "outputs": [],
   "source": [
    "#Limitation of old style string formatting\n",
    "#1.Same data types need to be passed\n",
    "#2.Those many number of times,those many values need to be passed\n",
    "#3."
   ]
  }
 ],
 "metadata": {
  "kernelspec": {
   "display_name": "Python 3",
   "language": "python",
   "name": "python3"
  },
  "language_info": {
   "codemirror_mode": {
    "name": "ipython",
    "version": 3
   },
   "file_extension": ".py",
   "mimetype": "text/x-python",
   "name": "python",
   "nbconvert_exporter": "python",
   "pygments_lexer": "ipython3",
   "version": "3.12.1"
  }
 },
 "nbformat": 4,
 "nbformat_minor": 2
}
