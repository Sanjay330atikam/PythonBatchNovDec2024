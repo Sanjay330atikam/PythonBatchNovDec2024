{
 "cells": [
  {
   "cell_type": "code",
   "execution_count": 1,
   "metadata": {},
   "outputs": [
    {
     "name": "stdout",
     "output_type": "stream",
     "text": [
      "choice =  True <class 'bool'> 105229764694944\n"
     ]
    }
   ],
   "source": [
    "choice = True\n",
    "print(\"choice = \",choice,type(choice),id(choice))"
   ]
  },
  {
   "cell_type": "code",
   "execution_count": 2,
   "metadata": {},
   "outputs": [
    {
     "name": "stdout",
     "output_type": "stream",
     "text": [
      "choice =  False <class 'bool'> 105229764694976\n"
     ]
    }
   ],
   "source": [
    "choice = False\n",
    "print(\"choice = \",choice,type(choice),id(choice))"
   ]
  },
  {
   "cell_type": "code",
   "execution_count": null,
   "metadata": {},
   "outputs": [
    {
     "name": "stdout",
     "output_type": "stream",
     "text": [
      "choice =  True <class 'str'> 105229765754528\n",
      "choice =  False <class 'str'> 105229765754272\n"
     ]
    }
   ],
   "source": [
    "# In this True and False gives different ID and type beacuse they\n",
    "#are considered as String\".\n",
    "choice = 'True'\n",
    "print(\"choice = \",choice,type(choice),id(choice))\n",
    "\n",
    "choice = 'False'\n",
    "print(\"choice = \",choice,type(choice),id(choice))"
   ]
  },
  {
   "cell_type": "code",
   "execution_count": 8,
   "metadata": {},
   "outputs": [
    {
     "name": "stdout",
     "output_type": "stream",
     "text": [
      "True = True\n",
      "True*24= 24\n",
      "True*100= 100\n",
      "Fale =  False\n",
      "Fale * 98 =  0\n",
      "Fale  * 46 =  0\n"
     ]
    }
   ],
   "source": [
    "# True multiplied by any value gives value beacuse True is = \"1\"\n",
    "print(\"True =\", True)\n",
    "print(\"True*24=\",True*24)\n",
    "print(\"True*100=\",True*100)\n",
    "#Fale multiplied by any value gives 0 beacuse False is =\"0\"\n",
    "print(\"Fale = \",False)\n",
    "print(\"Fale * 98 = \",False * 98)\n",
    "print(\"Fale  * 46 = \",False * 46)"
   ]
  },
  {
   "cell_type": "code",
   "execution_count": 10,
   "metadata": {},
   "outputs": [
    {
     "name": "stdout",
     "output_type": "stream",
     "text": [
      "True ==  True\n",
      "False ==  True\n"
     ]
    }
   ],
   "source": [
    "print('True == ', True ==  1)\n",
    "print('False == ', False ==  0)"
   ]
  },
  {
   "cell_type": "code",
   "execution_count": 15,
   "metadata": {},
   "outputs": [
    {
     "name": "stdout",
     "output_type": "stream",
     "text": [
      "1\n",
      "True\n",
      "1\n"
     ]
    }
   ],
   "source": [
    "print(str(1))\n",
    "\n",
    "print(str(True))\n",
    "\n",
    "print(str(True*1))"
   ]
  },
  {
   "cell_type": "code",
   "execution_count": null,
   "metadata": {},
   "outputs": [
    {
     "name": "stdout",
     "output_type": "stream",
     "text": [
      "str(true*1) == str(1) True\n"
     ]
    }
   ],
   "source": [
    "#During onlly arthemtic,realtional and condiontal times only True give\n",
    "# value as 1,remaining times it resturns True becuase it is object \n",
    "print(\"str(true*1) == str(1)\",str(True*1)==str(1))"
   ]
  },
  {
   "cell_type": "markdown",
   "metadata": {},
   "source": [
    "## Bool()-Built in Function"
   ]
  },
  {
   "cell_type": "code",
   "execution_count": null,
   "metadata": {},
   "outputs": [
    {
     "name": "stdout",
     "output_type": "stream",
     "text": [
      "bool(0) = False\n",
      "bool(36) = True\n",
      "bool(-36) = True\n",
      "bool(0.0000) = False\n",
      "bool(12.234) = True\n",
      "bool(-12.234) = True\n"
     ]
    }
   ],
   "source": [
    "# Bool return True if it is int or float and return false if it is 0\n",
    "print(\"bool(0) =\",bool(0))\n",
    "print(\"bool(36) =\",bool(36))\n",
    "print(\"bool(-36) =\",bool(-36))\n",
    "\n",
    "print(\"bool(0.0000) =\",bool(0.0000))\n",
    "print(\"bool(12.234) =\",bool(12.234))\n",
    "print(\"bool(-12.234) =\",bool(-12.234))"
   ]
  },
  {
   "cell_type": "code",
   "execution_count": 22,
   "metadata": {},
   "outputs": [
    {
     "name": "stdout",
     "output_type": "stream",
     "text": [
      "bool('')= False\n",
      "bool('sanjay')= True\n",
      "bool(' ')= True\n"
     ]
    }
   ],
   "source": [
    "#strings\n",
    "print(\"bool('')=\",bool(''))\n",
    "print(\"bool('sanjay')=\",bool('sanjay'))\n",
    "print(\"bool(' ')=\",bool(' '))"
   ]
  },
  {
   "cell_type": "code",
   "execution_count": null,
   "metadata": {},
   "outputs": [
    {
     "name": "stdout",
     "output_type": "stream",
     "text": [
      "bool('None')= False\n"
     ]
    }
   ],
   "source": [
    "#none\n",
    "print(\"bool(None)=\",bool(None))"
   ]
  },
  {
   "cell_type": "code",
   "execution_count": 27,
   "metadata": {},
   "outputs": [
    {
     "name": "stdout",
     "output_type": "stream",
     "text": [
      "bool(True)= True\n",
      "bool(False)= False\n"
     ]
    }
   ],
   "source": [
    "print(\"bool(True)=\",bool(True))\n",
    "print(\"bool(False)=\",bool(False))"
   ]
  },
  {
   "cell_type": "code",
   "execution_count": null,
   "metadata": {},
   "outputs": [
    {
     "name": "stdout",
     "output_type": "stream",
     "text": [
      "True\n",
      "True\n",
      "True\n",
      "False\n",
      "False\n",
      "False\n"
     ]
    }
   ],
   "source": [
    "#bool function return true if True if there is some content in braces\n",
    "print(bool(1))\n",
    "print(bool({12}))\n",
    "print(bool([-12]))\n",
    "# return false if there is no content.\n",
    "print(bool())\n",
    "print(bool({}))\n",
    "print(bool([]))"
   ]
  },
  {
   "cell_type": "code",
   "execution_count": 35,
   "metadata": {},
   "outputs": [
    {
     "name": "stdout",
     "output_type": "stream",
     "text": [
      "True\n",
      "True\n"
     ]
    }
   ],
   "source": [
    "num1 =0.1230\n",
    "print(bool(num1))\n",
    "print(bool(num1!=0))\n"
   ]
  },
  {
   "cell_type": "code",
   "execution_count": 7,
   "metadata": {},
   "outputs": [],
   "source": [
    "#explict \n",
    "if num1 != 0:\n",
    " print(\"it is non zero\")\n",
    " #implict\n",
    "if num1:\n",
    "  print(\"it is non zero\")\n"
   ]
  },
  {
   "cell_type": "code",
   "execution_count": 4,
   "metadata": {},
   "outputs": [
    {
     "name": "stdout",
     "output_type": "stream",
     "text": [
      "It is non zero\n"
     ]
    }
   ],
   "source": [
    "  \n",
    "num1= 0.000\n",
    "if (\n",
    "     not num1\n",
    "  ):\n",
    "    print(\"It is non zero\")"
   ]
  },
  {
   "cell_type": "code",
   "execution_count": 10,
   "metadata": {},
   "outputs": [
    {
     "name": "stdout",
     "output_type": "stream",
     "text": [
      "True\n",
      "False\n"
     ]
    }
   ],
   "source": [
    "print(bool('False'))# Any string charcter is treated as true only\n",
    "print(bool(False))"
   ]
  }
 ],
 "metadata": {
  "kernelspec": {
   "display_name": "Python 3",
   "language": "python",
   "name": "python3"
  },
  "language_info": {
   "codemirror_mode": {
    "name": "ipython",
    "version": 3
   },
   "file_extension": ".py",
   "mimetype": "text/x-python",
   "name": "python",
   "nbconvert_exporter": "python",
   "pygments_lexer": "ipython3",
   "version": "3.12.1"
  }
 },
 "nbformat": 4,
 "nbformat_minor": 2
}
