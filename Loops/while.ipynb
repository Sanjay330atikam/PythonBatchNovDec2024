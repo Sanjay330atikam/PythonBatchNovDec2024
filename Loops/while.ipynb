{
 "cells": [
  {
   "cell_type": "code",
   "execution_count": 5,
   "metadata": {},
   "outputs": [
    {
     "name": "stdout",
     "output_type": "stream",
     "text": [
      "incrementing loop with increment first\n",
      "1 2 3 4 5 \n",
      "incrementing loop with increment last\n",
      "0 1 2 3 4 \n",
      "0 1 2 3 4 5 "
     ]
    }
   ],
   "source": [
    "print(\"incrementing loop with increment first\")\n",
    "i=0\n",
    "while i<5:\n",
    " i+=1\n",
    " print(i,end=\" \")\n",
    "\n",
    "print()\n",
    "\n",
    "print(\"incrementing loop with increment last\")\n",
    "i=0\n",
    "while i<5:\n",
    " print(i,end=\" \")\n",
    " i+=1\n",
    " \n",
    "print()\n",
    "\n",
    "i=0\n",
    "while i<=5:\n",
    " print(i,end=\" \")\n",
    " i+=1"
   ]
  }
 ],
 "metadata": {
  "kernelspec": {
   "display_name": "Python 3",
   "language": "python",
   "name": "python3"
  },
  "language_info": {
   "codemirror_mode": {
    "name": "ipython",
    "version": 3
   },
   "file_extension": ".py",
   "mimetype": "text/x-python",
   "name": "python",
   "nbconvert_exporter": "python",
   "pygments_lexer": "ipython3",
   "version": "3.12.1"
  }
 },
 "nbformat": 4,
 "nbformat_minor": 2
}
