{
 "cells": [
  {
   "cell_type": "markdown",
   "metadata": {},
   "source": [
    "## For loop \n",
    "for a in range(0,10,1)\n",
    "for Loop can be supported on iterable objects like strings,range,tuple,dictonary,sets.\n",
    "Loop cannot be performed on intergers"
   ]
  },
  {
   "cell_type": "code",
   "execution_count": 5,
   "metadata": {},
   "outputs": [
    {
     "name": "stdout",
     "output_type": "stream",
     "text": [
      "P,y,t,h,o,n,\n",
      "1,2,3,4,5,\n",
      "T,r,u,e,\n",
      "N,o,n,e,\n"
     ]
    }
   ],
   "source": [
    "for a in \"Python\":\n",
    " print(a,end=\",\")\n",
    "print()\n",
    "\n",
    "for a in \"12345\":\n",
    " print(a,end=\",\")\n",
    "print()\n",
    "\n",
    "for a in \"True\":\n",
    " print(a,end=\",\")\n",
    "print()\n",
    "\n",
    "for a in \"None\":\n",
    " print(a,end=\",\")\n",
    "print()"
   ]
  },
  {
   "cell_type": "code",
   "execution_count": 8,
   "metadata": {},
   "outputs": [
    {
     "name": "stdout",
     "output_type": "stream",
     "text": [
      "P\n",
      "y\n",
      "t\n",
      "h\n",
      "o\n",
      "n\n",
      "(0, 'P') <class 'tuple'>\n",
      "(1, 'y') <class 'tuple'>\n",
      "(2, 't') <class 'tuple'>\n",
      "(3, 'h') <class 'tuple'>\n",
      "(4, 'o') <class 'tuple'>\n",
      "(5, 'n') <class 'tuple'>\n"
     ]
    }
   ],
   "source": [
    "#enumrate - bult in function used to print index of the loop\n",
    "\n",
    "for each_car in \"Python\":\n",
    "    print(each_car)\n",
    "for each_loop in enumerate (\"Python\"):\n",
    "    print(each_loop,type(each_loop))\n"
   ]
  },
  {
   "cell_type": "code",
   "execution_count": null,
   "metadata": {},
   "outputs": [],
   "source": [
    "# unpacking num1 = 55,65 gives error \n",
    "# this can be unpacked by \n",
    "num1,num2 =55,65"
   ]
  },
  {
   "cell_type": "code",
   "execution_count": null,
   "metadata": {},
   "outputs": [
    {
     "name": "stdout",
     "output_type": "stream",
     "text": [
      "At position0,character is P\n",
      "At position1,character is y\n",
      "At position2,character is t\n",
      "At position3,character is h\n",
      "At position4,character is o\n",
      "At position5,character is n\n"
     ]
    }
   ],
   "source": [
    "for loop_index,each_loop in enumerate (\"Python\"):\n",
    "    print(f\"At position{loop_index},character is {each_loop}\")"
   ]
  },
  {
   "cell_type": "code",
   "execution_count": 20,
   "metadata": {},
   "outputs": [
    {
     "name": "stdout",
     "output_type": "stream",
     "text": [
      "At position-4,character is P\n",
      "At position-3,character is y\n",
      "At position-2,character is t\n",
      "At position-1,character is h\n",
      "At position 0,character is o\n",
      "At position 1,character is n\n",
      "\n",
      "At position77,character is P\n",
      "At position78,character is y\n",
      "At position79,character is t\n",
      "At position80,character is h\n",
      "At position81,character is o\n",
      "At position82,character is n\n"
     ]
    }
   ],
   "source": [
    "# To get loop index with an off set \n",
    "for loop_index,each_loop in enumerate (\"Python\",-4):\n",
    "    print(f\"At position{loop_index:2},character is {each_loop}\")\n",
    "\n",
    "print()\n",
    "for loop_index,each_loop in enumerate (\"Python\",77):\n",
    "    print(f\"At position{loop_index:2},character is {each_loop}\")"
   ]
  },
  {
   "cell_type": "code",
   "execution_count": 30,
   "metadata": {},
   "outputs": [
    {
     "name": "stdout",
     "output_type": "stream",
     "text": [
      "1 , 2 , 3 , 4 , 5 , \n",
      "(0, 1) , (1, 2) , (2, 3) , (3, 4) , (4, 5) , index = 0 ,1\n",
      "index = 1 ,2\n",
      "index = 2 ,3\n",
      "index = 3 ,4\n",
      "index = 4 ,5\n",
      "index = -10 ,1\n",
      "index = -9 ,2\n",
      "index = -8 ,3\n",
      "index = -7 ,4\n",
      "index = -6 ,5\n"
     ]
    }
   ],
   "source": [
    "# for loop in lists\n",
    "for each in ([1,2,3,4,5]):\n",
    "    print(each,end=\" , \")\n",
    "print()\n",
    "for each in enumerate ([1,2,3,4,5]):\n",
    "    print(each,end=\" , \")\n",
    "\n",
    "for loop,each in enumerate ([1,2,3,4,5]):\n",
    "    print(f\"index = {loop} ,{each}\")\n",
    "\n",
    "for loop,each in enumerate ([1,2,3,4,5],-10):\n",
    "    print(f\"index = {loop} ,{each}\")\n"
   ]
  },
  {
   "cell_type": "code",
   "execution_count": null,
   "metadata": {},
   "outputs": [],
   "source": [
    "## Assignment - Perform for loop and enumerate on range object"
   ]
  },
  {
   "cell_type": "code",
   "execution_count": 7,
   "metadata": {},
   "outputs": [
    {
     "name": "stdout",
     "output_type": "stream",
     "text": [
      "(0, 1) <class 'tuple'>\n",
      "(1, 3) <class 'tuple'>\n",
      "(2, 5) <class 'tuple'>\n",
      "(3, 7) <class 'tuple'>\n",
      "(4, 9) <class 'tuple'>\n"
     ]
    }
   ],
   "source": [
    "for each in enumerate (range(1,10,2)):\n",
    "    print(each,type(each))"
   ]
  },
  {
   "cell_type": "code",
   "execution_count": null,
   "metadata": {},
   "outputs": [],
   "source": []
  }
 ],
 "metadata": {
  "kernelspec": {
   "display_name": "Python 3",
   "language": "python",
   "name": "python3"
  },
  "language_info": {
   "codemirror_mode": {
    "name": "ipython",
    "version": 3
   },
   "file_extension": ".py",
   "mimetype": "text/x-python",
   "name": "python",
   "nbconvert_exporter": "python",
   "pygments_lexer": "ipython3",
   "version": "3.12.1"
  }
 },
 "nbformat": 4,
 "nbformat_minor": 2
}
