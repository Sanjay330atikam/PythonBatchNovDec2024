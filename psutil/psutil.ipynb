{
 "cells": [
  {
   "cell_type": "markdown",
   "metadata": {},
   "source": [
    "##Psutil()\n",
    "\n",
    "Process level Details"
   ]
  },
  {
   "cell_type": "code",
   "execution_count": 2,
   "metadata": {},
   "outputs": [],
   "source": [
    "import psutil\n",
    "import datetime"
   ]
  },
  {
   "cell_type": "code",
   "execution_count": 3,
   "metadata": {},
   "outputs": [
    {
     "name": "stdout",
     "output_type": "stream",
     "text": [
      "System boot_time 2025 -01-04 23:07:17\n"
     ]
    }
   ],
   "source": [
    "boot_time = psutil.boot_time()\n",
    "print(f\"System boot_time {datetime.datetime.fromtimestamp(boot_time).strftime('%Y -%m-%d %H:%M:%S')}\")\n",
    "# gives from which time the OS or system is running"
   ]
  },
  {
   "cell_type": "code",
   "execution_count": 4,
   "metadata": {},
   "outputs": [
    {
     "name": "stdout",
     "output_type": "stream",
     "text": [
      "CPU usage:8.5\n"
     ]
    }
   ],
   "source": [
    "cpu_percent = psutil.cpu_percent()\n",
    "print(f\"CPU usage:{cpu_percent}\")\n",
    "# cpu current percentage utilization"
   ]
  },
  {
   "cell_type": "code",
   "execution_count": 3,
   "metadata": {},
   "outputs": [
    {
     "name": "stdout",
     "output_type": "stream",
     "text": [
      "Total Memory = 8314736640\n",
      "Memory Availabe = 4295544832\n",
      "Memory Percentage used = 48.3%\n"
     ]
    }
   ],
   "source": [
    "mem_info = psutil.virtual_memory()\n",
    "print(f\"Total Memory = {mem_info.total}\")\n",
    "print(f\"Memory Availabe = {mem_info.available}\")\n",
    "print(f\"Memory Percentage used = {mem_info.percent}%\")"
   ]
  },
  {
   "cell_type": "code",
   "execution_count": 4,
   "metadata": {},
   "outputs": [
    {
     "name": "stdout",
     "output_type": "stream",
     "text": [
      "Total Disk Space =33636024320\n",
      "Free Disk Space =20430417920\n",
      "Disk Space percent used 36.0%\n"
     ]
    }
   ],
   "source": [
    "disk_usage = psutil.disk_usage('/')\n",
    "print(f\"Total Disk Space ={disk_usage.total}\")\n",
    "print(f\"Free Disk Space ={disk_usage.free}\")\n",
    "print(f\"Disk Space percent used {disk_usage.percent}%\")"
   ]
  },
  {
   "cell_type": "code",
   "execution_count": 5,
   "metadata": {},
   "outputs": [
    {
     "name": "stdout",
     "output_type": "stream",
     "text": [
      "Num of Processors = 34\n"
     ]
    }
   ],
   "source": [
    "num_processors = len(psutil.pids())\n",
    "print(f\"Num of Processors = {num_processors}\")\n",
    "# returns number of processer in system"
   ]
  },
  {
   "cell_type": "code",
   "execution_count": 13,
   "metadata": {},
   "outputs": [
    {
     "name": "stdout",
     "output_type": "stream",
     "text": [
      "Process name: bash\n",
      "Process status: sleeping\n",
      "Process memory info: pmem(rss=11927552, vms=17080320, shared=3538944, text=724992, lib=0, data=8605696, dirty=0)\n",
      "CPU usgae 0.0%\n",
      "Process Memory Usage pmem(rss=11927552, vms=17080320, shared=3538944, text=724992, lib=0, data=8605696, dirty=0)\n",
      "Process start Time 1736053611.35\n",
      "Process Command line ['/bin/bash', '--init-file', '/vscode/bin/linux-x64/fabdb6a30b49f79a7aba0f2ad9df9b399473380f/out/vs/workbench/contrib/terminal/common/scripts/shellIntegration-bash.sh']\n",
      "\n",
      "Process name: python\n",
      "Process status: running\n",
      "Process memory info: pmem(rss=92680192, vms=863174656, shared=16908288, text=2752512, lib=0, data=166912000, dirty=0)\n",
      "CPU usgae 0.0%\n",
      "Process Memory Usage pmem(rss=92680192, vms=863174656, shared=16908288, text=2752512, lib=0, data=166912000, dirty=0)\n",
      "Process start Time 1736053613.08\n",
      "Process Command line ['/workspaces/PythonBatchNovDec2024/venv/bin/python', '-m', 'ipykernel_launcher', '--f=/home/codespace/.local/share/jupyter/runtime/kernel-v33d9caf05be542eb3005ca45abf4a7059d2a6f21f.json']\n",
      "\n",
      "Process name: node\n",
      "Process status: sleeping\n",
      "Process memory info: pmem(rss=518148096, vms=3166048256, shared=47382528, text=29884416, lib=0, data=527740928, dirty=0)\n",
      "CPU usgae 0.0%\n",
      "Process Memory Usage pmem(rss=518148096, vms=3166048256, shared=47382528, text=29884416, lib=0, data=527740928, dirty=0)\n",
      "Process start Time 1736053614.11\n",
      "Process Command line ['/vscode/bin/linux-x64/fabdb6a30b49f79a7aba0f2ad9df9b399473380f/node', '/home/codespace/.vscode-remote/extensions/ms-python.vscode-pylance-2024.12.1/dist/server.bundle.js', '--cancellationReceive=file:280b9fc0e14a722882930a858756384f000ebf3d0c', '--node-ipc', '--clientProcessId=78794']\n",
      "\n",
      "Process name: sh\n",
      "Process status: sleeping\n",
      "Process memory info: pmem(rss=1572864, vms=2678784, shared=1572864, text=77824, lib=0, data=323584, dirty=0)\n",
      "CPU usgae 0.0%\n",
      "Process Memory Usage pmem(rss=1572864, vms=2678784, shared=1572864, text=77824, lib=0, data=323584, dirty=0)\n",
      "Process start Time 1736053616.16\n",
      "Process Command line ['/bin/sh']\n",
      "\n",
      "Process name: sh\n",
      "Process status: sleeping\n",
      "Process memory info: pmem(rss=1441792, vms=2678784, shared=1441792, text=77824, lib=0, data=323584, dirty=0)\n",
      "CPU usgae 0.0%\n",
      "Process Memory Usage pmem(rss=1441792, vms=2678784, shared=1441792, text=77824, lib=0, data=323584, dirty=0)\n",
      "Process start Time 1736053616.44\n",
      "Process Command line ['/bin/sh']\n",
      "\n"
     ]
    }
   ],
   "source": [
    "pids_5 = list(psutil.pids())[-5:]\n",
    "\n",
    "for pid in pids_5:\n",
    "    process = psutil.Process(pid)\n",
    "    print(f\"Process name: {process.name()}\")\n",
    "    print(f\"Process status: {process.status()}\")\n",
    "    print(f\"Process memory info: {process.memory_info()}\")\n",
    "\n",
    "\n",
    "    cpu_percent = process.cpu_percent(interval=1)\n",
    "    print(f\"CPU usgae {cpu_percent}%\")\n",
    "\n",
    "    mem_info = process.memory_info()\n",
    "    print(f\"Process Memory Usage {mem_info}\")\n",
    "\n",
    "    start_time = process.create_time()\n",
    "    print(f\"Process start Time {start_time}\")\n",
    "\n",
    "    cmdline = process.cmdline()\n",
    "    print(f\"Process Command line {cmdline}\")\n",
    "    print()"
   ]
  },
  {
   "cell_type": "code",
   "execution_count": 14,
   "metadata": {},
   "outputs": [
    {
     "name": "stdout",
     "output_type": "stream",
     "text": [
      "PID of python:79354\n"
     ]
    }
   ],
   "source": [
    "# Get the Process details (ID) by name \n",
    "process_name = 'python'\n",
    "for proc in psutil.process_iter(['name']):\n",
    "    if proc.info['name'] == process_name:\n",
    "        print(f\"PID of {process_name}:{proc.pid}\") "
   ]
  },
  {
   "cell_type": "code",
   "execution_count": 15,
   "metadata": {},
   "outputs": [
    {
     "data": {
      "text/plain": [
       "{'lo': snetio(bytes_sent=770510157, bytes_recv=770510157, packets_sent=408460, packets_recv=408460, errin=0, errout=0, dropin=0, dropout=0),\n",
       " 'eth0': snetio(bytes_sent=623543200, bytes_recv=24564726829, packets_sent=871355, packets_recv=17927753, errin=0, errout=0, dropin=0, dropout=0),\n",
       " 'docker0': snetio(bytes_sent=0, bytes_recv=0, packets_sent=0, packets_recv=0, errin=0, errout=0, dropin=0, dropout=0)}"
      ]
     },
     "execution_count": 15,
     "metadata": {},
     "output_type": "execute_result"
    }
   ],
   "source": [
    "# to get the network usage for a given network interface\n",
    "net_io_counters = psutil.net_io_counters(pernic=True)\n",
    "net_io_counters"
   ]
  },
  {
   "cell_type": "code",
   "execution_count": 16,
   "metadata": {},
   "outputs": [
    {
     "name": "stdout",
     "output_type": "stream",
     "text": [
      "Number of Connections:38\n"
     ]
    }
   ],
   "source": [
    "# to get network connections\n",
    "num_conections = len(psutil.net_connections())\n",
    "print(f\"Number of Connections:{num_conections}\")\n"
   ]
  }
 ],
 "metadata": {
  "kernelspec": {
   "display_name": "venv",
   "language": "python",
   "name": "python3"
  },
  "language_info": {
   "codemirror_mode": {
    "name": "ipython",
    "version": 3
   },
   "file_extension": ".py",
   "mimetype": "text/x-python",
   "name": "python",
   "nbconvert_exporter": "python",
   "pygments_lexer": "ipython3",
   "version": "3.12.1"
  }
 },
 "nbformat": 4,
 "nbformat_minor": 2
}
