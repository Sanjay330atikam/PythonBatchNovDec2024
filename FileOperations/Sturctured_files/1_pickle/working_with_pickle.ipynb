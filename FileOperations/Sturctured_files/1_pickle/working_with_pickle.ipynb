{
 "cells": [
  {
   "cell_type": "markdown",
   "metadata": {},
   "source": [
    "# Pickle\n",
    "\n",
    "   This can be used to flatten content when a function is passed from one language to another language.\n",
    "\n",
    "falnttend Content ->String File\n",
    " -dump into a file\n",
    " -dumps into a Python string\n",
    "\n",
    "Unflattened Content -. Python objects\n",
    "  -load - from a file\n",
    "  -loads - from a python string"
   ]
  },
  {
   "cell_type": "markdown",
   "metadata": {},
   "source": [
    "## Pickle () to a string object\n"
   ]
  },
  {
   "cell_type": "code",
   "execution_count": 1,
   "metadata": {},
   "outputs": [],
   "source": [
    "import pickle\n",
    "# PICKLING means converting a python code to flat content\n",
    "# so that other side can do it again \n",
    "\n",
    "# data types like list tuple sets which are defined in python\n",
    "# can't be understand in other languages to make it availabe pickling can be use.\n",
    "# This technique is alos called as SERILIZATION \n",
    "\n",
    "# UNPICKLING - you want to craete a python object from flat content.\n",
    "# This technique is alos called as DESERILIZATION "
   ]
  },
  {
   "cell_type": "code",
   "execution_count": 2,
   "metadata": {},
   "outputs": [
    {
     "data": {
      "text/plain": [
       "b'\\x80\\x04\\x95 \\x00\\x00\\x00\\x00\\x00\\x00\\x00}\\x94(\\x8c\\x04name\\x94\\x8c\\x06Sanjay\\x94\\x8c\\x03Age\\x94\\x8c\\x0220\\x94u.'"
      ]
     },
     "execution_count": 2,
     "metadata": {},
     "output_type": "execute_result"
    }
   ],
   "source": [
    "# serilize an object\n",
    "data ={'name':'Sanjay','Age':'20'}\n",
    "serialized_data = pickle.dumps(data)\n",
    "serialized_data"
   ]
  },
  {
   "cell_type": "code",
   "execution_count": 3,
   "metadata": {},
   "outputs": [
    {
     "data": {
      "text/plain": [
       "{'name': 'Sanjay', 'Age': '20'}"
      ]
     },
     "execution_count": 3,
     "metadata": {},
     "output_type": "execute_result"
    }
   ],
   "source": [
    "# Deserilize an object\n",
    "Deserialised_object = pickle.loads(serialized_data)\n",
    "Deserialised_object"
   ]
  },
  {
   "cell_type": "markdown",
   "metadata": {},
   "source": [
    "## Pickle to file()\n"
   ]
  },
  {
   "cell_type": "code",
   "execution_count": 4,
   "metadata": {},
   "outputs": [],
   "source": [
    "data = {'name': 'Sanjay', 'Age': '20'}\n",
    "with open (\"data.pickle\",\"wb\")as file:\n",
    "    pickle.dump(data,file)\n",
    "    # in this we are dumping the data into file that is why\n",
    "    # we are using dump keyword\n",
    "## Creats a byte code wit pickle named data.pickle"
   ]
  },
  {
   "cell_type": "code",
   "execution_count": 5,
   "metadata": {},
   "outputs": [],
   "source": [
    "# Read from a pickle file()\n",
    "with open (\"data.pickle\",\"rb\")as file:\n",
    " loaded_data = pickle.load(file)\n",
    "\n",
    " loaded_data"
   ]
  },
  {
   "cell_type": "markdown",
   "metadata": {},
   "source": [
    "# Pickling multiple objects()"
   ]
  },
  {
   "cell_type": "code",
   "execution_count": 8,
   "metadata": {},
   "outputs": [
    {
     "name": "stdout",
     "output_type": "stream",
     "text": [
      "serialized_data    =b'\\x80\\x04\\x95 \\x00\\x00\\x00\\x00\\x00\\x00\\x00}\\x94(\\x8c\\x04name\\x94\\x8c\\x06Sanjay\\x94\\x8c\\x03Age\\x94\\x8c\\x0220\\x94u.'\n",
      "{'name': 'Sanjay', 'Age': '24'}\n",
      "{'name': 'Anirudh', 'Age': '20'}\n"
     ]
    }
   ],
   "source": [
    "# Pickling multiple objects\n",
    "data1 = {'name': 'Sanjay', 'Age': '24'}\n",
    "data2 = {'name': 'Anirudh', 'Age': '20'}\n",
    "serliazed_data = pickle.dumps((data1,data2))\n",
    "print(f\"{serialized_data    =}\")\n",
    "\n",
    "\n",
    "# Unpickling multiple objects\n",
    "Deserialised_object = pickle.loads(serliazed_data)\n",
    "obj1,obj2 = Deserialised_object\n",
    "print(f\"{obj1}\")\n",
    "print(f\"{obj2}\")"
   ]
  },
  {
   "cell_type": "markdown",
   "metadata": {},
   "source": [
    "# Pickling and unpickling with Compression()"
   ]
  },
  {
   "cell_type": "code",
   "execution_count": 24,
   "metadata": {},
   "outputs": [
    {
     "name": "stdout",
     "output_type": "stream",
     "text": [
      "loaded_data  ={'name': 'Sanjay', 'Age': '20'}\n"
     ]
    }
   ],
   "source": [
    "import pickle\n",
    "import gzip\n",
    "# gzip is a compression technique\n",
    "\n",
    "# Pickling with Compression\n",
    "data = {'name': 'Sanjay', 'Age': '20'}\n",
    "with gzip.open(\"data.pickle.gz\",\"wb\") as file:\n",
    "    pickle.dump(data,file)\n",
    "\n",
    "#  Unpickling with Compression\n",
    "with gzip.open(\"data.pickle.gz\",\"rb\") as file:\n",
    "    loaded_data = pickle.load(file)\n",
    "print(f\"{loaded_data  =}\")"
   ]
  },
  {
   "cell_type": "markdown",
   "metadata": {},
   "source": [
    "# Pickling and Unpickling with External Dependencies"
   ]
  },
  {
   "cell_type": "code",
   "execution_count": 25,
   "metadata": {},
   "outputs": [
    {
     "name": "stdout",
     "output_type": "stream",
     "text": [
      "serialized_data    =b'\\x80\\x05\\x95\\x97\\x00\\x00\\x00\\x00\\x00\\x00\\x00}\\x94\\x8c\\x05array\\x94\\x8c\\x13numpy._core.numeric\\x94\\x8c\\x0b_frombuffer\\x94\\x93\\x94(\\x96\\x18\\x00\\x00\\x00\\x00\\x00\\x00\\x00\\x01\\x00\\x00\\x00\\x00\\x00\\x00\\x00\\x02\\x00\\x00\\x00\\x00\\x00\\x00\\x00\\x03\\x00\\x00\\x00\\x00\\x00\\x00\\x00\\x94\\x8c\\x05numpy\\x94\\x8c\\x05dtype\\x94\\x93\\x94\\x8c\\x02i8\\x94\\x89\\x88\\x87\\x94R\\x94(K\\x03\\x8c\\x01<\\x94NNNJ\\xff\\xff\\xff\\xffJ\\xff\\xff\\xff\\xffK\\x00t\\x94bK\\x03\\x85\\x94\\x8c\\x01C\\x94t\\x94R\\x94s.'\n",
      "Deserialised_object    ={'array': array([1, 2, 3])}\n"
     ]
    }
   ],
   "source": [
    "import pickle\n",
    "import numpy as np\n",
    "data = {\"array\":np.array([1,2,3])}\n",
    "# pickle an object with Numpy array\n",
    "serialized_data = pickle.dumps(data,protocol=pickle.HIGHEST_PROTOCOL)\n",
    "print(f\"{serialized_data    =}\")\n",
    "\n",
    "#unpickle an object with Numpy array\n",
    "Deserialised_object=pickle.loads(serialized_data)\n",
    "print(f\"{Deserialised_object    =}\")"
   ]
  },
  {
   "cell_type": "markdown",
   "metadata": {},
   "source": [
    "# Serialization of all Data types()"
   ]
  },
  {
   "cell_type": "code",
   "execution_count": 44,
   "metadata": {},
   "outputs": [
    {
     "name": "stdout",
     "output_type": "stream",
     "text": [
      "123 b'\\x80\\x04K{.' 123\n",
      "3.231 b'\\x80\\x04\\x95\\n\\x00\\x00\\x00\\x00\\x00\\x00\\x00G@\\t\\xd9\\x16\\x87+\\x02\\x0c.' 3.231\n",
      "python b'\\x80\\x04\\x95\\n\\x00\\x00\\x00\\x00\\x00\\x00\\x00\\x8c\\x06python\\x94.' python\n",
      "True b'\\x80\\x04\\x88.' True\n",
      "None b'\\x80\\x04N.' None\n",
      "[1, 2, 3] b'\\x80\\x04\\x95\\x0b\\x00\\x00\\x00\\x00\\x00\\x00\\x00]\\x94(K\\x01K\\x02K\\x03e.' [1, 2, 3]\n",
      "(1, 2, 3) b'\\x80\\x04\\x95\\t\\x00\\x00\\x00\\x00\\x00\\x00\\x00K\\x01K\\x02K\\x03\\x87\\x94.' (1, 2, 3)\n",
      "{1, 2, 3} b'\\x80\\x04\\x95\\x0b\\x00\\x00\\x00\\x00\\x00\\x00\\x00\\x8f\\x94(K\\x01K\\x02K\\x03\\x90.' {1, 2, 3}\n",
      "{'name': 'sanju', 'age': '24'} b'\\x80\\x04\\x95\\x1f\\x00\\x00\\x00\\x00\\x00\\x00\\x00}\\x94(\\x8c\\x04name\\x94\\x8c\\x05sanju\\x94\\x8c\\x03age\\x94\\x8c\\x0224\\x94u.' {'name': 'sanju', 'age': '24'}\n"
     ]
    }
   ],
   "source": [
    "data_types = [123,3.231,\"python\",True,None,[1,2,3],(1,2,3),{1,2,3},{'name':'sanju','age':'24'}]\n",
    "for each in data_types:\n",
    "    # print(f\"{type(each),pickle.dumps(each)  =}\")\n",
    "    # print(\"\")\n",
    "    # print(f\"{pickle.loads(pickle.dumps(each))  =}\")\n",
    "\n",
    "    print(each,pickle.dumps(each),pickle.loads(pickle.dumps(each)))"
   ]
  },
  {
   "cell_type": "markdown",
   "metadata": {},
   "source": [
    "# Isuue\n",
    "-Changing the data while pickiling \n"
   ]
  },
  {
   "cell_type": "code",
   "execution_count": 25,
   "metadata": {},
   "outputs": [],
   "source": [
    "import pickle\n",
    "person_details = {\n",
    "    'Name':'Roman Reigns',\n",
    "    'Reach':69,\n",
    "    'Weight':265,\n",
    "    'Height':5.11,\n",
    "    'Finisher':'Superman Punch'\n",
    "}\n",
    "with open('person_details.pkl','wb') as file:\n",
    "    pickle.dump(person_details,file)"
   ]
  },
  {
   "cell_type": "code",
   "execution_count": 8,
   "metadata": {},
   "outputs": [
    {
     "name": "stdout",
     "output_type": "stream",
     "text": [
      "total 28\n",
      "-rw-rw-rw- 1 codespace codespace   43 Jan 17 03:27 data.pickle\n",
      "-rw-rw-rw- 1 codespace codespace   70 Jan 17 03:38 data.pickle.gz\n",
      "-rw-rw-rw- 1 codespace codespace  106 Jan 17 04:36 person_details\n",
      "-rw-rw-rw- 1 codespace codespace  106 Jan 17 04:38 person_details.pkl\n",
      "-rw-rw-rw- 1 codespace codespace 9604 Jan 17 04:38 working_with_pickle.ipynb\n"
     ]
    }
   ],
   "source": [
    "! ls -ltr"
   ]
  },
  {
   "cell_type": "code",
   "execution_count": 26,
   "metadata": {},
   "outputs": [
    {
     "name": "stdout",
     "output_type": "stream",
     "text": [
      "�\u0004�_\u0000\u0000\u0000\u0000\u0000\u0000\u0000}�(�\u0004Name��\fRoman Reigns��\u0005Reach�KE�\u0006Weight�M\t\u0001�\u0006Height�G@\u0014p��\n",
      "=qFinisher��\u000eSuperman Punch�u."
     ]
    }
   ],
   "source": [
    "! cat person_details.pkl\n"
   ]
  },
  {
   "cell_type": "markdown",
   "metadata": {},
   "source": [
    "Man in the Middle attack"
   ]
  },
  {
   "cell_type": "code",
   "execution_count": 30,
   "metadata": {},
   "outputs": [
    {
     "name": "stdout",
     "output_type": "stream",
     "text": [
      "�\u0004�_\u0000\u0000\u0000\u0000\u0000\u0000\u0000}�(�\u0004Name��\fRoman Reigns��\u0005Reach�KE�\u0006Weight�M\t\u0001�\u0006Height�G@\u0014p��\n",
      "=qFinisher��\u000eBaterman Punch�u."
     ]
    }
   ],
   "source": [
    "! cat person_details.pkl"
   ]
  },
  {
   "cell_type": "code",
   "execution_count": 31,
   "metadata": {},
   "outputs": [
    {
     "ename": "UnpicklingError",
     "evalue": "invalid load key, '\\xef'.",
     "output_type": "error",
     "traceback": [
      "\u001b[0;31m---------------------------------------------------------------------------\u001b[0m",
      "\u001b[0;31mUnpicklingError\u001b[0m                           Traceback (most recent call last)",
      "Cell \u001b[0;32mIn[31], line 2\u001b[0m\n\u001b[1;32m      1\u001b[0m \u001b[38;5;28;01mwith\u001b[39;00m \u001b[38;5;28mopen\u001b[39m(\u001b[38;5;124m'\u001b[39m\u001b[38;5;124mperson_details.pkl\u001b[39m\u001b[38;5;124m'\u001b[39m,\u001b[38;5;124m'\u001b[39m\u001b[38;5;124mrb\u001b[39m\u001b[38;5;124m'\u001b[39m) \u001b[38;5;28;01mas\u001b[39;00m file:\n\u001b[0;32m----> 2\u001b[0m     content \u001b[38;5;241m=\u001b[39m \u001b[43mpickle\u001b[49m\u001b[38;5;241;43m.\u001b[39;49m\u001b[43mload\u001b[49m\u001b[43m(\u001b[49m\u001b[43mfile\u001b[49m\u001b[43m)\u001b[49m\n\u001b[1;32m      4\u001b[0m \u001b[38;5;28mprint\u001b[39m(content)\n",
      "\u001b[0;31mUnpicklingError\u001b[0m: invalid load key, '\\xef'."
     ]
    }
   ],
   "source": [
    "with open('person_details.pkl','rb') as file:\n",
    "    content = pickle.load(file)\n",
    "\n",
    "print(content)"
   ]
  }
 ],
 "metadata": {
  "kernelspec": {
   "display_name": "Python 3",
   "language": "python",
   "name": "python3"
  },
  "language_info": {
   "codemirror_mode": {
    "name": "ipython",
    "version": 3
   },
   "file_extension": ".py",
   "mimetype": "text/x-python",
   "name": "python",
   "nbconvert_exporter": "python",
   "pygments_lexer": "ipython3",
   "version": "3.12.1"
  }
 },
 "nbformat": 4,
 "nbformat_minor": 2
}
