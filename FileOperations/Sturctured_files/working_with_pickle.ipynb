{
 "cells": [
  {
   "cell_type": "markdown",
   "metadata": {},
   "source": [
    "## Pickle\n",
    "\n",
    "-- This can be used to flatten content when a function is passed from one language to another language.\n",
    "\n",
    "__falnttend Content ->String File\n",
    "-- dump into a file\n",
    "-- dumps into a Python string\n",
    "\n",
    "--Unflattened Content -. Python objects\n",
    "  --load - from a file\n",
    "  --loads - from a python string"
   ]
  },
  {
   "cell_type": "markdown",
   "metadata": {},
   "source": [
    "## Pickle () to a string object\n"
   ]
  },
  {
   "cell_type": "code",
   "execution_count": 1,
   "metadata": {},
   "outputs": [],
   "source": [
    "import pickle"
   ]
  },
  {
   "cell_type": "code",
   "execution_count": 2,
   "metadata": {},
   "outputs": [
    {
     "data": {
      "text/plain": [
       "b'\\x80\\x04\\x95 \\x00\\x00\\x00\\x00\\x00\\x00\\x00}\\x94(\\x8c\\x04name\\x94\\x8c\\x06Sanjay\\x94\\x8c\\x03Age\\x94\\x8c\\x0220\\x94u.'"
      ]
     },
     "execution_count": 2,
     "metadata": {},
     "output_type": "execute_result"
    }
   ],
   "source": [
    "# serilize an object\n",
    "data ={'name':'Sanjay','Age':'20'}\n",
    "serialized_data = pickle.dumps(data)\n",
    "serialized_data"
   ]
  },
  {
   "cell_type": "code",
   "execution_count": 3,
   "metadata": {},
   "outputs": [
    {
     "data": {
      "text/plain": [
       "{'name': 'Sanjay', 'Age': '20'}"
      ]
     },
     "execution_count": 3,
     "metadata": {},
     "output_type": "execute_result"
    }
   ],
   "source": [
    "# Deserilize an object\n",
    "Deserialised_object = pickle.loads(serialized_data)\n",
    "Deserialised_object"
   ]
  },
  {
   "cell_type": "markdown",
   "metadata": {},
   "source": [
    "## Pickle to file()\n"
   ]
  },
  {
   "cell_type": "code",
   "execution_count": 9,
   "metadata": {},
   "outputs": [],
   "source": [
    "data = {'name': 'Sanjay', 'Age': '20'}\n",
    "with open (\"data.pickle\",\"wb\")as file:\n",
    "    pickle.dump(data,file)\n",
    "    # in this we are dumping the data into file that is why\n",
    "    # we are using dump keyword\n",
    "## Creats a byte code wit pickle named data.pickle"
   ]
  },
  {
   "cell_type": "code",
   "execution_count": 10,
   "metadata": {},
   "outputs": [],
   "source": [
    "# Read from a pickle file()\n",
    "with open (\"data.pickle\",\"rb\")as file:\n",
    " loaded_data = pickle.load(file)\n",
    "\n",
    " loaded_data"
   ]
  }
 ],
 "metadata": {
  "kernelspec": {
   "display_name": "Python 3",
   "language": "python",
   "name": "python3"
  },
  "language_info": {
   "codemirror_mode": {
    "name": "ipython",
    "version": 3
   },
   "file_extension": ".py",
   "mimetype": "text/x-python",
   "name": "python",
   "nbconvert_exporter": "python",
   "pygments_lexer": "ipython3",
   "version": "3.12.1"
  }
 },
 "nbformat": 4,
 "nbformat_minor": 2
}
