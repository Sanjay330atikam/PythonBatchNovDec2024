{
 "cells": [
  {
   "cell_type": "markdown",
   "metadata": {},
   "source": [
    "## Example for RE"
   ]
  },
  {
   "cell_type": "code",
   "execution_count": 1,
   "metadata": {},
   "outputs": [],
   "source": [
    "import re"
   ]
  },
  {
   "cell_type": "code",
   "execution_count": 2,
   "metadata": {},
   "outputs": [
    {
     "name": "stdout",
     "output_type": "stream",
     "text": [
      "s_s.find(t_s)  =-1\n",
      "t_s in s_s =False\n"
     ]
    }
   ],
   "source": [
    "t_s = \"Sanjay Goud\"\n",
    "s_s =\"sanjay\"\n",
    "print(f\"{s_s.find(t_s)  =}\")\n",
    "print(f\"{t_s in s_s =}\")"
   ]
  },
  {
   "cell_type": "code",
   "execution_count": 3,
   "metadata": {},
   "outputs": [
    {
     "name": "stdout",
     "output_type": "stream",
     "text": [
      "t_s.find(s_s)  =0\n",
      "s_s in t_s =True\n"
     ]
    }
   ],
   "source": [
    "t_s = \"Sanjay Goud\"\n",
    "s_s =\"Sanjay\"\n",
    "print(f\"{t_s.find(s_s)  =}\")\n",
    "print(f\"{s_s in t_s =}\")"
   ]
  },
  {
   "cell_type": "code",
   "execution_count": 4,
   "metadata": {},
   "outputs": [
    {
     "data": {
      "text/plain": [
       "re.compile(r'Sanjay', re.UNICODE)"
      ]
     },
     "execution_count": 4,
     "metadata": {},
     "output_type": "execute_result"
    }
   ],
   "source": [
    "re.compile(s_s)"
   ]
  },
  {
   "cell_type": "code",
   "execution_count": 5,
   "metadata": {},
   "outputs": [
    {
     "name": "stdout",
     "output_type": "stream",
     "text": [
      "(re.compile('Sanjay'), <class 're.Pattern'>)\n"
     ]
    }
   ],
   "source": [
    "obj = re.compile(s_s)\n",
    "print(f\"{obj,type(obj)}\")"
   ]
  },
  {
   "cell_type": "code",
   "execution_count": 6,
   "metadata": {},
   "outputs": [
    {
     "name": "stdout",
     "output_type": "stream",
     "text": [
      "result =<re.Match object; span=(0, 6), match='Sanjay'>\n"
     ]
    }
   ],
   "source": [
    "result = obj.match(s_s)\n",
    "print(f\"{result =}\")"
   ]
  },
  {
   "cell_type": "markdown",
   "metadata": {},
   "source": [
    "## To consolidate data"
   ]
  },
  {
   "cell_type": "code",
   "execution_count": 7,
   "metadata": {},
   "outputs": [
    {
     "name": "stdout",
     "output_type": "stream",
     "text": [
      "s_s.find(t_s)  =-1\n",
      "t_s in s_s =False\n",
      "result =None\n"
     ]
    }
   ],
   "source": [
    "t_s = \"Sanjay Goud\"\n",
    "s_s =\"sanjay\"\n",
    "print(f\"{s_s.find(t_s)  =}\")\n",
    "print(f\"{t_s in s_s =}\")\n",
    "\n",
    "obj = re.compile(s_s)\n",
    "result = obj.match(t_s)\n",
    "print(f\"{result =}\")"
   ]
  },
  {
   "cell_type": "code",
   "execution_count": 8,
   "metadata": {},
   "outputs": [
    {
     "name": "stdout",
     "output_type": "stream",
     "text": [
      "t_s.find(s_s)  =0\n",
      "s_s in t_s =True\n",
      "result =<re.Match object; span=(0, 6), match='Sanjay'>\n"
     ]
    }
   ],
   "source": [
    "t_s = \"Sanjay Goud\"\n",
    "s_s =\"Sanjay\"\n",
    "print(f\"{t_s.find(s_s)  =}\")\n",
    "print(f\"{s_s in t_s =}\")\n",
    "\n",
    "obj = re.compile(s_s)\n",
    "result = obj.match(t_s)\n",
    "print(f\"{result =}\")"
   ]
  },
  {
   "cell_type": "code",
   "execution_count": null,
   "metadata": {},
   "outputs": [],
   "source": []
  }
 ],
 "metadata": {
  "kernelspec": {
   "display_name": "venv",
   "language": "python",
   "name": "python3"
  },
  "language_info": {
   "codemirror_mode": {
    "name": "ipython",
    "version": 3
   },
   "file_extension": ".py",
   "mimetype": "text/x-python",
   "name": "python",
   "nbconvert_exporter": "python",
   "pygments_lexer": "ipython3",
   "version": "3.12.1"
  }
 },
 "nbformat": 4,
 "nbformat_minor": 2
}
