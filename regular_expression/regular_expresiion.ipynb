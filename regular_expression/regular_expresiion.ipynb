{
 "cells": [
  {
   "cell_type": "markdown",
   "metadata": {},
   "source": [
    "## Regular Expression- If we want anything to seacrh and it have special charcters with same words\n",
    "                      Then we can use regualar expressions\n",
    "\n",
    "                      Example : Python@programming\n",
    "                                pythonprogrammin@2344\n",
    "                                python_pro@.co.in\n",
    "\n",
    "                                It has all python words but to specific only 1st one we can use re"
   ]
  },
  {
   "cell_type": "code",
   "execution_count": 1,
   "metadata": {},
   "outputs": [],
   "source": [
    "import re\n"
   ]
  },
  {
   "cell_type": "code",
   "execution_count": 3,
   "metadata": {},
   "outputs": [
    {
     "data": {
      "text/plain": [
       "['A',\n",
       " 'ASCII',\n",
       " 'DEBUG',\n",
       " 'DOTALL',\n",
       " 'I',\n",
       " 'IGNORECASE',\n",
       " 'L',\n",
       " 'LOCALE',\n",
       " 'M',\n",
       " 'MULTILINE',\n",
       " 'Match',\n",
       " 'NOFLAG',\n",
       " 'Pattern',\n",
       " 'RegexFlag',\n",
       " 'S',\n",
       " 'Scanner',\n",
       " 'T',\n",
       " 'TEMPLATE',\n",
       " 'U',\n",
       " 'UNICODE',\n",
       " 'VERBOSE',\n",
       " 'X',\n",
       " '_MAXCACHE',\n",
       " '_MAXCACHE2',\n",
       " '__all__',\n",
       " '__builtins__',\n",
       " '__cached__',\n",
       " '__doc__',\n",
       " '__file__',\n",
       " '__loader__',\n",
       " '__name__',\n",
       " '__package__',\n",
       " '__path__',\n",
       " '__spec__',\n",
       " '__version__',\n",
       " '_cache',\n",
       " '_cache2',\n",
       " '_casefix',\n",
       " '_compile',\n",
       " '_compile_template',\n",
       " '_compiler',\n",
       " '_constants',\n",
       " '_parser',\n",
       " '_pickle',\n",
       " '_special_chars_map',\n",
       " '_sre',\n",
       " 'compile',\n",
       " 'copyreg',\n",
       " 'enum',\n",
       " 'error',\n",
       " 'escape',\n",
       " 'findall',\n",
       " 'finditer',\n",
       " 'fullmatch',\n",
       " 'functools',\n",
       " 'match',\n",
       " 'purge',\n",
       " 'search',\n",
       " 'split',\n",
       " 'sub',\n",
       " 'subn',\n",
       " 'template']"
      ]
     },
     "execution_count": 3,
     "metadata": {},
     "output_type": "execute_result"
    }
   ],
   "source": [
    "dir(re)"
   ]
  },
  {
   "cell_type": "markdown",
   "metadata": {},
   "source": [
    "## Using re.match\n",
    "            - It helps to identify patterns at the starting of string\n",
    "            - B default it is case senstive"
   ]
  },
  {
   "cell_type": "code",
   "execution_count": 25,
   "metadata": {},
   "outputs": [
    {
     "name": "stdout",
     "output_type": "stream",
     "text": [
      "target_string.find(search_string)  =-1\n",
      "search_string in target_string =False\n"
     ]
    }
   ],
   "source": [
    "target_string = \"Python is a programming Langugae\"\n",
    "search_string = \"python\"\n",
    "print(f\"{target_string.find(search_string)  =}\")\n",
    "print(f\"{search_string in target_string =}\")\n",
    "\n",
    "#output\n",
    "# find will return -1 beacuse there is no 'p' in search_sting\n",
    "# in will give false bcuz p and P are different in string"
   ]
  },
  {
   "cell_type": "code",
   "execution_count": 23,
   "metadata": {},
   "outputs": [
    {
     "name": "stdout",
     "output_type": "stream",
     "text": [
      "target_string.find(search_string)  =0\n",
      "search_string in target_string =True\n"
     ]
    }
   ],
   "source": [
    "target_string = \"Python is a programming Langugae\"\n",
    "search_string = \"Python\"\n",
    "print(f\"{target_string.find(search_string)  =}\")\n",
    "print(f\"{search_string in target_string =}\")"
   ]
  },
  {
   "cell_type": "code",
   "execution_count": 13,
   "metadata": {},
   "outputs": [
    {
     "data": {
      "text/plain": [
       "re.compile(r'Python is a programming Langugae', re.UNICODE)"
      ]
     },
     "execution_count": 13,
     "metadata": {},
     "output_type": "execute_result"
    }
   ],
   "source": [
    "re.compile(search_string)"
   ]
  },
  {
   "cell_type": "code",
   "execution_count": 31,
   "metadata": {},
   "outputs": [
    {
     "name": "stdout",
     "output_type": "stream",
     "text": [
      "(re.compile('python'), <class 're.Pattern'>)\n"
     ]
    }
   ],
   "source": [
    "# by storing in object\n",
    "re_obj = re.compile(search_string)\n",
    "print(f\"{re_obj,type(re_obj)}\")"
   ]
  },
  {
   "cell_type": "code",
   "execution_count": 41,
   "metadata": {},
   "outputs": [
    {
     "name": "stdout",
     "output_type": "stream",
     "text": [
      "result =<re.Match object; span=(0, 6), match='Python'>\n"
     ]
    }
   ],
   "source": [
    "result =  re_obj.match(search_string)\n",
    "print(f\"{result =}\")"
   ]
  },
  {
   "cell_type": "markdown",
   "metadata": {},
   "source": [
    "## To consolidate the data"
   ]
  },
  {
   "cell_type": "code",
   "execution_count": 37,
   "metadata": {},
   "outputs": [
    {
     "name": "stdout",
     "output_type": "stream",
     "text": [
      "target_string.find(search_string)  =-1\n",
      "search_string in target_string =False\n",
      "result =None\n"
     ]
    }
   ],
   "source": [
    "target_string = \"Python is a programming Langugae\"\n",
    "search_string = \"python\"\n",
    "print(f\"{target_string.find(search_string)  =}\")\n",
    "print(f\"{search_string in target_string =}\")\n",
    "\n",
    "\n",
    "\n",
    "re_obj = re.compile(search_string)\n",
    "result = re_obj.match(target_string)\n",
    "print(f\"{result =}\")"
   ]
  },
  {
   "cell_type": "code",
   "execution_count": 38,
   "metadata": {},
   "outputs": [
    {
     "name": "stdout",
     "output_type": "stream",
     "text": [
      "target_string.find(search_string)  =0\n",
      "search_string in target_string =True\n",
      "result =<re.Match object; span=(0, 6), match='Python'>\n"
     ]
    }
   ],
   "source": [
    "target_string = \"Python is a programming Langugae\"\n",
    "search_string = \"Python\"\n",
    "print(f\"{target_string.find(search_string)  =}\")\n",
    "print(f\"{search_string in target_string =}\")\n",
    "\n",
    "re_obj = re.compile(search_string)\n",
    "result = re_obj.match(target_string)\n",
    "print(f\"{result =}\")"
   ]
  },
  {
   "cell_type": "markdown",
   "metadata": {},
   "source": [
    "### Example 2"
   ]
  },
  {
   "cell_type": "code",
   "execution_count": 26,
   "metadata": {},
   "outputs": [
    {
     "name": "stdout",
     "output_type": "stream",
     "text": [
      "s_s.find(t_s)  =-1\n",
      "t_s in s_s =False\n"
     ]
    }
   ],
   "source": [
    "t_s = \"Sanjay Goud\"\n",
    "s_s =\"sanjay\"\n",
    "print(f\"{s_s.find(t_s)  =}\")\n",
    "print(f\"{t_s in s_s =}\")"
   ]
  },
  {
   "cell_type": "code",
   "execution_count": 30,
   "metadata": {},
   "outputs": [
    {
     "name": "stdout",
     "output_type": "stream",
     "text": [
      "t_s.find(s_s)  =0\n",
      "s_s in t_s =True\n"
     ]
    }
   ],
   "source": [
    "t_s = \"Sanjay Goud\"\n",
    "s_s =\"Sanjay\"\n",
    "print(f\"{t_s.find(s_s)  =}\")\n",
    "print(f\"{s_s in t_s =}\")"
   ]
  },
  {
   "cell_type": "code",
   "execution_count": 32,
   "metadata": {},
   "outputs": [
    {
     "data": {
      "text/plain": [
       "re.compile(r'Sanjay', re.UNICODE)"
      ]
     },
     "execution_count": 32,
     "metadata": {},
     "output_type": "execute_result"
    }
   ],
   "source": [
    "re.compile(s_s)"
   ]
  },
  {
   "cell_type": "code",
   "execution_count": 33,
   "metadata": {},
   "outputs": [
    {
     "name": "stdout",
     "output_type": "stream",
     "text": [
      "(re.compile('Sanjay'), <class 're.Pattern'>)\n"
     ]
    }
   ],
   "source": [
    "obj = re.compile(s_s)\n",
    "print(f\"{obj,type(obj)}\")"
   ]
  },
  {
   "cell_type": "code",
   "execution_count": 43,
   "metadata": {},
   "outputs": [
    {
     "name": "stdout",
     "output_type": "stream",
     "text": [
      "result =<re.Match object; span=(0, 6), match='Sanjay'>\n"
     ]
    }
   ],
   "source": [
    "result = obj.match(s_s)\n",
    "print(f\"{result =}\")"
   ]
  },
  {
   "cell_type": "markdown",
   "metadata": {},
   "source": [
    "## To consolidate data\n"
   ]
  },
  {
   "cell_type": "code",
   "execution_count": 48,
   "metadata": {},
   "outputs": [
    {
     "name": "stdout",
     "output_type": "stream",
     "text": [
      "s_s.find(t_s)  =-1\n",
      "t_s in s_s =False\n",
      "result =None\n"
     ]
    }
   ],
   "source": [
    "t_s = \"Sanjay Goud\"\n",
    "s_s =\"sanjay\"\n",
    "print(f\"{s_s.find(t_s)  =}\")\n",
    "print(f\"{t_s in s_s =}\")\n",
    "\n",
    "obj = re.compile(s_s)\n",
    "result = obj.match(t_s)\n",
    "print(f\"{result =}\")"
   ]
  },
  {
   "cell_type": "code",
   "execution_count": 51,
   "metadata": {},
   "outputs": [
    {
     "name": "stdout",
     "output_type": "stream",
     "text": [
      "t_s.find(s_s)  =0\n",
      "s_s in t_s =True\n",
      "result =<re.Match object; span=(0, 6), match='Sanjay'>\n"
     ]
    }
   ],
   "source": [
    "t_s = \"Sanjay Goud\"\n",
    "s_s =\"Sanjay\"\n",
    "print(f\"{t_s.find(s_s)  =}\")\n",
    "print(f\"{s_s in t_s =}\")\n",
    "\n",
    "obj = re.compile(s_s)\n",
    "result = obj.match(t_s)\n",
    "print(f\"{result =}\")\n"
   ]
  }
 ],
 "metadata": {
  "kernelspec": {
   "display_name": "venv",
   "language": "python",
   "name": "python3"
  },
  "language_info": {
   "codemirror_mode": {
    "name": "ipython",
    "version": 3
   },
   "file_extension": ".py",
   "mimetype": "text/x-python",
   "name": "python",
   "nbconvert_exporter": "python",
   "pygments_lexer": "ipython3",
   "version": "3.12.1"
  }
 },
 "nbformat": 4,
 "nbformat_minor": 2
}
