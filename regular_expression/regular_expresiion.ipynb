{
 "cells": [
  {
   "cell_type": "markdown",
   "metadata": {},
   "source": [
    "## Regular Expression- If we want anything to seacrh and it have special charcters with same words\n",
    "                      Then we can use regualar expressions\n",
    "\n",
    "                      Example : Python@programming\n",
    "                                pythonprogrammin@2344\n",
    "                                python_pro@.co.in\n",
    "\n",
    "                                It has all python words but to specific only 1st one we can use re"
   ]
  },
  {
   "cell_type": "code",
   "execution_count": 2,
   "metadata": {},
   "outputs": [],
   "source": [
    "import re\n"
   ]
  },
  {
   "cell_type": "code",
   "execution_count": 3,
   "metadata": {},
   "outputs": [
    {
     "data": {
      "text/plain": [
       "['A',\n",
       " 'ASCII',\n",
       " 'DEBUG',\n",
       " 'DOTALL',\n",
       " 'I',\n",
       " 'IGNORECASE',\n",
       " 'L',\n",
       " 'LOCALE',\n",
       " 'M',\n",
       " 'MULTILINE',\n",
       " 'Match',\n",
       " 'NOFLAG',\n",
       " 'Pattern',\n",
       " 'RegexFlag',\n",
       " 'S',\n",
       " 'Scanner',\n",
       " 'T',\n",
       " 'TEMPLATE',\n",
       " 'U',\n",
       " 'UNICODE',\n",
       " 'VERBOSE',\n",
       " 'X',\n",
       " '_MAXCACHE',\n",
       " '_MAXCACHE2',\n",
       " '__all__',\n",
       " '__builtins__',\n",
       " '__cached__',\n",
       " '__doc__',\n",
       " '__file__',\n",
       " '__loader__',\n",
       " '__name__',\n",
       " '__package__',\n",
       " '__path__',\n",
       " '__spec__',\n",
       " '__version__',\n",
       " '_cache',\n",
       " '_cache2',\n",
       " '_casefix',\n",
       " '_compile',\n",
       " '_compile_template',\n",
       " '_compiler',\n",
       " '_constants',\n",
       " '_parser',\n",
       " '_pickle',\n",
       " '_special_chars_map',\n",
       " '_sre',\n",
       " 'compile',\n",
       " 'copyreg',\n",
       " 'enum',\n",
       " 'error',\n",
       " 'escape',\n",
       " 'findall',\n",
       " 'finditer',\n",
       " 'fullmatch',\n",
       " 'functools',\n",
       " 'match',\n",
       " 'purge',\n",
       " 'search',\n",
       " 'split',\n",
       " 'sub',\n",
       " 'subn',\n",
       " 'template']"
      ]
     },
     "execution_count": 3,
     "metadata": {},
     "output_type": "execute_result"
    }
   ],
   "source": [
    "dir(re)"
   ]
  },
  {
   "cell_type": "markdown",
   "metadata": {},
   "source": [
    "## Using re.match\n",
    "            - It helps to identify patterns at the starting of string\n",
    "            - B default it is case senstive"
   ]
  },
  {
   "cell_type": "code",
   "execution_count": 4,
   "metadata": {},
   "outputs": [
    {
     "name": "stdout",
     "output_type": "stream",
     "text": [
      "target_string.find(search_string)  =-1\n",
      "search_string in target_string =False\n"
     ]
    }
   ],
   "source": [
    "target_string = \"Python is a programming Langugae\"\n",
    "search_string = \"python\"\n",
    "print(f\"{target_string.find(search_string)  =}\")\n",
    "print(f\"{search_string in target_string =}\")\n",
    "\n",
    "#output\n",
    "# find will return -1 beacuse there is no 'p' in search_sting\n",
    "# in will give false bcuz p and P are different in string"
   ]
  },
  {
   "cell_type": "code",
   "execution_count": 5,
   "metadata": {},
   "outputs": [
    {
     "name": "stdout",
     "output_type": "stream",
     "text": [
      "target_string.find(search_string)  =0\n",
      "search_string in target_string =True\n"
     ]
    }
   ],
   "source": [
    "target_string = \"Python is a programming Langugae\"\n",
    "search_string = \"Python\"\n",
    "print(f\"{target_string.find(search_string)  =}\")\n",
    "print(f\"{search_string in target_string =}\")"
   ]
  },
  {
   "cell_type": "code",
   "execution_count": 6,
   "metadata": {},
   "outputs": [
    {
     "data": {
      "text/plain": [
       "re.compile(r'Python', re.UNICODE)"
      ]
     },
     "execution_count": 6,
     "metadata": {},
     "output_type": "execute_result"
    }
   ],
   "source": [
    "re.compile(search_string)"
   ]
  },
  {
   "cell_type": "code",
   "execution_count": 7,
   "metadata": {},
   "outputs": [
    {
     "name": "stdout",
     "output_type": "stream",
     "text": [
      "(re.compile('Python'), <class 're.Pattern'>)\n"
     ]
    }
   ],
   "source": [
    "# by storing in object\n",
    "re_obj = re.compile(search_string)\n",
    "print(f\"{re_obj,type(re_obj)}\")"
   ]
  },
  {
   "cell_type": "code",
   "execution_count": 8,
   "metadata": {},
   "outputs": [
    {
     "name": "stdout",
     "output_type": "stream",
     "text": [
      "result =<re.Match object; span=(0, 6), match='Python'>\n"
     ]
    }
   ],
   "source": [
    "result =  re_obj.match(search_string)\n",
    "print(f\"{result =}\")"
   ]
  },
  {
   "cell_type": "markdown",
   "metadata": {},
   "source": [
    "## To consolidate the data"
   ]
  },
  {
   "cell_type": "code",
   "execution_count": 9,
   "metadata": {},
   "outputs": [
    {
     "name": "stdout",
     "output_type": "stream",
     "text": [
      "target_string.find(search_string)  =-1\n",
      "search_string in target_string =False\n",
      "result =None\n"
     ]
    }
   ],
   "source": [
    "target_string = \"Python is a programming Langugae\"\n",
    "search_string = \"python\"\n",
    "print(f\"{target_string.find(search_string)  =}\")\n",
    "print(f\"{search_string in target_string =}\")\n",
    "\n",
    "\n",
    "\n",
    "re_obj = re.compile(search_string)\n",
    "result = re_obj.match(target_string)\n",
    "print(f\"{result =}\")"
   ]
  },
  {
   "cell_type": "code",
   "execution_count": 10,
   "metadata": {},
   "outputs": [
    {
     "name": "stdout",
     "output_type": "stream",
     "text": [
      "target_string.find(search_string)  =0\n",
      "search_string in target_string =True\n",
      "result =<re.Match object; span=(0, 6), match='Python'>\n"
     ]
    }
   ],
   "source": [
    "target_string = \"Python is a programming Langugae\"\n",
    "search_string = \"Python\"\n",
    "print(f\"{target_string.find(search_string)  =}\")\n",
    "print(f\"{search_string in target_string =}\")\n",
    "\n",
    "re_obj = re.compile(search_string)\n",
    "result = re_obj.match(target_string)\n",
    "print(f\"{result =}\")"
   ]
  },
  {
   "cell_type": "code",
   "execution_count": 11,
   "metadata": {},
   "outputs": [
    {
     "name": "stdout",
     "output_type": "stream",
     "text": [
      "result.group():result.group()    ='Python'\n",
      "result.span():result.span()    =(0, 6)\n",
      "result.start():result.start()  =0\n",
      "result.end():result.end()  =6\n"
     ]
    }
   ],
   "source": [
    "if result:\n",
    "    print(f\"result.group():{result.group()    =}\")\n",
    "    print(f\"result.span():{result.span()    =}\")\n",
    "    print(f\"result.start():{result.start()  =}\")\n",
    "    print(f\"result.end():{result.end()  =}\")\n",
    "else:\n",
    "    print(\"No match founds\")"
   ]
  },
  {
   "cell_type": "code",
   "execution_count": 12,
   "metadata": {},
   "outputs": [
    {
     "name": "stdout",
     "output_type": "stream",
     "text": [
      "target_string.find(search_string)  =0\n",
      "search_string in target_string =True\n",
      "result.group():result.group()    ='Python'\n",
      "result.span():result.span()    =(0, 6)\n",
      "result.start():result.start()  =0\n",
      "result.end():result.end()  =6\n"
     ]
    }
   ],
   "source": [
    "target_string = \"Python is a programming Langugae\"\n",
    "search_string = \"Python\"\n",
    "print(f\"{target_string.find(search_string)  =}\")\n",
    "print(f\"{search_string in target_string =}\")\n",
    "\n",
    "re_obj = re.compile(search_string)\n",
    "result = re_obj.match(target_string)\n",
    "\n",
    "if result:\n",
    "    print(f\"result.group():{result.group()    =}\")\n",
    "    print(f\"result.span():{result.span()    =}\")\n",
    "    print(f\"result.start():{result.start()  =}\")\n",
    "    print(f\"result.end():{result.end()  =}\")\n",
    "else:\n",
    "    print(\"No match founds\")\n"
   ]
  },
  {
   "cell_type": "markdown",
   "metadata": {},
   "source": [
    "## reg.Igonorecase"
   ]
  },
  {
   "cell_type": "code",
   "execution_count": 13,
   "metadata": {},
   "outputs": [
    {
     "name": "stdout",
     "output_type": "stream",
     "text": [
      "\n",
      " serach_stting python\n",
      "target_string.lower().find(search_string.lower())  =0\n",
      "search_string.lower() in target_string.lower() =True\n",
      "\n",
      "re.compile('python', re.IGNORECASE) <class 're.Pattern'>\n",
      "result =<re.Match object; span=(0, 6), match='Python'>\n",
      "result.group():result.group()    ='Python'\n",
      "result.span():result.span()    =(0, 6)\n",
      "result.start():result.start()  =0\n",
      "result.end():result.end()  =6\n",
      "\n",
      " serach_stting Python\n",
      "target_string.lower().find(search_string.lower())  =0\n",
      "search_string.lower() in target_string.lower() =True\n",
      "\n",
      "re.compile('Python', re.IGNORECASE) <class 're.Pattern'>\n",
      "result =<re.Match object; span=(0, 6), match='Python'>\n",
      "result.group():result.group()    ='Python'\n",
      "result.span():result.span()    =(0, 6)\n",
      "result.start():result.start()  =0\n",
      "result.end():result.end()  =6\n",
      "\n",
      " serach_stting PYTHON\n",
      "target_string.lower().find(search_string.lower())  =0\n",
      "search_string.lower() in target_string.lower() =True\n",
      "\n",
      "re.compile('PYTHON', re.IGNORECASE) <class 're.Pattern'>\n",
      "result =<re.Match object; span=(0, 6), match='Python'>\n",
      "result.group():result.group()    ='Python'\n",
      "result.span():result.span()    =(0, 6)\n",
      "result.start():result.start()  =0\n",
      "result.end():result.end()  =6\n",
      "\n",
      " serach_stting PYThon\n",
      "target_string.lower().find(search_string.lower())  =0\n",
      "search_string.lower() in target_string.lower() =True\n",
      "\n",
      "re.compile('PYThon', re.IGNORECASE) <class 're.Pattern'>\n",
      "result =<re.Match object; span=(0, 6), match='Python'>\n",
      "result.group():result.group()    ='Python'\n",
      "result.span():result.span()    =(0, 6)\n",
      "result.start():result.start()  =0\n",
      "result.end():result.end()  =6\n"
     ]
    }
   ],
   "source": [
    "target_string = \"Python is a programming Langugae\"\n",
    "\n",
    "for search_string in (\"python\",\"Python\",\"PYTHON\",\"PYThon\"):\n",
    "    print(\"\\n serach_stting\",search_string)\n",
    "\n",
    "# print(f\"{target_string.find(search_string)  =}\")\n",
    "# print(f\"{search_string in target_string =}\")\n",
    "    print(f\"{target_string.lower().find(search_string.lower())  =}\")\n",
    "    print(f\"{search_string.lower() in target_string.lower() =}\")\n",
    "    print()\n",
    "\n",
    "    re_obj = re.compile(search_string,re.I)#Re.Ignorecase function is to justfiy the result whether it is needed or not\n",
    "    print(re_obj,type(re_obj)) \n",
    "    result = re_obj.match(target_string)\n",
    "    print(f\"{result =}\")\n",
    "\n",
    "    if result:\n",
    "     print(f\"result.group():{result.group()    =}\")\n",
    "     print(f\"result.span():{result.span()    =}\")\n",
    "     print(f\"result.start():{result.start()  =}\")\n",
    "     print(f\"result.end():{result.end()  =}\")\n",
    "    else:\n",
    "     print(\"No match founds\")\n",
    "\n"
   ]
  },
  {
   "cell_type": "markdown",
   "metadata": {},
   "source": [
    "### re.search\n",
    "\n",
    "Using re.match()\n",
    "   -It helps to identify patterns at the starting of the string\n",
    "   \n",
    "Using re.search()\n",
    "   -It helps to identify patterns ANYWHERE on the string. "
   ]
  },
  {
   "cell_type": "code",
   "execution_count": 14,
   "metadata": {},
   "outputs": [
    {
     "name": "stdout",
     "output_type": "stream",
     "text": [
      "result.group():Python\n"
     ]
    }
   ],
   "source": [
    "target_string = \"Python is a programming Langugae\"\n",
    "search_string = \"Python\"\n",
    "\n",
    "re_obj = re.compile(search_string)\n",
    "result = re_obj.match(target_string)\n",
    "\n",
    "if result:\n",
    "    print(f\"result.group():{result.group()}\")\n",
    "else:\n",
    "    print(\"No match founds\")"
   ]
  },
  {
   "cell_type": "code",
   "execution_count": 15,
   "metadata": {},
   "outputs": [
    {
     "name": "stdout",
     "output_type": "stream",
     "text": [
      "No match founds\n"
     ]
    }
   ],
   "source": [
    "# giving wide space\n",
    "target_string = \"  Python is a programming Langugae\"\n",
    "search_string = \"Python\"\n",
    "\n",
    "re_obj = re.compile(search_string)\n",
    "result = re_obj.match(target_string)\n",
    "\n",
    "if result:\n",
    "    print(f\"result.group():{result.group()}\")\n",
    "else:\n",
    "    print(\"No match founds\")"
   ]
  },
  {
   "cell_type": "code",
   "execution_count": 16,
   "metadata": {},
   "outputs": [
    {
     "name": "stdout",
     "output_type": "stream",
     "text": [
      "result.group():Python\n"
     ]
    }
   ],
   "source": [
    "#using search\n",
    "target_string = \"is a programming Python Langugae\"\n",
    "search_string = \"Python\"\n",
    "\n",
    "re_obj = re.compile(search_string)\n",
    "result = re_obj.search(target_string)\n",
    "\n",
    "if result:\n",
    "    print(f\"result.group():{result.group()}\")\n",
    "else:\n",
    "    print(\"No match founds\")"
   ]
  },
  {
   "cell_type": "code",
   "execution_count": 17,
   "metadata": {},
   "outputs": [
    {
     "name": "stdout",
     "output_type": "stream",
     "text": [
      "result.group():Python\n"
     ]
    }
   ],
   "source": [
    "#using search giving widespace also gives output without error\n",
    "target_string = \"    is a  Python programming  Langugae\"\n",
    "search_string = \"Python\"\n",
    "\n",
    "re_obj = re.compile(search_string)\n",
    "result = re_obj.search(target_string)\n",
    "\n",
    "if result:\n",
    "    print(f\"result.group():{result.group()}\")\n",
    "else:\n",
    "    print(\"No match founds\")"
   ]
  },
  {
   "cell_type": "markdown",
   "metadata": {},
   "source": [
    "## Two ways of regex in python"
   ]
  },
  {
   "cell_type": "code",
   "execution_count": 18,
   "metadata": {},
   "outputs": [
    {
     "name": "stdout",
     "output_type": "stream",
     "text": [
      "result =<re.Match object; span=(10, 16), match='Python'>\n",
      "result =<re.Match object; span=(23, 29), match='PyTHON'>\n"
     ]
    }
   ],
   "source": [
    "#Method 1\n",
    "# re_obj = re.compile(search_string,re.I)\n",
    "#     print(re_obj,type(re_obj)) \n",
    "#     result = re_obj.match(target_string)\n",
    "\n",
    "# Method 2 # identifyes word anywhere in the sentence\n",
    "result = re.search(search_string,target_string,re.I)\n",
    "print(f\"{result =}\")\n",
    "result = re.search(\"pyTHON\",\"Programming is good in PyTHON\",re.I)\n",
    "print(f\"{result =}\")"
   ]
  },
  {
   "cell_type": "code",
   "execution_count": 19,
   "metadata": {},
   "outputs": [
    {
     "name": "stdout",
     "output_type": "stream",
     "text": [
      "result =<re.Match object; span=(23, 29), match='PyTHON'>\n",
      "result =None\n"
     ]
    }
   ],
   "source": [
    "esult = re.match(search_string,target_string,re.I)\n",
    "print(f\"{result =}\")\n",
    "result = re.match(\"pyTHON\",\"Programming is good in PyTHON\",re.I)\n",
    "print(f\"{result =}\")"
   ]
  },
  {
   "cell_type": "markdown",
   "metadata": {},
   "source": [
    "## Regex Oualifiers"
   ]
  },
  {
   "cell_type": "markdown",
   "metadata": {},
   "source": [
    "Question: How to make re.serach() to work like re.match()\n",
    "\n",
    "pattern\n",
    "^   To make to check at the start of the string\n",
    "$   To make to check at the end of the string\n",
    "\n",
    "    "
   ]
  },
  {
   "cell_type": "code",
   "execution_count": 20,
   "metadata": {},
   "outputs": [
    {
     "name": "stdout",
     "output_type": "stream",
     "text": [
      "result =<re.Match object; span=(23, 29), match='PYTHon'>\n"
     ]
    }
   ],
   "source": [
    "result = re.search(\"pyTHON\",\"Programming is good in PYTHon\",re.I)\n",
    "print(f\"{result =}\")"
   ]
  },
  {
   "cell_type": "code",
   "execution_count": 21,
   "metadata": {},
   "outputs": [
    {
     "name": "stdout",
     "output_type": "stream",
     "text": [
      "result =<re.Match object; span=(23, 29), match='PYTHon'>\n"
     ]
    }
   ],
   "source": [
    "# to enforce search at the end \n",
    "result = re.search(\"pyTHON$\",\"Programming is good in PYTHon\",re.I)\n",
    "print(f\"{result =}\")"
   ]
  },
  {
   "cell_type": "code",
   "execution_count": 22,
   "metadata": {},
   "outputs": [
    {
     "name": "stdout",
     "output_type": "stream",
     "text": [
      "result =None\n"
     ]
    }
   ],
   "source": [
    "result = re.search(\"pyTHON\",\"Programming is good in @#$%\",re.I)\n",
    "print(f\"{result =}\")\n",
    "# Gives error bcuz searching at end giving case insensitive"
   ]
  },
  {
   "cell_type": "code",
   "execution_count": 23,
   "metadata": {},
   "outputs": [
    {
     "name": "stdout",
     "output_type": "stream",
     "text": [
      "result =None\n"
     ]
    }
   ],
   "source": [
    "# To enforce search at the start\n",
    "result = re.search(\"^pyTHON\",\"Programming is good in PYTHon\",re.I)\n",
    "print(f\"{result =}\")\n",
    "# gives none bcuz python is not present at starting"
   ]
  },
  {
   "cell_type": "code",
   "execution_count": 24,
   "metadata": {},
   "outputs": [
    {
     "name": "stdout",
     "output_type": "stream",
     "text": [
      "result =None\n"
     ]
    }
   ],
   "source": [
    "result = re.match(\"^pyTHON\",\"Programming is good in PYTHon\",re.I)\n",
    "print(f\"{result =}\")\n",
    "# gives none bcuz python is not present at starting and match checks at the starting of string only"
   ]
  },
  {
   "cell_type": "code",
   "execution_count": 25,
   "metadata": {},
   "outputs": [
    {
     "name": "stdout",
     "output_type": "stream",
     "text": [
      "result =<re.Match object; span=(0, 6), match='PYTHon'>\n"
     ]
    }
   ],
   "source": [
    "result = re.search(\"^pyTHON\",\"PYTHon Programming is good in \",re.I)\n",
    "print(f\"{result =}\")\n",
    "\n",
    "# We are making re.search works like re.match by suing '^'%%\n",
    "# which makes to search at the starting same like match"
   ]
  },
  {
   "cell_type": "code",
   "execution_count": 26,
   "metadata": {},
   "outputs": [
    {
     "name": "stdout",
     "output_type": "stream",
     "text": [
      "result =<re.Match object; span=(0, 6), match='PYTHon'>\n"
     ]
    }
   ],
   "source": [
    "result = re.match(\"pyTHON\",\"PYTHon Programming is good in \",re.I)\n",
    "print(f\"{result =}\")"
   ]
  },
  {
   "cell_type": "markdown",
   "metadata": {},
   "source": [
    "## pattern\n",
    "\n",
    "^   To make to check at the start of the string\n",
    "$   To make to check at the end of the string\n",
    "\n",
    "\\A | Matches the expression to its right at the absolute start of a string whether in single or multi-line mode.\n",
    "\n",
    "\\z | Matches the expression to its left at the absolute end of a string whether in single or multi-line mode."
   ]
  },
  {
   "cell_type": "code",
   "execution_count": 27,
   "metadata": {},
   "outputs": [
    {
     "name": "stdout",
     "output_type": "stream",
     "text": [
      "\n",
      "result:None\n",
      "\n",
      "result:<re.Match object; span=(6, 9), match='abc'>\n",
      "result.group()abc\n",
      "\n",
      "\n",
      "result:<re.Match object; span=(0, 3), match='ABC'>\n",
      "result.group():ABC\n"
     ]
    }
   ],
   "source": [
    "# Method 1 - using ^ and $\n",
    "\n",
    "result = re.search(\"abc$\",\"ABC123abcd\",re.I)# checks in the end \n",
    "print(f\"\\nresult:{result}\")\n",
    "\n",
    "result = re.search(\"abc$\",\"ABC123abc\",re.I)# checks in the end \n",
    "print(f\"\\nresult:{result}\")\n",
    "if result:\n",
    "    print(f\"result.group(){result.group()}\")\n",
    "print()\n",
    "\n",
    "result = re.search(\"^abc\",\"ABC123abc\",re.I)# checks in the start\n",
    "print(f\"\\nresult:{result}\")\n",
    "if result:\n",
    "  print(f\"result.group():{result.group()}\")\n"
   ]
  },
  {
   "cell_type": "code",
   "execution_count": 28,
   "metadata": {},
   "outputs": [
    {
     "name": "stdout",
     "output_type": "stream",
     "text": [
      "\n",
      "result:<re.Match object; span=(6, 9), match='abc'>\n",
      "result.group():abc\n",
      "\n",
      "result:<re.Match object; span=(0, 3), match='ABC'>\n",
      "result.group():ABC\n"
     ]
    }
   ],
   "source": [
    "# Method 2 - using \\A and \\Z\n",
    "\n",
    "result = re.search(r\"abc\\Z\",\"ABC123abc\",re.I)# checks in the end\n",
    "print(f\"\\nresult:{result}\")\n",
    "if result:\n",
    "  print(f\"result.group():{result.group()}\")\n",
    "\n",
    "\n",
    "result = re.search(r\"\\Aabc\",\"ABC123abc\",re.I)# checks in the start\n",
    "print(f\"\\nresult:{result}\")\n",
    "if result:\n",
    "  print(f\"result.group():{result.group()}\")"
   ]
  },
  {
   "cell_type": "markdown",
   "metadata": {},
   "source": [
    "### To limit patteren characters\n",
    "\n",
    "Question: How to you specify no. the characters from the target string.\n",
    "\n",
    "    Pattern\n",
    "        ^   To make to check at the start of the string\n",
    "        $   To make to check at the end of the string\n",
    "        .   To get any character except the newline\\n character."
   ]
  },
  {
   "cell_type": "code",
   "execution_count": 29,
   "metadata": {},
   "outputs": [
    {
     "name": "stdout",
     "output_type": "stream",
     "text": [
      "result.group():PyTHO\n"
     ]
    }
   ],
   "source": [
    "# To get 5 charcters,(default is from starting the  string)\n",
    "result = re.search(\".....\",\"PyTHOn programming is good\",re.I) \n",
    "if result:\n",
    "    print(f\"result.group():{result.group()}\")"
   ]
  },
  {
   "cell_type": "code",
   "execution_count": 30,
   "metadata": {},
   "outputs": [
    {
     "name": "stdout",
     "output_type": "stream",
     "text": [
      "result.group():PyTHO\n"
     ]
    }
   ],
   "source": [
    "# To get 5 charcters from starting the  string\n",
    "result = re.search(\"^.....\",\"PyTHOn programming is good\",re.I) \n",
    "if result:\n",
    "    print(f\"result.group():{result.group()}\")"
   ]
  },
  {
   "cell_type": "code",
   "execution_count": 33,
   "metadata": {},
   "outputs": [
    {
     "name": "stdout",
     "output_type": "stream",
     "text": [
      "result.group(): good\n"
     ]
    }
   ],
   "source": [
    "# To get 5 charcters from end of  the  string\n",
    "result = re.search(\".....$\",\"PyTHOn programming is good\",re.I) \n",
    "if result:\n",
    "    print(f\"result.group():{result.group()}\")"
   ]
  },
  {
   "cell_type": "code",
   "execution_count": 56,
   "metadata": {},
   "outputs": [
    {
     "name": "stdout",
     "output_type": "stream",
     "text": [
      "result:result  =None\n"
     ]
    }
   ],
   "source": [
    "# To get the target string with 5 charcters only\n",
    "result = re.search(\"^.....$\",\"PyTHOn programming is good\",re.I) \n",
    "print(f\"result:{result  =}\")#None(output)"
   ]
  },
  {
   "cell_type": "code",
   "execution_count": 54,
   "metadata": {},
   "outputs": [
    {
     "name": "stdout",
     "output_type": "stream",
     "text": [
      "result:<re.Match object; span=(0, 4), match='PyTH'>\n"
     ]
    }
   ],
   "source": [
    "# To get the target string with 4 charcters only\n",
    "result = re.search(\"^....$\", \"PyTH\" ,re.I) \n",
    "print(f\"result:{result}\")#None(output)"
   ]
  },
  {
   "cell_type": "code",
   "execution_count": 58,
   "metadata": {},
   "outputs": [
    {
     "name": "stdout",
     "output_type": "stream",
     "text": [
      "result:result  =<re.Match object; span=(0, 5), match='Sanju'>\n",
      "\n",
      "result:result  =<re.Match object; span=(0, 5), match='Sanju'>\n"
     ]
    },
    {
     "name": "stderr",
     "output_type": "stream",
     "text": [
      "<>:6: SyntaxWarning: invalid escape sequence '\\A'\n",
      "<>:6: SyntaxWarning: invalid escape sequence '\\A'\n",
      "/tmp/ipykernel_2000/3492801793.py:6: SyntaxWarning: invalid escape sequence '\\A'\n",
      "  result = re.search(\"\\A.....\\Z\",\"Sanju\",re.I)\n"
     ]
    }
   ],
   "source": [
    "# To get the target string with 5 charcters only\n",
    "result = re.search(\"^.....$\",\"Sanju\",re.I) \n",
    "print(f\"result:{result  =}\")\n",
    "print()\n",
    "\n",
    "result = re.search(\"\\A.....\\Z\",\"Sanju\",re.I) \n",
    "print(f\"result:{result  =}\")"
   ]
  },
  {
   "cell_type": "code",
   "execution_count": 59,
   "metadata": {},
   "outputs": [
    {
     "name": "stdout",
     "output_type": "stream",
     "text": [
      "result:result  =None\n",
      "\n",
      "result:result  =None\n"
     ]
    },
    {
     "name": "stderr",
     "output_type": "stream",
     "text": [
      "<>:6: SyntaxWarning: invalid escape sequence '\\A'\n",
      "<>:6: SyntaxWarning: invalid escape sequence '\\A'\n",
      "/tmp/ipykernel_2000/467843258.py:6: SyntaxWarning: invalid escape sequence '\\A'\n",
      "  result = re.search(\"\\A.....\\Z\",\"Sanjay\",re.I)\n"
     ]
    }
   ],
   "source": [
    "# To get the target string with 5 charcters only\n",
    "result = re.search(\"^.....$\",\"Sanjay\",re.I) \n",
    "print(f\"result:{result  =}\")\n",
    "print()\n",
    "\n",
    "result = re.search(\"\\A.....\\Z\",\"Sanjay\",re.I) \n",
    "print(f\"result:{result  =}\")"
   ]
  },
  {
   "cell_type": "markdown",
   "metadata": {},
   "source": [
    "## Greedy Patterns\n",
    "\n",
    "    Patterns\n",
    "        *   Previous character can occurr 0 or more times.\n",
    "        +   Previous character can occur 1 or more times.\n",
    "\n",
    "        ?   previous character can occur  0 or 1 time only"
   ]
  },
  {
   "cell_type": "code",
   "execution_count": 60,
   "metadata": {},
   "outputs": [
    {
     "name": "stdout",
     "output_type": "stream",
     "text": [
      "ab\n",
      "ab\n"
     ]
    }
   ],
   "source": [
    "print(re.match(\"ab\",\"ab\").group())\n",
    "print(re.search(\"ab\",\"ab\").group())"
   ]
  },
  {
   "cell_type": "code",
   "execution_count": 102,
   "metadata": {},
   "outputs": [
    {
     "name": "stdout",
     "output_type": "stream",
     "text": [
      "a\n",
      "ab\n",
      "abb\n",
      "abbbb\n"
     ]
    }
   ],
   "source": [
    "print(re.search(\"ab*\",\"a\").group())\n",
    "print(re.search(\"ab*\",\"ab\").group())\n",
    "print(re.search(\"ab*\",\"abb\").group())\n",
    "print(re.search(\"ab*\",\"abbbb\").group())"
   ]
  },
  {
   "cell_type": "code",
   "execution_count": 78,
   "metadata": {},
   "outputs": [
    {
     "name": "stdout",
     "output_type": "stream",
     "text": [
      "bbbbbb\n",
      "aaabbbbbb\n"
     ]
    }
   ],
   "source": [
    "print(re.search(\"a*b*\",\"bbbbbb\").group()) #1st is search string and 2nd is target string\n",
    "print(re.search(\"a*b*\",\"aaabbbbbb\").group())"
   ]
  },
  {
   "cell_type": "code",
   "execution_count": 100,
   "metadata": {},
   "outputs": [
    {
     "name": "stdout",
     "output_type": "stream",
     "text": [
      "ab\n",
      "abb\n",
      "abbbb\n"
     ]
    }
   ],
   "source": [
    "print(re.search(\"ab+\",\"ab\").group())\n",
    "print(re.search(\"ab+\",\"abb\").group())\n",
    "print(re.search(\"ab+\",\"abbbb\").group())"
   ]
  },
  {
   "cell_type": "code",
   "execution_count": 98,
   "metadata": {},
   "outputs": [
    {
     "name": "stdout",
     "output_type": "stream",
     "text": [
      "abbbb\n",
      "aaabbbb\n"
     ]
    }
   ],
   "source": [
    "print(re.search(\"a+b+\",\"abbbb\").group())\n",
    "print(re.search(\"a+b+\",\"aaabbbb\").group())\n",
    "\n",
    "# print(re.search(\"a+b+\",\"bbbb\").group())\n",
    "# print(re.search(\"a+b+\",\"bbbb\").group())"
   ]
  },
  {
   "cell_type": "markdown",
   "metadata": {},
   "source": [
    "## Non-Greedy Patterns\n",
    "\n",
    "    Patterns\n",
    "        *   Previous character can occurr 0 or more times.\n",
    "        +   Previous character can occur 1 or more times.\n",
    "        ?   previous character can occur  0 or 1 time only\n",
    "\n",
    "    ? It is generally used to make patterns non-greedy"
   ]
  },
  {
   "cell_type": "code",
   "execution_count": 114,
   "metadata": {},
   "outputs": [
    {
     "name": "stdout",
     "output_type": "stream",
     "text": [
      "a\n",
      "ab\n",
      "ab\n",
      "ab\n"
     ]
    }
   ],
   "source": [
    "print(re.search(\"ab?\",\"a\").group())\n",
    "print(re.search(\"ab?\",\"ab\").group())\n",
    "print(re.search(\"ab?\",\"abbb\").group())\n",
    "print(re.search(\"ab?\",\"abbbbbbb\").group())"
   ]
  },
  {
   "cell_type": "code",
   "execution_count": 111,
   "metadata": {},
   "outputs": [
    {
     "name": "stdout",
     "output_type": "stream",
     "text": [
      "a\n",
      "ab\n",
      "ab\n"
     ]
    }
   ],
   "source": [
    "# Any charcter (except newline) can occur 0 or 1 time only)\n",
    "print(re.search(\"a.?\",\"a\").group())\n",
    "print(re.search(\"a.?\",\"ab\").group())\n",
    "print(re.search(\"a.?\",\"abbb\").group())"
   ]
  },
  {
   "cell_type": "markdown",
   "metadata": {},
   "source": [
    "## Greedy Patterns\n",
    "    .+  Any character (except a newline) can occur 1 or any no. of time \n",
    "    .*  Any character (except a newline) can occur 0 or any no. of time "
   ]
  },
  {
   "cell_type": "code",
   "execution_count": 117,
   "metadata": {},
   "outputs": [
    {
     "name": "stdout",
     "output_type": "stream",
     "text": [
      "a\n",
      "ab\n",
      "abbb\n",
      "abbbcc\n"
     ]
    }
   ],
   "source": [
    "res = re.search(\"a.*\",\"a\")\n",
    "if res:\n",
    "    res.group()\n",
    "\n",
    "print(re.search(\"a.*\",\"a\").group())\n",
    "print(re.search(\"a.*\",\"ab\").group())\n",
    "print(re.search(\"a.*\",\"abbb\").group())\n",
    "print(re.search(\"a.*\",\"abbbcc\").group())\n",
    "\n",
    "## try for + also"
   ]
  },
  {
   "cell_type": "markdown",
   "metadata": {},
   "source": [
    "## re.findall()"
   ]
  },
  {
   "cell_type": "code",
   "execution_count": 118,
   "metadata": {},
   "outputs": [
    {
     "name": "stdout",
     "output_type": "stream",
     "text": [
      "PYTHON\n",
      "PYTHON\n"
     ]
    }
   ],
   "source": [
    "print(re.match(\"Python\",\"PYTHON python PYTHon programming\",re.I).group())\n",
    "print(re.search(\"Python\",\"PYTHON python PYTHon programming\",re.I).group())"
   ]
  },
  {
   "cell_type": "code",
   "execution_count": 119,
   "metadata": {},
   "outputs": [
    {
     "name": "stdout",
     "output_type": "stream",
     "text": [
      "['PYTHON', 'python', 'PYTHon']\n"
     ]
    }
   ],
   "source": [
    "print(re.findall(\"Python\",\"PYTHON python PYTHon programming\",re.I))"
   ]
  }
 ],
 "metadata": {
  "kernelspec": {
   "display_name": "venv",
   "language": "python",
   "name": "python3"
  },
  "language_info": {
   "codemirror_mode": {
    "name": "ipython",
    "version": 3
   },
   "file_extension": ".py",
   "mimetype": "text/x-python",
   "name": "python",
   "nbconvert_exporter": "python",
   "pygments_lexer": "ipython3",
   "version": "3.12.1"
  }
 },
 "nbformat": 4,
 "nbformat_minor": 2
}
