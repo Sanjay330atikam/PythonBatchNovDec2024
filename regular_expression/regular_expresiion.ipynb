{
 "cells": [
  {
   "cell_type": "markdown",
   "metadata": {},
   "source": [
    "## Regular Expression- If we want anything to seacrh and it have special charcters with same words\n",
    "                      Then we can use regualar expressions\n",
    "\n",
    "                      Example : Python@programming\n",
    "                                pythonprogrammin@2344\n",
    "                                python_pro@.co.in\n",
    "\n",
    "                                It has all python words but to specific only 1st one we can use re"
   ]
  },
  {
   "cell_type": "code",
   "execution_count": 3,
   "metadata": {},
   "outputs": [],
   "source": [
    "import re\n"
   ]
  },
  {
   "cell_type": "code",
   "execution_count": 4,
   "metadata": {},
   "outputs": [
    {
     "data": {
      "text/plain": [
       "['A',\n",
       " 'ASCII',\n",
       " 'DEBUG',\n",
       " 'DOTALL',\n",
       " 'I',\n",
       " 'IGNORECASE',\n",
       " 'L',\n",
       " 'LOCALE',\n",
       " 'M',\n",
       " 'MULTILINE',\n",
       " 'Match',\n",
       " 'NOFLAG',\n",
       " 'Pattern',\n",
       " 'RegexFlag',\n",
       " 'S',\n",
       " 'Scanner',\n",
       " 'T',\n",
       " 'TEMPLATE',\n",
       " 'U',\n",
       " 'UNICODE',\n",
       " 'VERBOSE',\n",
       " 'X',\n",
       " '_MAXCACHE',\n",
       " '_MAXCACHE2',\n",
       " '__all__',\n",
       " '__builtins__',\n",
       " '__cached__',\n",
       " '__doc__',\n",
       " '__file__',\n",
       " '__loader__',\n",
       " '__name__',\n",
       " '__package__',\n",
       " '__path__',\n",
       " '__spec__',\n",
       " '__version__',\n",
       " '_cache',\n",
       " '_cache2',\n",
       " '_casefix',\n",
       " '_compile',\n",
       " '_compile_template',\n",
       " '_compiler',\n",
       " '_constants',\n",
       " '_parser',\n",
       " '_pickle',\n",
       " '_special_chars_map',\n",
       " '_sre',\n",
       " 'compile',\n",
       " 'copyreg',\n",
       " 'enum',\n",
       " 'error',\n",
       " 'escape',\n",
       " 'findall',\n",
       " 'finditer',\n",
       " 'fullmatch',\n",
       " 'functools',\n",
       " 'match',\n",
       " 'purge',\n",
       " 'search',\n",
       " 'split',\n",
       " 'sub',\n",
       " 'subn',\n",
       " 'template']"
      ]
     },
     "execution_count": 4,
     "metadata": {},
     "output_type": "execute_result"
    }
   ],
   "source": [
    "dir(re)"
   ]
  },
  {
   "cell_type": "markdown",
   "metadata": {},
   "source": [
    "## Using re.match\n",
    "            - It helps to identify patterns at the starting of string\n",
    "            - B default it is case senstive"
   ]
  },
  {
   "cell_type": "code",
   "execution_count": 5,
   "metadata": {},
   "outputs": [
    {
     "name": "stdout",
     "output_type": "stream",
     "text": [
      "target_string.find(search_string)  =-1\n",
      "search_string in target_string =False\n"
     ]
    }
   ],
   "source": [
    "target_string = \"Python is a programming Langugae\"\n",
    "search_string = \"python\"\n",
    "print(f\"{target_string.find(search_string)  =}\")\n",
    "print(f\"{search_string in target_string =}\")\n",
    "\n",
    "#output\n",
    "# find will return -1 beacuse there is no 'p' in search_sting\n",
    "# in will give false bcuz p and P are different in string"
   ]
  },
  {
   "cell_type": "code",
   "execution_count": 6,
   "metadata": {},
   "outputs": [
    {
     "name": "stdout",
     "output_type": "stream",
     "text": [
      "target_string.find(search_string)  =0\n",
      "search_string in target_string =True\n"
     ]
    }
   ],
   "source": [
    "target_string = \"Python is a programming Langugae\"\n",
    "search_string = \"Python\"\n",
    "print(f\"{target_string.find(search_string)  =}\")\n",
    "print(f\"{search_string in target_string =}\")"
   ]
  },
  {
   "cell_type": "code",
   "execution_count": 7,
   "metadata": {},
   "outputs": [
    {
     "data": {
      "text/plain": [
       "re.compile(r'Python', re.UNICODE)"
      ]
     },
     "execution_count": 7,
     "metadata": {},
     "output_type": "execute_result"
    }
   ],
   "source": [
    "re.compile(search_string)"
   ]
  },
  {
   "cell_type": "code",
   "execution_count": 8,
   "metadata": {},
   "outputs": [
    {
     "name": "stdout",
     "output_type": "stream",
     "text": [
      "(re.compile('Python'), <class 're.Pattern'>)\n"
     ]
    }
   ],
   "source": [
    "# by storing in object\n",
    "re_obj = re.compile(search_string)\n",
    "print(f\"{re_obj,type(re_obj)}\")"
   ]
  },
  {
   "cell_type": "code",
   "execution_count": 9,
   "metadata": {},
   "outputs": [
    {
     "name": "stdout",
     "output_type": "stream",
     "text": [
      "result =<re.Match object; span=(0, 6), match='Python'>\n"
     ]
    }
   ],
   "source": [
    "result =  re_obj.match(search_string)\n",
    "print(f\"{result =}\")"
   ]
  },
  {
   "cell_type": "markdown",
   "metadata": {},
   "source": [
    "## To consolidate the data"
   ]
  },
  {
   "cell_type": "code",
   "execution_count": 10,
   "metadata": {},
   "outputs": [
    {
     "name": "stdout",
     "output_type": "stream",
     "text": [
      "target_string.find(search_string)  =-1\n",
      "search_string in target_string =False\n",
      "result =None\n"
     ]
    }
   ],
   "source": [
    "target_string = \"Python is a programming Langugae\"\n",
    "search_string = \"python\"\n",
    "print(f\"{target_string.find(search_string)  =}\")\n",
    "print(f\"{search_string in target_string =}\")\n",
    "\n",
    "\n",
    "\n",
    "re_obj = re.compile(search_string)\n",
    "result = re_obj.match(target_string)\n",
    "print(f\"{result =}\")"
   ]
  },
  {
   "cell_type": "code",
   "execution_count": 11,
   "metadata": {},
   "outputs": [
    {
     "name": "stdout",
     "output_type": "stream",
     "text": [
      "target_string.find(search_string)  =0\n",
      "search_string in target_string =True\n",
      "result =<re.Match object; span=(0, 6), match='Python'>\n"
     ]
    }
   ],
   "source": [
    "target_string = \"Python is a programming Langugae\"\n",
    "search_string = \"Python\"\n",
    "print(f\"{target_string.find(search_string)  =}\")\n",
    "print(f\"{search_string in target_string =}\")\n",
    "\n",
    "re_obj = re.compile(search_string)\n",
    "result = re_obj.match(target_string)\n",
    "print(f\"{result =}\")"
   ]
  },
  {
   "cell_type": "code",
   "execution_count": 13,
   "metadata": {},
   "outputs": [
    {
     "name": "stdout",
     "output_type": "stream",
     "text": [
      "result.group():result.group()    ='Python'\n",
      "result.span():result.span()    =(0, 6)\n",
      "result.start():result.start()  =0\n",
      "result.end():result.end()  =6\n"
     ]
    }
   ],
   "source": [
    "if result:\n",
    "    print(f\"result.group():{result.group()    =}\")\n",
    "    print(f\"result.span():{result.span()    =}\")\n",
    "    print(f\"result.start():{result.start()  =}\")\n",
    "    print(f\"result.end():{result.end()  =}\")\n",
    "else:\n",
    "    print(\"No match founds\")"
   ]
  },
  {
   "cell_type": "code",
   "execution_count": 14,
   "metadata": {},
   "outputs": [
    {
     "name": "stdout",
     "output_type": "stream",
     "text": [
      "target_string.find(search_string)  =0\n",
      "search_string in target_string =True\n",
      "result.group():result.group()    ='Python'\n",
      "result.span():result.span()    =(0, 6)\n",
      "result.start():result.start()  =0\n",
      "result.end():result.end()  =6\n"
     ]
    }
   ],
   "source": [
    "target_string = \"Python is a programming Langugae\"\n",
    "search_string = \"Python\"\n",
    "print(f\"{target_string.find(search_string)  =}\")\n",
    "print(f\"{search_string in target_string =}\")\n",
    "\n",
    "re_obj = re.compile(search_string)\n",
    "result = re_obj.match(target_string)\n",
    "\n",
    "if result:\n",
    "    print(f\"result.group():{result.group()    =}\")\n",
    "    print(f\"result.span():{result.span()    =}\")\n",
    "    print(f\"result.start():{result.start()  =}\")\n",
    "    print(f\"result.end():{result.end()  =}\")\n",
    "else:\n",
    "    print(\"No match founds\")\n"
   ]
  },
  {
   "cell_type": "markdown",
   "metadata": {},
   "source": [
    "## reg.Igonorecase"
   ]
  },
  {
   "cell_type": "code",
   "execution_count": 21,
   "metadata": {},
   "outputs": [
    {
     "name": "stdout",
     "output_type": "stream",
     "text": [
      "\n",
      " serach_stting python\n",
      "target_string.lower().find(search_string.lower())  =0\n",
      "search_string.lower() in target_string.lower() =True\n",
      "\n",
      "re.compile('python', re.IGNORECASE) <class 're.Pattern'>\n",
      "result =<re.Match object; span=(0, 6), match='Python'>\n",
      "result.group():result.group()    ='Python'\n",
      "result.span():result.span()    =(0, 6)\n",
      "result.start():result.start()  =0\n",
      "result.end():result.end()  =6\n",
      "\n",
      " serach_stting Python\n",
      "target_string.lower().find(search_string.lower())  =0\n",
      "search_string.lower() in target_string.lower() =True\n",
      "\n",
      "re.compile('Python', re.IGNORECASE) <class 're.Pattern'>\n",
      "result =<re.Match object; span=(0, 6), match='Python'>\n",
      "result.group():result.group()    ='Python'\n",
      "result.span():result.span()    =(0, 6)\n",
      "result.start():result.start()  =0\n",
      "result.end():result.end()  =6\n",
      "\n",
      " serach_stting PYTHON\n",
      "target_string.lower().find(search_string.lower())  =0\n",
      "search_string.lower() in target_string.lower() =True\n",
      "\n",
      "re.compile('PYTHON', re.IGNORECASE) <class 're.Pattern'>\n",
      "result =<re.Match object; span=(0, 6), match='Python'>\n",
      "result.group():result.group()    ='Python'\n",
      "result.span():result.span()    =(0, 6)\n",
      "result.start():result.start()  =0\n",
      "result.end():result.end()  =6\n",
      "\n",
      " serach_stting PYThon\n",
      "target_string.lower().find(search_string.lower())  =0\n",
      "search_string.lower() in target_string.lower() =True\n",
      "\n",
      "re.compile('PYThon', re.IGNORECASE) <class 're.Pattern'>\n",
      "result =<re.Match object; span=(0, 6), match='Python'>\n",
      "result.group():result.group()    ='Python'\n",
      "result.span():result.span()    =(0, 6)\n",
      "result.start():result.start()  =0\n",
      "result.end():result.end()  =6\n"
     ]
    }
   ],
   "source": [
    "target_string = \"Python is a programming Langugae\"\n",
    "\n",
    "for search_string in (\"python\",\"Python\",\"PYTHON\",\"PYThon\"):\n",
    "    print(\"\\n serach_stting\",search_string)\n",
    "\n",
    "# print(f\"{target_string.find(search_string)  =}\")\n",
    "# print(f\"{search_string in target_string =}\")\n",
    "    print(f\"{target_string.lower().find(search_string.lower())  =}\")\n",
    "    print(f\"{search_string.lower() in target_string.lower() =}\")\n",
    "    print()\n",
    "\n",
    "    re_obj = re.compile(search_string,re.I)#Re.Ignorecase function is to justfiy the result whether it is needed or not\n",
    "    print(re_obj,type(re_obj)) \n",
    "    result = re_obj.match(target_string)\n",
    "    print(f\"{result =}\")\n",
    "\n",
    "    if result:\n",
    "     print(f\"result.group():{result.group()    =}\")\n",
    "     print(f\"result.span():{result.span()    =}\")\n",
    "     print(f\"result.start():{result.start()  =}\")\n",
    "     print(f\"result.end():{result.end()  =}\")\n",
    "    else:\n",
    "     print(\"No match founds\")\n",
    "\n"
   ]
  },
  {
   "cell_type": "markdown",
   "metadata": {},
   "source": [
    "### re.search\n",
    "\n",
    "Using re.match()\n",
    "   -It helps to identify patterns at the starting of the string\n",
    "   \n",
    "Using re.search()\n",
    "   -It helps to identify patterns ANYWHERE on the string. "
   ]
  },
  {
   "cell_type": "code",
   "execution_count": 22,
   "metadata": {},
   "outputs": [
    {
     "name": "stdout",
     "output_type": "stream",
     "text": [
      "result.group():Python\n"
     ]
    }
   ],
   "source": [
    "target_string = \"Python is a programming Langugae\"\n",
    "search_string = \"Python\"\n",
    "\n",
    "re_obj = re.compile(search_string)\n",
    "result = re_obj.match(target_string)\n",
    "\n",
    "if result:\n",
    "    print(f\"result.group():{result.group()}\")\n",
    "else:\n",
    "    print(\"No match founds\")"
   ]
  },
  {
   "cell_type": "code",
   "execution_count": 23,
   "metadata": {},
   "outputs": [
    {
     "name": "stdout",
     "output_type": "stream",
     "text": [
      "No match founds\n"
     ]
    }
   ],
   "source": [
    "# giving wide space\n",
    "target_string = \"  Python is a programming Langugae\"\n",
    "search_string = \"Python\"\n",
    "\n",
    "re_obj = re.compile(search_string)\n",
    "result = re_obj.match(target_string)\n",
    "\n",
    "if result:\n",
    "    print(f\"result.group():{result.group()}\")\n",
    "else:\n",
    "    print(\"No match founds\")"
   ]
  },
  {
   "cell_type": "code",
   "execution_count": 26,
   "metadata": {},
   "outputs": [
    {
     "name": "stdout",
     "output_type": "stream",
     "text": [
      "result.group():Python\n"
     ]
    }
   ],
   "source": [
    "#using search\n",
    "target_string = \"is a programming Python Langugae\"\n",
    "search_string = \"Python\"\n",
    "\n",
    "re_obj = re.compile(search_string)\n",
    "result = re_obj.search(target_string)\n",
    "\n",
    "if result:\n",
    "    print(f\"result.group():{result.group()}\")\n",
    "else:\n",
    "    print(\"No match founds\")"
   ]
  },
  {
   "cell_type": "code",
   "execution_count": 27,
   "metadata": {},
   "outputs": [
    {
     "name": "stdout",
     "output_type": "stream",
     "text": [
      "result.group():Python\n"
     ]
    }
   ],
   "source": [
    "#using search giving widespace also gives output without error\n",
    "target_string = \"    is a  Python programming  Langugae\"\n",
    "search_string = \"Python\"\n",
    "\n",
    "re_obj = re.compile(search_string)\n",
    "result = re_obj.search(target_string)\n",
    "\n",
    "if result:\n",
    "    print(f\"result.group():{result.group()}\")\n",
    "else:\n",
    "    print(\"No match founds\")"
   ]
  },
  {
   "cell_type": "markdown",
   "metadata": {},
   "source": [
    "## Two ways of regex in python"
   ]
  },
  {
   "cell_type": "code",
   "execution_count": 37,
   "metadata": {},
   "outputs": [
    {
     "name": "stdout",
     "output_type": "stream",
     "text": [
      "result =<re.Match object; span=(0, 6), match='PYTHON'>\n",
      "result =None\n"
     ]
    }
   ],
   "source": [
    "#Method 1\n",
    "# re_obj = re.compile(search_string,re.I)\n",
    "#     print(re_obj,type(re_obj)) \n",
    "#     result = re_obj.match(target_string)\n",
    "\n",
    "# Method 2 # identifyes word anywhere in the sentence\n",
    "result = re.search(search_string,target_string,re.I)\n",
    "print(f\"{result =}\")\n",
    "result = re.search(\"pyTHON\",\"Programming is good in PyTHON\",re.I)\n",
    "print(f\"{result =}\")"
   ]
  },
  {
   "cell_type": "code",
   "execution_count": 38,
   "metadata": {},
   "outputs": [
    {
     "name": "stdout",
     "output_type": "stream",
     "text": [
      "result =None\n",
      "result =None\n"
     ]
    }
   ],
   "source": [
    "esult = re.match(search_string,target_string,re.I)\n",
    "print(f\"{result =}\")\n",
    "result = re.match(\"pyTHON\",\"Programming is good in PyTHON\",re.I)\n",
    "print(f\"{result =}\")"
   ]
  },
  {
   "cell_type": "markdown",
   "metadata": {},
   "source": [
    "## Regex Oualifiers"
   ]
  },
  {
   "cell_type": "markdown",
   "metadata": {},
   "source": [
    "Question: How to make re.serach() to work like re.match()\n",
    "\n",
    "pattern\n",
    "^   To make to check at the start of the string\n",
    "$   To make to check at the end of the string\n",
    "\n",
    "    "
   ]
  },
  {
   "cell_type": "code",
   "execution_count": 39,
   "metadata": {},
   "outputs": [
    {
     "name": "stdout",
     "output_type": "stream",
     "text": [
      "result =<re.Match object; span=(23, 29), match='PYTHon'>\n"
     ]
    }
   ],
   "source": [
    "result = re.search(\"pyTHON\",\"Programming is good in PYTHon\",re.I)\n",
    "print(f\"{result =}\")"
   ]
  },
  {
   "cell_type": "code",
   "execution_count": 40,
   "metadata": {},
   "outputs": [
    {
     "name": "stdout",
     "output_type": "stream",
     "text": [
      "result =<re.Match object; span=(23, 29), match='PYTHon'>\n"
     ]
    }
   ],
   "source": [
    "# to enforce search at the end \n",
    "result = re.search(\"pyTHON$\",\"Programming is good in PYTHon\",re.I)\n",
    "print(f\"{result =}\")"
   ]
  },
  {
   "cell_type": "code",
   "execution_count": 41,
   "metadata": {},
   "outputs": [
    {
     "name": "stdout",
     "output_type": "stream",
     "text": [
      "result =None\n"
     ]
    }
   ],
   "source": [
    "result = re.search(\"pyTHON\",\"Programming is good in @#$%\",re.I)\n",
    "print(f\"{result =}\")\n",
    "# Gives error bcuz searching at end giving case insensitive"
   ]
  },
  {
   "cell_type": "code",
   "execution_count": 42,
   "metadata": {},
   "outputs": [
    {
     "name": "stdout",
     "output_type": "stream",
     "text": [
      "result =None\n"
     ]
    }
   ],
   "source": [
    "# To enforce search at the start\n",
    "result = re.search(\"^pyTHON\",\"Programming is good in PYTHon\",re.I)\n",
    "print(f\"{result =}\")\n",
    "# gives none bcuz python is not present at starting"
   ]
  },
  {
   "cell_type": "code",
   "execution_count": 43,
   "metadata": {},
   "outputs": [
    {
     "name": "stdout",
     "output_type": "stream",
     "text": [
      "result =None\n"
     ]
    }
   ],
   "source": [
    "result = re.match(\"^pyTHON\",\"Programming is good in PYTHon\",re.I)\n",
    "print(f\"{result =}\")\n",
    "# gives none bcuz python is not present at starting and match checks at the starting of string only"
   ]
  },
  {
   "cell_type": "code",
   "execution_count": 44,
   "metadata": {},
   "outputs": [
    {
     "name": "stdout",
     "output_type": "stream",
     "text": [
      "result =<re.Match object; span=(0, 6), match='PYTHon'>\n"
     ]
    }
   ],
   "source": [
    "result = re.search(\"^pyTHON\",\"PYTHon Programming is good in \",re.I)\n",
    "print(f\"{result =}\")\n",
    "\n",
    "# We are making re.search works like re.match by suing '^'%%\n",
    "# which makes to search at the starting same like match"
   ]
  },
  {
   "cell_type": "code",
   "execution_count": 46,
   "metadata": {},
   "outputs": [
    {
     "name": "stdout",
     "output_type": "stream",
     "text": [
      "result =<re.Match object; span=(0, 6), match='PYTHon'>\n"
     ]
    }
   ],
   "source": [
    "result = re.match(\"pyTHON\",\"PYTHon Programming is good in \",re.I)\n",
    "print(f\"{result =}\")"
   ]
  },
  {
   "cell_type": "markdown",
   "metadata": {},
   "source": [
    "## pattern\n",
    "\n",
    "^   To make to check at the start of the string\n",
    "$   To make to check at the end of the string\n",
    "\n",
    "\\A | Matches the expression to its right at the absolute start of a string whether in single or multi-line mode.\n",
    "\n",
    "\\z | Matches the expression to its left at the absolute end of a string whether in single or multi-line mode."
   ]
  },
  {
   "cell_type": "code",
   "execution_count": 52,
   "metadata": {},
   "outputs": [
    {
     "name": "stdout",
     "output_type": "stream",
     "text": [
      "\n",
      "result:None\n",
      "\n",
      "result:<re.Match object; span=(6, 9), match='abc'>\n",
      "result.group()abc\n",
      "\n",
      "\n",
      "result:<re.Match object; span=(0, 3), match='ABC'>\n",
      "result.group():ABC\n"
     ]
    }
   ],
   "source": [
    "# Method 1 - using ^ and $\n",
    "\n",
    "result = re.search(\"abc$\",\"ABC123abcd\",re.I)# checks in the end \n",
    "print(f\"\\nresult:{result}\")\n",
    "\n",
    "result = re.search(\"abc$\",\"ABC123abc\",re.I)# checks in the end \n",
    "print(f\"\\nresult:{result}\")\n",
    "if result:\n",
    "    print(f\"result.group(){result.group()}\")\n",
    "print()\n",
    "\n",
    "result = re.search(\"^abc\",\"ABC123abc\",re.I)# checks in the start\n",
    "print(f\"\\nresult:{result}\")\n",
    "if result:\n",
    "  print(f\"result.group():{result.group()}\")\n"
   ]
  },
  {
   "cell_type": "code",
   "execution_count": 58,
   "metadata": {},
   "outputs": [
    {
     "name": "stdout",
     "output_type": "stream",
     "text": [
      "\n",
      "result:<re.Match object; span=(6, 9), match='abc'>\n",
      "result.group():abc\n",
      "\n",
      "result:<re.Match object; span=(0, 3), match='ABC'>\n",
      "result.group():ABC\n"
     ]
    }
   ],
   "source": [
    "# Method 1 - using \\A and \\Z\n",
    "\n",
    "result = re.search(r\"abc\\Z\",\"ABC123abc\",re.I)# checks in the end\n",
    "print(f\"\\nresult:{result}\")\n",
    "if result:\n",
    "  print(f\"result.group():{result.group()}\")\n",
    "\n",
    "\n",
    "result = re.search(r\"\\Aabc\",\"ABC123abc\",re.I)# checks in the start\n",
    "print(f\"\\nresult:{result}\")\n",
    "if result:\n",
    "  print(f\"result.group():{result.group()}\")"
   ]
  }
 ],
 "metadata": {
  "kernelspec": {
   "display_name": "venv",
   "language": "python",
   "name": "python3"
  },
  "language_info": {
   "codemirror_mode": {
    "name": "ipython",
    "version": 3
   },
   "file_extension": ".py",
   "mimetype": "text/x-python",
   "name": "python",
   "nbconvert_exporter": "python",
   "pygments_lexer": "ipython3",
   "version": "3.12.1"
  }
 },
 "nbformat": 4,
 "nbformat_minor": 2
}
