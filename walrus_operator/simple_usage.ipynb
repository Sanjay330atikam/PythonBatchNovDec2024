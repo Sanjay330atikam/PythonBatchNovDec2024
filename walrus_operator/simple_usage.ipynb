{
 "cells": [
  {
   "cell_type": "code",
   "execution_count": 17,
   "metadata": {},
   "outputs": [
    {
     "name": "stdout",
     "output_type": "stream",
     "text": [
      "Num is ODD\n"
     ]
    }
   ],
   "source": [
    "n = 123\n",
    "if n%2:\n",
    " print('Num is ODD')\n"
   ]
  },
  {
   "cell_type": "code",
   "execution_count": null,
   "metadata": {},
   "outputs": [
    {
     "name": "stdout",
     "output_type": "stream",
     "text": [
      "\n",
      "Num is ODD\n"
     ]
    }
   ],
   "source": [
    "\n",
    "if(n := 123) % 2:\n",
    " print('Num is ODD')"
   ]
  },
  {
   "cell_type": "code",
   "execution_count": 25,
   "metadata": {},
   "outputs": [
    {
     "name": "stdout",
     "output_type": "stream",
     "text": [
      "The lenghth of the list is 4= [1, 2, 34, 56]\n",
      "The lenghth of the list is 4= [1, 2, 34, 56]\n"
     ]
    }
   ],
   "source": [
    "a = [1,2,34,56]\n",
    "n = len(a)\n",
    "if n > 3:\n",
    "    print(f\"The lenghth of the list is {n}= {a}\")\n",
    "\n",
    "if (n :=len(a)) > 3:\n",
    "    print(f\"The lenghth of the list is {n}= {a}\")\n"
   ]
  }
 ],
 "metadata": {
  "kernelspec": {
   "display_name": "Python 3",
   "language": "python",
   "name": "python3"
  },
  "language_info": {
   "codemirror_mode": {
    "name": "ipython",
    "version": 3
   },
   "file_extension": ".py",
   "mimetype": "text/x-python",
   "name": "python",
   "nbconvert_exporter": "python",
   "pygments_lexer": "ipython3",
   "version": "3.12.1"
  }
 },
 "nbformat": 4,
 "nbformat_minor": 2
}
