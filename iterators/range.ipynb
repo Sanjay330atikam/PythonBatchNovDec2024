{
 "cells": [
  {
   "cell_type": "markdown",
   "metadata": {},
   "source": [
    "## Range() ##"
   ]
  },
  {
   "cell_type": "code",
   "execution_count": 8,
   "metadata": {},
   "outputs": [],
   "source": [
    "nums =(0,9,1,34,566)\n"
   ]
  },
  {
   "cell_type": "code",
   "execution_count": 11,
   "metadata": {},
   "outputs": [
    {
     "name": "stdout",
     "output_type": "stream",
     "text": [
      "0 9 1 34 566 "
     ]
    }
   ],
   "source": [
    "#Method 1\n",
    "for each_val in nums:\n",
    "    print(each_val,end=' ')"
   ]
  },
  {
   "cell_type": "code",
   "execution_count": 18,
   "metadata": {},
   "outputs": [
    {
     "name": "stdout",
     "output_type": "stream",
     "text": [
      "[0, 9, 1, 34, 566] <class 'list'>\n",
      "(0, 9, 1, 34, 566) <class 'tuple'>\n",
      "(0, 9, 1, 34, 566) <class 'str'>\n",
      "{0, 1, 34, 9, 566} <class 'set'>\n"
     ]
    }
   ],
   "source": [
    "#Method 2\n",
    "num1=list(nums)\n",
    "print(num1,type(num1))\n",
    "\n",
    "num2=tuple(nums)\n",
    "print(num2,type(num2))\n",
    "\n",
    "num3=str(nums)\n",
    "print(num3,type(num3))\n",
    "\n",
    "num4=set(nums)\n",
    "print(num4,type(num4))"
   ]
  }
 ],
 "metadata": {
  "kernelspec": {
   "display_name": "Python 3",
   "language": "python",
   "name": "python3"
  },
  "language_info": {
   "codemirror_mode": {
    "name": "ipython",
    "version": 3
   },
   "file_extension": ".py",
   "mimetype": "text/x-python",
   "name": "python",
   "nbconvert_exporter": "python",
   "pygments_lexer": "ipython3",
   "version": "3.12.1"
  }
 },
 "nbformat": 4,
 "nbformat_minor": 2
}
