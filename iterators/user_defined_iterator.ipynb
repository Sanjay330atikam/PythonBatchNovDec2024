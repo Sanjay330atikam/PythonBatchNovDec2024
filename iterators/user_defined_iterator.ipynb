{
 "cells": [
  {
   "cell_type": "markdown",
   "metadata": {},
   "source": [
    "## iter() ## Protocol\n",
    "- iterator is an immutable object,disposable,lazy"
   ]
  },
  {
   "cell_type": "code",
   "execution_count": 1,
   "metadata": {},
   "outputs": [
    {
     "name": "stdout",
     "output_type": "stream",
     "text": [
      "['a', 'e', 'i', 'o', 'u'] <class 'list'>\n"
     ]
    }
   ],
   "source": [
    "alpha=['a','e','i','o','u']\n",
    "print(alpha,type(alpha))"
   ]
  },
  {
   "cell_type": "code",
   "execution_count": 3,
   "metadata": {},
   "outputs": [
    {
     "name": "stdout",
     "output_type": "stream",
     "text": [
      "i\n",
      "['i', 'o', 'u']\n"
     ]
    }
   ],
   "source": [
    "print(f\"{alpha[2]}\")#indexing\n",
    "print(f\"{alpha[2:5]}\")#slicing"
   ]
  },
  {
   "cell_type": "code",
   "execution_count": 4,
   "metadata": {},
   "outputs": [
    {
     "name": "stdout",
     "output_type": "stream",
     "text": [
      "<list_iterator object at 0x7b3b2c35e500> <class 'list_iterator'>\n"
     ]
    }
   ],
   "source": [
    "#creating a iterator from list-iterator\n",
    "alpha_it = iter(alpha)\n",
    "print(alpha_it,type(alpha_it))"
   ]
  },
  {
   "cell_type": "code",
   "execution_count": 5,
   "metadata": {},
   "outputs": [
    {
     "name": "stdout",
     "output_type": "stream",
     "text": [
      "a\n",
      "e\n",
      "i\n",
      "o\n",
      "u\n"
     ]
    }
   ],
   "source": [
    "for i in alpha_it:#methos 1\n",
    "    print(i)"
   ]
  },
  {
   "cell_type": "code",
   "execution_count": 10,
   "metadata": {},
   "outputs": [
    {
     "name": "stdout",
     "output_type": "stream",
     "text": [
      "('a', 'e', 'i', 'o', 'u')\n",
      "<tuple_iterator object at 0x7b3b2c9b1ff0> <class 'tuple_iterator'>\n",
      "\n",
      "{'e', 'i', 'o', 'a', 'u'}\n",
      "<set_iterator object at 0x7b3b2c3cf680> <class 'set_iterator'>\n",
      "\n",
      "{'a': '1', 'e': '2', 'i': '3', 'o': '9', 'u': '78'}\n",
      "<dict_keyiterator object at 0x7b3b2c350f40> <class 'dict_keyiterator'>\n"
     ]
    }
   ],
   "source": [
    "#method 2: convert to different data types like list,strings,tuple,sets\n",
    "alpha=('a','e','i','o','u')\n",
    "print(alpha)\n",
    "alpha_it = iter(alpha)\n",
    "print(alpha_it,type(alpha_it))\n",
    "\n",
    "print()\n",
    "\n",
    "alpha={'a','e','i','o','u'}\n",
    "print(alpha)\n",
    "alpha_it = iter(alpha)\n",
    "print(alpha_it,type(alpha_it))\n",
    "\n",
    "print()\n",
    "alpha={'a':'1','e':'2','i':'3','o':'9','u':'78'}\n",
    "print(alpha)\n",
    "alpha_it = iter(alpha)\n",
    "print(alpha_it,type(alpha_it))\n"
   ]
  },
  {
   "cell_type": "code",
   "execution_count": 11,
   "metadata": {},
   "outputs": [
    {
     "name": "stdout",
     "output_type": "stream",
     "text": [
      "value =  foo\n",
      "value =  bar\n",
      "value =  baz\n"
     ]
    }
   ],
   "source": [
    "#it for for loop\n",
    "a=['foo','bar','baz']\n",
    "itr=iter(a)\n",
    "for i in itr:\n",
    "    print('value = ',i)"
   ]
  },
  {
   "cell_type": "code",
   "execution_count": 12,
   "metadata": {},
   "outputs": [
    {
     "data": {
      "text/plain": [
       "<list_iterator at 0x7b3b2c3690c0>"
      ]
     },
     "execution_count": 12,
     "metadata": {},
     "output_type": "execute_result"
    }
   ],
   "source": [
    "itr"
   ]
  },
  {
   "cell_type": "code",
   "execution_count": 13,
   "metadata": {},
   "outputs": [
    {
     "data": {
      "text/plain": [
       "list[<list_iterator object at 0x7b3b2c3690c0>]"
      ]
     },
     "execution_count": 13,
     "metadata": {},
     "output_type": "execute_result"
    }
   ],
   "source": [
    "list[itr]"
   ]
  },
  {
   "cell_type": "code",
   "execution_count": 14,
   "metadata": {},
   "outputs": [
    {
     "data": {
      "text/plain": [
       "tuple[<list_iterator object at 0x7b3b2c3690c0>]"
      ]
     },
     "execution_count": 14,
     "metadata": {},
     "output_type": "execute_result"
    }
   ],
   "source": [
    "tuple[itr]"
   ]
  },
  {
   "cell_type": "code",
   "execution_count": null,
   "metadata": {},
   "outputs": [
    {
     "ename": "StopIteration",
     "evalue": "",
     "output_type": "error",
     "traceback": [
      "\u001b[0;31m---------------------------------------------------------------------------\u001b[0m",
      "\u001b[0;31mStopIteration\u001b[0m                             Traceback (most recent call last)",
      "Cell \u001b[0;32mIn[23], line 2\u001b[0m\n\u001b[1;32m      1\u001b[0m \u001b[38;5;66;03m#to acces the values from itr \u001b[39;00m\n\u001b[0;32m----> 2\u001b[0m \u001b[38;5;28mprint\u001b[39m(\u001b[38;5;124m'\u001b[39m\u001b[38;5;130;01m\\n\u001b[39;00m\u001b[38;5;124mitr.__next__()\u001b[39m\u001b[38;5;124m'\u001b[39m,\u001b[43mitr\u001b[49m\u001b[38;5;241;43m.\u001b[39;49m\u001b[38;5;21;43m__next__\u001b[39;49m\u001b[43m(\u001b[49m\u001b[43m)\u001b[49m)\n\u001b[1;32m      3\u001b[0m \u001b[38;5;28mprint\u001b[39m(\u001b[38;5;124m'\u001b[39m\u001b[38;5;124mnext(itr)\u001b[39m\u001b[38;5;124m'\u001b[39m,\u001b[38;5;28mnext\u001b[39m(itr))\n\u001b[1;32m      4\u001b[0m \u001b[38;5;28mprint\u001b[39m(\u001b[38;5;124m'\u001b[39m\u001b[38;5;124mnext(itr)\u001b[39m\u001b[38;5;124m'\u001b[39m,\u001b[38;5;28mnext\u001b[39m(itr))\n",
      "\u001b[0;31mStopIteration\u001b[0m: "
     ]
    }
   ],
   "source": [
    "#to acces the values from itr \n",
    "print('\\n itr.__next__()',itr.__next__())\n",
    "print('next(itr)',next(itr))\n",
    "print('next(itr)',next(itr))"
   ]
  },
  {
   "cell_type": "code",
   "execution_count": null,
   "metadata": {},
   "outputs": [],
   "source": []
  }
 ],
 "metadata": {
  "kernelspec": {
   "display_name": "Python 3",
   "language": "python",
   "name": "python3"
  },
  "language_info": {
   "codemirror_mode": {
    "name": "ipython",
    "version": 3
   },
   "file_extension": ".py",
   "mimetype": "text/x-python",
   "name": "python",
   "nbconvert_exporter": "python",
   "pygments_lexer": "ipython3",
   "version": "3.12.1"
  }
 },
 "nbformat": 4,
 "nbformat_minor": 2
}
