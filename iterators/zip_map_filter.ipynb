{
 "cells": [
  {
   "cell_type": "markdown",
   "metadata": {},
   "source": [
    "##Zip(),Map(),Filter()"
   ]
  },
  {
   "cell_type": "code",
   "execution_count": 2,
   "metadata": {},
   "outputs": [],
   "source": [
    "alpha={'a','e','i','o','u'}\n",
    "nums = {'1','2','3','4','5'}"
   ]
  },
  {
   "cell_type": "code",
   "execution_count": 3,
   "metadata": {},
   "outputs": [
    {
     "name": "stdout",
     "output_type": "stream",
     "text": [
      "<zip object at 0x7f3f33170e00> <class 'zip'>\n"
     ]
    }
   ],
   "source": [
    "pairs = zip(alpha,nums)\n",
    "print(pairs,type(pairs))\n",
    "#zip wil give opitimized object(means not get any value)\n",
    "# better for memeory management."
   ]
  },
  {
   "cell_type": "code",
   "execution_count": 4,
   "metadata": {},
   "outputs": [
    {
     "name": "stdout",
     "output_type": "stream",
     "text": [
      "('i', '3')\n",
      "('e', '2')\n",
      "('o', '5')\n",
      "('a', '4')\n",
      "('u', '1')\n"
     ]
    }
   ],
   "source": [
    "#method 1\n",
    "for each_val in pairs:\n",
    "    print(each_val)"
   ]
  },
  {
   "cell_type": "code",
   "execution_count": 7,
   "metadata": {},
   "outputs": [
    {
     "name": "stdout",
     "output_type": "stream",
     "text": [
      "<zip object at 0x7f3f33170e00> <class 'zip'>\n",
      "<zip object at 0x7f3f33170e00> <class 'zip'>\n",
      "<zip object at 0x7f3f33170e00> <class 'zip'>\n",
      "<zip object at 0x7f3f33170e00> <class 'zip'>\n"
     ]
    }
   ],
   "source": [
    "#method 2\n",
    "num=list(pairs)\n",
    "print(pairs,type(pairs))\n",
    "\n",
    "num=tuple(pairs)\n",
    "print(pairs,type(pairs))\n",
    "\n",
    "num=set(pairs)\n",
    "print(pairs,type(pairs))\n",
    "\n",
    "num=str(pairs)\n",
    "print(pairs,type(pairs))"
   ]
  },
  {
   "cell_type": "code",
   "execution_count": null,
   "metadata": {},
   "outputs": [],
   "source": [
    "#iterators are dispoasble objects gives value only once."
   ]
  }
 ],
 "metadata": {
  "kernelspec": {
   "display_name": "Python 3",
   "language": "python",
   "name": "python3"
  },
  "language_info": {
   "codemirror_mode": {
    "name": "ipython",
    "version": 3
   },
   "file_extension": ".py",
   "mimetype": "text/x-python",
   "name": "python",
   "nbconvert_exporter": "python",
   "pygments_lexer": "ipython3",
   "version": "3.12.1"
  }
 },
 "nbformat": 4,
 "nbformat_minor": 2
}
