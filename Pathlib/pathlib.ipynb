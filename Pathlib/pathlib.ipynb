{
 "cells": [
  {
   "cell_type": "markdown",
   "metadata": {},
   "source": [
    "###Pathlib()\n"
   ]
  },
  {
   "cell_type": "code",
   "execution_count": 1,
   "metadata": {},
   "outputs": [],
   "source": [
    "import os\n",
    "import sys\n",
    "import pathlib"
   ]
  },
  {
   "cell_type": "code",
   "execution_count": 2,
   "metadata": {},
   "outputs": [
    {
     "name": "stdout",
     "output_type": "stream",
     "text": [
      "['EBADF', 'ELOOP', 'ENOENT', 'ENOTDIR', 'Path', 'PosixPath', 'PurePath', 'PurePosixPath', 'PureWindowsPath', 'S_ISBLK', 'S_ISCHR', 'S_ISDIR', 'S_ISFIFO', 'S_ISLNK', 'S_ISREG', 'S_ISSOCK', 'Sequence', 'WindowsPath', '_DoubleRecursiveWildcardSelector', '_FNMATCH_PREFIX', '_FNMATCH_SLICE', '_FNMATCH_SUFFIX', '_IGNORED_ERRNOS', '_IGNORED_WINERRORS', '_ParentSelector', '_PathParents', '_RecursiveWildcardSelector', '_SWAP_SEP_AND_NEWLINE', '_Selector', '_TerminatingSelector', '_WINERROR_CANT_RESOLVE_FILENAME', '_WINERROR_INVALID_NAME', '_WINERROR_NOT_READY', '_WIN_RESERVED_NAMES', '_WildcardSelector', '__all__', '__builtins__', '__cached__', '__doc__', '__file__', '__loader__', '__name__', '__package__', '__spec__', '_compile_pattern', '_compile_pattern_lines', '_ignore_error', '_is_case_sensitive', '_make_selector', 'fnmatch', 'functools', 'io', 'ntpath', 'os', 'posixpath', 're', 'sys', 'urlquote_from_bytes', 'warnings']\n"
     ]
    }
   ],
   "source": [
    "print(dir(pathlib))"
   ]
  },
  {
   "cell_type": "markdown",
   "metadata": {},
   "source": [
    "## Working WIth Directories"
   ]
  },
  {
   "cell_type": "code",
   "execution_count": 3,
   "metadata": {},
   "outputs": [
    {
     "name": "stdout",
     "output_type": "stream",
     "text": [
      "Current Directoray:/workspaces/PythonBatchNovDec2024/Pathlib\n",
      "Home Directoray:/home/codespace\n"
     ]
    }
   ],
   "source": [
    "print(f\"Current Directoray:{pathlib.Path.cwd()}\")\n",
    "print(f\"Home Directoray:{pathlib.Path.home()}\")"
   ]
  },
  {
   "cell_type": "markdown",
   "metadata": {},
   "source": [
    "###list Directroies"
   ]
  },
  {
   "cell_type": "code",
   "execution_count": 4,
   "metadata": {},
   "outputs": [
    {
     "name": "stdout",
     "output_type": "stream",
     "text": [
      "[]\n"
     ]
    }
   ],
   "source": [
    "path = pathlib.Path.cwd()\n",
    "dirs = [e for e  in path.iterdir() if e.is_dir() ]\n",
    "print(dirs)"
   ]
  },
  {
   "cell_type": "code",
   "execution_count": 5,
   "metadata": {},
   "outputs": [
    {
     "name": "stdout",
     "output_type": "stream",
     "text": [
      "[PosixPath('/workspaces/PythonBatchNovDec2024/Pathlib/pathlib.ipynb')]\n"
     ]
    }
   ],
   "source": [
    "files = [e for e  in path.iterdir() if e.is_file() ]\n",
    "print(files)"
   ]
  },
  {
   "cell_type": "markdown",
   "metadata": {},
   "source": [
    "##CHNAGE DIrectory"
   ]
  },
  {
   "cell_type": "code",
   "execution_count": 6,
   "metadata": {},
   "outputs": [
    {
     "name": "stdout",
     "output_type": "stream",
     "text": [
      "Current Directory:/workspaces/PythonBatchNovDec2024/Pathlib\n"
     ]
    }
   ],
   "source": [
    "path=pathlib.Path('..')\n",
    "print(f\"Current Directory:{pathlib.Path.cwd()}\")"
   ]
  },
  {
   "cell_type": "code",
   "execution_count": 12,
   "metadata": {},
   "outputs": [
    {
     "name": "stdout",
     "output_type": "stream",
     "text": [
      "Current directoray:/workspaces/PythonBatchNovDec2024/Pathlib\n"
     ]
    }
   ],
   "source": [
    "os.chdir(r'/workspaces/PythonBatchNovDec2024/Pathlib/')\n",
    "print(f\"Current directoray:{pathlib.Path.cwd()}\")"
   ]
  }
 ],
 "metadata": {
  "kernelspec": {
   "display_name": "venv",
   "language": "python",
   "name": "python3"
  },
  "language_info": {
   "codemirror_mode": {
    "name": "ipython",
    "version": 3
   },
   "file_extension": ".py",
   "mimetype": "text/x-python",
   "name": "python",
   "nbconvert_exporter": "python",
   "pygments_lexer": "ipython3",
   "version": "3.12.1"
  }
 },
 "nbformat": 4,
 "nbformat_minor": 2
}
