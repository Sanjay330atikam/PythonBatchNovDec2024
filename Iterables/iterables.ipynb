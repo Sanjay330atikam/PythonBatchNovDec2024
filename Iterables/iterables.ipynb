{
 "cells": [
  {
   "cell_type": "markdown",
   "metadata": {},
   "source": [
    "ITERABLES\n",
    "- Iterables means an object for which the FOR loop can apply.\n",
    "- iterable objects- list,str,dict,set,iterator,generator,range()\n",
    "- non-iterable objects - int, float,None,True,False.\n"
   ]
  },
  {
   "cell_type": "code",
   "execution_count": 4,
   "metadata": {},
   "outputs": [
    {
     "name": "stdout",
     "output_type": "stream",
     "text": [
      "1\n",
      "2\n",
      "3\n",
      "4\n"
     ]
    }
   ],
   "source": [
    "# for digit in 1234:\n",
    "#     print(digit)\n",
    "#int is non-iterable\n",
    "\n",
    "for digit in '1234':\n",
    "    print(digit)"
   ]
  },
  {
   "cell_type": "code",
   "execution_count": 7,
   "metadata": {},
   "outputs": [
    {
     "name": "stdout",
     "output_type": "stream",
     "text": [
      "p y t h o n   p r o g r a m m i n g "
     ]
    }
   ],
   "source": [
    "#string_iterables\n",
    "for ch in 'python programming':\n",
    "    print(ch,end=' ')"
   ]
  },
  {
   "cell_type": "code",
   "execution_count": 4,
   "metadata": {},
   "outputs": [
    {
     "name": "stdout",
     "output_type": "stream",
     "text": [
      "\n",
      " Collections-Iterables-list\n",
      "\t Sanjay\n",
      "\t Sanju\n",
      "\t Atikam\n"
     ]
    }
   ],
   "source": [
    "print(\"\\n Collections-Iterables-list\")\n",
    "names = ['Sanjay','Sanju','Atikam']\n",
    "for each_name in names:\n",
    "    print(\"\\t\",each_name)"
   ]
  },
  {
   "cell_type": "code",
   "execution_count": 5,
   "metadata": {},
   "outputs": [
    {
     "name": "stdout",
     "output_type": "stream",
     "text": [
      "\n",
      " Collections-Iterables-tuple\n",
      "\t Sanjay\n",
      "\t Sanju\n",
      "\t Atikam\n"
     ]
    }
   ],
   "source": [
    "print(\"\\n Collections-Iterables-tuple\")\n",
    "names = ('Sanjay','Sanju','Atikam')\n",
    "for each_name in names:\n",
    "    print(\"\\t\",each_name)"
   ]
  },
  {
   "cell_type": "code",
   "execution_count": 7,
   "metadata": {},
   "outputs": [
    {
     "name": "stdout",
     "output_type": "stream",
     "text": [
      "\n",
      " Collections-Iterables-list\n",
      "\t Sanju\n",
      "\t Atikam\n",
      "\t Sanjay\n"
     ]
    }
   ],
   "source": [
    "print(\"\\n Collections-Iterables-list\")\n",
    "names = {'Sanjay','Sanju','Atikam'}\n",
    "for each_name in names:\n",
    "    print(\"\\t\",each_name)"
   ]
  },
  {
   "cell_type": "code",
   "execution_count": 8,
   "metadata": {},
   "outputs": [
    {
     "name": "stdout",
     "output_type": "stream",
     "text": [
      "\n",
      " Collections-Iterables-list\n",
      "\t Name\n",
      "\t Weight\n",
      "\t Height\n"
     ]
    }
   ],
   "source": [
    "print(\"\\n Collections-Iterables-list\")\n",
    "names = {\"Name\":\"Sanjay\",'Weight':'185','Height':'5ft'}\n",
    "for each_name in names:\n",
    "    print(\"\\t\",each_name)"
   ]
  },
  {
   "cell_type": "code",
   "execution_count": 9,
   "metadata": {},
   "outputs": [
    {
     "name": "stdout",
     "output_type": "stream",
     "text": [
      "\t Name\n",
      "\t Weight\n",
      "\t Height\n"
     ]
    }
   ],
   "source": [
    "for each_name in names.keys():\n",
    "    print(\"\\t\",each_name)"
   ]
  },
  {
   "cell_type": "code",
   "execution_count": 10,
   "metadata": {},
   "outputs": [
    {
     "name": "stdout",
     "output_type": "stream",
     "text": [
      "\t Sanjay\n",
      "\t 185\n",
      "\t 5ft\n"
     ]
    }
   ],
   "source": [
    "for each_name in names.values():\n",
    "    print(\"\\t\",each_name)"
   ]
  },
  {
   "cell_type": "code",
   "execution_count": 11,
   "metadata": {},
   "outputs": [
    {
     "name": "stdout",
     "output_type": "stream",
     "text": [
      "\t ('Name', 'Sanjay')\n",
      "\t ('Weight', '185')\n",
      "\t ('Height', '5ft')\n"
     ]
    }
   ],
   "source": [
    "for each_name in names.items():\n",
    "    print(\"\\t\",each_name)"
   ]
  },
  {
   "cell_type": "code",
   "execution_count": 14,
   "metadata": {},
   "outputs": [
    {
     "name": "stdout",
     "output_type": "stream",
     "text": [
      "\t Sanjay ====> Name\n",
      "\t 185 ====> Weight\n",
      "\t 5ft ====> Height\n"
     ]
    }
   ],
   "source": [
    "for each_val,each_key in names.items():\n",
    "    print(\"\\t\",each_key,\"====>\",each_val)"
   ]
  },
  {
   "cell_type": "code",
   "execution_count": 24,
   "metadata": {},
   "outputs": [
    {
     "name": "stdout",
     "output_type": "stream",
     "text": [
      "1 2 3 4 5 1\n",
      "2\n",
      "3\n",
      "4\n",
      "5\n"
     ]
    }
   ],
   "source": [
    "#using Enumerate\n",
    "val = [1,2,3,4,5]\n",
    "for each in val:\n",
    "    print(each,end=' ')\n",
    "\n",
    "for index,each in enumerate(val):\n",
    "        print(each)"
   ]
  },
  {
   "cell_type": "code",
   "execution_count": 27,
   "metadata": {},
   "outputs": [
    {
     "name": "stdout",
     "output_type": "stream",
     "text": [
      "Name\n",
      "Weight\n",
      "Height\n"
     ]
    }
   ],
   "source": [
    "for index,each in enumerate(names):\n",
    " print(each)"
   ]
  },
  {
   "cell_type": "code",
   "execution_count": 31,
   "metadata": {},
   "outputs": [
    {
     "name": "stdout",
     "output_type": "stream",
     "text": [
      "5\n",
      "5\n",
      "5\n",
      "5\n",
      "5\n"
     ]
    }
   ],
   "source": [
    "for index,val in enumerate(val):\n",
    " print(each)"
   ]
  },
  {
   "cell_type": "code",
   "execution_count": 38,
   "metadata": {},
   "outputs": [
    {
     "name": "stdout",
     "output_type": "stream",
     "text": [
      "0 Name\n",
      "1 Weight\n",
      "2 Height\n"
     ]
    }
   ],
   "source": [
    "for index, key in enumerate(names):\n",
    "    print(index,key)"
   ]
  },
  {
   "cell_type": "code",
   "execution_count": 2,
   "metadata": {},
   "outputs": [],
   "source": [
    "names = {\"Name\":\"Sanjay\",'Weight':'185','Height':'5ft'}\n",
    "\n"
   ]
  },
  {
   "cell_type": "code",
   "execution_count": 34,
   "metadata": {},
   "outputs": [
    {
     "name": "stdout",
     "output_type": "stream",
     "text": [
      "0 Name\n",
      "1 Weight\n",
      "2 Height\n"
     ]
    }
   ],
   "source": [
    "for index,values in enumerate(names):\n",
    "    print(index,values)"
   ]
  },
  {
   "cell_type": "code",
   "execution_count": 41,
   "metadata": {},
   "outputs": [
    {
     "name": "stdout",
     "output_type": "stream",
     "text": [
      "0 ('Name', 'Sanjay')\n",
      "1 ('Weight', '185')\n",
      "2 ('Height', '5ft')\n"
     ]
    }
   ],
   "source": [
    "for index,keys in enumerate(names.items()):\n",
    "    print(index,keys)"
   ]
  },
  {
   "cell_type": "code",
   "execution_count": 3,
   "metadata": {},
   "outputs": [
    {
     "name": "stdout",
     "output_type": "stream",
     "text": [
      "0 Name Sanjay\n",
      "1 Weight 185\n",
      "2 Height 5ft\n"
     ]
    }
   ],
   "source": [
    "for index, (key,value) in enumerate(names.items()):# unpackinng..\n",
    "    print(index,key,value)"
   ]
  },
  {
   "cell_type": "code",
   "execution_count": null,
   "metadata": {},
   "outputs": [],
   "source": [
    "# for enumerate we can't give floating point values."
   ]
  },
  {
   "cell_type": "markdown",
   "metadata": {},
   "source": [
    "##ALL() and ANY()"
   ]
  },
  {
   "cell_type": "code",
   "execution_count": 5,
   "metadata": {},
   "outputs": [
    {
     "data": {
      "text/plain": [
       "False"
      ]
     },
     "execution_count": 5,
     "metadata": {},
     "output_type": "execute_result"
    }
   ],
   "source": [
    "#all()--True if bool(all each_elemen) is TRUE\n",
    "my_list =[1,2,3,4,78,0]\n",
    "all(my_list)\n",
    "#False beacuse in my list there is 0 values which is bool type value is \n",
    "#'False' so one is false entire my list is false."
   ]
  },
  {
   "cell_type": "code",
   "execution_count": 7,
   "metadata": {},
   "outputs": [
    {
     "data": {
      "text/plain": [
       "True"
      ]
     },
     "execution_count": 7,
     "metadata": {},
     "output_type": "execute_result"
    }
   ],
   "source": [
    "#any()--True if bool(only one each_element) is TRUE\n",
    "my_list =[1,2,3,4,78,0]\n",
    "any(my_list)\n",
    "#True beacuse in my list there is 0 values which is only 1.\n",
    "#if there 1 zero values in list then entire kist is TRUE."
   ]
  },
  {
   "cell_type": "code",
   "execution_count": 4,
   "metadata": {},
   "outputs": [
    {
     "name": "stdout",
     "output_type": "stream",
     "text": [
      "False\n",
      "True\n"
     ]
    }
   ],
   "source": [
    "# All expects every values should be TRUE- then it gives TRUE or False.\n",
    "# ANY expects if one value is TRUE - TRUE or it gives False\n",
    "print(all([1,2,0,4]))\n",
    "print(any([0,0,0,1]))"
   ]
  },
  {
   "cell_type": "markdown",
   "metadata": {},
   "source": [
    "##Sorting()"
   ]
  },
  {
   "cell_type": "code",
   "execution_count": 10,
   "metadata": {},
   "outputs": [
    {
     "name": "stdout",
     "output_type": "stream",
     "text": [
      "sorted(numbers)=[10, 31, 200, 400] \n",
      "[10, 200, 31, 400]\n"
     ]
    }
   ],
   "source": [
    "numbers = [10,200,31,400,]\n",
    "print(f\"sorted(numbers)={sorted(numbers)}\")\n",
    "print(f\"{numbers}\")\n",
    "#sorted will arranges items in ascending order and creates new object\n",
    "# and existing object is not modified."
   ]
  },
  {
   "cell_type": "code",
   "execution_count": 15,
   "metadata": {},
   "outputs": [
    {
     "name": "stdout",
     "output_type": "stream",
     "text": [
      "[10, 31, 200, 400]\n"
     ]
    }
   ],
   "source": [
    "numbers = [10,200,31,400,]\n",
    "numbers.sort()\n",
    "print(numbers)\n",
    "# sort updates the original object"
   ]
  },
  {
   "cell_type": "code",
   "execution_count": 17,
   "metadata": {},
   "outputs": [
    {
     "name": "stdout",
     "output_type": "stream",
     "text": [
      "sorted(numbers)=[10, 31, 200, 400]\n",
      "sorted(numbers)=[400, 200, 31, 10]\n"
     ]
    }
   ],
   "source": [
    "print(f\"sorted(numbers)={sorted(numbers)}\")\n",
    "print(f\"sorted(numbers)={sorted(numbers,reverse=True)}\")\n",
    "# reverse the sorted numbers"
   ]
  },
  {
   "cell_type": "code",
   "execution_count": 19,
   "metadata": {},
   "outputs": [
    {
     "name": "stdout",
     "output_type": "stream",
     "text": [
      "[10, 31, 200, 400]\n"
     ]
    }
   ],
   "source": [
    "numbers.sort(reverse=True)\n",
    "numbers.sort()\n",
    "print(numbers)"
   ]
  },
  {
   "cell_type": "code",
   "execution_count": 24,
   "metadata": {},
   "outputs": [
    {
     "name": "stdout",
     "output_type": "stream",
     "text": [
      "word='az AZ 10'\n",
      "list(word)=['a', 'z', ' ', 'A', 'Z', ' ', '1', '0']\n",
      "sorted(word)=[' ', ' ', '0', '1', 'A', 'Z', 'a', 'z']\n",
      "sorted(word,key=str.lower)=[' ', ' ', '0', '1', 'a', 'A', 'z', 'Z']\n"
     ]
    }
   ],
   "source": [
    "word = 'az AZ 10'\n",
    "print(f\"{word=}\")\n",
    "print(f\"{list(word)=}\")\n",
    "print(f\"{sorted(word)=}\")\n",
    "print(f\"{sorted(word,key=str.lower)=}\")"
   ]
  },
  {
   "cell_type": "code",
   "execution_count": 31,
   "metadata": {},
   "outputs": [
    {
     "name": "stdout",
     "output_type": "stream",
     "text": [
      "list_of_str    =['Apple', 'is', 'a', 'Fruit']\n",
      "sorted(list_of_str )   =['Apple', 'Fruit', 'a', 'is']\n",
      "sorted(list_of_str,key=str.lower )   =['a', 'Apple', 'Fruit', 'is']\n"
     ]
    }
   ],
   "source": [
    "list_of_str=\"Apple is a Fruit\".split()\n",
    "print(f\"{list_of_str    =}\")\n",
    "print(f\"{sorted(list_of_str )   =}\")\n",
    "print(f\"{sorted(list_of_str,key=str.lower )   =}\")"
   ]
  },
  {
   "cell_type": "code",
   "execution_count": 37,
   "metadata": {},
   "outputs": [
    {
     "name": "stdout",
     "output_type": "stream",
     "text": [
      "sorted(my_dict)    =['1', '2', '3']\n",
      "sorted(my_dict.keys())   =['1', '2', '3']\n",
      "sorted(my_dict.values())   =['A', 'F', 'Z']\n"
     ]
    }
   ],
   "source": [
    "my_dict = {'1':'A','3':'Z','2':'F'}\n",
    "print(f\"{sorted(my_dict)    =}\")\n",
    "print(f\"{sorted(my_dict.keys())   =}\")\n",
    "print(f\"{sorted(my_dict.values())   =}\")"
   ]
  },
  {
   "cell_type": "code",
   "execution_count": 38,
   "metadata": {},
   "outputs": [
    {
     "name": "stdout",
     "output_type": "stream",
     "text": [
      "sorted(my_dict.items())   =[('1', 'A'), ('2', 'F'), ('3', 'Z')]\n",
      "sorted(my_dict.items(),key=lambda x:x[0])   =[('1', 'A'), ('2', 'F'), ('3', 'Z')]\n",
      "sorted(my_dict.items(),key=lambda x:x[1])   =[('1', 'A'), ('2', 'F'), ('3', 'Z')]\n"
     ]
    }
   ],
   "source": [
    "print(f\"{sorted(my_dict.items())   =}\")\n",
    "print(f\"{sorted(my_dict.items(),key=lambda x:x[0])   =}\")#sorting by keys\n",
    "print(f\"{sorted(my_dict.items(),key=lambda x:x[1])   =}\")#sorting by values\n",
    "# print(f\"{sorted(my_dict.items(),key=lambda x:(x[0],x[1]),reverse=True)"
   ]
  }
 ],
 "metadata": {
  "kernelspec": {
   "display_name": "Python 3",
   "language": "python",
   "name": "python3"
  },
  "language_info": {
   "codemirror_mode": {
    "name": "ipython",
    "version": 3
   },
   "file_extension": ".py",
   "mimetype": "text/x-python",
   "name": "python",
   "nbconvert_exporter": "python",
   "pygments_lexer": "ipython3",
   "version": "3.12.1"
  }
 },
 "nbformat": 4,
 "nbformat_minor": 2
}
