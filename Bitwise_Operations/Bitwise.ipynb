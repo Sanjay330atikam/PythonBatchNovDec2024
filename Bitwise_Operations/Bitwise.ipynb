{
 "cells": [
  {
   "cell_type": "code",
   "execution_count": null,
   "metadata": {},
   "outputs": [],
   "source": [
    "# Bitwise Operators\n",
    "& - both value is 1 result is '1',either one value is 0 result is '0'\n",
    "| - either one of value is is 1 result is '1'\n",
    "^ - The result of 1 is odd then output will be \"1\", if it is \n",
    "1 result is even number then output will be \"0\""
   ]
  },
  {
   "cell_type": "code",
   "execution_count": null,
   "metadata": {},
   "outputs": [],
   "source": [
    "# Assignment ~ operator "
   ]
  },
  {
   "cell_type": "code",
   "execution_count": null,
   "metadata": {},
   "outputs": [
    {
     "name": "stdout",
     "output_type": "stream",
     "text": [
      "10<<1= 20\n",
      "10<<2= 40\n",
      "10<<3= 80\n",
      "10<<4= 160\n",
      "\n",
      "10>>1= 5\n",
      "10>>2= 2\n",
      "10>>3= 1\n",
      "10>>4= 0\n"
     ]
    }
   ],
   "source": [
    "#<<- towards the left multiply the  mentioned value by 2\n",
    "print(\"10<<1=\",10<<1)\n",
    "print(\"10<<2=\",10<<2)\n",
    "print(\"10<<3=\",10<<3)\n",
    "print(\"10<<4=\",10<<4)\n",
    "print()\n",
    "#>>- towards the right divide the  mentioned value  by 2\n",
    "print(\"10>>1=\",10>>1)\n",
    "print(\"10>>2=\",10>>2)\n",
    "print(\"10>>3=\",10>>3)\n",
    "print(\"10>>4=\",10>>4)\n"
   ]
  }
 ],
 "metadata": {
  "kernelspec": {
   "display_name": "Python 3",
   "language": "python",
   "name": "python3"
  },
  "language_info": {
   "codemirror_mode": {
    "name": "ipython",
    "version": 3
   },
   "file_extension": ".py",
   "mimetype": "text/x-python",
   "name": "python",
   "nbconvert_exporter": "python",
   "pygments_lexer": "ipython3",
   "version": "3.12.1"
  }
 },
 "nbformat": 4,
 "nbformat_minor": 2
}
