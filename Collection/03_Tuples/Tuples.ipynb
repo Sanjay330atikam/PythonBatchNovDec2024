{
 "cells": [
  {
   "cell_type": "markdown",
   "metadata": {},
   "source": [
    "##TUPLES"
   ]
  },
  {
   "cell_type": "code",
   "execution_count": 1,
   "metadata": {},
   "outputs": [],
   "source": [
    "#NOTE:\n",
    "# for tuples with single element place comma, at the end.\n",
    "# to recoginzie as a tuple else recoginzes as a single element."
   ]
  },
  {
   "cell_type": "code",
   "execution_count": 2,
   "metadata": {},
   "outputs": [
    {
     "name": "stdout",
     "output_type": "stream",
     "text": [
      "<class 'float'>\n",
      "<class 'tuple'>\n",
      "<class 'tuple'>\n",
      "<class 'tuple'>\n",
      "<class 'tuple'>\n"
     ]
    }
   ],
   "source": [
    "tup = (99.)\n",
    "print(type(tup))\n",
    "tup = (99,)\n",
    "print(type(tup))\n",
    "tup=()\n",
    "print(type(tup))\n",
    "tup = 1,2,3\n",
    "print(type(tup))\n",
    "tup = 1,\n",
    "print(type(tup))"
   ]
  },
  {
   "cell_type": "code",
   "execution_count": 3,
   "metadata": {},
   "outputs": [
    {
     "name": "stdout",
     "output_type": "stream",
     "text": [
      "['__add__', '__class__', '__class_getitem__', '__contains__', '__delattr__', '__dir__', '__doc__', '__eq__', '__format__', '__ge__', '__getattribute__', '__getitem__', '__getnewargs__', '__getstate__', '__gt__', '__hash__', '__init__', '__init_subclass__', '__iter__', '__le__', '__len__', '__lt__', '__mul__', '__ne__', '__new__', '__reduce__', '__reduce_ex__', '__repr__', '__rmul__', '__setattr__', '__sizeof__', '__str__', '__subclasshook__', 'count', 'index']\n"
     ]
    }
   ],
   "source": [
    "### Attributes \n",
    "my_tup = (12,5,6,8,(5,))\n",
    "print(dir(my_tup))"
   ]
  },
  {
   "cell_type": "code",
   "execution_count": 4,
   "metadata": {},
   "outputs": [
    {
     "name": "stdout",
     "output_type": "stream",
     "text": [
      "my_tup = (12, 5, 6, 8, (5,))  :5\n",
      "my_tup =(12, 5, 6, 8, (5,))    :5\n"
     ]
    }
   ],
   "source": [
    "print(f\"{my_tup = }  :{len(my_tup)}\")\n",
    "print(f\"{my_tup =}    :{my_tup.__len__()}\")\n",
    "assert  len(my_tup) == my_tup.__len__()"
   ]
  },
  {
   "cell_type": "code",
   "execution_count": 5,
   "metadata": {},
   "outputs": [
    {
     "name": "stdout",
     "output_type": "stream",
     "text": [
      "(12, 5, 6, 8, (5,), 12, 5, 6, 8, (5,), 12, 5, 6, 8, (5,))\n",
      "(12, 5, 6, 8, (5,), 12, 5, 6, 8, (5,), 12, 5, 6, 8, (5,))\n"
     ]
    }
   ],
   "source": [
    "\n",
    "print(my_tup*3)\n",
    "print(my_tup.__mul__(3))\n",
    "assert my_tup*3 == my_tup.__mul__(3)"
   ]
  },
  {
   "cell_type": "code",
   "execution_count": 6,
   "metadata": {},
   "outputs": [
    {
     "name": "stdout",
     "output_type": "stream",
     "text": [
      "(12, 5, 6, 8, (5,))\n",
      "1\n",
      "2\n"
     ]
    }
   ],
   "source": [
    "print(my_tup)\n",
    "print(my_tup.count(5))\n",
    "\n",
    "my_tup = [12,5,6,8,(5)]#beacuse in this comma is not there so it is treated as integer\n",
    "print(my_tup.count(5))"
   ]
  },
  {
   "cell_type": "code",
   "execution_count": 7,
   "metadata": {},
   "outputs": [
    {
     "name": "stdout",
     "output_type": "stream",
     "text": [
      "1\n",
      "3\n"
     ]
    }
   ],
   "source": [
    "print(my_tup.index(5))\n",
    "print(my_tup.index(8))"
   ]
  },
  {
   "cell_type": "code",
   "execution_count": 8,
   "metadata": {},
   "outputs": [
    {
     "name": "stdout",
     "output_type": "stream",
     "text": [
      "(99, 9, 99)\n",
      "\n",
      "((9, 99, 9),)\n"
     ]
    }
   ],
   "source": [
    "# tuple concatenation\n",
    "\n",
    "result = (99,) + (9,99)\n",
    "print(result)\n",
    "\n",
    "print()\n",
    "\n",
    "\n",
    "result =  ((9,99,) + (9,),)\n",
    "print(result)\n",
    "\n",
    "\n"
   ]
  },
  {
   "cell_type": "code",
   "execution_count": 9,
   "metadata": {},
   "outputs": [
    {
     "name": "stdout",
     "output_type": "stream",
     "text": [
      "(1) * 3 =3\n",
      "(1,2) * 3 =(1, 2, 1, 2, 1, 2)\n",
      "(1,2,3) * 3 =(1, 2, 3, 1, 2, 3, 1, 2, 3)\n"
     ]
    }
   ],
   "source": [
    "#Tuple repetition\n",
    "print(f\"{(1) * 3 =}\")\n",
    "print(f\"{(1,2) * 3 =}\")\n",
    "print(f\"{(1,2,3) * 3 =}\")"
   ]
  },
  {
   "cell_type": "code",
   "execution_count": 10,
   "metadata": {},
   "outputs": [],
   "source": [
    "##ASSIGNMENT"
   ]
  },
  {
   "cell_type": "markdown",
   "metadata": {},
   "source": [
    "##MUTABILITY\n"
   ]
  },
  {
   "cell_type": "code",
   "execution_count": 11,
   "metadata": {},
   "outputs": [
    {
     "name": "stdout",
     "output_type": "stream",
     "text": [
      "(1, 2, 3),134715798353280\n"
     ]
    }
   ],
   "source": [
    "mytuple = (1,2,3)\n",
    "print(f\"{mytuple},{id(mytuple)}\")"
   ]
  },
  {
   "cell_type": "code",
   "execution_count": 12,
   "metadata": {},
   "outputs": [
    {
     "name": "stdout",
     "output_type": "stream",
     "text": [
      "3\n"
     ]
    }
   ],
   "source": [
    "#Indexing\n",
    "print(f\"{mytuple[2]}\")"
   ]
  },
  {
   "cell_type": "code",
   "execution_count": 13,
   "metadata": {},
   "outputs": [
    {
     "name": "stdout",
     "output_type": "stream",
     "text": [
      "'tuple' object does not support item assignment\n",
      "Tuple objects are immutable\n"
     ]
    }
   ],
   "source": [
    "# updating an element i tuple\n",
    "try:\n",
    "     mytuple[2]='four'\n",
    "except TypeError as ex:\n",
    " print(ex)\n",
    " print(\"Tuple objects are immutable\")"
   ]
  },
  {
   "cell_type": "code",
   "execution_count": 14,
   "metadata": {},
   "outputs": [
    {
     "name": "stdout",
     "output_type": "stream",
     "text": [
      "(1, 2, 144),134715787995392\n"
     ]
    }
   ],
   "source": [
    "#Overwrittinng\n",
    "mytuple = (1,2,144)\n",
    "print(f\"{mytuple},{id(mytuple)}\")"
   ]
  },
  {
   "cell_type": "markdown",
   "metadata": {},
   "source": [
    "##Named Tuples-This are also tuples but they can be accesed in different way\n",
    "like indexing\n",
    "like by keyname\n",
    "using getatrr()\n"
   ]
  },
  {
   "cell_type": "code",
   "execution_count": 15,
   "metadata": {},
   "outputs": [
    {
     "name": "stdout",
     "output_type": "stream",
     "text": [
      "['ChainMap', 'Counter', 'OrderedDict', 'UserDict', 'UserList', 'UserString', '_Link', '_OrderedDictItemsView', '_OrderedDictKeysView', '_OrderedDictValuesView', '__all__', '__builtins__', '__cached__', '__doc__', '__file__', '__loader__', '__name__', '__package__', '__path__', '__spec__', '_chain', '_collections_abc', '_count_elements', '_deque_iterator', '_eq', '_iskeyword', '_itemgetter', '_proxy', '_recursive_repr', '_repeat', '_starmap', '_sys', '_tuplegetter', 'abc', 'defaultdict', 'deque', 'namedtuple']\n"
     ]
    }
   ],
   "source": [
    "import collections\n",
    "print(dir(collections))"
   ]
  },
  {
   "cell_type": "code",
   "execution_count": 16,
   "metadata": {},
   "outputs": [
    {
     "data": {
      "text/plain": [
       "__main__.students"
      ]
     },
     "execution_count": 16,
     "metadata": {},
     "output_type": "execute_result"
    }
   ],
   "source": [
    "#STEP 1: Created a named Tuple object\n",
    "students = collections.namedtuple(\"students\",('name','age','dob'))\n",
    "students"
   ]
  },
  {
   "cell_type": "code",
   "execution_count": 17,
   "metadata": {},
   "outputs": [
    {
     "data": {
      "text/plain": [
       "students(name='Arjun', age=25, dob='25/03/1992')"
      ]
     },
     "execution_count": 17,
     "metadata": {},
     "output_type": "execute_result"
    }
   ],
   "source": [
    "students('Arjun',25,'25/03/1992')"
   ]
  },
  {
   "cell_type": "code",
   "execution_count": 18,
   "metadata": {},
   "outputs": [],
   "source": [
    "student_details =students('Arjun',25,'25/03/1992')"
   ]
  },
  {
   "cell_type": "code",
   "execution_count": 19,
   "metadata": {},
   "outputs": [
    {
     "name": "stdout",
     "output_type": "stream",
     "text": [
      "students(name='Arjun', age=25, dob='25/03/1992')\n"
     ]
    },
    {
     "data": {
      "text/plain": [
       "__main__.students"
      ]
     },
     "execution_count": 19,
     "metadata": {},
     "output_type": "execute_result"
    }
   ],
   "source": [
    "print(student_details)\n",
    "type(student_details)"
   ]
  },
  {
   "cell_type": "code",
   "execution_count": 20,
   "metadata": {},
   "outputs": [
    {
     "name": "stdout",
     "output_type": "stream",
     "text": [
      "Arjun\n",
      "25\n",
      "25/03/1992\n",
      "\n",
      "Arjun\n",
      "25\n",
      "25/03/1992\n"
     ]
    }
   ],
   "source": [
    "#Acessing by Index\n",
    "print(f\"{student_details[0]}\")\n",
    "print(f\"{student_details[1]}\")\n",
    "print(f\"{student_details[2]}\")\n",
    "\n",
    "#Acessing by using position names\n",
    "print()\n",
    "print(f\"{student_details.name}\")\n",
    "print(f\"{student_details.age}\")\n",
    "print(f\"{student_details.dob}\")\n",
    "\n",
    "\n"
   ]
  },
  {
   "cell_type": "code",
   "execution_count": 21,
   "metadata": {},
   "outputs": [
    {
     "name": "stdout",
     "output_type": "stream",
     "text": [
      "Arjun\n",
      "25\n",
      "25/03/1992\n",
      "\n",
      "Arjun\n",
      "25\n",
      "25/03/1992\n",
      "\n"
     ]
    }
   ],
   "source": [
    "print(f\"{getattr(student_details,'name')}\")\n",
    "print(f\"{getattr(student_details,'age')}\")\n",
    "print(f\"{getattr(student_details,'dob')}\")\n",
    "print()\n",
    "print(f\"{student_details[0]}\")\n",
    "print(f\"{student_details[1]}\")\n",
    "print(f\"{student_details[2]}\")\n",
    "print()\n",
    "\n",
    "assert  getattr(student_details,'name') == student_details[0]\n",
    "assert  getattr(student_details,'age')  == student_details[1]\n",
    "assert  getattr(student_details,'dob')  == student_details[2]"
   ]
  },
  {
   "cell_type": "markdown",
   "metadata": {},
   "source": [
    "## Unpacking\n",
    "This works only when it has equal number of varaibales and values on both sides."
   ]
  },
  {
   "cell_type": "code",
   "execution_count": 25,
   "metadata": {},
   "outputs": [
    {
     "name": "stdout",
     "output_type": "stream",
     "text": [
      "num1 = 34, num2 =45\n"
     ]
    }
   ],
   "source": [
    "\n",
    "num1 , num2 = 34,45\n",
    "print(f\"num1 = {num1}, num2 ={num2}\")"
   ]
  },
  {
   "cell_type": "code",
   "execution_count": 26,
   "metadata": {},
   "outputs": [
    {
     "name": "stdout",
     "output_type": "stream",
     "text": [
      "p1 = 0,p2 =1,p3 =2,p4 =3,p5=4,p6=5,p7=6,p8=7\n"
     ]
    }
   ],
   "source": [
    "p1,p2,p3,p4,p5,p6,p7,p8 = 0,1,2,3,4,5,6,7\n",
    "print(f\"p1 = {p1},p2 ={p2},p3 ={p3},p4 ={p4},p5={p5},p6={p6},p7={p7},p8={p8}\")"
   ]
  },
  {
   "cell_type": "code",
   "execution_count": 30,
   "metadata": {},
   "outputs": [
    {
     "name": "stdout",
     "output_type": "stream",
     "text": [
      "n1=1,n2=[2, 3, 4]\n",
      "n1=1,\n",
      "n2=[2, 3, 4, 57], n3 = 98\n"
     ]
    }
   ],
   "source": [
    "#flexible unpacking\n",
    "n1,*n2 = 1,2,3,4\n",
    "print(f\"n1={n1},n2={n2}\")\n",
    "\n",
    "n1,*n2,n3 = 1,2,3,4,57,98\n",
    "print(f\"n1={n1},\\nn2={n2}, n3 = {n3}\")"
   ]
  }
 ],
 "metadata": {
  "kernelspec": {
   "display_name": "Python 3",
   "language": "python",
   "name": "python3"
  },
  "language_info": {
   "codemirror_mode": {
    "name": "ipython",
    "version": 3
   },
   "file_extension": ".py",
   "mimetype": "text/x-python",
   "name": "python",
   "nbconvert_exporter": "python",
   "pygments_lexer": "ipython3",
   "version": "3.12.1"
  }
 },
 "nbformat": 4,
 "nbformat_minor": 2
}
