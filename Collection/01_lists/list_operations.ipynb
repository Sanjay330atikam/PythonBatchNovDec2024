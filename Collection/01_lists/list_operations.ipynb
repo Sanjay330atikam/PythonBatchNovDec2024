{
 "cells": [
  {
   "cell_type": "markdown",
   "metadata": {},
   "source": [
    "####Lists"
   ]
  },
  {
   "cell_type": "code",
   "execution_count": 1,
   "metadata": {},
   "outputs": [],
   "source": [
    "empty_list =[]"
   ]
  },
  {
   "cell_type": "code",
   "execution_count": 3,
   "metadata": {},
   "outputs": [
    {
     "name": "stdout",
     "output_type": "stream",
     "text": [
      "<class 'list'> empty_list = []\n",
      "0\n"
     ]
    }
   ],
   "source": [
    "empty_list = []\n",
    "print(f\"{type(empty_list)} {empty_list = }\")\n",
    "print(f\"{len(empty_list)}\")"
   ]
  },
  {
   "cell_type": "code",
   "execution_count": 10,
   "metadata": {},
   "outputs": [
    {
     "name": "stdout",
     "output_type": "stream",
     "text": [
      "<class 'list'> list =[1, 2, 34, 56, 67]\n",
      " len(list) = 5\n"
     ]
    }
   ],
   "source": [
    "#Homegenous\n",
    "list = [1,2,34,56,67]\n",
    "print(f\"{type(list)} {list =}\")\n",
    "print(f\" {len(list) = }\")"
   ]
  },
  {
   "cell_type": "code",
   "execution_count": 13,
   "metadata": {},
   "outputs": [
    {
     "name": "stdout",
     "output_type": "stream",
     "text": [
      "<class 'list'> list1 = [12, 3.0, '345', 'sanjay', '2+4', '5/324']\n",
      "6\n"
     ]
    }
   ],
   "source": [
    "#non - Homogenous\n",
    "list1 = [12,3.0,'345','sanjay','2+4','5/324']\n",
    "print(f\"{type(list1)} {list1 = }\")\n",
    "print(f\"{len(list1)}\")"
   ]
  }
 ],
 "metadata": {
  "kernelspec": {
   "display_name": "Python 3",
   "language": "python",
   "name": "python3"
  },
  "language_info": {
   "codemirror_mode": {
    "name": "ipython",
    "version": 3
   },
   "file_extension": ".py",
   "mimetype": "text/x-python",
   "name": "python",
   "nbconvert_exporter": "python",
   "pygments_lexer": "ipython3",
   "version": "3.12.1"
  }
 },
 "nbformat": 4,
 "nbformat_minor": 2
}
