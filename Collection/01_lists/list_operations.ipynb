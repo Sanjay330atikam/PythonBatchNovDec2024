{
 "cells": [
  {
   "cell_type": "markdown",
   "metadata": {},
   "source": [
    "####Lists"
   ]
  },
  {
   "cell_type": "code",
   "execution_count": 1,
   "metadata": {},
   "outputs": [],
   "source": [
    "empty_list =[]"
   ]
  },
  {
   "cell_type": "code",
   "execution_count": 3,
   "metadata": {},
   "outputs": [
    {
     "name": "stdout",
     "output_type": "stream",
     "text": [
      "<class 'list'> empty_list = []\n",
      "0\n"
     ]
    }
   ],
   "source": [
    "empty_list = []\n",
    "print(f\"{type(empty_list)} {empty_list = }\")\n",
    "print(f\"{len(empty_list)}\")"
   ]
  },
  {
   "cell_type": "code",
   "execution_count": 10,
   "metadata": {},
   "outputs": [
    {
     "name": "stdout",
     "output_type": "stream",
     "text": [
      "<class 'list'> list =[1, 2, 34, 56, 67]\n",
      " len(list) = 5\n"
     ]
    }
   ],
   "source": [
    "#Homegenous\n",
    "list = [1,2,34,56,67]\n",
    "print(f\"{type(list)} {list =}\")\n",
    "print(f\" {len(list) = }\")"
   ]
  },
  {
   "cell_type": "code",
   "execution_count": 13,
   "metadata": {},
   "outputs": [
    {
     "name": "stdout",
     "output_type": "stream",
     "text": [
      "<class 'list'> list1 = [12, 3.0, '345', 'sanjay', '2+4', '5/324']\n",
      "6\n"
     ]
    }
   ],
   "source": [
    "#non - Homogenous\n",
    "list1 = [12,3.0,'345','sanjay','2+4','5/324']\n",
    "print(f\"{type(list1)} {list1 = }\")\n",
    "print(f\"{len(list1)}\")"
   ]
  },
  {
   "cell_type": "code",
   "execution_count": 15,
   "metadata": {},
   "outputs": [
    {
     "name": "stdout",
     "output_type": "stream",
     "text": [
      "<class 'list'>ml=[1, 2, 34, 78, [34, 789, (10, 6)]]\n",
      "5\n",
      "\n",
      "<class 'list'> 78\n",
      "<class 'list'> ml[4]=[34, 789, (10, 6)]\n",
      "<class 'list'>789\n",
      "<class 'list'>34\n",
      "\n",
      "<class 'list'>(10, 6)\n",
      "<class 'list'>ml[4][2][0] =10\n",
      "<class 'list'>ml[4][2][1] =6\n"
     ]
    }
   ],
   "source": [
    "#multi-dimensional lists\n",
    "ml = [1,2,34,78,[34,789,(10,6)]]\n",
    "print(f\"{type(ml)}{ml=}\")\n",
    "print(f\"{len(ml)}\")\n",
    "print()\n",
    "print(f\"{type(ml)} {ml[3]}\")\n",
    "\n",
    "print(f\"{type(ml)} {ml[4]=}\")\n",
    "print(f\"{type(ml)}{ml[4][1]}\")#next level lists 2-dimesion\n",
    "print(f\"{type(ml)}{ml[4][0]}\")\n",
    "print()\n",
    "\n",
    "print(f\"{type(ml)}{ml[4][2]}\")# next level 3-dimension\n",
    "print(f\"{type(ml)}{ml[4][2][0] =}\")\n",
    "print(f\"{type(ml)}{ml[4][2][1] =}\")"
   ]
  },
  {
   "cell_type": "code",
   "execution_count": 20,
   "metadata": {},
   "outputs": [
    {
     "name": "stdout",
     "output_type": "stream",
     "text": [
      " [2, 34, 78] \n",
      "[2, 78]\n"
     ]
    }
   ],
   "source": [
    "# slicing- last value in the boundary will not be included.\n",
    "#[start index, final index, step]\n",
    "#default start_ index= 0, final_index = len(list), step = 1\n",
    "print(f\" {ml[1:4]} \")\n",
    "print(f\"{ml[1:4:2]}\")"
   ]
  },
  {
   "cell_type": "markdown",
   "metadata": {},
   "source": [
    "###Mutuability\n",
    "Mutuable Objects - lits, sets,dic\n",
    "Immutable Objects - tuple,strings,float,boolean,int"
   ]
  },
  {
   "cell_type": "code",
   "execution_count": 24,
   "metadata": {},
   "outputs": [
    {
     "name": "stdout",
     "output_type": "stream",
     "text": [
      "ml_1 [1, 2, 3, 4.3, 5, [6, 7, 8, (9, 10)]]\n",
      "type(ml_1) =  <class 'list'>\n",
      "len(ml_1) =  6\n",
      "id = 135329359283648\n"
     ]
    }
   ],
   "source": [
    "# multi-dimensional lists\n",
    "m1_1 = [1,2,3,4.3,5,[6,7,8,(9,10)]]\n",
    "print('ml_1',m1_1)\n",
    "print('type(ml_1) = ',type(m1_1))\n",
    "print('len(ml_1) = ',len(m1_1))\n",
    "print('id =',id(m1_1))"
   ]
  },
  {
   "cell_type": "code",
   "execution_count": 28,
   "metadata": {},
   "outputs": [
    {
     "data": {
      "text/plain": [
       "4.3"
      ]
     },
     "execution_count": 28,
     "metadata": {},
     "output_type": "execute_result"
    }
   ],
   "source": [
    "m1_1[3]"
   ]
  },
  {
   "cell_type": "code",
   "execution_count": 29,
   "metadata": {},
   "outputs": [],
   "source": [
    "m1_1[3] = 3.4"
   ]
  },
  {
   "cell_type": "code",
   "execution_count": 30,
   "metadata": {},
   "outputs": [
    {
     "name": "stdout",
     "output_type": "stream",
     "text": [
      "135329359283648\n"
     ]
    }
   ],
   "source": [
    "print(id(m1_1))"
   ]
  },
  {
   "cell_type": "markdown",
   "metadata": {},
   "source": [
    "LIST ATTRIBUTES\n"
   ]
  },
  {
   "cell_type": "code",
   "execution_count": 31,
   "metadata": {},
   "outputs": [
    {
     "name": "stdout",
     "output_type": "stream",
     "text": [
      "<class 'list'>\n",
      "['__add__', '__class__', '__class_getitem__', '__contains__', '__delattr__', '__delitem__', '__dir__', '__doc__', '__eq__', '__format__', '__ge__', '__getattribute__', '__getitem__', '__getstate__', '__gt__', '__hash__', '__iadd__', '__imul__', '__init__', '__init_subclass__', '__iter__', '__le__', '__len__', '__lt__', '__mul__', '__ne__', '__new__', '__reduce__', '__reduce_ex__', '__repr__', '__reversed__', '__rmul__', '__setattr__', '__setitem__', '__sizeof__', '__str__', '__subclasshook__', 'append', 'clear', 'copy', 'count', 'extend', 'index', 'insert', 'pop', 'remove', 'reverse', 'sort']\n"
     ]
    }
   ],
   "source": [
    "numbers = [88,99,666]\n",
    "print(type(numbers))\n",
    "print(dir(numbers))"
   ]
  },
  {
   "cell_type": "code",
   "execution_count": 33,
   "metadata": {},
   "outputs": [
    {
     "name": "stdout",
     "output_type": "stream",
     "text": [
      "3\n",
      "3\n"
     ]
    }
   ],
   "source": [
    "print(len(numbers))\n",
    "print(numbers.__len__())\n",
    "assert len(numbers) ==  numbers.__len__()"
   ]
  },
  {
   "cell_type": "code",
   "execution_count": 35,
   "metadata": {},
   "outputs": [
    {
     "name": "stdout",
     "output_type": "stream",
     "text": [
      "[88, 99, 666]\n",
      "[88, 99, 666]\n"
     ]
    }
   ],
   "source": [
    "print(str(numbers))\n",
    "print(numbers.__str__())\n",
    "assert str(numbers) ==  numbers.__str__()"
   ]
  },
  {
   "cell_type": "code",
   "execution_count": 7,
   "metadata": {},
   "outputs": [
    {
     "name": "stdout",
     "output_type": "stream",
     "text": [
      "[88, 99, 666, 88, 99, 666, 88, 99, 666]\n",
      "[88, 99, 666, 88, 99, 666, 88, 99, 666]\n"
     ]
    }
   ],
   "source": [
    "#list repeatation operator\n",
    "numbers = [88,99,666]\n",
    "print(numbers*3)\n",
    "print(numbers.__mul__(3))\n",
    "assert numbers  * 3 == numbers.__mul__(3)\n"
   ]
  },
  {
   "cell_type": "code",
   "execution_count": 9,
   "metadata": {},
   "outputs": [
    {
     "name": "stdout",
     "output_type": "stream",
     "text": [
      "[88, 99, 666, 88, 99, 666, 88, 99, 666, 88, 99, 666, 88, 99, 666, 88, 99, 666, 88, 99, 666, 88, 99, 666, 88, 99, 666]\n",
      "[88, 99, 666, 88, 99, 666, 88, 99, 666, 88, 99, 666, 88, 99, 666, 88, 99, 666, 88, 99, 666, 88, 99, 666, 88, 99, 666]\n"
     ]
    }
   ],
   "source": [
    "#. original numbers object is modified\n",
    "print(numbers.__imul__(3))\n",
    "print(numbers)"
   ]
  },
  {
   "cell_type": "code",
   "execution_count": 12,
   "metadata": {},
   "outputs": [
    {
     "name": "stdout",
     "output_type": "stream",
     "text": [
      "129270464833536\n",
      "129270464798848\n",
      "129270464824128\n"
     ]
    }
   ],
   "source": [
    "print(id(numbers))\n",
    "#object overwritting\n",
    "numbers=[88,99,666]\n",
    "print(id(numbers))\n",
    "numbers = [88,99,666]\n",
    "print(id(numbers))"
   ]
  },
  {
   "cell_type": "code",
   "execution_count": 9,
   "metadata": {},
   "outputs": [
    {
     "name": "stdout",
     "output_type": "stream",
     "text": [
      "<class 'list'>\n",
      "Data_type1=[1, 2, 3, 4],140348843504768\n",
      "Data_type1=[1, 45, 3, 4],140348843473088\n",
      "\n",
      "<class 'tuple'>\n",
      "Data_type2=(1.3, 4.5, 7.0, 8.6),140348843530960,\n",
      "Data_type2=[45.05, 4.05, 67, 69, 66.98],140348843250944,\n",
      "\n",
      "<class 'list'>\n",
      "Data_type3=(92, 4, 5, 6),140348843530960\n",
      "Data_type3=(29, 5, 64),140348843435968\n",
      "\n",
      "<class 'set'>\n",
      "Data_type4={1, 2, 45, 69},140349198229216\n",
      "Data_type4={256, 34, 667, 45},140349198228544\n",
      "\n",
      "<class 'str'>\n",
      "Data_type5='Over Writting',140348843504560\n",
      "Data_type5=' Writting Over',140348843504816\n"
     ]
    }
   ],
   "source": [
    "#NOTE : overwritting will everytime changes the address of the object, in datastructures.\n",
    "#ASSIGNMENT : try checking the overwritting address change in all data types.\n",
    "Data_type1 = [1,2,3,4]#int\n",
    "print(type(Data_type1))\n",
    "print(f\"{Data_type1=},{id(Data_type1)}\")\n",
    "Data_type1=[1,45,3,4]#over writting\n",
    "print(f\"{Data_type1=},{id(Data_type1)}\")\n",
    "\n",
    "print()\n",
    "Data_type2 = 1.3,4.5,7.00,8.6#float\n",
    "print(type(Data_type2))\n",
    "print(f\"{Data_type2=},{id(Data_type2)},\")\n",
    "Data_type2 = [45.05,4.05,67,69,66.98]#overwritting\n",
    "print(f\"{Data_type2=},{id(Data_type2)},\")\n",
    "\n",
    "print()     \n",
    "Data_type3 = (92,4,5,6)\n",
    "print(type(Data_type2))\n",
    "print(f\"{Data_type3=},{id(Data_type3)}\")\n",
    "Data_type3 = (29,5,64)\n",
    "print(f\"{Data_type3=},{id(Data_type3)}\")\n",
    "\n",
    "print()\n",
    "Data_type4 = {1,2,45,69}\n",
    "print(type(Data_type4))\n",
    "print(f\"{Data_type4=},{id(Data_type4)}\")\n",
    "Data_type4 = {34,256,45,667}\n",
    "print(f\"{Data_type4=},{id(Data_type4)}\")\n",
    "\n",
    "print()\n",
    "Data_type5 = 'Over Writting'\n",
    "print(type(Data_type5))\n",
    "print(f\"{Data_type5=},{id(Data_type5)}\")\n",
    "Data_type5 = ' Writting Over'\n",
    "print(f\"{Data_type5=},{id(Data_type5)}\")\n"
   ]
  },
  {
   "cell_type": "code",
   "execution_count": 13,
   "metadata": {},
   "outputs": [
    {
     "data": {
      "text/plain": [
       "[88, 99, 666, 'b', 'c']"
      ]
     },
     "execution_count": 13,
     "metadata": {},
     "output_type": "execute_result"
    }
   ],
   "source": [
    "#list Concatenation\n",
    "alphabets =['b','c']\n",
    "numbers + alphabets\n"
   ]
  },
  {
   "cell_type": "code",
   "execution_count": 14,
   "metadata": {},
   "outputs": [
    {
     "data": {
      "text/plain": [
       "[88, 99, 666, 'b', 'c']"
      ]
     },
     "execution_count": 14,
     "metadata": {},
     "output_type": "execute_result"
    }
   ],
   "source": [
    "numbers.__add__(alphabets)"
   ]
  },
  {
   "cell_type": "code",
   "execution_count": 15,
   "metadata": {},
   "outputs": [
    {
     "data": {
      "text/plain": [
       "[88, 99, 666, 'b', 'c']"
      ]
     },
     "execution_count": 15,
     "metadata": {},
     "output_type": "execute_result"
    }
   ],
   "source": [
    "numbers.__iadd__(alphabets)"
   ]
  },
  {
   "cell_type": "code",
   "execution_count": 18,
   "metadata": {},
   "outputs": [
    {
     "data": {
      "text/plain": [
       "[88, 99, 666, 'b', 'c']"
      ]
     },
     "execution_count": 18,
     "metadata": {},
     "output_type": "execute_result"
    }
   ],
   "source": [
    "numbers # first object is changed "
   ]
  },
  {
   "cell_type": "code",
   "execution_count": 23,
   "metadata": {},
   "outputs": [
    {
     "name": "stdout",
     "output_type": "stream",
     "text": [
      "False\n",
      "False\n",
      "True\n",
      "True\n"
     ]
    }
   ],
   "source": [
    "#membership check-in\n",
    "print(12 in numbers)\n",
    "print(numbers.__contains__(12))\n",
    "\n",
    "print('b' in alphabets)\n",
    "print(alphabets.__contains__('b'))"
   ]
  },
  {
   "cell_type": "code",
   "execution_count": 26,
   "metadata": {},
   "outputs": [
    {
     "name": "stdout",
     "output_type": "stream",
     "text": [
      "104\n",
      "sys.getsizeof(numbers)=120\n"
     ]
    }
   ],
   "source": [
    "print(f\"{numbers.__sizeof__()}\")\n",
    "import sys\n",
    "print(f\"{sys.getsizeof(numbers)=}\")#object + c header(converts to c python)"
   ]
  },
  {
   "cell_type": "code",
   "execution_count": 2,
   "metadata": {},
   "outputs": [
    {
     "name": "stdout",
     "output_type": "stream",
     "text": [
      "Built-in mutable sequence.\n",
      "\n",
      "If no argument is given, the constructor creates a new empty list.\n",
      "The argument must be an iterable if specified.\n"
     ]
    }
   ],
   "source": [
    "numbers = [88,99,666]\n",
    "print(numbers.__doc__)"
   ]
  },
  {
   "cell_type": "code",
   "execution_count": 3,
   "metadata": {},
   "outputs": [
    {
     "name": "stdout",
     "output_type": "stream",
     "text": [
      "Help on list object:\n",
      "\n",
      "class list(object)\n",
      " |  list(iterable=(), /)\n",
      " |\n",
      " |  Built-in mutable sequence.\n",
      " |\n",
      " |  If no argument is given, the constructor creates a new empty list.\n",
      " |  The argument must be an iterable if specified.\n",
      " |\n",
      " |  Methods defined here:\n",
      " |\n",
      " |  __add__(self, value, /)\n",
      " |      Return self+value.\n",
      " |\n",
      " |  __contains__(self, key, /)\n",
      " |      Return bool(key in self).\n",
      " |\n",
      " |  __delitem__(self, key, /)\n",
      " |      Delete self[key].\n",
      " |\n",
      " |  __eq__(self, value, /)\n",
      " |      Return self==value.\n",
      " |\n",
      " |  __ge__(self, value, /)\n",
      " |      Return self>=value.\n",
      " |\n",
      " |  __getattribute__(self, name, /)\n",
      " |      Return getattr(self, name).\n",
      " |\n",
      " |  __getitem__(self, index, /)\n",
      " |      Return self[index].\n",
      " |\n",
      " |  __gt__(self, value, /)\n",
      " |      Return self>value.\n",
      " |\n",
      " |  __iadd__(self, value, /)\n",
      " |      Implement self+=value.\n",
      " |\n",
      " |  __imul__(self, value, /)\n",
      " |      Implement self*=value.\n",
      " |\n",
      " |  __init__(self, /, *args, **kwargs)\n",
      " |      Initialize self.  See help(type(self)) for accurate signature.\n",
      " |\n",
      " |  __iter__(self, /)\n",
      " |      Implement iter(self).\n",
      " |\n",
      " |  __le__(self, value, /)\n",
      " |      Return self<=value.\n",
      " |\n",
      " |  __len__(self, /)\n",
      " |      Return len(self).\n",
      " |\n",
      " |  __lt__(self, value, /)\n",
      " |      Return self<value.\n",
      " |\n",
      " |  __mul__(self, value, /)\n",
      " |      Return self*value.\n",
      " |\n",
      " |  __ne__(self, value, /)\n",
      " |      Return self!=value.\n",
      " |\n",
      " |  __repr__(self, /)\n",
      " |      Return repr(self).\n",
      " |\n",
      " |  __reversed__(self, /)\n",
      " |      Return a reverse iterator over the list.\n",
      " |\n",
      " |  __rmul__(self, value, /)\n",
      " |      Return value*self.\n",
      " |\n",
      " |  __setitem__(self, key, value, /)\n",
      " |      Set self[key] to value.\n",
      " |\n",
      " |  __sizeof__(self, /)\n",
      " |      Return the size of the list in memory, in bytes.\n",
      " |\n",
      " |  append(self, object, /)\n",
      " |      Append object to the end of the list.\n",
      " |\n",
      " |  clear(self, /)\n",
      " |      Remove all items from list.\n",
      " |\n",
      " |  copy(self, /)\n",
      " |      Return a shallow copy of the list.\n",
      " |\n",
      " |  count(self, value, /)\n",
      " |      Return number of occurrences of value.\n",
      " |\n",
      " |  extend(self, iterable, /)\n",
      " |      Extend list by appending elements from the iterable.\n",
      " |\n",
      " |  index(self, value, start=0, stop=9223372036854775807, /)\n",
      " |      Return first index of value.\n",
      " |\n",
      " |      Raises ValueError if the value is not present.\n",
      " |\n",
      " |  insert(self, index, object, /)\n",
      " |      Insert object before index.\n",
      " |\n",
      " |  pop(self, index=-1, /)\n",
      " |      Remove and return item at index (default last).\n",
      " |\n",
      " |      Raises IndexError if list is empty or index is out of range.\n",
      " |\n",
      " |  remove(self, value, /)\n",
      " |      Remove first occurrence of value.\n",
      " |\n",
      " |      Raises ValueError if the value is not present.\n",
      " |\n",
      " |  reverse(self, /)\n",
      " |      Reverse *IN PLACE*.\n",
      " |\n",
      " |  sort(self, /, *, key=None, reverse=False)\n",
      " |      Sort the list in ascending order and return None.\n",
      " |\n",
      " |      The sort is in-place (i.e. the list itself is modified) and stable (i.e. the\n",
      " |      order of two equal elements is maintained).\n",
      " |\n",
      " |      If a key function is given, apply it once to each list item and sort them,\n",
      " |      ascending or descending, according to their function values.\n",
      " |\n",
      " |      The reverse flag can be set to sort in descending order.\n",
      " |\n",
      " |  ----------------------------------------------------------------------\n",
      " |  Class methods defined here:\n",
      " |\n",
      " |  __class_getitem__(...) from builtins.type\n",
      " |      See PEP 585\n",
      " |\n",
      " |  ----------------------------------------------------------------------\n",
      " |  Static methods defined here:\n",
      " |\n",
      " |  __new__(*args, **kwargs) from builtins.type\n",
      " |      Create and return a new object.  See help(type) for accurate signature.\n",
      " |\n",
      " |  ----------------------------------------------------------------------\n",
      " |  Data and other attributes defined here:\n",
      " |\n",
      " |  __hash__ = None\n",
      "\n"
     ]
    }
   ],
   "source": [
    "help(numbers)"
   ]
  },
  {
   "cell_type": "code",
   "execution_count": 4,
   "metadata": {},
   "outputs": [
    {
     "name": "stdout",
     "output_type": "stream",
     "text": [
      "['__add__', '__class__', '__class_getitem__', '__contains__', '__delattr__', '__delitem__', '__dir__', '__doc__', '__eq__', '__format__', '__ge__', '__getattribute__', '__getitem__', '__getstate__', '__gt__', '__hash__', '__iadd__', '__imul__', '__init__', '__init_subclass__', '__iter__', '__le__', '__len__', '__lt__', '__mul__', '__ne__', '__new__', '__reduce__', '__reduce_ex__', '__repr__', '__reversed__', '__rmul__', '__setattr__', '__setitem__', '__sizeof__', '__str__', '__subclasshook__', 'append', 'clear', 'copy', 'count', 'extend', 'index', 'insert', 'pop', 'remove', 'reverse', 'sort']\n"
     ]
    }
   ],
   "source": [
    "list = [1,2,3]\n",
    "print(dir(list))"
   ]
  },
  {
   "cell_type": "code",
   "execution_count": 6,
   "metadata": {},
   "outputs": [
    {
     "name": "stdout",
     "output_type": "stream",
     "text": [
      "__add__\n",
      "__class__\n",
      "__class_getitem__\n",
      "__contains__\n",
      "__delattr__\n",
      "__delitem__\n",
      "__dir__\n",
      "__doc__\n",
      "__eq__\n",
      "__format__\n",
      "__ge__\n",
      "__getattribute__\n",
      "__getitem__\n",
      "__getstate__\n",
      "__gt__\n",
      "__hash__\n",
      "__iadd__\n",
      "__imul__\n",
      "__init__\n",
      "__init_subclass__\n",
      "__iter__\n",
      "__le__\n",
      "__len__\n",
      "__lt__\n",
      "__mul__\n",
      "__ne__\n",
      "__new__\n",
      "__reduce__\n",
      "__reduce_ex__\n",
      "__repr__\n",
      "__reversed__\n",
      "__rmul__\n",
      "__setattr__\n",
      "__setitem__\n",
      "__sizeof__\n",
      "__str__\n",
      "__subclasshook__\n",
      "append\n",
      "clear\n",
      "copy\n",
      "count\n",
      "extend\n",
      "index\n",
      "insert\n",
      "pop\n",
      "remove\n",
      "reverse\n",
      "sort\n"
     ]
    }
   ],
   "source": [
    "for attributes in dir(list):\n",
    "    print(attributes)\n"
   ]
  },
  {
   "cell_type": "code",
   "execution_count": 10,
   "metadata": {},
   "outputs": [
    {
     "name": "stdout",
     "output_type": "stream",
     "text": [
      "append,clear,copy,count,extend,index,insert,pop,remove,reverse,sort,"
     ]
    }
   ],
   "source": [
    "for attributes in dir(list):\n",
    "    if not attributes.startswith('__'):\n",
    "     print(attributes,end=',')"
   ]
  },
  {
   "cell_type": "code",
   "execution_count": 18,
   "metadata": {},
   "outputs": [
    {
     "name": "stdout",
     "output_type": "stream",
     "text": [
      "[1, 2, 3, 44]\n"
     ]
    }
   ],
   "source": [
    "#append\n",
    "list = [1,2,3]\n",
    "list.append(44)\n",
    "print(list)\n",
    "\n"
   ]
  },
  {
   "cell_type": "code",
   "execution_count": 23,
   "metadata": {},
   "outputs": [
    {
     "name": "stdout",
     "output_type": "stream",
     "text": [
      "[1, 2, 3, 55, 66, [234, 234]]\n"
     ]
    }
   ],
   "source": [
    "my_list = [1,2,3,55,66]\n",
    "my_list.append([234,234])\n",
    "print(my_list)"
   ]
  },
  {
   "cell_type": "code",
   "execution_count": 25,
   "metadata": {},
   "outputs": [
    {
     "name": "stdout",
     "output_type": "stream",
     "text": [
      "[1, 2, 3, 55, 66, [234, 234], 77]\n"
     ]
    }
   ],
   "source": [
    "my_list.extend([77])\n",
    "print(my_list)"
   ]
  },
  {
   "cell_type": "code",
   "execution_count": 26,
   "metadata": {},
   "outputs": [
    {
     "name": "stdout",
     "output_type": "stream",
     "text": [
      "['s', 1, 55, 67]\n"
     ]
    }
   ],
   "source": [
    "#insert\n",
    "\n",
    "list = [1,55,67]\n",
    "list.insert(0,'s')\n",
    "print(list)"
   ]
  },
  {
   "cell_type": "code",
   "execution_count": 27,
   "metadata": {},
   "outputs": [
    {
     "name": "stdout",
     "output_type": "stream",
     "text": [
      "['s', 1, 55, '66', 67]\n"
     ]
    }
   ],
   "source": [
    "#question How to make list.insert work like list.append\n",
    "\n",
    "list.insert(-1,'66')\n",
    "print(list)"
   ]
  },
  {
   "cell_type": "code",
   "execution_count": 33,
   "metadata": {},
   "outputs": [
    {
     "name": "stdout",
     "output_type": "stream",
     "text": [
      "After my list insert(len(list)) \n",
      " \t ['s', 1, 55, '66', 67, 'ff', 'ff', 'ff', 'ff']\n"
     ]
    }
   ],
   "source": [
    "list.insert(len(list),\"ff\")\n",
    "print('After my list insert(len(list)) \\n \\t', list)\n",
    "\n",
    "#NOTE: insert works like append"
   ]
  },
  {
   "cell_type": "code",
   "execution_count": 37,
   "metadata": {},
   "outputs": [
    {
     "name": "stdout",
     "output_type": "stream",
     "text": [
      "list.pop() = 'ff'\n",
      "list = ['s', 1, 55, '66', 67]\n"
     ]
    }
   ],
   "source": [
    "#POP()\n",
    "print(f\"{list.pop() = }\")\n",
    "print(f\"{list = }\")"
   ]
  },
  {
   "cell_type": "code",
   "execution_count": 40,
   "metadata": {},
   "outputs": [
    {
     "name": "stdout",
     "output_type": "stream",
     "text": [
      "[22, 78, 900]\n"
     ]
    }
   ],
   "source": [
    "#remove- to remove specific elemet\n",
    "aa = [22,45,78,900]\n",
    "aa.remove(45)\n",
    "print(aa)"
   ]
  },
  {
   "cell_type": "code",
   "execution_count": 65,
   "metadata": {},
   "outputs": [
    {
     "name": "stdout",
     "output_type": "stream",
     "text": [
      "[1, 2, 3, 45]\n"
     ]
    }
   ],
   "source": [
    "#Assignment - Remove the last occurance of element in list\n",
    "\n",
    "jj = [1,2,3,45,6]\n",
    "jj.remove(jj[-1])\n",
    "print(jj)\n",
    "\n",
    "# kk=[1,2,3,4,2,8]\n"
   ]
  },
  {
   "cell_type": "code",
   "execution_count": 17,
   "metadata": {},
   "outputs": [
    {
     "name": "stdout",
     "output_type": "stream",
     "text": [
      "[23, 34, 7, 36, 100]\n",
      "After remove last element  100\n",
      "[23, 34, 7, 36]\n",
      "Length of stack =  4\n"
     ]
    }
   ],
   "source": [
    "# # ASSIGNMENT - Implement the STACK Mechanison -LIFO\n",
    "# lifo = [1,2,3,4,5]\n",
    "# lifo.append(100)\n",
    "# print(f\"{lifo=}\")\n",
    "# print()\n",
    "\n",
    "# lifo.pop()\n",
    "# print(f\"{lifo=}\")\n",
    "\n",
    "# print()\n",
    "# print(f\"{len(lifo)=}\")\n",
    "print()\n",
    "\n",
    "stack = []\n",
    "stack.append(23)\n",
    "stack.append(34)\n",
    "stack.append(7)\n",
    "stack.append(36)\n",
    "stack.append(100)\n",
    "print(stack)\n",
    "\n",
    "print(\"After remove last element = \",stack.pop())\n",
    "print(stack)\n",
    "\n",
    "print(\"Length of stack = \",len(stack))\n",
    "\n"
   ]
  },
  {
   "cell_type": "code",
   "execution_count": 23,
   "metadata": {},
   "outputs": [
    {
     "name": "stdout",
     "output_type": "stream",
     "text": [
      "fifo=[36, 1, 24, 56, 49]\n",
      "\n",
      "fifo=[36, 1, 24, 56]\n",
      "\n",
      "len(fifo)=4\n",
      "\n",
      "[23, 34, 7, 36, 100]\n",
      "After inserting the value =  [69, 23, 34, 7, 36, 100]\n",
      "After remove last element =  36\n",
      "[69, 23, 34, 7]\n",
      "Length of stack =  4\n"
     ]
    }
   ],
   "source": [
    "# ASSIGNMENT - Implement the queue Mechanison -FIFO\n",
    "fifo = [1,24,56,49]\n",
    "fifo.insert(0,36)\n",
    "print(f\"{fifo=}\")\n",
    "print()\n",
    "\n",
    "fifo.pop()\n",
    "print(f\"{fifo=}\")\n",
    "\n",
    "print()\n",
    "print(f\"{len(fifo)=}\")\n",
    "\n",
    "print()\n",
    "queue =[]\n",
    "queue.append(23)\n",
    "queue.append(34)\n",
    "queue.append(7)\n",
    "queue.append(36)\n",
    "queue.append(100)\n",
    "print(queue)\n",
    "queue.insert(0,69)\n",
    "print(\"After inserting the value = \",queue)\n",
    "\n",
    "queue.pop()\n",
    "print(\"After remove last element = \",queue.pop())\n",
    "print(queue)\n",
    "\n",
    "print(\"Length of stack = \",len(queue))\n"
   ]
  }
 ],
 "metadata": {
  "kernelspec": {
   "display_name": "Python 3",
   "language": "python",
   "name": "python3"
  },
  "language_info": {
   "codemirror_mode": {
    "name": "ipython",
    "version": 3
   },
   "file_extension": ".py",
   "mimetype": "text/x-python",
   "name": "python",
   "nbconvert_exporter": "python",
   "pygments_lexer": "ipython3",
   "version": "3.12.1"
  }
 },
 "nbformat": 4,
 "nbformat_minor": 2
}
