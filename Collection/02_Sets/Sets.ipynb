{
 "cells": [
  {
   "cell_type": "markdown",
   "metadata": {},
   "source": [
    "##SETS\n"
   ]
  },
  {
   "cell_type": "code",
   "execution_count": null,
   "metadata": {},
   "outputs": [],
   "source": [
    "#Method 1 : To remove duplicates in list/tuple\n",
    "filtered_list=[]\n",
    "running_ports =[11,23,45,67,67,43,11]\n",
    "for each_port in running_ports:\n",
    "    print(each_port,each_port in filtered_list)\n",
    "    if each_port not in filtered_list:\n",
    "        filtered_list.append(each_port)"
   ]
  },
  {
   "cell_type": "code",
   "execution_count": 4,
   "metadata": {},
   "outputs": [
    {
     "data": {
      "text/plain": [
       "[11, 23, 45, 67, 43]"
      ]
     },
     "execution_count": 4,
     "metadata": {},
     "output_type": "execute_result"
    }
   ],
   "source": [
    "filtered_list"
   ]
  },
  {
   "cell_type": "code",
   "execution_count": 5,
   "metadata": {},
   "outputs": [
    {
     "data": {
      "text/plain": [
       "5"
      ]
     },
     "execution_count": 5,
     "metadata": {},
     "output_type": "execute_result"
    }
   ],
   "source": [
    "len(filtered_list)"
   ]
  },
  {
   "cell_type": "code",
   "execution_count": 8,
   "metadata": {},
   "outputs": [
    {
     "name": "stdout",
     "output_type": "stream",
     "text": [
      "unique_ports={67, 23, 43, 11, 45}\n",
      "5\n"
     ]
    }
   ],
   "source": [
    "unique_ports ={11,23,45,67,67,43,11}\n",
    "print(f\"{unique_ports=}\")\n",
    "print(f\"{len(unique_ports)}\")"
   ]
  },
  {
   "cell_type": "code",
   "execution_count": 12,
   "metadata": {},
   "outputs": [
    {
     "name": "stdout",
     "output_type": "stream",
     "text": [
      "[67, 43, 11, 45, 23]\n"
     ]
    }
   ],
   "source": [
    "#Method 2 : Using sets to remove duplicates\n",
    "running_ports =[11,23,45,67,67,43,11]\n",
    "filtered_list = list(set(running_ports))\n",
    "print(filtered_list)"
   ]
  },
  {
   "cell_type": "code",
   "execution_count": null,
   "metadata": {},
   "outputs": [],
   "source": [
    "# sets can't be indexed\n",
    "# sets can't be sliced "
   ]
  },
  {
   "cell_type": "markdown",
   "metadata": {},
   "source": [
    "#SETS ATTRIBUTES"
   ]
  },
  {
   "cell_type": "code",
   "execution_count": 14,
   "metadata": {},
   "outputs": [
    {
     "name": "stdout",
     "output_type": "stream",
     "text": [
      "['__and__', '__class__', '__class_getitem__', '__contains__', '__delattr__', '__dir__', '__doc__', '__eq__', '__format__', '__ge__', '__getattribute__', '__getstate__', '__gt__', '__hash__', '__iand__', '__init__', '__init_subclass__', '__ior__', '__isub__', '__iter__', '__ixor__', '__le__', '__len__', '__lt__', '__ne__', '__new__', '__or__', '__rand__', '__reduce__', '__reduce_ex__', '__repr__', '__ror__', '__rsub__', '__rxor__', '__setattr__', '__sizeof__', '__str__', '__sub__', '__subclasshook__', '__xor__', 'add', 'clear', 'copy', 'difference', 'difference_update', 'discard', 'intersection', 'intersection_update', 'isdisjoint', 'issubset', 'issuperset', 'pop', 'remove', 'symmetric_difference', 'symmetric_difference_update', 'union', 'update']\n"
     ]
    }
   ],
   "source": [
    "simple_set ={1.2,3}\n",
    "print(dir(simple_set))"
   ]
  },
  {
   "cell_type": "code",
   "execution_count": 15,
   "metadata": {},
   "outputs": [
    {
     "name": "stdout",
     "output_type": "stream",
     "text": [
      "add\n",
      "clear\n",
      "copy\n",
      "difference\n",
      "difference_update\n",
      "discard\n",
      "intersection\n",
      "intersection_update\n",
      "isdisjoint\n",
      "issubset\n",
      "issuperset\n",
      "pop\n",
      "remove\n",
      "symmetric_difference\n",
      "symmetric_difference_update\n",
      "union\n",
      "update\n"
     ]
    }
   ],
   "source": [
    "for each_attribute in dir(simple_set):\n",
    "    if not each_attribute.startswith(\"__\"):\n",
    "        print(each_attribute)"
   ]
  },
  {
   "cell_type": "code",
   "execution_count": 16,
   "metadata": {},
   "outputs": [
    {
     "name": "stdout",
     "output_type": "stream",
     "text": [
      "simple_set={1.2, 10, 3}\n"
     ]
    }
   ],
   "source": [
    "simple_set.add(10)\n",
    "print(f\"{simple_set=}\")\n",
    "#We cant add mutuable objects to sets like lists"
   ]
  },
  {
   "cell_type": "code",
   "execution_count": 17,
   "metadata": {},
   "outputs": [
    {
     "name": "stdout",
     "output_type": "stream",
     "text": [
      "{1.2, 10, 3, 'Python'}\n"
     ]
    }
   ],
   "source": [
    "simple_set.add('Python')\n",
    "print(f\"{simple_set}\")"
   ]
  },
  {
   "cell_type": "code",
   "execution_count": 22,
   "metadata": {},
   "outputs": [
    {
     "name": "stdout",
     "output_type": "stream",
     "text": [
      "{1, 2, 3, 33, 666}\n"
     ]
    }
   ],
   "source": [
    "#Update\n",
    "simple_set ={1,2,3}\n",
    "simple_set.update((666,33))\n",
    "print(f\"{simple_set}\")"
   ]
  },
  {
   "cell_type": "code",
   "execution_count": 23,
   "metadata": {},
   "outputs": [
    {
     "name": "stdout",
     "output_type": "stream",
     "text": [
      "simple_set={1, 2, 3, 33, 8, 9, 666}\n"
     ]
    }
   ],
   "source": [
    "simple_set.update(([9,8]))\n",
    "print(f\"{simple_set=}\")"
   ]
  },
  {
   "cell_type": "code",
   "execution_count": 26,
   "metadata": {},
   "outputs": [
    {
     "name": "stdout",
     "output_type": "stream",
     "text": [
      "simple_set={1, 2, 3, 33, 98, 67, 69, 8, 9, 45, (98, 45), 666, (67, 69)}\n"
     ]
    }
   ],
   "source": [
    "simple_set.update([(98,45),(67,69)])\n",
    "print(f\"{simple_set=}\")"
   ]
  },
  {
   "cell_type": "code",
   "execution_count": 31,
   "metadata": {},
   "outputs": [
    {
     "name": "stdout",
     "output_type": "stream",
     "text": [
      "After pop->{45, (98, 45), 666, (67, 69)}\n",
      "After pop->{(98, 45), 666, (67, 69)}\n",
      "After pop->{666, (67, 69)}\n"
     ]
    }
   ],
   "source": [
    "#pop() - removes the random element\n",
    "simple_set.pop()\n",
    "print(f\"After pop->{simple_set}\")\n",
    "simple_set.pop()\n",
    "print(f\"After pop->{simple_set}\")\n",
    "simple_set.pop()\n",
    "print(f\"After pop->{simple_set}\")"
   ]
  },
  {
   "cell_type": "code",
   "execution_count": 36,
   "metadata": {},
   "outputs": [
    {
     "name": "stdout",
     "output_type": "stream",
     "text": [
      "{666, (67, 69)}\n",
      "After remove->{(67, 69)}\n"
     ]
    }
   ],
   "source": [
    "#remove() - removes specific element which is mentioned\n",
    "# throws error when element is not present\n",
    "print(simple_set)\n",
    "simple_set.remove(666)\n",
    "print(f\"After remove->{simple_set}\")"
   ]
  },
  {
   "cell_type": "code",
   "execution_count": 37,
   "metadata": {},
   "outputs": [
    {
     "name": "stdout",
     "output_type": "stream",
     "text": [
      "After discard->{2, 4, 5, 6, 89, 667}\n"
     ]
    }
   ],
   "source": [
    "#discrad - removes specific element\n",
    "# doesn't throws error if element is not present\n",
    "simple_sets={2,4,5,6,89,667,19999}\n",
    "simple_sets.discard(19999)\n",
    "print(f\"After discard->{simple_sets}\")"
   ]
  },
  {
   "cell_type": "code",
   "execution_count": 38,
   "metadata": {},
   "outputs": [
    {
     "name": "stdout",
     "output_type": "stream",
     "text": [
      "140343734737536,{2, 4, 5, 6, 89, 667}\n",
      "140343734740224,new_set={2, 4, 5, 6, 89, 667}\n"
     ]
    }
   ],
   "source": [
    "#copy\n",
    "new_set = simple_sets.copy()\n",
    "print(f\"{id(simple_sets)},{simple_sets}\")\n",
    "print(f\"{id(new_set)},{new_set=}\")"
   ]
  },
  {
   "cell_type": "code",
   "execution_count": 39,
   "metadata": {},
   "outputs": [
    {
     "name": "stdout",
     "output_type": "stream",
     "text": [
      "140343734737536,set()\n",
      "140343734740224,new_set={2, 4, 5, 6, 89, 667}\n"
     ]
    }
   ],
   "source": [
    "simple_sets.clear()\n",
    "print(f\"{id(simple_sets)},{simple_sets}\")\n",
    "print(f\"{id(new_set)},{new_set=}\")"
   ]
  },
  {
   "cell_type": "code",
   "execution_count": null,
   "metadata": {},
   "outputs": [],
   "source": [
    "##ASSIGNMENT"
   ]
  },
  {
   "cell_type": "markdown",
   "metadata": {},
   "source": [
    "##SET OPERATIONS"
   ]
  },
  {
   "cell_type": "code",
   "execution_count": 42,
   "metadata": {},
   "outputs": [
    {
     "name": "stdout",
     "output_type": "stream",
     "text": [
      "True\n",
      "True\n"
     ]
    }
   ],
   "source": [
    "rainbow ={'green','yellow','orange','red',}\n",
    "traffic_light ={'green','orange','red'}\n",
    "print(traffic_light.issubset(rainbow))\n",
    "print(rainbow.issuperset(traffic_light))"
   ]
  },
  {
   "cell_type": "code",
   "execution_count": 43,
   "metadata": {},
   "outputs": [
    {
     "name": "stdout",
     "output_type": "stream",
     "text": [
      "False\n",
      "{'green', 'orange', 'red'}\n"
     ]
    }
   ],
   "source": [
    "print(f\"{traffic_light.isdisjoint(rainbow)}\")\n",
    "print(f\"{traffic_light.intersection(rainbow)}\")"
   ]
  },
  {
   "cell_type": "code",
   "execution_count": 44,
   "metadata": {},
   "outputs": [
    {
     "name": "stdout",
     "output_type": "stream",
     "text": [
      "{'yellow'}\n",
      "set()\n"
     ]
    }
   ],
   "source": [
    "#set difference\n",
    "# from first set remove common elements between both sets \n",
    "print(f\"{rainbow - traffic_light}\")\n",
    "print(f\"{traffic_light-rainbow}\")"
   ]
  },
  {
   "cell_type": "code",
   "execution_count": 45,
   "metadata": {},
   "outputs": [
    {
     "name": "stdout",
     "output_type": "stream",
     "text": [
      "{'yellow', 'green', 'orange', 'red'}\n",
      "{'yellow', 'green', 'orange', 'red'}\n"
     ]
    }
   ],
   "source": [
    "#union - To get all elements btwn both sets\n",
    "print(f\"{traffic_light.union(rainbow)}\")\n",
    "print(f\"{rainbow.union(traffic_light)}\")"
   ]
  },
  {
   "cell_type": "code",
   "execution_count": 47,
   "metadata": {},
   "outputs": [
    {
     "name": "stdout",
     "output_type": "stream",
     "text": [
      "{'green', 'orange', 'red'}\n",
      "{'green', 'orange', 'red'}\n"
     ]
    }
   ],
   "source": [
    "# intersection - to get common elements btwn two sets\n",
    "print(f\"{traffic_light.intersection(rainbow)}\")\n",
    "print(f\"{rainbow.intersection(traffic_light)}\")"
   ]
  },
  {
   "cell_type": "code",
   "execution_count": 48,
   "metadata": {},
   "outputs": [
    {
     "name": "stdout",
     "output_type": "stream",
     "text": [
      "{'yellow'}\n",
      "{'yellow'}\n"
     ]
    }
   ],
   "source": [
    "#symmetric difference\n",
    "# To get elements of both sets which are not common\n",
    "print(f\"{traffic_light.symmetric_difference(rainbow)}\")\n",
    "print(f\"{rainbow.symmetric_difference(traffic_light)}\")"
   ]
  }
 ],
 "metadata": {
  "kernelspec": {
   "display_name": "Python 3",
   "language": "python",
   "name": "python3"
  },
  "language_info": {
   "codemirror_mode": {
    "name": "ipython",
    "version": 3
   },
   "file_extension": ".py",
   "mimetype": "text/x-python",
   "name": "python",
   "nbconvert_exporter": "python",
   "pygments_lexer": "ipython3",
   "version": "3.12.1"
  }
 },
 "nbformat": 4,
 "nbformat_minor": 2
}
