{
 "cells": [
  {
   "cell_type": "markdown",
   "metadata": {},
   "source": [
    "### SETS OPERATORS\n",
    "| Set Union\n",
    "& Set Intersection \n",
    "^ Set symmetric_difference\n",
    "<= isubset\n",
    ">= issuperset \n"
   ]
  },
  {
   "cell_type": "code",
   "execution_count": 2,
   "metadata": {},
   "outputs": [
    {
     "name": "stdout",
     "output_type": "stream",
     "text": [
      "all_words = {'Chennai', 'Biahr', 'San Franscio', 'los Angels', 'San Diego'}\n",
      "\n",
      "all_words = {'Chennai', 'Biahr', 'San Franscio', 'los Angels', 'San Diego'}\n"
     ]
    }
   ],
   "source": [
    "word_set1 = {'San Franscio',\"los Angels\",\"San Diego\"}\n",
    "word_set2 = {'San Franscio',\"los Angels\",'Chennai',\"San Diego\",'Biahr'}\n",
    "all_words = word_set1 | word_set2\n",
    "print(f\"{all_words = }\")\n",
    "print()\n",
    "ll_words = word_set1.union(word_set2)\n",
    "print(f\"{all_words = }\")"
   ]
  },
  {
   "cell_type": "code",
   "execution_count": 5,
   "metadata": {},
   "outputs": [
    {
     "name": "stdout",
     "output_type": "stream",
     "text": [
      "Common_words = {'San Franscio', 'los Angels', 'San Diego'}\n",
      "\n",
      "Common_words = {'San Franscio', 'los Angels', 'San Diego'}\n"
     ]
    }
   ],
   "source": [
    "Common_words = word_set1&word_set2\n",
    "print(f\"{Common_words = }\")\n",
    "print()\n",
    "Common_words = word_set1.intersection(word_set2)\n",
    "print(f\"{Common_words = }\")\n",
    "\n"
   ]
  },
  {
   "cell_type": "code",
   "execution_count": 3,
   "metadata": {},
   "outputs": [
    {
     "name": "stdout",
     "output_type": "stream",
     "text": [
      "unCommon_words = {'Biahr', 'Chennai'}\n",
      "\n",
      "unCommon_words = {'Biahr', 'Chennai'}\n"
     ]
    }
   ],
   "source": [
    "word_set1 = {'San Franscio',\"los Angels\",\"San Diego\"}\n",
    "word_set2 = {'San Franscio',\"los Angels\",'Chennai',\"San Diego\",'Biahr'}\n",
    "unCommon_words = word_set1^word_set2\n",
    "print(f\"{unCommon_words = }\")\n",
    "print()\n",
    "\n",
    "unCommon_words = word_set1.symmetric_difference(word_set2)\n",
    "print(f\"{unCommon_words = }\")"
   ]
  },
  {
   "cell_type": "code",
   "execution_count": 6,
   "metadata": {},
   "outputs": [
    {
     "name": "stdout",
     "output_type": "stream",
     "text": [
      "True\n",
      "True\n",
      "True\n",
      "True\n"
     ]
    }
   ],
   "source": [
    "A ={1,2,3}\n",
    "B ={1,2,3,4,5}\n",
    "print(A<=B)\n",
    "print(A.issubset(B))\n",
    "\n",
    "print(B>=A)\n",
    "print(B.issuperset(A))"
   ]
  }
 ],
 "metadata": {
  "kernelspec": {
   "display_name": "Python 3",
   "language": "python",
   "name": "python3"
  },
  "language_info": {
   "codemirror_mode": {
    "name": "ipython",
    "version": 3
   },
   "file_extension": ".py",
   "mimetype": "text/x-python",
   "name": "python",
   "nbconvert_exporter": "python",
   "pygments_lexer": "ipython3",
   "version": "3.12.1"
  }
 },
 "nbformat": 4,
 "nbformat_minor": 2
}
