{
 "cells": [
  {
   "cell_type": "markdown",
   "metadata": {},
   "source": [
    "## Comprehensions\n",
    "- Alternate way for iterating the collections\n",
    "  list Comprehensions\n",
    "  Generator Comprehensions\n",
    "  Dictornary Comprehensions\n",
    "  Generator Expression"
   ]
  },
  {
   "cell_type": "code",
   "execution_count": 2,
   "metadata": {},
   "outputs": [
    {
     "name": "stdout",
     "output_type": "stream",
     "text": [
      "[0, 1, 2, 3, 4, 5]\n"
     ]
    }
   ],
   "source": [
    "#Traditional \n",
    "new_list =[]\n",
    "for i in range(0,6):\n",
    "    new_list.append(i)\n",
    "print(new_list)"
   ]
  },
  {
   "cell_type": "code",
   "execution_count": 6,
   "metadata": {},
   "outputs": [
    {
     "name": "stdout",
     "output_type": "stream",
     "text": [
      "[0, 1, 2, 3, 4, 5]\n"
     ]
    }
   ],
   "source": [
    "#list Comprehension\n",
    "# [i for i in range(0,6)]#same out put for below code also?\n",
    "\n",
    "other_list = [i for i in range(0,6)]\n",
    "print(other_list)"
   ]
  },
  {
   "cell_type": "code",
   "execution_count": 31,
   "metadata": {},
   "outputs": [
    {
     "name": "stdout",
     "output_type": "stream",
     "text": [
      "[2, 4, 6, 8]\n",
      "Comprehension\n",
      "\n",
      "[2, 4, 6, 8]\n",
      "[4, 16, 36, 64]\n",
      "Comprehension\n",
      "\n",
      "[4, 16, 36, 64]\n"
     ]
    }
   ],
   "source": [
    "# comprehension with condition\n",
    "even_list=[]\n",
    "for i in range(2,9):\n",
    "    if i % 2==0:\n",
    "        even_list.append(i)\n",
    "print(even_list)\n",
    "print('Comprehension\\n')\n",
    "even_list = [ i for i in range(2,9)if i%2==0 ]\n",
    "print(even_list)\n",
    "\n",
    "\n",
    "even_square=[]\n",
    "for i in range(2,9):\n",
    "    if i % 2==0:\n",
    "        even_square.append(i**2)\n",
    "print(even_square)\n",
    "print('Comprehension\\n')\n",
    "even_square=[i **2  for i in range(2,9) if i%2==0]\n",
    "print(even_square)"
   ]
  },
  {
   "cell_type": "code",
   "execution_count": 85,
   "metadata": {},
   "outputs": [
    {
     "name": "stdout",
     "output_type": "stream",
     "text": [
      "List Ceomprehension\n",
      "[('p', '1'), ('p', '2'), ('p', '3'), ('p', '4'), ('y', '1'), ('y', '2'), ('y', '3'), ('y', '4'), ('t', '1'), ('t', '2'), ('t', '3'), ('t', '4'), ('h', '1'), ('h', '2'), ('h', '3'), ('h', '4'), ('o', '1'), ('o', '2'), ('o', '3'), ('o', '4'), ('n', '1'), ('n', '2'), ('n', '3'), ('n', '4')]\n",
      "\n",
      "Set Comprehension\n",
      "n 4\n",
      "{('n', '3'), ('o', '3'), ('y', '3'), ('h', '3'), ('t', '3'), ('p', '3')} <class 'set'>\n"
     ]
    }
   ],
   "source": [
    "print('List Ceomprehension')\n",
    "pairs = []\n",
    "for ch1 in 'python':\n",
    "    for num in '1234':\n",
    "        pairs.append((ch1,num))\n",
    "print(pairs)\n",
    "list_comprehension = [(ch1,num)for ch1 in 'python' for num in '1234']\n",
    "print()\n",
    "\n",
    "# print('Tuple Ceomprehension')\n",
    "# pairs3 =tuple()\n",
    "# for ch1 in 'Sanjay':\n",
    "#     for num in '124':\n",
    "#         pairs.append((ch1,num))\n",
    "# print(pairs3)\n",
    "\n",
    "print('Set Comprehension')\n",
    "pairs = set()\n",
    "for ch1 in 'Python':\n",
    "    for num in '1234':\n",
    "        if num == '3':\n",
    "            pairs.add((ch1,num))\n",
    "print(ch1,num)\n",
    "\n",
    "pairs2 = {(ch1,num)for ch1 in \"python\" for num in '1234' if num == '3'}\n",
    "print(pairs2,type(pairs2))\n",
    "\n"
   ]
  },
  {
   "cell_type": "code",
   "execution_count": 66,
   "metadata": {},
   "outputs": [
    {
     "name": "stdout",
     "output_type": "stream",
     "text": [
      "my_varibale=['S', 'a', 'n', 'j', 'a', 'y'],<class 'list'>\n",
      "my_varibale=<generator object <genexpr> at 0x78eef03bd900>,<class 'generator'>\n",
      "my_varibale={'a', 'y', 'S', 'j', 'n'},<class 'set'>\n",
      "my_varibale={'S': 83, 'a': 97, 'n': 110, 'j': 106, 'y': 121},<class 'dict'>\n"
     ]
    }
   ],
   "source": [
    "my_varibale =[s for s in 'Sanjay']\n",
    "print(f\"{my_varibale=},{type(my_varibale)}\")\n",
    "\n",
    "my_varibale =(s for s in 'Sanjay')\n",
    "print(f\"{my_varibale=},{type(my_varibale)}\")\n",
    "\n",
    "my_varibale ={s for s in 'Sanjay'}\n",
    "print(f\"{my_varibale=},{type(my_varibale)}\")\n",
    "\n",
    "my_varibale ={s: ord(s) for s in 'Sanjay'}\n",
    "print(f\"{my_varibale=},{type(my_varibale)}\")"
   ]
  }
 ],
 "metadata": {
  "kernelspec": {
   "display_name": "Python 3",
   "language": "python",
   "name": "python3"
  },
  "language_info": {
   "codemirror_mode": {
    "name": "ipython",
    "version": 3
   },
   "file_extension": ".py",
   "mimetype": "text/x-python",
   "name": "python",
   "nbconvert_exporter": "python",
   "pygments_lexer": "ipython3",
   "version": "3.12.1"
  }
 },
 "nbformat": 4,
 "nbformat_minor": 2
}
