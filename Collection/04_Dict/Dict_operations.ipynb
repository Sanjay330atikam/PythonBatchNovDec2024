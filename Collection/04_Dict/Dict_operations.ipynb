{
 "cells": [
  {
   "cell_type": "markdown",
   "metadata": {},
   "source": [
    "### DICT\n",
    "Represented by using {}, dict()\n",
    "Dictionaries are mutable objects we can access and change them."
   ]
  },
  {
   "cell_type": "code",
   "execution_count": 4,
   "metadata": {},
   "outputs": [
    {
     "name": "stdout",
     "output_type": "stream",
     "text": [
      "<class 'dict'>\n",
      "<class 'dict'>\n",
      "<class 'tuple'>\n"
     ]
    }
   ],
   "source": [
    "empty_dict={}\n",
    "print(f\"{type(empty_dict)}\")\n",
    "\n",
    "emptydict = dict()\n",
    "print(f\"{type(emptydict)}\")\n",
    "\n",
    "emptydict =()\n",
    "print(f\"{type(emptydict)}\")"
   ]
  },
  {
   "cell_type": "code",
   "execution_count": 12,
   "metadata": {},
   "outputs": [
    {
     "name": "stdout",
     "output_type": "stream",
     "text": [
      "{'a': 1},<class 'dict'>\n",
      "dict_with_othervalues={'a': 1, 'b': 2, 'c': 3},<class 'dict'>\n"
     ]
    }
   ],
   "source": [
    "dic_with_singlepair = {'a':1}\n",
    "print(f\"{dic_with_singlepair},{type(dic_with_singlepair)}\")\n",
    "\n",
    "dict_with_othervalues = {'a':1,'b':2,'c':3}\n",
    "print(f\"{dict_with_othervalues=},{type(dict_with_othervalues)}\")"
   ]
  },
  {
   "cell_type": "code",
   "execution_count": 21,
   "metadata": {},
   "outputs": [],
   "source": [
    "person_details={\n",
    "    'Name':'Sanjay Atikam',\n",
    "    'Age' : 24,\n",
    "    'Parents':('Mahender','Sushma'),\n",
    "    'Siblings':('Anirudh'),\n",
    "    'Salary'   : 1000,\n",
    "\n",
    "}\n"
   ]
  },
  {
   "cell_type": "code",
   "execution_count": 22,
   "metadata": {},
   "outputs": [
    {
     "data": {
      "text/plain": [
       "{'Name': 'Sanjay Atikam',\n",
       " 'Age': 24,\n",
       " 'Parents': ('Mahender', 'Sushma'),\n",
       " 'Siblings': 'Anirudh',\n",
       " 'Salary': 1000}"
      ]
     },
     "execution_count": 22,
     "metadata": {},
     "output_type": "execute_result"
    }
   ],
   "source": [
    "person_details"
   ]
  },
  {
   "cell_type": "code",
   "execution_count": 31,
   "metadata": {},
   "outputs": [
    {
     "data": {
      "text/plain": [
       "dict_keys(['Name', 'Age', 'Parents', 'Siblings', 'Salary'])"
      ]
     },
     "execution_count": 31,
     "metadata": {},
     "output_type": "execute_result"
    }
   ],
   "source": [
    "person_details.keys()\n",
    "\n"
   ]
  },
  {
   "cell_type": "code",
   "execution_count": 28,
   "metadata": {},
   "outputs": [
    {
     "name": "stdout",
     "output_type": "stream",
     "text": [
      "{'Name': 'Sanjay Atikam', 'Age': 24, 'Parents': ('Mahender', 'Sushma'), 'Siblings': 'Anirudh', 'Salary': 1000}\n"
     ]
    }
   ],
   "source": [
    "print(person_details)"
   ]
  },
  {
   "cell_type": "code",
   "execution_count": 29,
   "metadata": {},
   "outputs": [
    {
     "data": {
      "text/plain": [
       "dict_items([('Name', 'Sanjay Atikam'), ('Age', 24), ('Parents', ('Mahender', 'Sushma')), ('Siblings', 'Anirudh'), ('Salary', 1000)])"
      ]
     },
     "execution_count": 29,
     "metadata": {},
     "output_type": "execute_result"
    }
   ],
   "source": [
    "person_details.items()#both keys and values in tuples."
   ]
  },
  {
   "cell_type": "markdown",
   "metadata": {},
   "source": [
    "##Dictionary Operations"
   ]
  },
  {
   "cell_type": "code",
   "execution_count": 32,
   "metadata": {},
   "outputs": [],
   "source": [
    "employee_name = {\n",
    "    'Name' : 'sikhar Dhawan',\n",
    "    'Status': 'Retired',\n",
    "    'Salary': 22_456,\n",
    "    'Strike Rate':90/100\n",
    "}"
   ]
  },
  {
   "cell_type": "code",
   "execution_count": 33,
   "metadata": {},
   "outputs": [
    {
     "data": {
      "text/plain": [
       "{'Name': 'sikhar Dhawan',\n",
       " 'Status': 'Retired',\n",
       " 'Salary': 22456,\n",
       " 'Strike Rate': 0.9}"
      ]
     },
     "execution_count": 33,
     "metadata": {},
     "output_type": "execute_result"
    }
   ],
   "source": [
    "employee_name"
   ]
  },
  {
   "cell_type": "code",
   "execution_count": 34,
   "metadata": {},
   "outputs": [
    {
     "name": "stdout",
     "output_type": "stream",
     "text": [
      "123269526665024\n",
      "['Taken Back Retirement']\n",
      "After change:123269526665024\n"
     ]
    }
   ],
   "source": [
    "#Dict are mutubale\n",
    "print(f\"{id(employee_name)}\")\n",
    "\n",
    "# updating the values for existing one \n",
    "employee_name['Status'] = ['Taken Back Retirement']\n",
    "print(employee_name['Status'])\n",
    "\n",
    "print(f\"After change:{id(employee_name)}\")"
   ]
  },
  {
   "cell_type": "code",
   "execution_count": 35,
   "metadata": {},
   "outputs": [
    {
     "data": {
      "text/plain": [
       "{'Name': 'sikhar Dhawan',\n",
       " 'Status': ['Taken Back Retirement'],\n",
       " 'Salary': 22456,\n",
       " 'Strike Rate': 0.9}"
      ]
     },
     "execution_count": 35,
     "metadata": {},
     "output_type": "execute_result"
    }
   ],
   "source": [
    "employee_name"
   ]
  },
  {
   "cell_type": "code",
   "execution_count": 37,
   "metadata": {},
   "outputs": [
    {
     "name": "stdout",
     "output_type": "stream",
     "text": [
      "{'Name': 'sikhar Dhawan', 'Status': ['Taken Back Retirement'], 'Salary': 22456, 'Strike Rate': 0.9, 'number of Centuries': 100}\n"
     ]
    },
    {
     "data": {
      "text/plain": [
       "{'Name': 'sikhar Dhawan',\n",
       " 'Status': ['Taken Back Retirement'],\n",
       " 'Salary': 22456,\n",
       " 'Strike Rate': 0.9,\n",
       " 'number of Centuries': 100}"
      ]
     },
     "execution_count": 37,
     "metadata": {},
     "output_type": "execute_result"
    }
   ],
   "source": [
    "# To add a new key\n",
    "employee_name['number of Centuries'] = 100\n",
    "print(employee_name)\n",
    "employee_name"
   ]
  },
  {
   "cell_type": "code",
   "execution_count": 45,
   "metadata": {},
   "outputs": [
    {
     "name": "stdout",
     "output_type": "stream",
     "text": [
      "['Taken Back Retirement']\n",
      "sikhar Dhawan\n",
      "None\n"
     ]
    }
   ],
   "source": [
    "#Difference ways of indexing,accessing\n",
    "# employee_name['Status']\n",
    "print(employee_name.get('Status'))\n",
    "print(employee_name.get('Name'))\n",
    "#dict.get() returns NONE if no value is present like,\n",
    "print(employee_name.get('Sixes'))"
   ]
  },
  {
   "cell_type": "code",
   "execution_count": 53,
   "metadata": {},
   "outputs": [
    {
     "name": "stdout",
     "output_type": "stream",
     "text": [
      "employee_name.setdefault('Fours')  = None\n",
      "employee_name.setdefault('ICC TITLES', 2)=2\n"
     ]
    },
    {
     "data": {
      "text/plain": [
       "{'Name': 'sikhar Dhawan',\n",
       " 'Status': ['Taken Back Retirement'],\n",
       " 'Salary': 22456,\n",
       " 'Strike Rate': 0.9,\n",
       " 'number of Centuries': 100,\n",
       " 'Fours': None,\n",
       " 'ICC TITLES': 2}"
      ]
     },
     "execution_count": 53,
     "metadata": {},
     "output_type": "execute_result"
    }
   ],
   "source": [
    "employee_name.setdefault('Fours')\n",
    "print(f\"{employee_name.setdefault('Fours')  = }\")\n",
    "employee_name\n",
    "#ste default will take something which is not present.\n",
    "# We cannot set the setdefault for existing values.\n",
    "print(f\"{employee_name.setdefault('ICC TITLES', 2)=}\")\n",
    "employee_name"
   ]
  },
  {
   "cell_type": "code",
   "execution_count": 54,
   "metadata": {},
   "outputs": [],
   "source": [
    "language = dict()"
   ]
  },
  {
   "cell_type": "code",
   "execution_count": 57,
   "metadata": {},
   "outputs": [
    {
     "data": {
      "text/plain": [
       "{'name': 'Python', 'Level': 5}"
      ]
     },
     "execution_count": 57,
     "metadata": {},
     "output_type": "execute_result"
    }
   ],
   "source": [
    "language['name']='Python'\n",
    "language['Level']=5\n",
    "language"
   ]
  },
  {
   "cell_type": "code",
   "execution_count": 70,
   "metadata": {},
   "outputs": [
    {
     "data": {
      "text/plain": [
       "{'Name': 'Sam', 'Version': '3.3.4', 'Dev_version': '3.9'}"
      ]
     },
     "execution_count": 70,
     "metadata": {},
     "output_type": "execute_result"
    }
   ],
   "source": [
    "Python_dic = {\n",
    "    'Name'  : \"Sam\",\n",
    "    'Version': '3.3.4',\n",
    "    'Dev_version':'3.9',\n",
    "    \n",
    "}\n"
   ]
  },
  {
   "cell_type": "code",
   "execution_count": 71,
   "metadata": {},
   "outputs": [
    {
     "data": {
      "text/plain": [
       "{'Name': 'Sam', 'Version': '3.3.4', 'Dev_version': '3.9'}"
      ]
     },
     "execution_count": 71,
     "metadata": {},
     "output_type": "execute_result"
    }
   ],
   "source": [
    "Python_dic"
   ]
  },
  {
   "cell_type": "code",
   "execution_count": 77,
   "metadata": {},
   "outputs": [
    {
     "name": "stdout",
     "output_type": "stream",
     "text": [
      "language={'name': 'Python', 'Level': 5, 'Name': 'Sam', 'Version': '3.3.4', 'Dev_version': '3.9'}\n",
      "Python_dic={'Name': 'Sam', 'Version': '3.3.4', 'Dev_version': '3.9'}\n"
     ]
    }
   ],
   "source": [
    "##Dictonary Concatenation \n",
    "#Update Python_dic with update the values in lNaguage with having same keys in \n",
    "#both dictonaries.\n",
    "language.update(Python_dic)\n",
    "print(f\"{language=}\")\n",
    "print(f\"{Python_dic=}\")\n"
   ]
  },
  {
   "cell_type": "code",
   "execution_count": null,
   "metadata": {},
   "outputs": [],
   "source": [
    "# for deleting Key-Value pairs\n",
    "#print(\"f{python_dic.pop() =}\") At least one argument can be given."
   ]
  },
  {
   "cell_type": "code",
   "execution_count": 4,
   "metadata": {},
   "outputs": [
    {
     "name": "stdout",
     "output_type": "stream",
     "text": [
      "Python_dic.pop('maintainer',None)=None\n",
      "Python_dic.pop('maintainer','No Such Key')='No Such Key'\n"
     ]
    }
   ],
   "source": [
    "Python_dic = {\n",
    "    'Name'  : \"Sam\",\n",
    "    'Version': '3.3.4',\n",
    "    'Dev_version':'3.9',\n",
    "    \n",
    "}\n",
    "# print(f\"{Python_dic.pop('maintainer')   =}\")\n",
    "# print(Python_dic) This gives an error \n",
    "print(f\"{Python_dic.pop('maintainer',None)=}\")\n",
    "print(f\"{Python_dic.pop('maintainer','No Such Key')=}\")"
   ]
  },
  {
   "cell_type": "code",
   "execution_count": 16,
   "metadata": {},
   "outputs": [
    {
     "ename": "KeyError",
     "evalue": "'popitem(): dictionary is empty'",
     "output_type": "error",
     "traceback": [
      "\u001b[0;31m---------------------------------------------------------------------------\u001b[0m",
      "\u001b[0;31mKeyError\u001b[0m                                  Traceback (most recent call last)",
      "Cell \u001b[0;32mIn[16], line 2\u001b[0m\n\u001b[1;32m      1\u001b[0m \u001b[38;5;66;03m#last key-value pair will be detelted\u001b[39;00m\n\u001b[0;32m----> 2\u001b[0m \u001b[38;5;28mprint\u001b[39m(\u001b[38;5;124mf\u001b[39m\u001b[38;5;124m\"\u001b[39m\u001b[38;5;132;01m{\u001b[39;00m\u001b[43mPython_dic\u001b[49m\u001b[38;5;241;43m.\u001b[39;49m\u001b[43mpopitem\u001b[49m\u001b[43m(\u001b[49m\u001b[43m)\u001b[49m\u001b[38;5;250m   \u001b[39m\u001b[38;5;132;01m=}\u001b[39;00m\u001b[38;5;124m\"\u001b[39m)\n",
      "\u001b[0;31mKeyError\u001b[0m: 'popitem(): dictionary is empty'"
     ]
    }
   ],
   "source": [
    "#last key-value pair will be detelted\n",
    "print(f\"{Python_dic.popitem()   =}\")\n",
    "print(f\"{Python_dic.popitem()   =}\")\n",
    "# remove the last key value pair and returns the remianing pair in Dict."
   ]
  },
  {
   "cell_type": "code",
   "execution_count": null,
   "metadata": {},
   "outputs": [],
   "source": [
    "#ASSIGNMENT del dic['key] = dict.pop('key')"
   ]
  },
  {
   "cell_type": "markdown",
   "metadata": {},
   "source": [
    "## Merging Two dictionaries"
   ]
  },
  {
   "cell_type": "code",
   "execution_count": 17,
   "metadata": {},
   "outputs": [],
   "source": [
    "a = {'one':1}\n",
    "b = {'one':2,'two': 2}"
   ]
  },
  {
   "cell_type": "code",
   "execution_count": 22,
   "metadata": {},
   "outputs": [
    {
     "data": {
      "text/plain": [
       "{'one': 1, 'two': 2}"
      ]
     },
     "execution_count": 22,
     "metadata": {},
     "output_type": "execute_result"
    }
   ],
   "source": [
    "#Dic unpacking\n",
    "c ={**a}\n",
    "c\n",
    "\n",
    "\n"
   ]
  },
  {
   "cell_type": "code",
   "execution_count": 24,
   "metadata": {},
   "outputs": [
    {
     "data": {
      "text/plain": [
       "{'one': 2, 'two': 2}"
      ]
     },
     "execution_count": 24,
     "metadata": {},
     "output_type": "execute_result"
    }
   ],
   "source": [
    "c ={**a,**b}\n",
    "c"
   ]
  },
  {
   "cell_type": "code",
   "execution_count": 23,
   "metadata": {},
   "outputs": [
    {
     "data": {
      "text/plain": [
       "{'one': 1, 'two': 2}"
      ]
     },
     "execution_count": 23,
     "metadata": {},
     "output_type": "execute_result"
    }
   ],
   "source": [
    "c={**b,**a}\n",
    "c"
   ]
  },
  {
   "cell_type": "code",
   "execution_count": 25,
   "metadata": {},
   "outputs": [
    {
     "name": "stdout",
     "output_type": "stream",
     "text": [
      "a ={'one': 1}\n",
      "b ={'one': 2, 'two': 2}\n",
      "a={'one': 2, 'two': 2}\n",
      "b={'one': 2, 'two': 2}\n"
     ]
    }
   ],
   "source": [
    "a = {'one':1}\n",
    "b = {'one':2,'two': 2}\n",
    "print(f\"{a =}\")\n",
    "print(f\"{b =}\")\n",
    "\n",
    "a|=b\n",
    "print(f\"{a=}\") \n",
    "print(f\"{b=}\") "
   ]
  },
  {
   "cell_type": "markdown",
   "metadata": {},
   "source": [
    "##DIct replicas"
   ]
  },
  {
   "cell_type": "code",
   "execution_count": 26,
   "metadata": {},
   "outputs": [
    {
     "name": "stdout",
     "output_type": "stream",
     "text": [
      "{'name': 'Zebra', 'continent': ('Africa', 'Asia')}\n"
     ]
    }
   ],
   "source": [
    "animal = {'name' : 'Zebra' ,'continent':('Africa','Asia')}\n",
    "print(animal)"
   ]
  },
  {
   "cell_type": "code",
   "execution_count": 29,
   "metadata": {},
   "outputs": [
    {
     "name": "stdout",
     "output_type": "stream",
     "text": [
      "{'name': None, 'continent': None}\n",
      "{'name': 'None', 'continent': 'None'}\n",
      "{'name': '', 'continent': ''}\n"
     ]
    }
   ],
   "source": [
    "#replicas - To get keys of existing dict to new dict\n",
    "animal_schema = {}#default value is none\n",
    "animal_schema = animal_schema.fromkeys(animal)\n",
    "print(animal_schema)\n",
    "\n",
    "\n",
    "animal_schema = animal_schema.fromkeys(animal,'None')\n",
    "print(animal_schema)\n",
    "\n",
    "animal_schema = animal_schema.fromkeys(animal,'')\n",
    "print(animal_schema)"
   ]
  },
  {
   "cell_type": "code",
   "execution_count": 30,
   "metadata": {},
   "outputs": [
    {
     "name": "stdout",
     "output_type": "stream",
     "text": [
      "id(animal)=137950811085120\n",
      "After clear animal = {}\n",
      "id(animal)=137950811085120\n"
     ]
    }
   ],
   "source": [
    "#To flush the content in dict\n",
    "print(f\"{id(animal)=}\")\n",
    "animal.clear() # will flush key-value pair in dict\n",
    "print(f\"After clear {animal = }\")\n",
    "print(f\"{id(animal)=}\")"
   ]
  },
  {
   "cell_type": "markdown",
   "metadata": {},
   "source": [
    "##Zip() Function"
   ]
  },
  {
   "cell_type": "code",
   "execution_count": 32,
   "metadata": {},
   "outputs": [],
   "source": [
    "#different ways of creating dic\n",
    "a = {'one':1,'two':2,'three':3}\n",
    "b = dict(one=1,two = 2, three = 3)\n",
    "\n",
    "c = dict([('one',1),('two' , 2), ('three' , 3)])\n",
    "d = dict({'one':1,'two':2,'three':3})\n",
    "\n",
    "assert a == b == c ==d"
   ]
  },
  {
   "cell_type": "code",
   "execution_count": 38,
   "metadata": {},
   "outputs": [
    {
     "name": "stdout",
     "output_type": "stream",
     "text": [
      "{1: 'red', 2: 'two', 3: 'three'}\n",
      "{'red': 1, 'blue': 2, 'yellow': 3}\n",
      "{'one': 1, 'two': 2, 'three': 3}\n",
      "{'one': 1, 'two': 2, 'three': 3}\n"
     ]
    }
   ],
   "source": [
    "#creating dict from pairs\n",
    "a = [(1,'red'),(2,'two'),(3,'three')]\n",
    "print(dict(a))\n",
    "b = [('red',1),('blue',2),('yellow',3)]\n",
    "print(dict(b))\n",
    "b = (('red',1),('blue',2),('yellow',3))\n",
    "print(c)\n",
    "print(dict(c))"
   ]
  },
  {
   "cell_type": "code",
   "execution_count": 43,
   "metadata": {},
   "outputs": [
    {
     "name": "stdout",
     "output_type": "stream",
     "text": [
      "{'red': (1, 'b'), 'Sanjay': (3, 'N'), 'yellow': (5, 'five')}\n"
     ]
    }
   ],
   "source": [
    "a = (['red',(1,'b')],['Sanjay',(3,'N')],('yellow',(5,'five')))\n",
    "print(dict(a))"
   ]
  },
  {
   "cell_type": "markdown",
   "metadata": {},
   "source": [
    "## Craeting a Dict with Two iterabels."
   ]
  },
  {
   "cell_type": "code",
   "execution_count": 44,
   "metadata": {},
   "outputs": [
    {
     "data": {
      "text/plain": [
       "<zip at 0x7d772d104780>"
      ]
     },
     "execution_count": 44,
     "metadata": {},
     "output_type": "execute_result"
    }
   ],
   "source": [
    "cities = ('New Delhi',\"Goa\",\"punjab\",'Kashmit')\n",
    "countries = ['INDIA','USA',\"CANADA\",\"UK\"]\n",
    "zip(cities,countries)"
   ]
  },
  {
   "cell_type": "code",
   "execution_count": 47,
   "metadata": {},
   "outputs": [
    {
     "name": "stdout",
     "output_type": "stream",
     "text": [
      "{'New Delhi': 'INDIA', 'Goa': 'USA', 'punjab': 'CANADA', 'Kashmit': 'UK'}\n",
      "{'INDIA': 'New Delhi', 'USA': 'Goa', 'CANADA': 'punjab', 'UK': 'Kashmit'}\n"
     ]
    }
   ],
   "source": [
    "cities_n_countries = dict(zip(cities,countries))\n",
    "print(cities_n_countries)\n",
    "\n",
    "countries_n_cities = dict(zip(countries,cities))\n",
    "print(countries_n_cities)"
   ]
  },
  {
   "cell_type": "code",
   "execution_count": 49,
   "metadata": {},
   "outputs": [
    {
     "name": "stdout",
     "output_type": "stream",
     "text": [
      "{'P': 0, 'y': 1, 't': 2, 'h': 3, 'o': 4, 'n': 5}\n",
      "{'S': 'g', 'a': 'o', 'n': 'u', 'j': 'd'}\n"
     ]
    }
   ],
   "source": [
    "print(dict(zip('Python',range(6))))\n",
    "print(dict(zip('Sanjay','goud')))"
   ]
  },
  {
   "cell_type": "code",
   "execution_count": null,
   "metadata": {},
   "outputs": [],
   "source": [
    "##ASSIGNMENT"
   ]
  }
 ],
 "metadata": {
  "kernelspec": {
   "display_name": "Python 3",
   "language": "python",
   "name": "python3"
  },
  "language_info": {
   "codemirror_mode": {
    "name": "ipython",
    "version": 3
   },
   "file_extension": ".py",
   "mimetype": "text/x-python",
   "name": "python",
   "nbconvert_exporter": "python",
   "pygments_lexer": "ipython3",
   "version": "3.12.1"
  }
 },
 "nbformat": 4,
 "nbformat_minor": 2
}
