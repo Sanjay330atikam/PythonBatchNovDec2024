{
 "cells": [
  {
   "cell_type": "markdown",
   "metadata": {},
   "source": [
    "### DICT\n",
    "Represented by using {}, dict()\n",
    "Dictionaries are mutable objects we can access and change them."
   ]
  },
  {
   "cell_type": "code",
   "execution_count": 4,
   "metadata": {},
   "outputs": [
    {
     "name": "stdout",
     "output_type": "stream",
     "text": [
      "<class 'dict'>\n",
      "<class 'dict'>\n",
      "<class 'tuple'>\n"
     ]
    }
   ],
   "source": [
    "empty_dict={}\n",
    "print(f\"{type(empty_dict)}\")\n",
    "\n",
    "emptydict = dict()\n",
    "print(f\"{type(emptydict)}\")\n",
    "\n",
    "emptydict =()\n",
    "print(f\"{type(emptydict)}\")"
   ]
  },
  {
   "cell_type": "code",
   "execution_count": 12,
   "metadata": {},
   "outputs": [
    {
     "name": "stdout",
     "output_type": "stream",
     "text": [
      "{'a': 1},<class 'dict'>\n",
      "dict_with_othervalues={'a': 1, 'b': 2, 'c': 3},<class 'dict'>\n"
     ]
    }
   ],
   "source": [
    "dic_with_singlepair = {'a':1}\n",
    "print(f\"{dic_with_singlepair},{type(dic_with_singlepair)}\")\n",
    "\n",
    "dict_with_othervalues = {'a':1,'b':2,'c':3}\n",
    "print(f\"{dict_with_othervalues=},{type(dict_with_othervalues)}\")"
   ]
  },
  {
   "cell_type": "code",
   "execution_count": 21,
   "metadata": {},
   "outputs": [],
   "source": [
    "person_details={\n",
    "    'Name':'Sanjay Atikam',\n",
    "    'Age' : 24,\n",
    "    'Parents':('Mahender','Sushma'),\n",
    "    'Siblings':('Anirudh'),\n",
    "    'Salary'   : 1000,\n",
    "\n",
    "}\n"
   ]
  },
  {
   "cell_type": "code",
   "execution_count": 22,
   "metadata": {},
   "outputs": [
    {
     "data": {
      "text/plain": [
       "{'Name': 'Sanjay Atikam',\n",
       " 'Age': 24,\n",
       " 'Parents': ('Mahender', 'Sushma'),\n",
       " 'Siblings': 'Anirudh',\n",
       " 'Salary': 1000}"
      ]
     },
     "execution_count": 22,
     "metadata": {},
     "output_type": "execute_result"
    }
   ],
   "source": [
    "person_details"
   ]
  },
  {
   "cell_type": "code",
   "execution_count": 31,
   "metadata": {},
   "outputs": [
    {
     "data": {
      "text/plain": [
       "dict_keys(['Name', 'Age', 'Parents', 'Siblings', 'Salary'])"
      ]
     },
     "execution_count": 31,
     "metadata": {},
     "output_type": "execute_result"
    }
   ],
   "source": [
    "person_details.keys()\n",
    "\n"
   ]
  },
  {
   "cell_type": "code",
   "execution_count": 28,
   "metadata": {},
   "outputs": [
    {
     "name": "stdout",
     "output_type": "stream",
     "text": [
      "{'Name': 'Sanjay Atikam', 'Age': 24, 'Parents': ('Mahender', 'Sushma'), 'Siblings': 'Anirudh', 'Salary': 1000}\n"
     ]
    }
   ],
   "source": [
    "print(person_details)"
   ]
  },
  {
   "cell_type": "code",
   "execution_count": 29,
   "metadata": {},
   "outputs": [
    {
     "data": {
      "text/plain": [
       "dict_items([('Name', 'Sanjay Atikam'), ('Age', 24), ('Parents', ('Mahender', 'Sushma')), ('Siblings', 'Anirudh'), ('Salary', 1000)])"
      ]
     },
     "execution_count": 29,
     "metadata": {},
     "output_type": "execute_result"
    }
   ],
   "source": [
    "person_details.items()#both keys and values in tuples."
   ]
  },
  {
   "cell_type": "markdown",
   "metadata": {},
   "source": [
    "##Dictionary Operations"
   ]
  },
  {
   "cell_type": "code",
   "execution_count": 32,
   "metadata": {},
   "outputs": [],
   "source": [
    "employee_name = {\n",
    "    'Name' : 'sikhar Dhawan',\n",
    "    'Status': 'Retired',\n",
    "    'Salary': 22_456,\n",
    "    'Strike Rate':90/100\n",
    "}"
   ]
  },
  {
   "cell_type": "code",
   "execution_count": 33,
   "metadata": {},
   "outputs": [
    {
     "data": {
      "text/plain": [
       "{'Name': 'sikhar Dhawan',\n",
       " 'Status': 'Retired',\n",
       " 'Salary': 22456,\n",
       " 'Strike Rate': 0.9}"
      ]
     },
     "execution_count": 33,
     "metadata": {},
     "output_type": "execute_result"
    }
   ],
   "source": [
    "employee_name"
   ]
  },
  {
   "cell_type": "code",
   "execution_count": 34,
   "metadata": {},
   "outputs": [
    {
     "name": "stdout",
     "output_type": "stream",
     "text": [
      "123269526665024\n",
      "['Taken Back Retirement']\n",
      "After change:123269526665024\n"
     ]
    }
   ],
   "source": [
    "#Dict are mutubale\n",
    "print(f\"{id(employee_name)}\")\n",
    "\n",
    "# updating the values for existing one \n",
    "employee_name['Status'] = ['Taken Back Retirement']\n",
    "print(employee_name['Status'])\n",
    "\n",
    "print(f\"After change:{id(employee_name)}\")"
   ]
  },
  {
   "cell_type": "code",
   "execution_count": 35,
   "metadata": {},
   "outputs": [
    {
     "data": {
      "text/plain": [
       "{'Name': 'sikhar Dhawan',\n",
       " 'Status': ['Taken Back Retirement'],\n",
       " 'Salary': 22456,\n",
       " 'Strike Rate': 0.9}"
      ]
     },
     "execution_count": 35,
     "metadata": {},
     "output_type": "execute_result"
    }
   ],
   "source": [
    "employee_name"
   ]
  },
  {
   "cell_type": "code",
   "execution_count": 37,
   "metadata": {},
   "outputs": [
    {
     "name": "stdout",
     "output_type": "stream",
     "text": [
      "{'Name': 'sikhar Dhawan', 'Status': ['Taken Back Retirement'], 'Salary': 22456, 'Strike Rate': 0.9, 'number of Centuries': 100}\n"
     ]
    },
    {
     "data": {
      "text/plain": [
       "{'Name': 'sikhar Dhawan',\n",
       " 'Status': ['Taken Back Retirement'],\n",
       " 'Salary': 22456,\n",
       " 'Strike Rate': 0.9,\n",
       " 'number of Centuries': 100}"
      ]
     },
     "execution_count": 37,
     "metadata": {},
     "output_type": "execute_result"
    }
   ],
   "source": [
    "# To add a new key\n",
    "employee_name['number of Centuries'] = 100\n",
    "print(employee_name)\n",
    "employee_name"
   ]
  },
  {
   "cell_type": "code",
   "execution_count": 45,
   "metadata": {},
   "outputs": [
    {
     "name": "stdout",
     "output_type": "stream",
     "text": [
      "['Taken Back Retirement']\n",
      "sikhar Dhawan\n",
      "None\n"
     ]
    }
   ],
   "source": [
    "#Difference ways of indexing,accessing\n",
    "# employee_name['Status']\n",
    "print(employee_name.get('Status'))\n",
    "print(employee_name.get('Name'))\n",
    "#dict.get() returns NONE if no value is present like,\n",
    "print(employee_name.get('Sixes'))"
   ]
  },
  {
   "cell_type": "code",
   "execution_count": 53,
   "metadata": {},
   "outputs": [
    {
     "name": "stdout",
     "output_type": "stream",
     "text": [
      "employee_name.setdefault('Fours')  = None\n",
      "employee_name.setdefault('ICC TITLES', 2)=2\n"
     ]
    },
    {
     "data": {
      "text/plain": [
       "{'Name': 'sikhar Dhawan',\n",
       " 'Status': ['Taken Back Retirement'],\n",
       " 'Salary': 22456,\n",
       " 'Strike Rate': 0.9,\n",
       " 'number of Centuries': 100,\n",
       " 'Fours': None,\n",
       " 'ICC TITLES': 2}"
      ]
     },
     "execution_count": 53,
     "metadata": {},
     "output_type": "execute_result"
    }
   ],
   "source": [
    "employee_name.setdefault('Fours')\n",
    "print(f\"{employee_name.setdefault('Fours')  = }\")\n",
    "employee_name\n",
    "#ste default will take something which is not present.\n",
    "# We cannot set the setdefault for existing values.\n",
    "print(f\"{employee_name.setdefault('ICC TITLES', 2)=}\")\n",
    "employee_name"
   ]
  },
  {
   "cell_type": "code",
   "execution_count": 54,
   "metadata": {},
   "outputs": [],
   "source": [
    "language = dict()"
   ]
  },
  {
   "cell_type": "code",
   "execution_count": 57,
   "metadata": {},
   "outputs": [
    {
     "data": {
      "text/plain": [
       "{'name': 'Python', 'Level': 5}"
      ]
     },
     "execution_count": 57,
     "metadata": {},
     "output_type": "execute_result"
    }
   ],
   "source": [
    "language['name']='Python'\n",
    "language['Level']=5\n",
    "language"
   ]
  },
  {
   "cell_type": "code",
   "execution_count": 70,
   "metadata": {},
   "outputs": [
    {
     "data": {
      "text/plain": [
       "{'Name': 'Sam', 'Version': '3.3.4', 'Dev_version': '3.9'}"
      ]
     },
     "execution_count": 70,
     "metadata": {},
     "output_type": "execute_result"
    }
   ],
   "source": [
    "Python_dic = {\n",
    "    'Name'  : \"Sam\",\n",
    "    'Version': '3.3.4',\n",
    "    'Dev_version':'3.9',\n",
    "    \n",
    "}\n"
   ]
  },
  {
   "cell_type": "code",
   "execution_count": 71,
   "metadata": {},
   "outputs": [
    {
     "data": {
      "text/plain": [
       "{'Name': 'Sam', 'Version': '3.3.4', 'Dev_version': '3.9'}"
      ]
     },
     "execution_count": 71,
     "metadata": {},
     "output_type": "execute_result"
    }
   ],
   "source": [
    "Python_dic"
   ]
  },
  {
   "cell_type": "code",
   "execution_count": 77,
   "metadata": {},
   "outputs": [
    {
     "name": "stdout",
     "output_type": "stream",
     "text": [
      "language={'name': 'Python', 'Level': 5, 'Name': 'Sam', 'Version': '3.3.4', 'Dev_version': '3.9'}\n",
      "Python_dic={'Name': 'Sam', 'Version': '3.3.4', 'Dev_version': '3.9'}\n"
     ]
    }
   ],
   "source": [
    "##Dictonary Concatenation \n",
    "#Update Python_dic with update the values in lNaguage with having same keys in \n",
    "#both dictonaries.\n",
    "language.update(Python_dic)\n",
    "print(f\"{language=}\")\n",
    "print(f\"{Python_dic=}\")\n"
   ]
  }
 ],
 "metadata": {
  "kernelspec": {
   "display_name": "Python 3",
   "language": "python",
   "name": "python3"
  },
  "language_info": {
   "codemirror_mode": {
    "name": "ipython",
    "version": 3
   },
   "file_extension": ".py",
   "mimetype": "text/x-python",
   "name": "python",
   "nbconvert_exporter": "python",
   "pygments_lexer": "ipython3",
   "version": "3.12.1"
  }
 },
 "nbformat": 4,
 "nbformat_minor": 2
}
