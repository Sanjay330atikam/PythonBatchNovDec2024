{
 "cells": [
  {
   "cell_type": "code",
   "execution_count": 4,
   "metadata": {},
   "outputs": [
    {
     "name": "stdout",
     "output_type": "stream",
     "text": [
      "<class 'tuple'>,130319938897536,num1 =(33, 45, 67)\n",
      "(33, 45, 67)\n"
     ]
    }
   ],
   "source": [
    "#immutable object\n",
    "\n",
    "num1 = (33,45,67)\n",
    "print(f\"{type(num1)},{id(num1)},{num1 =}\")\n",
    "\n",
    "num2 = num1\n",
    "print(num2)"
   ]
  },
  {
   "cell_type": "code",
   "execution_count": 10,
   "metadata": {},
   "outputs": [
    {
     "name": "stdout",
     "output_type": "stream",
     "text": [
      "<class 'int'>,104433054641096,num2=34\n",
      "<class 'tuple'>,130319938897536,num1=(33, 45, 67)\n"
     ]
    }
   ],
   "source": [
    "#chnaging the values in num2 \n",
    "# in this after asigning num1 to num2 the values of num1 are accquired to num2\n",
    "#if we change values in num2 it will not effect in num1,beacuase tuple is\n",
    "#immutable objects\n",
    "num2 = 34\n",
    "print(f\"{type(num2)},{id(num2)},{num2=}\")\n",
    "print(f\"{type(num1)},{id(num1)},{num1=}\")"
   ]
  },
  {
   "cell_type": "code",
   "execution_count": 12,
   "metadata": {},
   "outputs": [
    {
     "name": "stdout",
     "output_type": "stream",
     "text": [
      "<class 'list'>,130319939035584,[11, 111, 111]\n",
      "<class 'list'>,130319939035584,chi_list=[11, 111, 111]\n"
     ]
    }
   ],
   "source": [
    "#mutuable object\n",
    "par_list = [11,111,111]\n",
    "print(f\"{type(par_list)},{id(par_list)},{par_list}\")\n",
    "\n",
    "chi_list = par_list\n",
    "print(f\"{type(chi_list)},{id(chi_list)},{chi_list=}\")"
   ]
  },
  {
   "cell_type": "code",
   "execution_count": 15,
   "metadata": {},
   "outputs": [
    {
     "name": "stdout",
     "output_type": "stream",
     "text": [
      "<class 'list'>,130319939035584,chi_list=[11, 111, 44]\n",
      "<class 'list'>,130319939035584,par_list=[11, 111, 44]\n"
     ]
    }
   ],
   "source": [
    "#chnaging the values in chi_list\n",
    "# in this values changed in chi_list will be also changed in par_list\n",
    "chi_list[2]=44\n",
    "print(f\"{type(chi_list)},{id(chi_list)},{chi_list=}\")\n",
    "print(f\"{type(par_list)},{id(par_list)},{par_list=}\")"
   ]
  },
  {
   "cell_type": "code",
   "execution_count": 16,
   "metadata": {},
   "outputs": [
    {
     "data": {
      "text/plain": [
       "['Error',\n",
       " '__all__',\n",
       " '__builtins__',\n",
       " '__cached__',\n",
       " '__doc__',\n",
       " '__file__',\n",
       " '__loader__',\n",
       " '__name__',\n",
       " '__package__',\n",
       " '__spec__',\n",
       " '_copy_dispatch',\n",
       " '_copy_immutable',\n",
       " '_deepcopy_atomic',\n",
       " '_deepcopy_dict',\n",
       " '_deepcopy_dispatch',\n",
       " '_deepcopy_list',\n",
       " '_deepcopy_method',\n",
       " '_deepcopy_tuple',\n",
       " '_keep_alive',\n",
       " '_reconstruct',\n",
       " 'copy',\n",
       " 'deepcopy',\n",
       " 'dispatch_table',\n",
       " 'error']"
      ]
     },
     "execution_count": 16,
     "metadata": {},
     "output_type": "execute_result"
    }
   ],
   "source": [
    "\n",
    "import copy\n",
    "dir(copy)"
   ]
  },
  {
   "cell_type": "code",
   "execution_count": 17,
   "metadata": {},
   "outputs": [
    {
     "name": "stdout",
     "output_type": "stream",
     "text": [
      "130319938702592,soft_copy_list =[11, 111, 44]\n"
     ]
    }
   ],
   "source": [
    "#shallow copy\n",
    "soft_copy_list = copy.copy(par_list)\n",
    "print(f\"{id(soft_copy_list)},{soft_copy_list =}\")"
   ]
  },
  {
   "cell_type": "code",
   "execution_count": 20,
   "metadata": {},
   "outputs": [
    {
     "name": "stdout",
     "output_type": "stream",
     "text": [
      "FOUR\n",
      "130319939035584,[11, 111, 'FOUR']\n",
      "130319939035584,chi_list=[11, 111, 'FOUR']\n",
      "130319938702592,soft_copy_list=[11, 111, 44]\n"
     ]
    }
   ],
   "source": [
    "print(f\"{chi_list[2]}\")\n",
    "chi_list[2] = 'FOUR'\n",
    "print(f\"{id(par_list)},{par_list}\")\n",
    "print(f\"{id(chi_list)},{chi_list=}\")\n",
    "print(f\"{id(soft_copy_list)},{soft_copy_list=}\")"
   ]
  },
  {
   "cell_type": "code",
   "execution_count": 21,
   "metadata": {},
   "outputs": [
    {
     "name": "stdout",
     "output_type": "stream",
     "text": [
      "\n",
      "130319939035584,[11, 111, 'FOUR']\n",
      "130319939035584,chi_list=[11, 111, 'FOUR']\n",
      "130319938702592,soft_copy_list=['ZERO', 111, 44]\n"
     ]
    }
   ],
   "source": [
    "soft_copy_list[0]='ZERO'\n",
    "print()\n",
    "print(f\"{id(par_list)},{par_list}\")\n",
    "print(f\"{id(chi_list)},{chi_list=}\")\n",
    "print(f\"{id(soft_copy_list)},{soft_copy_list=}\")"
   ]
  },
  {
   "cell_type": "markdown",
   "metadata": {},
   "source": [
    "##DEEP COPY"
   ]
  },
  {
   "cell_type": "code",
   "execution_count": 24,
   "metadata": {},
   "outputs": [
    {
     "name": "stdout",
     "output_type": "stream",
     "text": [
      "130319936174336,new_list = [90, 89, [78, 89, [4, 441, 6]]]\n",
      "130319936193472,new_softcopy_list=[90, 89, [78, 89, [4, 441, 6]]]\n",
      "130319936170688,new_deepcopy_list=[90, 89, [78, 89, [4, 441, 6]]]\n"
     ]
    }
   ],
   "source": [
    "new_list = [90,89,[78,89,[4,441,6]]]\n",
    "new_softcopy_list = copy.copy(new_list)#soft or shallow copy\n",
    "new_deepcopy_list = copy.deepcopy(new_list)\n",
    "\n",
    "print(f\"{id(new_list)},{new_list = }\")\n",
    "print(f\"{id(new_softcopy_list)},{new_softcopy_list=}\")\n",
    "print(f\"{id(new_deepcopy_list)},{new_deepcopy_list=}\")"
   ]
  },
  {
   "cell_type": "code",
   "execution_count": 27,
   "metadata": {},
   "outputs": [
    {
     "name": "stdout",
     "output_type": "stream",
     "text": [
      "130319936174336,new_list=[90, 89, [78, 89, [4, 'FFO', 6]]]\n",
      "130319936193472,new_softcopy_list=[90, 89, [78, 89, [4, 'FFO', 6]]]\n",
      "130319936170688,new_deepcopy_list=[90, 89, [78, 89, [4, 441, 6]]]\n"
     ]
    }
   ],
   "source": [
    "new_list[2][2][1] = 'FFO'\n",
    "print(f\"{id(new_list)},{new_list=}\")\n",
    "print(f\"{id(new_softcopy_list)},{new_softcopy_list=}\")\n",
    "print(f\"{id(new_deepcopy_list)},{new_deepcopy_list=}\")"
   ]
  },
  {
   "cell_type": "code",
   "execution_count": 28,
   "metadata": {},
   "outputs": [],
   "source": [
    "#NOTE: \n",
    "# shallow copy is fast,but can't work more than one dimension\n",
    "# Deep copy is slo.w but can work with any number of objects in any dimension"
   ]
  }
 ],
 "metadata": {
  "kernelspec": {
   "display_name": "Python 3",
   "language": "python",
   "name": "python3"
  },
  "language_info": {
   "codemirror_mode": {
    "name": "ipython",
    "version": 3
   },
   "file_extension": ".py",
   "mimetype": "text/x-python",
   "name": "python",
   "nbconvert_exporter": "python",
   "pygments_lexer": "ipython3",
   "version": "3.12.1"
  }
 },
 "nbformat": 4,
 "nbformat_minor": 2
}
