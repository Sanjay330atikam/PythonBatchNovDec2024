{
 "cells": [
  {
   "cell_type": "markdown",
   "metadata": {},
   "source": [
    "PARTIAL FUNCTIONS"
   ]
  },
  {
   "cell_type": "code",
   "execution_count": 2,
   "metadata": {},
   "outputs": [
    {
     "name": "stdout",
     "output_type": "stream",
     "text": [
      "db1 functools.partial(<function multiply at 0x7bc73073f240>, 2)\n",
      "type(db1) <class 'functools.partial'>\n",
      "8\n",
      "10\n"
     ]
    }
   ],
   "source": [
    "from functools import partial\n",
    "def multiply(x,y):\n",
    "    return x*y\n",
    "\n",
    "db1 = partial(multiply,2)\n",
    "print(\"db1\",db1)\n",
    "print(\"type(db1)\",type(db1))\n",
    "\n",
    "print(db1(4))\n",
    "print(db1(5))"
   ]
  },
  {
   "cell_type": "code",
   "execution_count": 3,
   "metadata": {},
   "outputs": [
    {
     "name": "stdout",
     "output_type": "stream",
     "text": [
      "['__call__', '__class__', '__class_getitem__', '__delattr__', '__dict__', '__dir__', '__doc__', '__eq__', '__format__', '__ge__', '__getattribute__', '__getstate__', '__gt__', '__hash__', '__init__', '__init_subclass__', '__le__', '__lt__', '__module__', '__ne__', '__new__', '__reduce__', '__reduce_ex__', '__repr__', '__setattr__', '__setstate__', '__sizeof__', '__str__', '__subclasshook__', '__vectorcalloffset__', 'args', 'func', 'keywords']\n"
     ]
    }
   ],
   "source": [
    "print(dir(db1))"
   ]
  },
  {
   "cell_type": "code",
   "execution_count": 6,
   "metadata": {},
   "outputs": [
    {
     "name": "stdout",
     "output_type": "stream",
     "text": [
      "type(db2) <class 'functools.partial'>\n",
      "300\n",
      "1099\n",
      "123456889\n"
     ]
    }
   ],
   "source": [
    "def add (x,y):\n",
    "    return x+y\n",
    "db2=partial(add,100)\n",
    "print(\"type(db2)\",type(db2))\n",
    "print(db2(200))\n",
    "print(db2(999))\n",
    "print(db2(123456789))"
   ]
  },
  {
   "cell_type": "markdown",
   "metadata": {},
   "source": [
    "RECURSSIVE FUNCTION\n",
    "-Using the same logic again and again"
   ]
  }
 ],
 "metadata": {
  "kernelspec": {
   "display_name": "Python 3",
   "language": "python",
   "name": "python3"
  },
  "language_info": {
   "codemirror_mode": {
    "name": "ipython",
    "version": 3
   },
   "file_extension": ".py",
   "mimetype": "text/x-python",
   "name": "python",
   "nbconvert_exporter": "python",
   "pygments_lexer": "ipython3",
   "version": "3.12.1"
  }
 },
 "nbformat": 4,
 "nbformat_minor": 2
}
