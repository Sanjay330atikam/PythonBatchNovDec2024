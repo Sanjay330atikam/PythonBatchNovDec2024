{
 "cells": [
  {
   "cell_type": "markdown",
   "metadata": {},
   "source": [
    "Advantages of Functions\n",
    "- Code Reusability.\n",
    "- Better maintenance of the code.\n",
    "-Testing and Debugging are easier."
   ]
  },
  {
   "cell_type": "code",
   "execution_count": 2,
   "metadata": {},
   "outputs": [],
   "source": [
    "#FUnction Defination\n",
    "def Hello():\n",
    "    print(\"Hello World\")\n",
    "# return None - default ( if we dont give return value it takes none as default)\n"
   ]
  },
  {
   "cell_type": "code",
   "execution_count": 3,
   "metadata": {},
   "outputs": [
    {
     "name": "stdout",
     "output_type": "stream",
     "text": [
      "<function Hello at 0x7d2314258fe0>\n"
     ]
    }
   ],
   "source": [
    "print(Hello)"
   ]
  },
  {
   "cell_type": "markdown",
   "metadata": {},
   "source": [
    "NOTE: Functions are treated as first-class objects in Python"
   ]
  },
  {
   "cell_type": "code",
   "execution_count": 7,
   "metadata": {},
   "outputs": [
    {
     "name": "stdout",
     "output_type": "stream",
     "text": [
      "\n"
     ]
    },
    {
     "data": {
      "text/plain": [
       "<method-wrapper '__repr__' of function object at 0x7d2314258fe0>"
      ]
     },
     "execution_count": 7,
     "metadata": {},
     "output_type": "execute_result"
    }
   ],
   "source": [
    "str(Hello)"
   ]
  },
  {
   "cell_type": "code",
   "execution_count": 8,
   "metadata": {},
   "outputs": [
    {
     "data": {
      "text/plain": [
       "<method-wrapper '__repr__' of function object at 0x7d2314258fe0>"
      ]
     },
     "execution_count": 8,
     "metadata": {},
     "output_type": "execute_result"
    }
   ],
   "source": [
    "Hello.__repr__"
   ]
  },
  {
   "cell_type": "code",
   "execution_count": 9,
   "metadata": {},
   "outputs": [
    {
     "data": {
      "text/plain": [
       "'<function Hello at 0x7d2314258fe0>'"
      ]
     },
     "execution_count": 9,
     "metadata": {},
     "output_type": "execute_result"
    }
   ],
   "source": [
    "repr(Hello)"
   ]
  },
  {
   "cell_type": "code",
   "execution_count": null,
   "metadata": {},
   "outputs": [],
   "source": [
    "Hello.__qualname__ # means name of the function "
   ]
  },
  {
   "cell_type": "code",
   "execution_count": 11,
   "metadata": {},
   "outputs": [
    {
     "data": {
      "text/plain": [
       "144"
      ]
     },
     "execution_count": 11,
     "metadata": {},
     "output_type": "execute_result"
    }
   ],
   "source": [
    "Hello.__sizeof__()"
   ]
  },
  {
   "cell_type": "code",
   "execution_count": 12,
   "metadata": {},
   "outputs": [
    {
     "data": {
      "text/plain": [
       "8599350958334"
      ]
     },
     "execution_count": 12,
     "metadata": {},
     "output_type": "execute_result"
    }
   ],
   "source": [
    "Hello.__hash__()# means tries to give unique value."
   ]
  },
  {
   "cell_type": "code",
   "execution_count": 13,
   "metadata": {},
   "outputs": [
    {
     "data": {
      "text/plain": [
       "8599350958334"
      ]
     },
     "execution_count": 13,
     "metadata": {},
     "output_type": "execute_result"
    }
   ],
   "source": [
    "hash(Hello)"
   ]
  },
  {
   "cell_type": "code",
   "execution_count": 15,
   "metadata": {},
   "outputs": [
    {
     "data": {
      "text/plain": [
       "<code object Hello at 0x7d2314c1e250, file \"/tmp/ipykernel_20556/1798209787.py\", line 2>"
      ]
     },
     "execution_count": 15,
     "metadata": {},
     "output_type": "execute_result"
    }
   ],
   "source": [
    "Hello.__code__#Shows where the hello object is present."
   ]
  },
  {
   "cell_type": "code",
   "execution_count": 16,
   "metadata": {},
   "outputs": [
    {
     "data": {
      "text/plain": [
       "True"
      ]
     },
     "execution_count": 16,
     "metadata": {},
     "output_type": "execute_result"
    }
   ],
   "source": [
    "callable(Hello)#make a call to it"
   ]
  },
  {
   "cell_type": "code",
   "execution_count": 17,
   "metadata": {},
   "outputs": [
    {
     "name": "stdout",
     "output_type": "stream",
     "text": [
      "Hello World\n"
     ]
    }
   ],
   "source": [
    "Hello.__call__()# this also makes call but in this actual call is happening."
   ]
  },
  {
   "cell_type": "code",
   "execution_count": 20,
   "metadata": {},
   "outputs": [
    {
     "data": {
      "text/plain": [
       "False"
      ]
     },
     "execution_count": 20,
     "metadata": {},
     "output_type": "execute_result"
    }
   ],
   "source": [
    "fruit = 'apple'\n",
    "callable(fruit)# it gives false beacuse it doesnot takes strings"
   ]
  },
  {
   "cell_type": "code",
   "execution_count": 25,
   "metadata": {},
   "outputs": [],
   "source": [
    "#function Defination\n",
    "def hello_world(name):\n",
    " return f\"HelloWorld{name}\""
   ]
  },
  {
   "cell_type": "code",
   "execution_count": 30,
   "metadata": {},
   "outputs": [
    {
     "ename": "TypeError",
     "evalue": "hello_world() missing 1 required positional argument: 'name'",
     "output_type": "error",
     "traceback": [
      "\u001b[0;31m---------------------------------------------------------------------------\u001b[0m",
      "\u001b[0;31mTypeError\u001b[0m                                 Traceback (most recent call last)",
      "Cell \u001b[0;32mIn[30], line 1\u001b[0m\n\u001b[0;32m----> 1\u001b[0m \u001b[43mhello_world\u001b[49m\u001b[43m(\u001b[49m\u001b[43m)\u001b[49m\n",
      "\u001b[0;31mTypeError\u001b[0m: hello_world() missing 1 required positional argument: 'name'"
     ]
    }
   ],
   "source": [
    "hello_world()\n",
    "# giving error beacuse while defing and calling the function we passed one Argument or value\n",
    "# so while calling also we need to pass one value "
   ]
  },
  {
   "cell_type": "code",
   "execution_count": 33,
   "metadata": {},
   "outputs": [
    {
     "data": {
      "text/plain": [
       "'HelloWorldSANJAY!!!__HOW -- YOU--DOINGG!!!!'"
      ]
     },
     "execution_count": 33,
     "metadata": {},
     "output_type": "execute_result"
    }
   ],
   "source": [
    "hello_world  ('SANJAY!!!__HOW -- YOU--DOINGG!!!!')"
   ]
  },
  {
   "cell_type": "code",
   "execution_count": 34,
   "metadata": {},
   "outputs": [],
   "source": [
    "def person_detials(name,age):\n",
    "    return f\"{name} is {age} years old\""
   ]
  },
  {
   "cell_type": "code",
   "execution_count": 39,
   "metadata": {},
   "outputs": [
    {
     "data": {
      "text/plain": [
       "'Sanjay is 69 years old'"
      ]
     },
     "execution_count": 39,
     "metadata": {},
     "output_type": "execute_result"
    }
   ],
   "source": [
    "person_detials('Sanjay',69)\n"
   ]
  },
  {
   "cell_type": "markdown",
   "metadata": {},
   "source": [
    "NOTE: Ensure to pass the exact number of arguments in functions call, as in the function definition."
   ]
  },
  {
   "cell_type": "code",
   "execution_count": 40,
   "metadata": {},
   "outputs": [
    {
     "name": "stdout",
     "output_type": "stream",
     "text": [
      "result = None <class 'function'>\n"
     ]
    }
   ],
   "source": [
    "def some_function():\n",
    " pass\n",
    "result = some_function()\n",
    "print(\"result =\",result,type(result))"
   ]
  },
  {
   "cell_type": "code",
   "execution_count": 42,
   "metadata": {},
   "outputs": [
    {
     "name": "stdout",
     "output_type": "stream",
     "text": [
      "result = None <class 'NoneType'>\n"
     ]
    }
   ],
   "source": [
    "def some_function():\n",
    " return None\n",
    "result = some_function()\n",
    "print(\"result =\",result,type(result))"
   ]
  },
  {
   "cell_type": "code",
   "execution_count": 43,
   "metadata": {},
   "outputs": [
    {
     "name": "stdout",
     "output_type": "stream",
     "text": [
      "result = 12 <class 'int'>\n"
     ]
    }
   ],
   "source": [
    "def some_function():\n",
    " return 12\n",
    "result = some_function()\n",
    "print(\"result =\",result,type(result))"
   ]
  },
  {
   "cell_type": "code",
   "execution_count": 44,
   "metadata": {},
   "outputs": [
    {
     "name": "stdout",
     "output_type": "stream",
     "text": [
      "result = 12.0 <class 'float'>\n"
     ]
    }
   ],
   "source": [
    "def some_function():\n",
    " return 12.0\n",
    "result = some_function()\n",
    "print(\"result =\",result,type(result))"
   ]
  },
  {
   "cell_type": "code",
   "execution_count": 45,
   "metadata": {},
   "outputs": [
    {
     "name": "stdout",
     "output_type": "stream",
     "text": [
      "result = {12: 0} <class 'dict'>\n"
     ]
    }
   ],
   "source": [
    "def some_function():\n",
    " return {12: 0}\n",
    "result = some_function()\n",
    "print(\"result =\",result,type(result))"
   ]
  },
  {
   "cell_type": "code",
   "execution_count": 46,
   "metadata": {},
   "outputs": [
    {
     "name": "stdout",
     "output_type": "stream",
     "text": [
      "result = (12,) <class 'tuple'>\n"
     ]
    }
   ],
   "source": [
    "def some_function():\n",
    " return 12,\n",
    "result = some_function()\n",
    "print(\"result =\",result,type(result))"
   ]
  },
  {
   "cell_type": "code",
   "execution_count": 47,
   "metadata": {},
   "outputs": [
    {
     "name": "stdout",
     "output_type": "stream",
     "text": [
      "result = {0, 12} <class 'set'>\n"
     ]
    }
   ],
   "source": [
    "def some_function():\n",
    " return {12,0}\n",
    "result = some_function()\n",
    "print(\"result =\",result,type(result))"
   ]
  },
  {
   "cell_type": "code",
   "execution_count": 48,
   "metadata": {},
   "outputs": [
    {
     "name": "stdout",
     "output_type": "stream",
     "text": [
      "result = (12, 69) <class 'tuple'>\n"
     ]
    }
   ],
   "source": [
    "def some_function():\n",
    " return 12,69\n",
    "result = some_function()\n",
    "print(\"result =\",result,type(result))"
   ]
  },
  {
   "cell_type": "code",
   "execution_count": 14,
   "metadata": {},
   "outputs": [
    {
     "name": "stdout",
     "output_type": "stream",
     "text": [
      "result =  12 <class 'int'>\n",
      "result =  5 <class 'int'>\n",
      "result =  12 <class 'int'>\n"
     ]
    }
   ],
   "source": [
    "def some_other_function():\n",
    "    return 12,5,6#unpacking - tuple\n",
    "result1, result2 , result3 = some_other_function()\n",
    "print(\"result = \",result1,type(result3))\n",
    "print(\"result = \",result2,type(result2))\n",
    "print(\"result = \",result1,type(result1))"
   ]
  },
  {
   "cell_type": "code",
   "execution_count": 16,
   "metadata": {},
   "outputs": [
    {
     "name": "stdout",
     "output_type": "stream",
     "text": [
      "1 2 3 4\n"
     ]
    }
   ],
   "source": [
    "r1,r2,r3,r4=[1,2,3,4]#list unpacking\n",
    "print(r1,r2,r3,r4)"
   ]
  },
  {
   "cell_type": "code",
   "execution_count": 2,
   "metadata": {},
   "outputs": [
    {
     "name": "stdout",
     "output_type": "stream",
     "text": [
      "34 [69, 79]\n"
     ]
    }
   ],
   "source": [
    "m1,*m2=[34,69,79]\n",
    "print(m1,m2)\n",
    "# '*' gives remaining items for unpacking as a lits"
   ]
  },
  {
   "cell_type": "code",
   "execution_count": 13,
   "metadata": {},
   "outputs": [
    {
     "name": "stdout",
     "output_type": "stream",
     "text": [
      "result =  12 <class 'int'>\n",
      "result =  [34, 56, 78] <class 'list'>\n",
      "12 [34, 56, 78]\n"
     ]
    }
   ],
   "source": [
    "def some_another_function():\n",
    "    return 12,34,56,78\n",
    "result_1,*result_2, =some_another_function()\n",
    "print(\"result = \",result_1,type(result_1))\n",
    "print(\"result = \",result_2,type(result_2))\n",
    "print(result_1,result_2)\n"
   ]
  },
  {
   "cell_type": "markdown",
   "metadata": {},
   "source": [
    "Function OverWritting"
   ]
  },
  {
   "cell_type": "code",
   "execution_count": null,
   "metadata": {},
   "outputs": [
    {
     "name": "stdout",
     "output_type": "stream",
     "text": [
      "3\n"
     ]
    },
    {
     "ename": "TypeError",
     "evalue": "my_func() takes 2 positional arguments but 3 were given",
     "output_type": "error",
     "traceback": [
      "\u001b[0;31m---------------------------------------------------------------------------\u001b[0m",
      "\u001b[0;31mTypeError\u001b[0m                                 Traceback (most recent call last)",
      "Cell \u001b[0;32mIn[2], line 9\u001b[0m\n\u001b[1;32m      7\u001b[0m     \u001b[38;5;28;01mreturn\u001b[39;00m n1\u001b[38;5;241m+\u001b[39mn2\n\u001b[1;32m      8\u001b[0m \u001b[38;5;28mprint\u001b[39m(my_func(\u001b[38;5;241m1\u001b[39m,\u001b[38;5;241m2\u001b[39m))\n\u001b[0;32m----> 9\u001b[0m \u001b[38;5;28mprint\u001b[39m(\u001b[43mmy_func\u001b[49m\u001b[43m(\u001b[49m\u001b[38;5;241;43m1\u001b[39;49m\u001b[43m,\u001b[49m\u001b[38;5;241;43m2\u001b[39;49m\u001b[43m,\u001b[49m\u001b[38;5;241;43m3\u001b[39;49m\u001b[43m)\u001b[49m)\n",
      "\u001b[0;31mTypeError\u001b[0m: my_func() takes 2 positional arguments but 3 were given"
     ]
    }
   ],
   "source": [
    "# Two functions with the same name but different number of arguments in defination\n",
    "def my_func(n1,n2,n3):\n",
    "    return n1+n2+n3\n",
    "\n",
    "\n",
    "def my_func(n1,n2):\n",
    "    return n1+n2\n",
    "print(my_func(1,2))\n",
    "print(my_func(1,2,3))# first function is overwriiten by second function \n",
    "# it takes the latest values,so as second function is latest it takes\n",
    "# second fucntion arguments only.Function name is also same."
   ]
  },
  {
   "cell_type": "markdown",
   "metadata": {},
   "source": [
    "Default Arguments"
   ]
  },
  {
   "cell_type": "code",
   "execution_count": 8,
   "metadata": {},
   "outputs": [],
   "source": [
    "def greetings(name,msg =\"Birthday\"):\n",
    "    print(f\"Hi--{name}!is Happy!!++{msg}\")"
   ]
  },
  {
   "cell_type": "code",
   "execution_count": 9,
   "metadata": {},
   "outputs": [
    {
     "name": "stdout",
     "output_type": "stream",
     "text": [
      "Hi--Sanjay!is Happy!!++Birthday\n"
     ]
    }
   ],
   "source": [
    "greetings('Sanjay')"
   ]
  },
  {
   "cell_type": "code",
   "execution_count": 12,
   "metadata": {},
   "outputs": [
    {
     "data": {
      "text/plain": [
       "('Birthday',)"
      ]
     },
     "execution_count": 12,
     "metadata": {},
     "output_type": "execute_result"
    }
   ],
   "source": [
    "greetings.__defaults__"
   ]
  },
  {
   "cell_type": "code",
   "execution_count": 14,
   "metadata": {},
   "outputs": [
    {
     "name": "stdout",
     "output_type": "stream",
     "text": [
      "Hi--Name!is Happy!!++Birthday\n"
     ]
    }
   ],
   "source": [
    "greetings('Name')"
   ]
  },
  {
   "cell_type": "code",
   "execution_count": 15,
   "metadata": {},
   "outputs": [
    {
     "name": "stdout",
     "output_type": "stream",
     "text": [
      "Hi--Sanjay!is Happy!!++25th Birthday\n"
     ]
    }
   ],
   "source": [
    "greetings('Sanjay','25th Birthday')"
   ]
  },
  {
   "cell_type": "markdown",
   "metadata": {},
   "source": [
    "NOTE: Non-Default arguments must be passed during function call"
   ]
  },
  {
   "cell_type": "markdown",
   "metadata": {},
   "source": [
    "Function Overloading Workaround"
   ]
  },
  {
   "cell_type": "code",
   "execution_count": 16,
   "metadata": {},
   "outputs": [
    {
     "name": "stdout",
     "output_type": "stream",
     "text": [
      "2+3 =5\n",
      "10+3000+890 =3900\n"
     ]
    }
   ],
   "source": [
    "# Two functions with the same name but different number of arguments in defination\n",
    "def my_func(n1,n2,n3=0):#taking n3 as a default value.\n",
    "    return n1+n2+n3\n",
    "print(f\"{2+3 =}\")\n",
    "print(f\"{10+3000+890 =}\")"
   ]
  },
  {
   "cell_type": "markdown",
   "metadata": {},
   "source": [
    "Problem with mutubale default arguments\n",
    "- like we can never have list, set, or dict as default arguments(mutuable)"
   ]
  },
  {
   "cell_type": "markdown",
   "metadata": {},
   "source": [
    "Variadic Functions-Variable,arguments functions\n",
    "_ A function that takes zero arguments or any number of arguments.\n",
    "Ex:print()"
   ]
  },
  {
   "cell_type": "code",
   "execution_count": 18,
   "metadata": {},
   "outputs": [
    {
     "name": "stdout",
     "output_type": "stream",
     "text": [
      "<class 'tuple'>\n",
      "given()\n",
      "\n",
      "<class 'tuple'>\n",
      "given(99,)\n",
      "\n",
      "<class 'tuple'>\n",
      "given(99, 1000, 8.0)\n",
      "\n",
      "<class 'tuple'>\n",
      "given(9, 1000, 8.0, None, {3: 4})\n",
      "\n"
     ]
    }
   ],
   "source": [
    "def hello(*given):\n",
    "    print(type(given))\n",
    "    print(\"given\" + str(given))\n",
    "    print(\"\"*20)\n",
    "\n",
    "# *works for any number of arguments\n",
    "hello()\n",
    "hello(99)\n",
    "hello(99,1000,8.0)\n",
    "hello(9,1000,8.0,None,{3:4})"
   ]
  }
 ],
 "metadata": {
  "kernelspec": {
   "display_name": "Python 3",
   "language": "python",
   "name": "python3"
  },
  "language_info": {
   "codemirror_mode": {
    "name": "ipython",
    "version": 3
   },
   "file_extension": ".py",
   "mimetype": "text/x-python",
   "name": "python",
   "nbconvert_exporter": "python",
   "pygments_lexer": "ipython3",
   "version": "3.12.1"
  }
 },
 "nbformat": 4,
 "nbformat_minor": 2
}
