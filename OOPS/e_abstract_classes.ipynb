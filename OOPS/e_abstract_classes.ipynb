{
 "cells": [
  {
   "cell_type": "markdown",
   "metadata": {},
   "source": [
    "## Abstarct Classes\n",
    "    classes that contain one or more abstract methods\n",
    "\n",
    "    abstract method\n",
    "        - method that is declared, but no implementation\n",
    "    \n",
    "    Abstract classes cannot be initiated, and requires subclasess\n",
    "    to provide implementation for the abstract methods"
   ]
  },
  {
   "cell_type": "code",
   "execution_count": 3,
   "metadata": {},
   "outputs": [
    {
     "name": "stdout",
     "output_type": "stream",
     "text": [
      "{}\n"
     ]
    }
   ],
   "source": [
    "# OrdinaryClass1\n",
    "class Ordinaryclass:\n",
    "    pass\n",
    "o1 = Ordinaryclass()\n",
    "print(f\"{vars(o1)}\")"
   ]
  },
  {
   "cell_type": "code",
   "execution_count": 4,
   "metadata": {},
   "outputs": [
    {
     "name": "stdout",
     "output_type": "stream",
     "text": [
      "{'name': 'Python'}\n"
     ]
    }
   ],
   "source": [
    "# Ordinary Class2\n",
    "class Ordinaryclass2:\n",
    "    def __init__(self,name):\n",
    "        self.name = name\n",
    "o2 = Ordinaryclass2(\"Python\")\n",
    "print(f\"{vars(o2)}\")"
   ]
  },
  {
   "cell_type": "code",
   "execution_count": 5,
   "metadata": {},
   "outputs": [
    {
     "name": "stdout",
     "output_type": "stream",
     "text": [
      "{'name': 'Python'}\n",
      "Hello World\n"
     ]
    }
   ],
   "source": [
    "# Ordinary Class3\n",
    "class Ordinaryclass3:\n",
    "    def __init__(self,name):\n",
    "        self.name = name\n",
    "\n",
    "    def say_hello(self):\n",
    "        print(\"Hello World\")\n",
    "\n",
    "o3 = Ordinaryclass3(\"Python\")\n",
    "print(f\"{vars(o3)}\")\n",
    "o3.say_hello()"
   ]
  },
  {
   "cell_type": "code",
   "execution_count": 6,
   "metadata": {},
   "outputs": [
    {
     "name": "stdout",
     "output_type": "stream",
     "text": [
      "{}\n"
     ]
    }
   ],
   "source": [
    "from abc import ABC\n",
    "\n",
    "# Abstract Class1\n",
    "class AbstractclassExample1(ABC):\n",
    "    pass\n",
    "A1 = AbstractclassExample1()\n",
    "print(f\"{vars(A1)}\")"
   ]
  },
  {
   "cell_type": "code",
   "execution_count": 7,
   "metadata": {},
   "outputs": [
    {
     "name": "stdout",
     "output_type": "stream",
     "text": [
      "{'name': 'Python'}\n"
     ]
    }
   ],
   "source": [
    "# Abstract Class2\n",
    "class AbstractclassExample2(ABC):\n",
    "    def __init__(self,name):\n",
    "        self.name = name\n",
    "        super().__init__() # calling parent constructor which is ABC\n",
    "\n",
    "A2 = AbstractclassExample2(\"Python\")\n",
    "print(f\"{vars(A2)}\")"
   ]
  },
  {
   "cell_type": "code",
   "execution_count": 8,
   "metadata": {},
   "outputs": [
    {
     "name": "stdout",
     "output_type": "stream",
     "text": [
      "{'name': 'Python'}\n",
      "Hello World\n"
     ]
    }
   ],
   "source": [
    "# Abstract Class3\n",
    "class AbstractclassExample3(ABC):\n",
    "    def __init__(self,name):\n",
    "        self.name = name\n",
    "        super().__init__()\n",
    "    \n",
    "    def say_hello(self):\n",
    "        print(\"Hello World\")\n",
    "\n",
    "A3 = AbstractclassExample3(\"Python\")\n",
    "print(f\"{vars(A3)}\")\n",
    "A3.say_hello()"
   ]
  },
  {
   "cell_type": "code",
   "execution_count": 9,
   "metadata": {},
   "outputs": [],
   "source": [
    "# Abstarct classes are not desgined to make instantiations\n",
    "from abc import ABC,abstractmethod\n",
    "\n",
    "# Abstract Class4\n",
    "class AbstractclassExample4(ABC):\n",
    "    def __init__(self,name):\n",
    "        self.name = name\n",
    "        super().__init__()\n",
    "\n",
    "#     @abstractmethod\n",
    "#     def say_hello(self):\n",
    "#         print(\"Hello World\")\n",
    "\n",
    "# A4 = AbstractclassExample4(\"Python\")\n",
    "# print(f\"{vars(A4)}\")\n",
    "# A4.say_hello()\n"
   ]
  },
  {
   "cell_type": "markdown",
   "metadata": {},
   "source": [
    "#NOTE: If abc is inherited, we can instantiated, but if one of the method is marked as an abstractmethod we cand,t instantiate"
   ]
  },
  {
   "cell_type": "markdown",
   "metadata": {},
   "source": [
    "### Real-World Problem"
   ]
  },
  {
   "cell_type": "code",
   "execution_count": 10,
   "metadata": {},
   "outputs": [],
   "source": [
    "class BasicCar(ABC):\n",
    "    @abstractmethod # but something is defined as abstract method that one we should\n",
    "                    # define it\n",
    "    def get_chasis_method(self):\n",
    "        pass\n",
    "\n",
    "    def get_car_model(self):\n",
    "        pass\n",
    "# The above are two method with no constructors"
   ]
  },
  {
   "cell_type": "code",
   "execution_count": 11,
   "metadata": {},
   "outputs": [
    {
     "name": "stdout",
     "output_type": "stream",
     "text": [
      "<__main__.BMW object at 0x7ab7fd85e330>\n",
      "{}\n",
      "<__main__.BMW object at 0x7ab7fd85e330> = \n"
     ]
    }
   ],
   "source": [
    "# inherting from above class\n",
    "class BMW(BasicCar):# whenever we are inherting the abstarct class what are all method defined \n",
    "                    # use it as parent class\n",
    "     def get_chasis_method(self):\n",
    "          pass# whenever we are defining child mehods minimum we need to pass get_chasis_method \n",
    "     #`````````beacuse it has abstarct method in Parent class\n",
    "c1 = BMW()\n",
    "print(c1)\n",
    "print(f\"{vars(c1)}\")\n",
    "print(f\"{c1} = \")"
   ]
  },
  {
   "cell_type": "markdown",
   "metadata": {},
   "source": [
    "### Another Example\n",
    "    Problem Statement:Write classes that have following shapes: square, rectangle, circle\n",
    "    Each shape should have an perimeter and area"
   ]
  },
  {
   "cell_type": "code",
   "execution_count": 46,
   "metadata": {},
   "outputs": [],
   "source": [
    "import math\n",
    "from abc import ABC,abstractmethod\n",
    "\n",
    "class Shape(ABC):\n",
    "    def __init__(self,length,breadth=None):\n",
    "        self.length = length\n",
    "        self.breadth = breadth\n",
    "        super().__init__()\n",
    "        \n",
    "    @abstractmethod\n",
    "    def area(self):\n",
    "        pass\n",
    "\n",
    "    @abstractmethod\n",
    "    def perimeter(self):\n",
    "        pass"
   ]
  },
  {
   "cell_type": "code",
   "execution_count": 51,
   "metadata": {},
   "outputs": [],
   "source": [
    "class circle(Shape):\n",
    "    def __init__(self, length):\n",
    "        super().__init__(length)\n",
    "\n",
    "    def area(self):\n",
    "        return math.pi * (self.length**2)\n",
    "    \n",
    "    def perimeter(self):\n",
    "        return 2 * math.pi * self.length"
   ]
  },
  {
   "cell_type": "code",
   "execution_count": null,
   "metadata": {},
   "outputs": [
    {
     "name": "stdout",
     "output_type": "stream",
     "text": [
      "4\n"
     ]
    }
   ],
   "source": [
    "class Square(Shape):\n",
    "    def __init__(self, length):\n",
    "        super().__init__(length)\n",
    "\n",
    "    def area(self):\n",
    "        return self.length ** 2\n",
    "    \n",
    "    def perimeter(self):\n",
    "        return self.length * 2 "
   ]
  },
  {
   "cell_type": "code",
   "execution_count": null,
   "metadata": {},
   "outputs": [
    {
     "name": "stdout",
     "output_type": "stream",
     "text": [
      "{'length': 10, 'breadth': 20}\n"
     ]
    }
   ],
   "source": [
    "class Rectangle(Shape):\n",
    "    def __init__(self, length, breadth):\n",
    "        super().__init__(length, breadth=breadth)\n",
    "\n",
    "    def area(self):\n",
    "        return self.length * self.breadth\n",
    "    \n",
    "    def perimeter(self):\n",
    "        return self.length * 2 * self.breadth  "
   ]
  },
  {
   "cell_type": "code",
   "execution_count": 49,
   "metadata": {},
   "outputs": [
    {
     "name": "stdout",
     "output_type": "stream",
     "text": [
      "C.area()  =314.1592653589793\n",
      "C.perimeter()  =62.83185307179586\n",
      "\n",
      "S.area()  =100\n",
      "S.perimeter()  =20\n",
      "\n",
      "R.area()  =200\n",
      "R.perimeter()  =400\n"
     ]
    }
   ],
   "source": [
    "if __name__ == \"__main__\":\n",
    "\n",
    " C = circle(10)\n",
    " print(f\"{C.area()  =}\")\n",
    " print(f\"{C.perimeter()  =}\")\n",
    " print()\n",
    " S= Square(10)\n",
    " print(f\"{S.area()  =}\")\n",
    " print(f\"{S.perimeter()  =}\")\n",
    " print()\n",
    " R = Rectangle(10,20)\n",
    " print(f\"{R.area()  =}\")\n",
    " print(f\"{R.perimeter()  =}\")\n",
    " "
   ]
  }
 ],
 "metadata": {
  "kernelspec": {
   "display_name": "venv",
   "language": "python",
   "name": "python3"
  },
  "language_info": {
   "codemirror_mode": {
    "name": "ipython",
    "version": 3
   },
   "file_extension": ".py",
   "mimetype": "text/x-python",
   "name": "python",
   "nbconvert_exporter": "python",
   "pygments_lexer": "ipython3",
   "version": "3.12.1"
  }
 },
 "nbformat": 4,
 "nbformat_minor": 2
}
