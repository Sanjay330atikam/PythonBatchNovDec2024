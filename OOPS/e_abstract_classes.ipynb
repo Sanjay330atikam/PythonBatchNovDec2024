{
 "cells": [
  {
   "cell_type": "markdown",
   "metadata": {},
   "source": [
    "## Abstarct Classes\n",
    "    classes that contain one or more abstract methods\n",
    "\n",
    "    abstract method\n",
    "        - method that is declared, but no implementation\n",
    "    \n",
    "    Abstract classes cannot be initiated, and requires subclasess\n",
    "    to provide implementation for the abstract methods"
   ]
  },
  {
   "cell_type": "code",
   "execution_count": null,
   "metadata": {},
   "outputs": [
    {
     "name": "stdout",
     "output_type": "stream",
     "text": [
      "{}\n"
     ]
    }
   ],
   "source": [
    "# OrdinaryClass1\n",
    "class Ordinaryclass:\n",
    "    pass\n",
    "o1 = Ordinaryclass()\n",
    "print(f\"{vars(o1)}\")"
   ]
  },
  {
   "cell_type": "code",
   "execution_count": 4,
   "metadata": {},
   "outputs": [
    {
     "name": "stdout",
     "output_type": "stream",
     "text": [
      "{'name': 'Python'}\n"
     ]
    }
   ],
   "source": [
    "# Ordinary Class2\n",
    "class Ordinaryclass2:\n",
    "    def __init__(self,name):\n",
    "        self.name = name\n",
    "o2 = Ordinaryclass2(\"Python\")\n",
    "print(f\"{vars(o2)}\")"
   ]
  },
  {
   "cell_type": "code",
   "execution_count": 8,
   "metadata": {},
   "outputs": [
    {
     "name": "stdout",
     "output_type": "stream",
     "text": [
      "{'name': 'Python'}\n",
      "Hello World\n"
     ]
    }
   ],
   "source": [
    "# Ordinary Class3\n",
    "class Ordinaryclass3:\n",
    "    def __init__(self,name):\n",
    "        self.name = name\n",
    "\n",
    "    def say_hello(self):\n",
    "        print(\"Hello World\")\n",
    "\n",
    "o3 = Ordinaryclass3(\"Python\")\n",
    "print(f\"{vars(o3)}\")\n",
    "o3.say_hello()"
   ]
  },
  {
   "cell_type": "code",
   "execution_count": null,
   "metadata": {},
   "outputs": [
    {
     "name": "stdout",
     "output_type": "stream",
     "text": [
      "{}\n"
     ]
    }
   ],
   "source": [
    "from abc import ABC\n",
    "\n",
    "# Abstract Class1\n",
    "class AbstractclassExample1(ABC):\n",
    "    pass\n",
    "A1 = AbstractclassExample1()\n",
    "print(f\"{vars(A1)}\")"
   ]
  },
  {
   "cell_type": "code",
   "execution_count": null,
   "metadata": {},
   "outputs": [
    {
     "name": "stdout",
     "output_type": "stream",
     "text": [
      "{'name': 'Python'}\n"
     ]
    }
   ],
   "source": [
    "# Abstract Class2\n",
    "class AbstractclassExample2(ABC):\n",
    "    def __init__(self,name):\n",
    "        self.name = name\n",
    "        super().__init__() # calling parent constructor which is ABC\n",
    "\n",
    "A2 = AbstractclassExample2(\"Python\")\n",
    "print(f\"{vars(A2)}\")"
   ]
  },
  {
   "cell_type": "code",
   "execution_count": 11,
   "metadata": {},
   "outputs": [
    {
     "name": "stdout",
     "output_type": "stream",
     "text": [
      "{'name': 'Python'}\n",
      "Hello World\n"
     ]
    }
   ],
   "source": [
    "# Abstract Class3\n",
    "class AbstractclassExample3(ABC):\n",
    "    def __init__(self,name):\n",
    "        self.name = name\n",
    "        super().__init__()\n",
    "    \n",
    "    def say_hello(self):\n",
    "        print(\"Hello World\")\n",
    "\n",
    "A3 = AbstractclassExample3(\"Python\")\n",
    "print(f\"{vars(A3)}\")\n",
    "A3.say_hello()"
   ]
  },
  {
   "cell_type": "code",
   "execution_count": 14,
   "metadata": {},
   "outputs": [],
   "source": [
    "# Abstarct classes are not desgined to make instantiations\n",
    "from abc import ABC,abstractmethod\n",
    "\n",
    "# Abstract Class4\n",
    "class AbstractclassExample4(ABC):\n",
    "    def __init__(self,name):\n",
    "        self.name = name\n",
    "        super().__init__()\n",
    "\n",
    "#     @abstractmethod\n",
    "#     def say_hello(self):\n",
    "#         print(\"Hello World\")\n",
    "\n",
    "# A4 = AbstractclassExample4(\"Python\")\n",
    "# print(f\"{vars(A4)}\")\n",
    "# A4.say_hello()\n"
   ]
  },
  {
   "cell_type": "markdown",
   "metadata": {},
   "source": [
    "#NOTE: If abc is inherited, we can instantiated, but if one of the method is marked as an abstractmethod we cand,t instantiate"
   ]
  }
 ],
 "metadata": {
  "kernelspec": {
   "display_name": "Python 3",
   "language": "python",
   "name": "python3"
  },
  "language_info": {
   "codemirror_mode": {
    "name": "ipython",
    "version": 3
   },
   "file_extension": ".py",
   "mimetype": "text/x-python",
   "name": "python",
   "nbconvert_exporter": "python",
   "pygments_lexer": "ipython3",
   "version": "3.12.1"
  }
 },
 "nbformat": 4,
 "nbformat_minor": 2
}
