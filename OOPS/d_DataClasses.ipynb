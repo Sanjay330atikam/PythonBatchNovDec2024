{
 "cells": [
  {
   "cell_type": "markdown",
   "metadata": {},
   "source": [
    "## DataClasses\n",
    "    Introduced in Python 3.7 to reduce the bioleparate code.\n",
    "\n",
    "    "
   ]
  },
  {
   "cell_type": "code",
   "execution_count": 15,
   "metadata": {},
   "outputs": [],
   "source": [
    "from dataclasses import dataclass"
   ]
  },
  {
   "cell_type": "code",
   "execution_count": 9,
   "metadata": {},
   "outputs": [
    {
     "name": "stdout",
     "output_type": "stream",
     "text": [
      "UsingRegularClass'Sanjay', age25\n",
      "UsingRegularClass'Sanju', age24\n"
     ]
    },
    {
     "data": {
      "text/plain": [
       "False"
      ]
     },
     "execution_count": 9,
     "metadata": {},
     "output_type": "execute_result"
    }
   ],
   "source": [
    "class UsingRegularClass:\n",
    "    def __init__(self,name,age):\n",
    "        self.name = name\n",
    "        self.age = age\n",
    "\n",
    "    def __repr__(self): # converts to string\n",
    "        return f\"{self.__class__.__name__}{self.name!r}, age{self.age!r}\"\n",
    "    \n",
    "a1 = UsingRegularClass('Sanjay',25)\n",
    "print(a1)\n",
    "\n",
    "a2 = UsingRegularClass('Sanju',24)\n",
    "print(a2)\n",
    "\n",
    "a1 == a2\n",
    " "
   ]
  },
  {
   "cell_type": "code",
   "execution_count": 14,
   "metadata": {},
   "outputs": [
    {
     "name": "stdout",
     "output_type": "stream",
     "text": [
      "UsingRegularClass'Sanjay', age25\n",
      "UsingRegularClass'Sanju', age24\n",
      "a1 == a2 =False\n"
     ]
    }
   ],
   "source": [
    "class UsingRegularClass:\n",
    "    def __init__(self,name,age):\n",
    "        self.name = name\n",
    "        self.age = age\n",
    "\n",
    "    def __repr__(self): # converts to string\n",
    "        return f\"{self.__class__.__name__}{self.name!r}, age{self.age!r}\"\n",
    "\n",
    "\n",
    "\n",
    "\n",
    "    def __lt__(self, other):# Dunder Methods means when we are making a call indirectly it will call\n",
    "        return self.age > other.age\n",
    "\n",
    "    def __eq__(self, other):\n",
    "     if other.__class__ is not self.__class__:\n",
    "        return NotImplemented\n",
    "     return(self.name,self.age) == (other.name,other.age)\n",
    "    \n",
    "a1 = UsingRegularClass('Sanjay',25)\n",
    "print(a1)\n",
    "\n",
    "a2 = UsingRegularClass('Sanju',24)\n",
    "print(a2)\n",
    "\n",
    "print(f\"{a1 == a2 =}\")# a1.__eq__(a2)\n"
   ]
  },
  {
   "cell_type": "code",
   "execution_count": 17,
   "metadata": {},
   "outputs": [
    {
     "name": "stdout",
     "output_type": "stream",
     "text": [
      "ArithmeticOperations(num1=12, num2=34)\n"
     ]
    }
   ],
   "source": [
    "@dataclass\n",
    "class ArithmeticOperations:\n",
    "    num1 : int\n",
    "    num2 : int # these are instance variables, not class variable\n",
    "\n",
    "a = ArithmeticOperations(12,34)\n",
    "print(a)"
   ]
  },
  {
   "cell_type": "code",
   "execution_count": 46,
   "metadata": {},
   "outputs": [
    {
     "name": "stdout",
     "output_type": "stream",
     "text": [
      "b.additon() = 384\n"
     ]
    }
   ],
   "source": [
    "@dataclass\n",
    "class ArithmeticOperations:\n",
    "    num1: int\n",
    "    num2: int # these are instance variables, not class variable\n",
    "\n",
    "    def additon(self):\n",
    "        return self.num1 + self.num2\n",
    "    \n",
    "b = ArithmeticOperations(339,45)\n",
    "print(f\"{b.additon() = }\")"
   ]
  },
  {
   "cell_type": "code",
   "execution_count": 45,
   "metadata": {},
   "outputs": [
    {
     "name": "stdout",
     "output_type": "stream",
     "text": [
      "c.additon(339,45) = 384\n"
     ]
    }
   ],
   "source": [
    "@dataclass\n",
    "class ArithmeticOperations1:\n",
    "\n",
    "# in this method user is responsible to pasing the values rather than passing direct to constructor\n",
    "    def additon(self,num1,num2):\n",
    "        return num1 + num2\n",
    "    \n",
    "c = ArithmeticOperations1()\n",
    "print(f\"{c.additon(339,45) = }\")"
   ]
  },
  {
   "cell_type": "markdown",
   "metadata": {},
   "source": [
    "    Another Example"
   ]
  },
  {
   "cell_type": "code",
   "execution_count": 49,
   "metadata": {},
   "outputs": [
    {
     "name": "stdout",
     "output_type": "stream",
     "text": [
      "f.x =12\n"
     ]
    }
   ],
   "source": [
    "@dataclass\n",
    "class foo(object): # In this foo if we dont pass the object aslo it is same\n",
    "     x: int\n",
    "\n",
    "f = foo(12) # it is integer of object\n",
    "print(f\"{f.x =}\")"
   ]
  },
  {
   "cell_type": "code",
   "execution_count": 54,
   "metadata": {},
   "outputs": [
    {
     "name": "stdout",
     "output_type": "stream",
     "text": [
      "f.x =2\n",
      "f.y =7\n"
     ]
    }
   ],
   "source": [
    "# From above after creation of instance also we can change value and add new attributes\n",
    "f.x =2\n",
    "f.y = 7\n",
    "print(f\"{f.x =}\")\n",
    "print(f\"{f.y =}\")"
   ]
  },
  {
   "cell_type": "markdown",
   "metadata": {},
   "source": [
    "# Frozen Dataclass\n",
    "    Once the creation of instance we can't change value and can't add new attribute"
   ]
  },
  {
   "cell_type": "code",
   "execution_count": 67,
   "metadata": {},
   "outputs": [
    {
     "name": "stdout",
     "output_type": "stream",
     "text": [
      "f.y = 36\n"
     ]
    }
   ],
   "source": [
    "@dataclass(frozen=True)\n",
    "class foo(object):\n",
    "    y: int\n",
    "\n",
    "f = foo(36)\n",
    "print(f\"{f.y = }\")\n",
    "\n",
    "# f.y = 34.  This can be executed if frozen = False\n",
    "# print(f\"{f.y = }\")\n",
    "\n",
    "# f.z = 45\n",
    "# print(f\"{f.z = }\")"
   ]
  },
  {
   "cell_type": "markdown",
   "metadata": {},
   "source": [
    "## default values in Dataclasses"
   ]
  },
  {
   "cell_type": "code",
   "execution_count": 72,
   "metadata": {},
   "outputs": [
    {
     "name": "stdout",
     "output_type": "stream",
     "text": [
      "vars(s) = {'Title': 'Python', 'Author': 'MyCurz', 'Price': 20}\n",
      "asdict(s) = {'Title': 'Python', 'Author': 'MyCurz', 'Price': 20}\n",
      "astuple(s) = ('Python', 'MyCurz', 20)\n"
     ]
    }
   ],
   "source": [
    "from dataclasses import asdict, astuple, dataclass\n",
    "@dataclass\n",
    "class Book(object):\n",
    "    Title : str\n",
    "    Author : str\n",
    "    Price : float = 20 # default value\n",
    "\n",
    "s = Book(\"Python\",'MyCurz') # what ever the instance attributes are there we are getting \n",
    "#                              without defining in constructor and calling in instance\n",
    "print(f\"{vars(s) = }\")\n",
    "print(f\"{asdict(s) = }\")\n",
    "print(f\"{astuple(s) = }\")"
   ]
  },
  {
   "cell_type": "markdown",
   "metadata": {},
   "source": [
    "## Feilds In Dataclasses"
   ]
  },
  {
   "cell_type": "code",
   "execution_count": 78,
   "metadata": {},
   "outputs": [
    {
     "name": "stdout",
     "output_type": "stream",
     "text": [
      "vars(b) = {'Title': 'Python Programming', 'Author': 'David Weasely', 'Price': 44}\n",
      "astuple(b) = ('Python Programming', 'David Weasely', 97)\n"
     ]
    }
   ],
   "source": [
    "import random\n",
    "from dataclasses import dataclass,field\n",
    "\n",
    "def randomprice():\n",
    "    return random.randint(20,100)\n",
    "\n",
    "@dataclass\n",
    "class Book(object):\n",
    "    Title : str\n",
    "    Author : str\n",
    "    Price : float = field(default_factory=randomprice) # result of random function will be stored here \n",
    "\n",
    "b = Book(\"Python Programming\",\"David Weasely\")\n",
    "print(f\"{vars(b) = }\")\n",
    "\n",
    "\n",
    "b = Book(\"Python Programming\",\"David Weasely\")\n",
    "print(f\"{astuple(b) = }\")\n"
   ]
  }
 ],
 "metadata": {
  "kernelspec": {
   "display_name": "Python 3",
   "language": "python",
   "name": "python3"
  },
  "language_info": {
   "codemirror_mode": {
    "name": "ipython",
    "version": 3
   },
   "file_extension": ".py",
   "mimetype": "text/x-python",
   "name": "python",
   "nbconvert_exporter": "python",
   "pygments_lexer": "ipython3",
   "version": "3.12.1"
  }
 },
 "nbformat": 4,
 "nbformat_minor": 2
}
