{
 "cells": [
  {
   "cell_type": "markdown",
   "metadata": {},
   "source": [
    "## DataClasses\n",
    "    Introduced in Python 3.7 to reduce the bioleparate code.\n",
    "\n",
    "    "
   ]
  },
  {
   "cell_type": "code",
   "execution_count": 15,
   "metadata": {},
   "outputs": [],
   "source": [
    "from dataclasses import dataclass"
   ]
  },
  {
   "cell_type": "code",
   "execution_count": 9,
   "metadata": {},
   "outputs": [
    {
     "name": "stdout",
     "output_type": "stream",
     "text": [
      "UsingRegularClass'Sanjay', age25\n",
      "UsingRegularClass'Sanju', age24\n"
     ]
    },
    {
     "data": {
      "text/plain": [
       "False"
      ]
     },
     "execution_count": 9,
     "metadata": {},
     "output_type": "execute_result"
    }
   ],
   "source": [
    "class UsingRegularClass:\n",
    "    def __init__(self,name,age):\n",
    "        self.name = name\n",
    "        self.age = age\n",
    "\n",
    "    def __repr__(self): # converts to string\n",
    "        return f\"{self.__class__.__name__}{self.name!r}, age{self.age!r}\"\n",
    "    \n",
    "a1 = UsingRegularClass('Sanjay',25)\n",
    "print(a1)\n",
    "\n",
    "a2 = UsingRegularClass('Sanju',24)\n",
    "print(a2)\n",
    "\n",
    "a1 == a2\n",
    " "
   ]
  },
  {
   "cell_type": "code",
   "execution_count": 14,
   "metadata": {},
   "outputs": [
    {
     "name": "stdout",
     "output_type": "stream",
     "text": [
      "UsingRegularClass'Sanjay', age25\n",
      "UsingRegularClass'Sanju', age24\n",
      "a1 == a2 =False\n"
     ]
    }
   ],
   "source": [
    "class UsingRegularClass:\n",
    "    def __init__(self,name,age):\n",
    "        self.name = name\n",
    "        self.age = age\n",
    "\n",
    "    def __repr__(self): # converts to string\n",
    "        return f\"{self.__class__.__name__}{self.name!r}, age{self.age!r}\"\n",
    "\n",
    "\n",
    "\n",
    "\n",
    "    def __lt__(self, other):# Dunder Methods means when we are making a call indirectly it will call\n",
    "        return self.age > other.age\n",
    "\n",
    "    def __eq__(self, other):\n",
    "     if other.__class__ is not self.__class__:\n",
    "        return NotImplemented\n",
    "     return(self.name,self.age) == (other.name,other.age)\n",
    "    \n",
    "a1 = UsingRegularClass('Sanjay',25)\n",
    "print(a1)\n",
    "\n",
    "a2 = UsingRegularClass('Sanju',24)\n",
    "print(a2)\n",
    "\n",
    "print(f\"{a1 == a2 =}\")# a1.__eq__(a2)\n"
   ]
  },
  {
   "cell_type": "code",
   "execution_count": 17,
   "metadata": {},
   "outputs": [
    {
     "name": "stdout",
     "output_type": "stream",
     "text": [
      "ArithmeticOperations(num1=12, num2=34)\n"
     ]
    }
   ],
   "source": [
    "@dataclass\n",
    "class ArithmeticOperations:\n",
    "    num1 : int\n",
    "    num2 : int # these are instance variables, not class variable\n",
    "\n",
    "a = ArithmeticOperations(12,34)\n",
    "print(a)"
   ]
  },
  {
   "cell_type": "code",
   "execution_count": 46,
   "metadata": {},
   "outputs": [
    {
     "name": "stdout",
     "output_type": "stream",
     "text": [
      "b.additon() = 384\n"
     ]
    }
   ],
   "source": [
    "@dataclass\n",
    "class ArithmeticOperations:\n",
    "    num1: int\n",
    "    num2: int # these are instance variables, not class variable\n",
    "\n",
    "    def additon(self):\n",
    "        return self.num1 + self.num2\n",
    "    \n",
    "b = ArithmeticOperations(339,45)\n",
    "print(f\"{b.additon() = }\")"
   ]
  },
  {
   "cell_type": "code",
   "execution_count": 45,
   "metadata": {},
   "outputs": [
    {
     "name": "stdout",
     "output_type": "stream",
     "text": [
      "c.additon(339,45) = 384\n"
     ]
    }
   ],
   "source": [
    "@dataclass\n",
    "class ArithmeticOperations1:\n",
    "\n",
    "# in this method user is responsible to pasing the values rather than passing direct to constructor\n",
    "    def additon(self,num1,num2):\n",
    "        return num1 + num2\n",
    "    \n",
    "c = ArithmeticOperations1()\n",
    "print(f\"{c.additon(339,45) = }\")"
   ]
  },
  {
   "cell_type": "markdown",
   "metadata": {},
   "source": [
    "    Another Example"
   ]
  },
  {
   "cell_type": "code",
   "execution_count": 49,
   "metadata": {},
   "outputs": [
    {
     "name": "stdout",
     "output_type": "stream",
     "text": [
      "f.x =12\n"
     ]
    }
   ],
   "source": [
    "@dataclass\n",
    "class foo(object): # In this foo if we dont pass the object aslo it is same\n",
    "     x: int\n",
    "\n",
    "f = foo(12) # it is integer of object\n",
    "print(f\"{f.x =}\")"
   ]
  },
  {
   "cell_type": "code",
   "execution_count": 54,
   "metadata": {},
   "outputs": [
    {
     "name": "stdout",
     "output_type": "stream",
     "text": [
      "f.x =2\n",
      "f.y =7\n"
     ]
    }
   ],
   "source": [
    "# From above after creation of instance also we can change value and add new attributes\n",
    "f.x =2\n",
    "f.y = 7\n",
    "print(f\"{f.x =}\")\n",
    "print(f\"{f.y =}\")"
   ]
  },
  {
   "cell_type": "markdown",
   "metadata": {},
   "source": [
    "# Frozen Dataclass\n",
    "    Once the creation of instance we can't change value and can't add new attribute"
   ]
  },
  {
   "cell_type": "code",
   "execution_count": 67,
   "metadata": {},
   "outputs": [
    {
     "name": "stdout",
     "output_type": "stream",
     "text": [
      "f.y = 36\n"
     ]
    }
   ],
   "source": [
    "@dataclass(frozen=True)\n",
    "class foo(object):\n",
    "    y: int\n",
    "\n",
    "f = foo(36)\n",
    "print(f\"{f.y = }\")\n",
    "\n",
    "# f.y = 34.  This can be executed if frozen = False\n",
    "# print(f\"{f.y = }\")\n",
    "\n",
    "# f.z = 45\n",
    "# print(f\"{f.z = }\")"
   ]
  },
  {
   "cell_type": "markdown",
   "metadata": {},
   "source": [
    "## default values in Dataclasses"
   ]
  },
  {
   "cell_type": "code",
   "execution_count": 72,
   "metadata": {},
   "outputs": [
    {
     "name": "stdout",
     "output_type": "stream",
     "text": [
      "vars(s) = {'Title': 'Python', 'Author': 'MyCurz', 'Price': 20}\n",
      "asdict(s) = {'Title': 'Python', 'Author': 'MyCurz', 'Price': 20}\n",
      "astuple(s) = ('Python', 'MyCurz', 20)\n"
     ]
    }
   ],
   "source": [
    "from dataclasses import asdict, astuple, dataclass\n",
    "@dataclass\n",
    "class Book(object):\n",
    "    Title : str\n",
    "    Author : str\n",
    "    Price : float = 20 # default value\n",
    "\n",
    "s = Book(\"Python\",'MyCurz') # what ever the instance attributes are there we are getting \n",
    "#                              without defining in constructor and calling in instance\n",
    "print(f\"{vars(s) = }\")\n",
    "print(f\"{asdict(s) = }\")\n",
    "print(f\"{astuple(s) = }\")"
   ]
  },
  {
   "cell_type": "markdown",
   "metadata": {},
   "source": [
    "## Feilds In Dataclasses"
   ]
  },
  {
   "cell_type": "code",
   "execution_count": 78,
   "metadata": {},
   "outputs": [
    {
     "name": "stdout",
     "output_type": "stream",
     "text": [
      "vars(b) = {'Title': 'Python Programming', 'Author': 'David Weasely', 'Price': 44}\n",
      "astuple(b) = ('Python Programming', 'David Weasely', 97)\n"
     ]
    }
   ],
   "source": [
    "import random\n",
    "from dataclasses import dataclass,field\n",
    "\n",
    "def randomprice():\n",
    "    return random.randint(20,100)\n",
    "\n",
    "@dataclass\n",
    "class Book(object):\n",
    "    Title : str\n",
    "    Author : str\n",
    "    Price : float = field(default_factory=randomprice) # result of random function will be stored here \n",
    "\n",
    "b = Book(\"Python Programming\",\"David Weasely\")\n",
    "print(f\"{vars(b) = }\")\n",
    "\n",
    "\n",
    "b = Book(\"Python Programming\",\"David Weasely\")\n",
    "print(f\"{astuple(b) = }\")\n"
   ]
  },
  {
   "cell_type": "markdown",
   "metadata": {},
   "source": [
    "## Comparison on DataClasses"
   ]
  },
  {
   "cell_type": "code",
   "execution_count": 13,
   "metadata": {},
   "outputs": [
    {
     "name": "stdout",
     "output_type": "stream",
     "text": [
      "a1 <= a2 <= a3 =False\n",
      "b1 <= b2 <= b3 =True\n"
     ]
    }
   ],
   "source": [
    "\n",
    "@dataclass(init=True,eq=True,order=True,unsafe_hash=False,frozen=False) \n",
    "# Two compare any two instances of classes or data structures the above condition should be used\n",
    "class Book(object):\n",
    "    Title : str\n",
    "    Author : str\n",
    "\n",
    "a1 = Book(\"Harry Potter1\",\"Ashely Willams\")\n",
    "a2 = Book(\"Harry Potter\",\"Ashely Willams\")\n",
    "a3 = Book(\"Harry Potter\",\"Ashely Willams\")\n",
    "\n",
    "print(f\"{a1 <= a2 <= a3 =}\")\n",
    "\n",
    "b1 = Book(\"Harry Potter\",\"Ashely Willams\")\n",
    "b2 = Book(\"Harry Potter\",\"Ashely Willams\")\n",
    "b3 = Book(\"Harry Potter\",\"Ashely Willams\")\n",
    "\n",
    "print(f\"{b1 <= b2 <= b3 =}\")\n",
    "\n"
   ]
  },
  {
   "cell_type": "markdown",
   "metadata": {},
   "source": [
    "## Dynamic Class\n",
    "     We can use the We can use make_dataclass attribute for creating of DYNAMIC dataclasses\n",
    "     It will create on-demand data classes\n",
    "     "
   ]
  },
  {
   "cell_type": "code",
   "execution_count": 12,
   "metadata": {},
   "outputs": [
    {
     "name": "stdout",
     "output_type": "stream",
     "text": [
      "<class 'type'>\n",
      "Position(name='Amesterdam', lat=45, lon=78)\n",
      "{'name': 'Amesterdam', 'lat': 45, 'lon': 78}\n"
     ]
    }
   ],
   "source": [
    "from dataclasses import dataclass, make_dataclass\n",
    "\n",
    "#creating a class\n",
    "Position = make_dataclass(\"Position\",[\"name\",\"lat\",\"lon\"])\n",
    "print(type(Position))\n",
    "\n",
    "b = Position(\"Amesterdam\",45,78)\n",
    "print(f\"{b}\")\n",
    "print(f\"{vars(b)}\")"
   ]
  },
  {
   "cell_type": "code",
   "execution_count": 16,
   "metadata": {},
   "outputs": [
    {
     "name": "stdout",
     "output_type": "stream",
     "text": [
      "WithoutExplicitTypes(Country='India', Population=1545700970197495)\n",
      "{'Country': 'India', 'Population': 1545700970197495}\n"
     ]
    }
   ],
   "source": [
    "# If we want to create attributes of explicitly\n",
    "\n",
    "from typing import Any\n",
    "\n",
    "@dataclass\n",
    "class WithoutExplicitTypes:\n",
    "    Country : Any   # here we dont need to define any type of data types like string,int\n",
    "    Population : Any # We used Any so it can take all data types\n",
    "\n",
    "C1 = WithoutExplicitTypes(\"India\",1545700970197495)\n",
    "print(f\"{C1}\")\n",
    "print(f\"{vars(C1)}\")"
   ]
  },
  {
   "cell_type": "markdown",
   "metadata": {},
   "source": [
    "## Composition Pattern"
   ]
  },
  {
   "cell_type": "code",
   "execution_count": null,
   "metadata": {},
   "outputs": [
    {
     "name": "stdout",
     "output_type": "stream",
     "text": [
      "\n",
      "two_cards = Deck(carrds=[PlayingCards(rank='Q', suit='Suits'), PlayingCards(rank='A', suit='Spades'), PlayingCards(rank='K', suit='Flower'), PlayingCards(rank='J', suit='Diamond')])\n",
      "{'carrds': [PlayingCards(rank='Q', suit='Suits'), PlayingCards(rank='A', suit='Spades'), PlayingCards(rank='K', suit='Flower'), PlayingCards(rank='J', suit='Diamond')]}\n"
     ]
    }
   ],
   "source": [
    "from typing import List\n",
    "\n",
    "@dataclass\n",
    "class PlayingCards:\n",
    "    rank : str\n",
    "    suit : str\n",
    "\n",
    "@dataclass\n",
    "class Deck:\n",
    "    carrds : List[PlayingCards]\n",
    "\n",
    "queen_of_hearts = PlayingCards(\"Q\",\"Suits\")\n",
    "Ace_of_Spades = PlayingCards(\"A\",\"Spades\")\n",
    "King_of_Flower = PlayingCards(\"K\",\"Flower\")\n",
    "Joker_of_Diamonds = PlayingCards(\"J\",\"Diamond\")\n",
    "\n",
    "\n",
    "two_cards = Deck([queen_of_hearts,Ace_of_Spades,King_of_Flower,Joker_of_Diamonds])\n",
    "print(f\"\\n{two_cards = }\")\n",
    "print(f\"{vars(two_cards)}\")\n"
   ]
  },
  {
   "cell_type": "markdown",
   "metadata": {},
   "source": [
    "## Inheritance"
   ]
  },
  {
   "cell_type": "code",
   "execution_count": 32,
   "metadata": {},
   "outputs": [
    {
     "name": "stdout",
     "output_type": "stream",
     "text": [
      "Capital(name='Amsterdam', lon='Spain', lang=4.09, Country=6.89)\n",
      "{'name': 'Amsterdam', 'lon': 'Spain', 'lang': 4.09, 'Country': 6.89}\n"
     ]
    }
   ],
   "source": [
    "@dataclass\n",
    "class Position:\n",
    "    name : str\n",
    "    lon  : float\n",
    "    lang : float\n",
    "\n",
    "@dataclass\n",
    "class Capital(Position):\n",
    "    Country : str\n",
    "\n",
    "C1 = Capital(\"Amsterdam\", \"Spain\", 4.09, 6.890)\n",
    "print(f\"{C1}\")\n",
    "print(f\"{vars(C1)}\")"
   ]
  },
  {
   "cell_type": "markdown",
   "metadata": {},
   "source": [
    "## Keyword_only_dataclasses\n",
    "    We can use an attribute called as Keyword\n",
    "    We cannot define the ordinary names in instances we must use keywords only"
   ]
  },
  {
   "cell_type": "code",
   "execution_count": 44,
   "metadata": {},
   "outputs": [
    {
     "name": "stdout",
     "output_type": "stream",
     "text": [
      "Birthday(name='Michean Jordan', Birthday=datetime.date(2025, 2, 13))\n",
      "{'name': 'Michean Jordan', 'Birthday': datetime.date(2025, 2, 13)}\n"
     ]
    }
   ],
   "source": [
    "from dataclasses import KW_ONLY, dataclass, field\n",
    "from datetime import datetime\n",
    "\n",
    "@dataclass(kw_only=True)\n",
    "class Birthday:\n",
    "    name : str\n",
    "    Birthday:datetime.date\n",
    "\n",
    "B1 = Birthday(name=\"Michean Jordan\", Birthday=datetime.now().date())\n",
    "print(f\"{B1}\")\n",
    "print(f\"{vars(B1)}\")\n"
   ]
  },
  {
   "cell_type": "code",
   "execution_count": null,
   "metadata": {},
   "outputs": [
    {
     "name": "stdout",
     "output_type": "stream",
     "text": [
      "Birthday1(name='Pepe', Birthday=datetime.date(2025, 2, 13))\n",
      "{'name': 'Pepe', 'Birthday': datetime.date(2025, 2, 13)}\n"
     ]
    }
   ],
   "source": [
    "@dataclass\n",
    "class Birthday1:\n",
    "    name : str\n",
    "    Birthday:datetime.date = field(kw_only=True) # here we are giving datetime as default\n",
    "\n",
    "B2 = Birthday1(\"Pepe\", Birthday=datetime.now().date())# So to call Datetime we must Birthday beacuse it is assigned as keyword\n",
    "print(f\"{B2}\")\n",
    "print(f\"{vars(B2)}\")"
   ]
  },
  {
   "cell_type": "code",
   "execution_count": null,
   "metadata": {},
   "outputs": [
    {
     "name": "stdout",
     "output_type": "stream",
     "text": [
      "Values(x=3.56, y=34, z=0.9, j=3.45, k=34.56)\n",
      "{'x': 3.56, 'y': 34, 'z': 0.9, 'j': 3.45, 'k': 34.56}\n",
      "\n",
      "Values(x=0.23, y=98, z=0.69, j=34, k=26)\n",
      "{'x': 0.23, 'y': 98, 'z': 0.69, 'j': 34, 'k': 26}\n"
     ]
    }
   ],
   "source": [
    "@dataclass\n",
    "class Values:\n",
    "    x : float\n",
    "    y : int\n",
    "    z : float\n",
    "    _: KW_ONLY\n",
    "    j: float = 3.450 # defined as default values\n",
    "    k : float = 34.56 # defined as default values\n",
    "\n",
    "V1 = Values(3.56,34,.90) # in this we are not calling j,k but still it return beacuse it is assigned as default\n",
    "print(f\"{V1}\")\n",
    "print(f\"{vars(V1)}\")\n",
    "print()\n",
    "\n",
    "V2 = Values(.23,98,0.69,j=34,k=26) # if we want to change j,k values then define there attributes while instance\n",
    "print(f\"{V2}\")\n",
    "print(f\"{vars(V2)}\")"
   ]
  }
 ],
 "metadata": {
  "kernelspec": {
   "display_name": "venv",
   "language": "python",
   "name": "python3"
  },
  "language_info": {
   "codemirror_mode": {
    "name": "ipython",
    "version": 3
   },
   "file_extension": ".py",
   "mimetype": "text/x-python",
   "name": "python",
   "nbconvert_exporter": "python",
   "pygments_lexer": "ipython3",
   "version": "3.12.1"
  }
 },
 "nbformat": 4,
 "nbformat_minor": 2
}
