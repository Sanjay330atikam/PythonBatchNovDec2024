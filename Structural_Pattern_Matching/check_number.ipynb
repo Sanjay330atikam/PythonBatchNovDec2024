{
 "cells": [
  {
   "cell_type": "markdown",
   "metadata": {},
   "source": [
    "Match is new keyowrd in python . It's function is same as Swtich .\n",
    "Match is used in the latest version of Python 3.\n",
    "Syntax\n",
    "match<expression>:\n",
    "case<pattern1>\n",
    "  <handle pattern>\n",
    "case<pattern2>\n",
    "  <handle pattern>"
   ]
  },
  {
   "cell_type": "code",
   "execution_count": 4,
   "metadata": {},
   "outputs": [
    {
     "name": "stdout",
     "output_type": "stream",
     "text": [
      "its a positive number\n",
      "it is positive number\n"
     ]
    }
   ],
   "source": [
    "num = 13\n",
    "if num>=0:\n",
    "    print(\"its a positive number\")\n",
    "else:\n",
    "    print(\"It is a negative number\")\n",
    "\n",
    "\n",
    "n = 12 \n",
    "match(n>=12):\n",
    " case True:\n",
    "    print(\"it is positive number\")\n",
    " case False:\n",
    "    print(\" It is a negative number\")\n"
   ]
  },
  {
   "cell_type": "code",
   "execution_count": 5,
   "metadata": {},
   "outputs": [
    {
     "name": "stdout",
     "output_type": "stream",
     "text": [
      "Odd number\n"
     ]
    }
   ],
   "source": [
    "match (num%2==0):\n",
    "    case True:\n",
    "        print(\"even number\")\n",
    "    case False:\n",
    "        print(\"Odd number\")"
   ]
  }
 ],
 "metadata": {
  "kernelspec": {
   "display_name": "Python 3",
   "language": "python",
   "name": "python3"
  },
  "language_info": {
   "codemirror_mode": {
    "name": "ipython",
    "version": 3
   },
   "file_extension": ".py",
   "mimetype": "text/x-python",
   "name": "python",
   "nbconvert_exporter": "python",
   "pygments_lexer": "ipython3",
   "version": "3.12.1"
  }
 },
 "nbformat": 4,
 "nbformat_minor": 2
}
