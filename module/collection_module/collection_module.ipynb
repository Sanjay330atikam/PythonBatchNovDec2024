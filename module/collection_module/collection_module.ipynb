{
 "cells": [
  {
   "cell_type": "code",
   "execution_count": 1,
   "metadata": {},
   "outputs": [],
   "source": [
    "import collections\n",
    "# colllections means list,tuple sets soon..top of it"
   ]
  },
  {
   "cell_type": "code",
   "execution_count": 2,
   "metadata": {},
   "outputs": [
    {
     "data": {
      "text/plain": [
       "['ChainMap',\n",
       " 'Counter',\n",
       " 'OrderedDict',\n",
       " 'UserDict',\n",
       " 'UserList',\n",
       " 'UserString',\n",
       " '_Link',\n",
       " '_OrderedDictItemsView',\n",
       " '_OrderedDictKeysView',\n",
       " '_OrderedDictValuesView',\n",
       " '__all__',\n",
       " '__builtins__',\n",
       " '__cached__',\n",
       " '__doc__',\n",
       " '__file__',\n",
       " '__loader__',\n",
       " '__name__',\n",
       " '__package__',\n",
       " '__path__',\n",
       " '__spec__',\n",
       " '_chain',\n",
       " '_collections_abc',\n",
       " '_count_elements',\n",
       " '_deque_iterator',\n",
       " '_eq',\n",
       " '_iskeyword',\n",
       " '_itemgetter',\n",
       " '_proxy',\n",
       " '_recursive_repr',\n",
       " '_repeat',\n",
       " '_starmap',\n",
       " '_sys',\n",
       " '_tuplegetter',\n",
       " 'abc',\n",
       " 'defaultdict',\n",
       " 'deque',\n",
       " 'namedtuple']"
      ]
     },
     "execution_count": 2,
     "metadata": {},
     "output_type": "execute_result"
    }
   ],
   "source": [
    "dir(collections)"
   ]
  },
  {
   "cell_type": "code",
   "execution_count": 3,
   "metadata": {},
   "outputs": [
    {
     "data": {
      "text/plain": [
       "Counter({'a': 2, 'c': 1, 'd': 1, 'e': 1, 'g': 1, 'k': 1})"
      ]
     },
     "execution_count": 3,
     "metadata": {},
     "output_type": "execute_result"
    }
   ],
   "source": [
    "#counter - pass the values in list,(tuples,sets) arrange in dictonaries \n",
    "collections.Counter([\"a\",\"a\",\"c\",\"d\",\"e\",\"g\",\"k\"])"
   ]
  },
  {
   "cell_type": "code",
   "execution_count": 4,
   "metadata": {},
   "outputs": [
    {
     "data": {
      "text/plain": [
       "Counter({'a': 2, 'c': 2, 'b': 1})"
      ]
     },
     "execution_count": 4,
     "metadata": {},
     "output_type": "execute_result"
    }
   ],
   "source": [
    "collections.Counter(['a','a','c','b','c'])"
   ]
  },
  {
   "cell_type": "code",
   "execution_count": 5,
   "metadata": {},
   "outputs": [
    {
     "data": {
      "text/plain": [
       "Counter({'a': 3,\n",
       "         'S': 1,\n",
       "         'n': 1,\n",
       "         'j': 1,\n",
       "         'y': 1,\n",
       "         ' ': 1,\n",
       "         'A': 1,\n",
       "         't': 1,\n",
       "         'i': 1,\n",
       "         'k': 1,\n",
       "         'm': 1})"
      ]
     },
     "execution_count": 5,
     "metadata": {},
     "output_type": "execute_result"
    }
   ],
   "source": [
    "collections.Counter('Sanjay Atikam')"
   ]
  },
  {
   "cell_type": "markdown",
   "metadata": {},
   "source": [
    "### Creating a custom counter ()\n"
   ]
  },
  {
   "cell_type": "code",
   "execution_count": 6,
   "metadata": {},
   "outputs": [
    {
     "name": "stdout",
     "output_type": "stream",
     "text": [
      "Initial: Counter()\n"
     ]
    }
   ],
   "source": [
    "c = collections.Counter()\n",
    "print(\"Initial:\",c)"
   ]
  },
  {
   "cell_type": "code",
   "execution_count": 7,
   "metadata": {},
   "outputs": [
    {
     "name": "stdout",
     "output_type": "stream",
     "text": [
      "Sequence: Counter({'A': 1, 'b': 1, 'c': 1, 'h': 1, 'd': 1, 'e': 1})\n"
     ]
    }
   ],
   "source": [
    "c.update('Abchde')\n",
    "print(\"Sequence:\",c)"
   ]
  },
  {
   "cell_type": "markdown",
   "metadata": {},
   "source": [
    "## Arthemetic operation on Counters()"
   ]
  },
  {
   "cell_type": "code",
   "execution_count": 17,
   "metadata": {},
   "outputs": [],
   "source": [
    "c1 = collections.Counter(['a','b','c','d','e'])\n",
    "c2 = collections.Counter(['c','o','u','n','t','e','r'])\n",
    "\n"
   ]
  },
  {
   "cell_type": "code",
   "execution_count": 18,
   "metadata": {},
   "outputs": [
    {
     "name": "stdout",
     "output_type": "stream",
     "text": [
      "Counter({'a': 1, 'b': 1, 'c': 1, 'd': 1, 'e': 1})\n",
      "Counter({'c': 1, 'o': 1, 'u': 1, 'n': 1, 't': 1, 'e': 1, 'r': 1})\n"
     ]
    }
   ],
   "source": [
    "print(c1)\n",
    "print(c2)\n"
   ]
  },
  {
   "cell_type": "code",
   "execution_count": 20,
   "metadata": {},
   "outputs": [
    {
     "name": "stdout",
     "output_type": "stream",
     "text": [
      "Addition\n",
      "c1+c2  =Counter({'c': 2, 'e': 2, 'a': 1, 'b': 1, 'd': 1, 'o': 1, 'u': 1, 'n': 1, 't': 1, 'r': 1})\n"
     ]
    }
   ],
   "source": [
    "print(\"Addition\")\n",
    "print(f\"{c1+c2  =}\")\n"
   ]
  },
  {
   "cell_type": "code",
   "execution_count": 21,
   "metadata": {},
   "outputs": [
    {
     "name": "stdout",
     "output_type": "stream",
     "text": [
      "Subtraction\n",
      "c1-c2=Counter({'a': 1, 'b': 1, 'd': 1})\n"
     ]
    }
   ],
   "source": [
    "print(\"Subtraction\")\n",
    "print(f\"{c1-c2 =}\")\n",
    "# commen elements get eleminated and remianing elements from c1 returns"
   ]
  },
  {
   "cell_type": "markdown",
   "metadata": {},
   "source": [
    "## deque()\n",
    "We can insert from the left side aned also insert from the right side. inseretion and deleteion can be done from both sides."
   ]
  },
  {
   "cell_type": "code",
   "execution_count": 23,
   "metadata": {},
   "outputs": [
    {
     "data": {
      "text/plain": [
       "deque([1, 2, 3, 5, 6])"
      ]
     },
     "execution_count": 23,
     "metadata": {},
     "output_type": "execute_result"
    }
   ],
   "source": [
    "de = collections.deque([1,2,3,5,6])\n",
    "de"
   ]
  },
  {
   "cell_type": "code",
   "execution_count": 25,
   "metadata": {},
   "outputs": [
    {
     "name": "stdout",
     "output_type": "stream",
     "text": [
      "Appends at right side deque([1, 2, 3, 5, 6, 4, 4])\n",
      "\n",
      "Appends at the left side\n"
     ]
    }
   ],
   "source": [
    "de.append(4)\n",
    "print(\"Appends at right side\",de)\n",
    "de.appendleft(1)\n",
    "print(\"\\nAppends at the left side\")"
   ]
  },
  {
   "cell_type": "code",
   "execution_count": 27,
   "metadata": {},
   "outputs": [
    {
     "name": "stdout",
     "output_type": "stream",
     "text": [
      "removes at right side deque([1, 1, 2, 3, 5, 6, 4])\n"
     ]
    }
   ],
   "source": [
    "de.remove(4)\n",
    "print(\"removes at right side\",de)\n"
   ]
  },
  {
   "cell_type": "code",
   "execution_count": 31,
   "metadata": {},
   "outputs": [
    {
     "name": "stdout",
     "output_type": "stream",
     "text": [
      "After extending =  deque([69, 23, 69, 23, 1, 1, 2, 3, 5, 6, 4, 2, 89, 68, 2, 89, 68, 2, 89, 68, 2, 89, 68])\n",
      "\n",
      "After leftextending deque([69, 23, 69, 23, 69, 23, 1, 1, 2, 3, 5, 6, 4, 2, 89, 68, 2, 89, 68, 2, 89, 68, 2, 89, 68])\n"
     ]
    }
   ],
   "source": [
    "de.extend([2,89,68])\n",
    "print(\"After extending = \",de)\n",
    "de.extendleft([23,69])\n",
    "print(\"\\nAfter leftextending\",de)"
   ]
  }
 ],
 "metadata": {
  "kernelspec": {
   "display_name": "venv",
   "language": "python",
   "name": "python3"
  },
  "language_info": {
   "codemirror_mode": {
    "name": "ipython",
    "version": 3
   },
   "file_extension": ".py",
   "mimetype": "text/x-python",
   "name": "python",
   "nbconvert_exporter": "python",
   "pygments_lexer": "ipython3",
   "version": "3.12.1"
  }
 },
 "nbformat": 4,
 "nbformat_minor": 2
}
