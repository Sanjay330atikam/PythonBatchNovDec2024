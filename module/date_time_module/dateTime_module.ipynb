{
 "cells": [
  {
   "cell_type": "code",
   "execution_count": 25,
   "metadata": {},
   "outputs": [],
   "source": [
    "import datetime"
   ]
  },
  {
   "cell_type": "code",
   "execution_count": 26,
   "metadata": {},
   "outputs": [
    {
     "name": "stdout",
     "output_type": "stream",
     "text": [
      "['MAXYEAR', 'MINYEAR', 'UTC', '__all__', '__builtins__', '__cached__', '__doc__', '__file__', '__loader__', '__name__', '__package__', '__spec__', 'date', 'datetime', 'datetime_CAPI', 'time', 'timedelta', 'timezone', 'tzinfo']\n"
     ]
    }
   ],
   "source": [
    "print(dir(datetime))"
   ]
  },
  {
   "cell_type": "code",
   "execution_count": 27,
   "metadata": {},
   "outputs": [
    {
     "name": "stdout",
     "output_type": "stream",
     "text": [
      "Datetime.MaxYear: 9999\n",
      "Datetime.MinYear: 1\n"
     ]
    }
   ],
   "source": [
    "print('Datetime.MaxYear:',datetime.MAXYEAR)\n",
    "print('Datetime.MinYear:',datetime.MINYEAR)"
   ]
  },
  {
   "cell_type": "code",
   "execution_count": 28,
   "metadata": {},
   "outputs": [
    {
     "name": "stdout",
     "output_type": "stream",
     "text": [
      "datetime.datetime.min  =datetime.datetime(1, 1, 1, 0, 0)\n",
      "datetime.datetime.max  =datetime.datetime(9999, 12, 31, 23, 59, 59, 999999)\n",
      "datetime.datetime.resolution  =datetime.timedelta(microseconds=1)\n"
     ]
    }
   ],
   "source": [
    "print(f\"{datetime.datetime.min  =}\")\n",
    "print(f\"{datetime.datetime.max  =}\")\n",
    "print(f\"{datetime.datetime.resolution  =}\")\n",
    "# resoultion means the minimum value that can measure"
   ]
  },
  {
   "cell_type": "code",
   "execution_count": 29,
   "metadata": {},
   "outputs": [
    {
     "name": "stdout",
     "output_type": "stream",
     "text": [
      "datetime.date.min  =datetime.date(1, 1, 1)\n",
      "datetime.date.max  =datetime.date(9999, 12, 31)\n",
      "datetime.date.resolution  =datetime.timedelta(days=1)\n"
     ]
    }
   ],
   "source": [
    "print(f\"{datetime.date.min  =}\")\n",
    "print(f\"{datetime.date.max  =}\")\n",
    "print(f\"{datetime.date.resolution  =}\")"
   ]
  },
  {
   "cell_type": "code",
   "execution_count": 30,
   "metadata": {},
   "outputs": [
    {
     "name": "stdout",
     "output_type": "stream",
     "text": [
      "datetime.time.min  =datetime.time(0, 0)\n",
      "datetime.time.max  =datetime.time(23, 59, 59, 999999)\n",
      "datetime.time.resolution  =datetime.timedelta(microseconds=1)\n"
     ]
    }
   ],
   "source": [
    "print(f\"{datetime.time.min  =}\")\n",
    "print(f\"{datetime.time.max  =}\")\n",
    "print(f\"{datetime.time.resolution  =}\")"
   ]
  },
  {
   "cell_type": "code",
   "execution_count": 31,
   "metadata": {},
   "outputs": [
    {
     "name": "stdout",
     "output_type": "stream",
     "text": [
      "datetime.tzinfo <class 'datetime.tzinfo'>\n"
     ]
    }
   ],
   "source": [
    "print('datetime.tzinfo',datetime.tzinfo)\n",
    "# returns time zone info"
   ]
  },
  {
   "cell_type": "code",
   "execution_count": 32,
   "metadata": {},
   "outputs": [
    {
     "data": {
      "text/plain": [
       "<datetime.tzinfo at 0x7b64b6c6a380>"
      ]
     },
     "execution_count": 32,
     "metadata": {},
     "output_type": "execute_result"
    }
   ],
   "source": [
    "datetime.tzinfo()"
   ]
  },
  {
   "cell_type": "markdown",
   "metadata": {},
   "source": [
    "\"\"\"\n",
    "Date time has three diffrerent types of object  \n",
    "data objects    -   stores the data\n",
    "time objects    -   stores the time\n",
    "datetime objects - stores both date and time"
   ]
  },
  {
   "cell_type": "code",
   "execution_count": 33,
   "metadata": {},
   "outputs": [
    {
     "name": "stdout",
     "output_type": "stream",
     "text": [
      "2025-01-11 04:05:20.304369\n",
      "<class 'datetime.datetime'>\n"
     ]
    }
   ],
   "source": [
    "now = datetime.datetime.now()\n",
    "print(now)\n",
    "print(type(now))\n",
    "\n",
    "# now returns current time locally"
   ]
  },
  {
   "cell_type": "code",
   "execution_count": 34,
   "metadata": {},
   "outputs": [
    {
     "name": "stdout",
     "output_type": "stream",
     "text": [
      "today 2025-01-11\n",
      "<class 'datetime.date'>\n"
     ]
    }
   ],
   "source": [
    "today = now.date()\n",
    "print('today',today)\n",
    "print(type(today))\n",
    "# returns only date from now"
   ]
  },
  {
   "cell_type": "code",
   "execution_count": 35,
   "metadata": {},
   "outputs": [
    {
     "name": "stdout",
     "output_type": "stream",
     "text": [
      "moment 04:05:20.304369\n",
      "<class 'datetime.time'>\n"
     ]
    }
   ],
   "source": [
    "moment = now.time()\n",
    "print('moment',moment)\n",
    "print(type(moment))\n",
    "# returns only time from now"
   ]
  },
  {
   "cell_type": "code",
   "execution_count": 36,
   "metadata": {},
   "outputs": [
    {
     "name": "stdout",
     "output_type": "stream",
     "text": [
      "now_using_combine 2025-01-11 04:05:20.304369\n",
      "<class 'datetime.datetime'>\n"
     ]
    }
   ],
   "source": [
    "now_using_combine = datetime.datetime.combine(today,moment)\n",
    "print('now_using_combine',now_using_combine)\n",
    "print(type(now_using_combine))"
   ]
  },
  {
   "cell_type": "code",
   "execution_count": 37,
   "metadata": {},
   "outputs": [
    {
     "name": "stdout",
     "output_type": "stream",
     "text": [
      "yesterday 2025-01-10\n",
      "<class 'datetime.date'>\n"
     ]
    }
   ],
   "source": [
    "yesterday = today - datetime.timedelta(days=1)\n",
    "print(\"yesterday\",yesterday)\n",
    "print(type(yesterday))"
   ]
  },
  {
   "cell_type": "code",
   "execution_count": 38,
   "metadata": {},
   "outputs": [
    {
     "name": "stdout",
     "output_type": "stream",
     "text": [
      "-1 day, 0:00:00\n",
      "<class 'datetime.timedelta'>\n"
     ]
    }
   ],
   "source": [
    "# Getting difference between two datetime objects\n",
    "time_difference = yesterday-today\n",
    "print(time_difference)\n",
    "print(type(time_difference))"
   ]
  },
  {
   "cell_type": "code",
   "execution_count": 39,
   "metadata": {},
   "outputs": [
    {
     "name": "stdout",
     "output_type": "stream",
     "text": [
      "2000-11-07\n",
      "<class 'datetime.date'>\n",
      "other way of displaying own date\n"
     ]
    }
   ],
   "source": [
    "my_date = datetime.date(2000,11,7)# Y,M,D order\n",
    "print(my_date)\n",
    "print(type(my_date))\n",
    "# creating date\n",
    "print('other way of displaying own date')\n",
    "my_date = datetime.date(year=2000,month=11,day=7)"
   ]
  },
  {
   "cell_type": "code",
   "execution_count": 40,
   "metadata": {},
   "outputs": [
    {
     "name": "stdout",
     "output_type": "stream",
     "text": [
      "2000-11-07\n"
     ]
    }
   ],
   "source": [
    "\n",
    "my_date = datetime.date(year=2000,month=11,day=7)\n",
    "print(my_date) "
   ]
  },
  {
   "cell_type": "code",
   "execution_count": 41,
   "metadata": {},
   "outputs": [
    {
     "name": "stdout",
     "output_type": "stream",
     "text": [
      "00:00:00\n",
      "<class 'datetime.time'>\n"
     ]
    }
   ],
   "source": [
    "# Creattin time\n",
    "my_time = datetime.time()\n",
    "print(my_time)\n",
    "print(type(my_time))"
   ]
  },
  {
   "cell_type": "code",
   "execution_count": 42,
   "metadata": {},
   "outputs": [
    {
     "name": "stdout",
     "output_type": "stream",
     "text": [
      "01:03:56\n",
      "<class 'datetime.time'>\n"
     ]
    }
   ],
   "source": [
    "# Creattin time-Explicitly\n",
    "my_time = datetime.time(1,3,56)#h,m,s\n",
    "print(my_time)\n",
    "print(type(my_time))"
   ]
  },
  {
   "cell_type": "code",
   "execution_count": 43,
   "metadata": {},
   "outputs": [
    {
     "name": "stdout",
     "output_type": "stream",
     "text": [
      "1947-08-15 00:00:00\n",
      "<class 'datetime.datetime'>\n"
     ]
    }
   ],
   "source": [
    "# datetime object has same arguments as date object\n",
    "my_datetime = datetime.datetime(year=1947,month=8,day=15)#Time is set to 0:0\n",
    "print(my_datetime)\n",
    "print(type(my_datetime))"
   ]
  },
  {
   "cell_type": "code",
   "execution_count": 44,
   "metadata": {},
   "outputs": [
    {
     "name": "stdout",
     "output_type": "stream",
     "text": [
      "1947-08-15 08:35:34\n",
      "<class 'datetime.datetime'>\n"
     ]
    }
   ],
   "source": [
    "my_datetime = datetime.datetime(year=1947,month=8,day=15,hour=8,minute=35,second=34)\n",
    "print(my_datetime)\n",
    "print(type(my_datetime))"
   ]
  },
  {
   "cell_type": "code",
   "execution_count": 45,
   "metadata": {},
   "outputs": [
    {
     "name": "stdout",
     "output_type": "stream",
     "text": [
      "1947-08-15 08:35:00\n",
      "<class 'datetime.datetime'>\n"
     ]
    }
   ],
   "source": [
    "my_datetime = datetime.datetime(1947,8,15,8,35)\n",
    "print(my_datetime)\n",
    "print(type(my_datetime))"
   ]
  },
  {
   "cell_type": "code",
   "execution_count": 46,
   "metadata": {},
   "outputs": [
    {
     "name": "stdout",
     "output_type": "stream",
     "text": [
      "1957-01-15 08:35:00\n",
      "<class 'datetime.datetime'>\n"
     ]
    }
   ],
   "source": [
    "# Changing one datetime object by another datetime object by replace method\n",
    "another_datetime = my_datetime.replace(year=1957,month=1)\n",
    "print(another_datetime)\n",
    "print(type(another_datetime))\n"
   ]
  },
  {
   "cell_type": "code",
   "execution_count": 47,
   "metadata": {},
   "outputs": [
    {
     "name": "stdout",
     "output_type": "stream",
     "text": [
      "1970-01-01 00:00:00\n",
      "<class 'datetime.datetime'>\n"
     ]
    },
    {
     "name": "stderr",
     "output_type": "stream",
     "text": [
      "/tmp/ipykernel_34318/2658845220.py:2: DeprecationWarning: datetime.datetime.utcfromtimestamp() is deprecated and scheduled for removal in a future version. Use timezone-aware objects to represent datetimes in UTC: datetime.datetime.fromtimestamp(timestamp, datetime.UTC).\n",
      "  epoch = datetime.datetime.utcfromtimestamp(0)\n"
     ]
    }
   ],
   "source": [
    "# obtaining epoch time\n",
    "epoch = datetime.datetime.utcfromtimestamp(0)\n",
    "print(epoch)\n",
    "print(type(epoch))"
   ]
  },
  {
   "cell_type": "code",
   "execution_count": 48,
   "metadata": {},
   "outputs": [
    {
     "name": "stdout",
     "output_type": "stream",
     "text": [
      "20099 days, 4:05:20.304369\n"
     ]
    }
   ],
   "source": [
    "#Difference between epoch and now\n",
    "delta = now - epoch\n",
    "print(delta)"
   ]
  },
  {
   "cell_type": "code",
   "execution_count": 49,
   "metadata": {},
   "outputs": [
    {
     "name": "stdout",
     "output_type": "stream",
     "text": [
      "2025-01-11 04:05:20.430591\n",
      "<class 'datetime.datetime'>\n"
     ]
    }
   ],
   "source": [
    "local_now=datetime.datetime.now()\n",
    "print(local_now)\n",
    "print(type(local_now))"
   ]
  },
  {
   "cell_type": "code",
   "execution_count": 50,
   "metadata": {},
   "outputs": [
    {
     "data": {
      "text/plain": [
       "'250111-04:05:20'"
      ]
     },
     "execution_count": 50,
     "metadata": {},
     "output_type": "execute_result"
    }
   ],
   "source": [
    "local_now.strftime('%y%m%d-%H:%M:%S')"
   ]
  },
  {
   "cell_type": "code",
   "execution_count": 51,
   "metadata": {},
   "outputs": [
    {
     "data": {
      "text/plain": [
       "'25/01/11-04:05:20'"
      ]
     },
     "execution_count": 51,
     "metadata": {},
     "output_type": "execute_result"
    }
   ],
   "source": [
    "local_now.strftime('%y/%m/%d-%H:%M:%S')"
   ]
  },
  {
   "cell_type": "code",
   "execution_count": 55,
   "metadata": {},
   "outputs": [
    {
     "data": {
      "text/plain": [
       "'25-01-11 04:05:20'"
      ]
     },
     "execution_count": 55,
     "metadata": {},
     "output_type": "execute_result"
    }
   ],
   "source": [
    "local_now.strftime('%y-%m-%d %H:%M:%S')"
   ]
  },
  {
   "cell_type": "code",
   "execution_count": 57,
   "metadata": {},
   "outputs": [
    {
     "data": {
      "text/plain": [
       "'25 January 11 04:05:20'"
      ]
     },
     "execution_count": 57,
     "metadata": {},
     "output_type": "execute_result"
    }
   ],
   "source": [
    "local_now.strftime('%y %B %d %H:%M:%S')"
   ]
  },
  {
   "cell_type": "code",
   "execution_count": 58,
   "metadata": {},
   "outputs": [
    {
     "data": {
      "text/plain": [
       "'25 Jan 11 04:05:20'"
      ]
     },
     "execution_count": 58,
     "metadata": {},
     "output_type": "execute_result"
    }
   ],
   "source": [
    "local_now.strftime('%y %b %d %H:%M:%S')"
   ]
  },
  {
   "cell_type": "code",
   "execution_count": 59,
   "metadata": {},
   "outputs": [
    {
     "data": {
      "text/plain": [
       "'25 Jan 11 - 04:04:05:20 AM'"
      ]
     },
     "execution_count": 59,
     "metadata": {},
     "output_type": "execute_result"
    }
   ],
   "source": [
    "local_now.strftime('%y %b %d - %I:%H:%M:%S %p')\n",
    "#I is 12 hr format\n",
    "#p is am or pm "
   ]
  },
  {
   "cell_type": "code",
   "execution_count": 61,
   "metadata": {},
   "outputs": [
    {
     "data": {
      "text/plain": [
       "'25 Jan 11 - 04:04:05:20 AM '"
      ]
     },
     "execution_count": 61,
     "metadata": {},
     "output_type": "execute_result"
    }
   ],
   "source": [
    "local_now.strftime('%y %b %d - %I:%H:%M:%S %p %z')\n",
    "#I is 12 hr format\n",
    "#p is am or pm \n",
    "# z is time zone "
   ]
  },
  {
   "cell_type": "markdown",
   "metadata": {},
   "source": [
    "## date.time.strptime - converting date.time string to date.time object"
   ]
  },
  {
   "cell_type": "code",
   "execution_count": 72,
   "metadata": {},
   "outputs": [
    {
     "name": "stdout",
     "output_type": "stream",
     "text": [
      "my_dt :2007-11-07 17:00:00\n",
      "type(my_dt) :<class 'datetime.datetime'>\n"
     ]
    }
   ],
   "source": [
    "my_dt = datetime.datetime.strptime(\"2007-11-07 17:00:00\",\"%Y-%m-%d %H:%M:%S\")\n",
    "print(f\"my_dt :{my_dt}\\ntype(my_dt) :{type(my_dt)}\")\n"
   ]
  },
  {
   "cell_type": "markdown",
   "metadata": {},
   "source": [
    "## timedelta()- adding time for existing time"
   ]
  },
  {
   "cell_type": "code",
   "execution_count": 79,
   "metadata": {},
   "outputs": [
    {
     "data": {
      "text/plain": [
       "datetime.datetime(2025, 1, 14, 4, 41, 20, 430591)"
      ]
     },
     "execution_count": 79,
     "metadata": {},
     "output_type": "execute_result"
    }
   ],
   "source": [
    "local_now+datetime.timedelta(days=3,minutes=36) "
   ]
  },
  {
   "cell_type": "code",
   "execution_count": 87,
   "metadata": {},
   "outputs": [
    {
     "name": "stdout",
     "output_type": "stream",
     "text": [
      "2025-01-14 04:05:20.430591\n",
      "<class 'datetime.datetime'>\n"
     ]
    }
   ],
   "source": [
    "tomorrow = local_now+datetime.timedelta(days=3)\n",
    "print(tomorrow)\n",
    "print(type(tomorrow))"
   ]
  },
  {
   "cell_type": "markdown",
   "metadata": {},
   "source": [
    "# Problem: For a given date , tell the week of day"
   ]
  },
  {
   "cell_type": "code",
   "execution_count": 108,
   "metadata": {},
   "outputs": [],
   "source": [
    "DAYS = ['Monday','Tuesday','Wednesday','Thursday','Friday','Saturday','Sunday']\n",
    "def get_week_of_day(given_date,date_frmt):\n",
    "    date_obj = datetime.datetime.strptime(given_date,date_frmt)\n",
    "    #print(date_obj)\n",
    "    wd = datetime.date.weekday(date_obj)\n",
    "    return(f\"week of day for{given_date} is {DAYS[wd]}\")"
   ]
  },
  {
   "cell_type": "code",
   "execution_count": 101,
   "metadata": {},
   "outputs": [
    {
     "data": {
      "text/plain": [
       "'week of day for12-7-2023isWednesday'"
      ]
     },
     "execution_count": 101,
     "metadata": {},
     "output_type": "execute_result"
    }
   ],
   "source": [
    "get_week_of_day(\"12-7-2023\",\"%d-%m-%Y\")"
   ]
  },
  {
   "cell_type": "code",
   "execution_count": 113,
   "metadata": {},
   "outputs": [
    {
     "data": {
      "text/plain": [
       "'week of day for2000/11/07 is Tuesday'"
      ]
     },
     "execution_count": 113,
     "metadata": {},
     "output_type": "execute_result"
    }
   ],
   "source": [
    "get_week_of_day('2000/11/07','%Y/%m/%d')"
   ]
  },
  {
   "cell_type": "code",
   "execution_count": 116,
   "metadata": {},
   "outputs": [
    {
     "data": {
      "text/plain": [
       "'week of day for5:august:1947 is Tuesday'"
      ]
     },
     "execution_count": 116,
     "metadata": {},
     "output_type": "execute_result"
    }
   ],
   "source": [
    "get_week_of_day('5:august:1947','%d:%B:%Y')"
   ]
  }
 ],
 "metadata": {
  "kernelspec": {
   "display_name": "venv",
   "language": "python",
   "name": "python3"
  },
  "language_info": {
   "codemirror_mode": {
    "name": "ipython",
    "version": 3
   },
   "file_extension": ".py",
   "mimetype": "text/x-python",
   "name": "python",
   "nbconvert_exporter": "python",
   "pygments_lexer": "ipython3",
   "version": "3.12.1"
  }
 },
 "nbformat": 4,
 "nbformat_minor": 2
}
