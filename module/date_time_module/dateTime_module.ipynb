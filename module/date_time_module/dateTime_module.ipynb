{
 "cells": [
  {
   "cell_type": "code",
   "execution_count": 1,
   "metadata": {},
   "outputs": [],
   "source": [
    "import datetime"
   ]
  },
  {
   "cell_type": "code",
   "execution_count": 3,
   "metadata": {},
   "outputs": [
    {
     "name": "stdout",
     "output_type": "stream",
     "text": [
      "['MAXYEAR', 'MINYEAR', 'UTC', '__all__', '__builtins__', '__cached__', '__doc__', '__file__', '__loader__', '__name__', '__package__', '__spec__', 'date', 'datetime', 'datetime_CAPI', 'time', 'timedelta', 'timezone', 'tzinfo']\n"
     ]
    }
   ],
   "source": [
    "print(dir(datetime))"
   ]
  },
  {
   "cell_type": "code",
   "execution_count": 4,
   "metadata": {},
   "outputs": [
    {
     "name": "stdout",
     "output_type": "stream",
     "text": [
      "Datetime.MaxYear: 9999\n",
      "Datetime.MinYear: 1\n"
     ]
    }
   ],
   "source": [
    "print('Datetime.MaxYear:',datetime.MAXYEAR)\n",
    "print('Datetime.MinYear:',datetime.MINYEAR)"
   ]
  },
  {
   "cell_type": "code",
   "execution_count": 5,
   "metadata": {},
   "outputs": [
    {
     "name": "stdout",
     "output_type": "stream",
     "text": [
      "datetime.datetime.min  =datetime.datetime(1, 1, 1, 0, 0)\n",
      "datetime.datetime.max  =datetime.datetime(9999, 12, 31, 23, 59, 59, 999999)\n",
      "datetime.datetime.resolution  =datetime.timedelta(microseconds=1)\n"
     ]
    }
   ],
   "source": [
    "print(f\"{datetime.datetime.min  =}\")\n",
    "print(f\"{datetime.datetime.max  =}\")\n",
    "print(f\"{datetime.datetime.resolution  =}\")\n",
    "# resoultion means the minimum value that can measure"
   ]
  },
  {
   "cell_type": "code",
   "execution_count": 6,
   "metadata": {},
   "outputs": [
    {
     "name": "stdout",
     "output_type": "stream",
     "text": [
      "datetime.date.min  =datetime.date(1, 1, 1)\n",
      "datetime.date.max  =datetime.date(9999, 12, 31)\n",
      "datetime.date.resolution  =datetime.timedelta(days=1)\n"
     ]
    }
   ],
   "source": [
    "print(f\"{datetime.date.min  =}\")\n",
    "print(f\"{datetime.date.max  =}\")\n",
    "print(f\"{datetime.date.resolution  =}\")"
   ]
  },
  {
   "cell_type": "code",
   "execution_count": 7,
   "metadata": {},
   "outputs": [
    {
     "name": "stdout",
     "output_type": "stream",
     "text": [
      "datetime.time.min  =datetime.time(0, 0)\n",
      "datetime.time.max  =datetime.time(23, 59, 59, 999999)\n",
      "datetime.time.resolution  =datetime.timedelta(microseconds=1)\n"
     ]
    }
   ],
   "source": [
    "print(f\"{datetime.time.min  =}\")\n",
    "print(f\"{datetime.time.max  =}\")\n",
    "print(f\"{datetime.time.resolution  =}\")"
   ]
  },
  {
   "cell_type": "code",
   "execution_count": 9,
   "metadata": {},
   "outputs": [
    {
     "name": "stdout",
     "output_type": "stream",
     "text": [
      "datetime.tzinfo <class 'datetime.tzinfo'>\n"
     ]
    }
   ],
   "source": [
    "print('datetime.tzinfo',datetime.tzinfo)\n",
    "# returns time zone info"
   ]
  },
  {
   "cell_type": "code",
   "execution_count": 10,
   "metadata": {},
   "outputs": [
    {
     "data": {
      "text/plain": [
       "<datetime.tzinfo at 0x7201840b93c0>"
      ]
     },
     "execution_count": 10,
     "metadata": {},
     "output_type": "execute_result"
    }
   ],
   "source": [
    "datetime.tzinfo()"
   ]
  }
 ],
 "metadata": {
  "kernelspec": {
   "display_name": "venv",
   "language": "python",
   "name": "python3"
  },
  "language_info": {
   "codemirror_mode": {
    "name": "ipython",
    "version": 3
   },
   "file_extension": ".py",
   "mimetype": "text/x-python",
   "name": "python",
   "nbconvert_exporter": "python",
   "pygments_lexer": "ipython3",
   "version": "3.12.1"
  }
 },
 "nbformat": 4,
 "nbformat_minor": 2
}
