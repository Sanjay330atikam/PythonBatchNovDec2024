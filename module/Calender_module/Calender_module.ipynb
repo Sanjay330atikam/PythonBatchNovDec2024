{
 "cells": [
  {
   "cell_type": "code",
   "execution_count": 3,
   "metadata": {},
   "outputs": [],
   "source": [
    "import calendar"
   ]
  },
  {
   "cell_type": "code",
   "execution_count": 4,
   "metadata": {},
   "outputs": [
    {
     "name": "stdout",
     "output_type": "stream",
     "text": [
      "['APRIL', 'AUGUST', 'Calendar', 'DECEMBER', 'Day', 'EPOCH', 'FEBRUARY', 'FRIDAY', 'HTMLCalendar', 'IllegalMonthError', 'IllegalWeekdayError', 'IntEnum', 'JANUARY', 'JULY', 'JUNE', 'LocaleHTMLCalendar', 'LocaleTextCalendar', 'MARCH', 'MAY', 'MONDAY', 'Month', 'NOVEMBER', 'OCTOBER', 'SATURDAY', 'SEPTEMBER', 'SUNDAY', 'THURSDAY', 'TUESDAY', 'TextCalendar', 'WEDNESDAY', '_EPOCH_ORD', '__all__', '__builtins__', '__cached__', '__doc__', '__file__', '__getattr__', '__loader__', '__name__', '__package__', '__spec__', '_colwidth', '_get_default_locale', '_locale', '_localized_day', '_localized_month', '_monthlen', '_nextmonth', '_prevmonth', '_spacing', 'c', 'calendar', 'datetime', 'day_abbr', 'day_name', 'different_locale', 'error', 'firstweekday', 'format', 'formatstring', 'global_enum', 'isleap', 'leapdays', 'main', 'mdays', 'month', 'month_abbr', 'month_name', 'monthcalendar', 'monthrange', 'prcal', 'prmonth', 'prweek', 'repeat', 'setfirstweekday', 'sys', 'timegm', 'warnings', 'week', 'weekday', 'weekheader']\n"
     ]
    }
   ],
   "source": [
    "print(dir(calendar))"
   ]
  },
  {
   "cell_type": "code",
   "execution_count": 5,
   "metadata": {},
   "outputs": [
    {
     "name": "stdout",
     "output_type": "stream",
     "text": [
      "Calendar printing functions\n",
      "\n",
      "Note when comparing these calendars to the ones printed by cal(1): By\n",
      "default, these calendars have Monday as the first day of the week, and\n",
      "Sunday as the last (the European convention). Use setfirstweekday() to\n",
      "set the first day of the week (0=Monday, 6=Sunday).\n"
     ]
    }
   ],
   "source": [
    "print(calendar.__doc__)"
   ]
  },
  {
   "cell_type": "code",
   "execution_count": 6,
   "metadata": {},
   "outputs": [
    {
     "name": "stdout",
     "output_type": "stream",
     "text": [
      " \n",
      "calendar.EPOCH     =1970\n",
      "calendar._EPOCH_ORD=719163\n",
      "calendar.MONDAY    =calendar.MONDAY\n",
      "calendar.TUESDAY   =calendar.TUESDAY\n",
      "calendar.WEDNESDAY =calendar.WEDNESDAY\n",
      "calendar.THURSDAY  =calendar.THURSDAY\n",
      "calendar.FRIDAY    =calendar.FRIDAY\n",
      "calendar.SATURDAY  =calendar.SATURDAY\n",
      "calendar.SUNDAY    =calendar.SUNDAY\n",
      "calendar.mdays     =[0, 31, 28, 31, 30, 31, 30, 31, 31, 30, 31, 30, 31]\n",
      "      \n"
     ]
    }
   ],
   "source": [
    "print(\n",
    "    f\"\"\" \n",
    "{calendar.EPOCH     =}\n",
    "{calendar._EPOCH_ORD=}\n",
    "{calendar.MONDAY    =}\n",
    "{calendar.TUESDAY   =}\n",
    "{calendar.WEDNESDAY =}\n",
    "{calendar.THURSDAY  =}\n",
    "{calendar.FRIDAY    =}\n",
    "{calendar.SATURDAY  =}\n",
    "{calendar.SUNDAY    =}\n",
    "{calendar.mdays     =}\n",
    "      \"\"\"\n",
    ")   "
   ]
  },
  {
   "cell_type": "markdown",
   "metadata": {},
   "source": [
    "# Problem: For a given date, tell the week of the day"
   ]
  },
  {
   "cell_type": "code",
   "execution_count": 17,
   "metadata": {},
   "outputs": [],
   "source": [
    "import calendar\n",
    "\n",
    "def get_week_of_day():\n",
    "    given_input =input('Enter the date in \"MM DD YY\" format:')\n",
    "    month,day,year = map(int,given_input.split(\" \"))\n",
    "    \n",
    "    weeks = (\n",
    "        \"MONDAY\",\n",
    "        \"TUESDAY\",\n",
    "        \"WEDNESDAY\",\n",
    "        \"FRIDAY\",\n",
    "        \"SATURDAY\",\n",
    "        \"SUNDAY\",\n",
    "    )\n",
    "    week_no =calendar.weekday(year,month,day)\n",
    "    week_name = weeks[week_no]\n",
    "    return f\"day of week for{given_input} is {week_name}\""
   ]
  },
  {
   "cell_type": "code",
   "execution_count": 18,
   "metadata": {},
   "outputs": [
    {
     "data": {
      "text/plain": [
       "'day of week for11 07 2000 is TUESDAY'"
      ]
     },
     "execution_count": 18,
     "metadata": {},
     "output_type": "execute_result"
    }
   ],
   "source": [
    "get_week_of_day()"
   ]
  }
 ],
 "metadata": {
  "kernelspec": {
   "display_name": "venv",
   "language": "python",
   "name": "python3"
  },
  "language_info": {
   "codemirror_mode": {
    "name": "ipython",
    "version": 3
   },
   "file_extension": ".py",
   "mimetype": "text/x-python",
   "name": "python",
   "nbconvert_exporter": "python",
   "pygments_lexer": "ipython3",
   "version": "3.12.1"
  }
 },
 "nbformat": 4,
 "nbformat_minor": 2
}
