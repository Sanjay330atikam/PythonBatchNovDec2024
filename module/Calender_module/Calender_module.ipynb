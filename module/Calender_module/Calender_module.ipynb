{
 "cells": [
  {
   "cell_type": "code",
   "execution_count": 2,
   "metadata": {},
   "outputs": [],
   "source": [
    "import calendar"
   ]
  },
  {
   "cell_type": "code",
   "execution_count": 3,
   "metadata": {},
   "outputs": [
    {
     "name": "stdout",
     "output_type": "stream",
     "text": [
      "['APRIL', 'AUGUST', 'Calendar', 'DECEMBER', 'Day', 'EPOCH', 'FEBRUARY', 'FRIDAY', 'HTMLCalendar', 'IllegalMonthError', 'IllegalWeekdayError', 'IntEnum', 'JANUARY', 'JULY', 'JUNE', 'LocaleHTMLCalendar', 'LocaleTextCalendar', 'MARCH', 'MAY', 'MONDAY', 'Month', 'NOVEMBER', 'OCTOBER', 'SATURDAY', 'SEPTEMBER', 'SUNDAY', 'THURSDAY', 'TUESDAY', 'TextCalendar', 'WEDNESDAY', '_EPOCH_ORD', '__all__', '__builtins__', '__cached__', '__doc__', '__file__', '__getattr__', '__loader__', '__name__', '__package__', '__spec__', '_colwidth', '_get_default_locale', '_locale', '_localized_day', '_localized_month', '_monthlen', '_nextmonth', '_prevmonth', '_spacing', 'c', 'calendar', 'datetime', 'day_abbr', 'day_name', 'different_locale', 'error', 'firstweekday', 'format', 'formatstring', 'global_enum', 'isleap', 'leapdays', 'main', 'mdays', 'month', 'month_abbr', 'month_name', 'monthcalendar', 'monthrange', 'prcal', 'prmonth', 'prweek', 'repeat', 'setfirstweekday', 'sys', 'timegm', 'warnings', 'week', 'weekday', 'weekheader']\n"
     ]
    }
   ],
   "source": [
    "print(dir(calendar))"
   ]
  },
  {
   "cell_type": "code",
   "execution_count": 4,
   "metadata": {},
   "outputs": [
    {
     "name": "stdout",
     "output_type": "stream",
     "text": [
      "Calendar printing functions\n",
      "\n",
      "Note when comparing these calendars to the ones printed by cal(1): By\n",
      "default, these calendars have Monday as the first day of the week, and\n",
      "Sunday as the last (the European convention). Use setfirstweekday() to\n",
      "set the first day of the week (0=Monday, 6=Sunday).\n"
     ]
    }
   ],
   "source": [
    "print(calendar.__doc__)"
   ]
  },
  {
   "cell_type": "code",
   "execution_count": 5,
   "metadata": {},
   "outputs": [
    {
     "name": "stdout",
     "output_type": "stream",
     "text": [
      " \n",
      "calendar.EPOCH     =1970\n",
      "calendar._EPOCH_ORD=719163\n",
      "calendar.MONDAY    =calendar.MONDAY\n",
      "calendar.TUESDAY   =calendar.TUESDAY\n",
      "calendar.WEDNESDAY =calendar.WEDNESDAY\n",
      "calendar.THURSDAY  =calendar.THURSDAY\n",
      "calendar.FRIDAY    =calendar.FRIDAY\n",
      "calendar.SATURDAY  =calendar.SATURDAY\n",
      "calendar.SUNDAY    =calendar.SUNDAY\n",
      "calendar.mdays     =[0, 31, 28, 31, 30, 31, 30, 31, 31, 30, 31, 30, 31]\n",
      "      \n"
     ]
    }
   ],
   "source": [
    "print(\n",
    "    f\"\"\" \n",
    "{calendar.EPOCH     =}\n",
    "{calendar._EPOCH_ORD=}\n",
    "{calendar.MONDAY    =}\n",
    "{calendar.TUESDAY   =}\n",
    "{calendar.WEDNESDAY =}\n",
    "{calendar.THURSDAY  =}\n",
    "{calendar.FRIDAY    =}\n",
    "{calendar.SATURDAY  =}\n",
    "{calendar.SUNDAY    =}\n",
    "{calendar.mdays     =}\n",
    "      \"\"\"\n",
    ")   "
   ]
  },
  {
   "cell_type": "markdown",
   "metadata": {},
   "source": [
    "# Problem: For a given date, tell the week of the day"
   ]
  },
  {
   "cell_type": "code",
   "execution_count": 16,
   "metadata": {},
   "outputs": [],
   "source": [
    "import calendar\n",
    "\n",
    "def get_week_of_day():\n",
    "    given_input =input('Enter the date in \"MM DD YY\" format:')\n",
    "    month,day,year = map(int,given_input.split(\" \"))\n",
    "    \n",
    "    weeks = (\n",
    "        \"MONDAY\",\n",
    "        \"TUESDAY\",\n",
    "        \"WEDNESDAY\",\n",
    "        \"FRIDAY\",\n",
    "        \"SATURDAY\",\n",
    "        \"SUNDAY\",\n",
    "    )\n",
    "    week_no =calendar.weekday(year,month,day)\n",
    "    week_name = weeks[week_no]\n",
    "    return f\"day of week for{given_input} is {week_name}\""
   ]
  },
  {
   "cell_type": "code",
   "execution_count": 2,
   "metadata": {},
   "outputs": [
    {
     "data": {
      "text/plain": [
       "'day of week for07 12 1999 is MONDAY'"
      ]
     },
     "execution_count": 2,
     "metadata": {},
     "output_type": "execute_result"
    }
   ],
   "source": [
    "get_week_of_day()"
   ]
  },
  {
   "cell_type": "code",
   "execution_count": 9,
   "metadata": {},
   "outputs": [
    {
     "data": {
      "text/plain": [
       "'    August 1947\\nMo Tu We Th Fr Sa Su\\n             1  2  3\\n 4  5  6  7  8  9 10\\n11 12 13 14 15 16 17\\n18 19 20 21 22 23 24\\n25 26 27 28 29 30 31\\n'"
      ]
     },
     "execution_count": 9,
     "metadata": {},
     "output_type": "execute_result"
    }
   ],
   "source": [
    "calendar.month(1947,8)"
   ]
  },
  {
   "cell_type": "code",
   "execution_count": 10,
   "metadata": {},
   "outputs": [
    {
     "name": "stdout",
     "output_type": "stream",
     "text": [
      "    August 1947\n",
      "Mo Tu We Th Fr Sa Su\n",
      "             1  2  3\n",
      " 4  5  6  7  8  9 10\n",
      "11 12 13 14 15 16 17\n",
      "18 19 20 21 22 23 24\n",
      "25 26 27 28 29 30 31\n",
      "\n"
     ]
    }
   ],
   "source": [
    "print(calendar.month(1947,8))"
   ]
  },
  {
   "cell_type": "code",
   "execution_count": 14,
   "metadata": {},
   "outputs": [
    {
     "name": "stdout",
     "output_type": "stream",
     "text": [
      "(calendar.FRIDAY, 31)\n"
     ]
    }
   ],
   "source": [
    "print(calendar.monthrange(1947, 8))\n",
    "# month range gives number of weeks in month"
   ]
  },
  {
   "cell_type": "code",
   "execution_count": 13,
   "metadata": {},
   "outputs": [
    {
     "data": {
      "text/plain": [
       "(calendar.MONDAY, 31)"
      ]
     },
     "execution_count": 13,
     "metadata": {},
     "output_type": "execute_result"
    }
   ],
   "source": [
    "calendar.monthrange(2001,10)"
   ]
  },
  {
   "cell_type": "code",
   "execution_count": 16,
   "metadata": {},
   "outputs": [
    {
     "name": "stdout",
     "output_type": "stream",
     "text": [
      "    October 2001\n",
      "Mo Tu We Th Fr Sa Su\n",
      " 1  2  3  4  5  6  7\n",
      " 8  9 10 11 12 13 14\n",
      "15 16 17 18 19 20 21\n",
      "22 23 24 25 26 27 28\n",
      "29 30 31\n",
      "\n"
     ]
    }
   ],
   "source": [
    "print(calendar.month(2001,10))## 4"
   ]
  },
  {
   "cell_type": "markdown",
   "metadata": {},
   "source": [
    "# Display Calender"
   ]
  },
  {
   "cell_type": "code",
   "execution_count": 25,
   "metadata": {},
   "outputs": [
    {
     "name": "stdout",
     "output_type": "stream",
     "text": [
      "                                      1947\n",
      "\n",
      "      January                       February                       March\n",
      "Mo Tu We Th Fr Sa Su          Mo Tu We Th Fr Sa Su          Mo Tu We Th Fr Sa Su\n",
      "       1  2  3  4  5                          1  2                          1  2\n",
      " 6  7  8  9 10 11 12           3  4  5  6  7  8  9           3  4  5  6  7  8  9\n",
      "13 14 15 16 17 18 19          10 11 12 13 14 15 16          10 11 12 13 14 15 16\n",
      "20 21 22 23 24 25 26          17 18 19 20 21 22 23          17 18 19 20 21 22 23\n",
      "27 28 29 30 31                24 25 26 27 28                24 25 26 27 28 29 30\n",
      "                                                            31\n",
      "\n",
      "       April                          May                           June\n",
      "Mo Tu We Th Fr Sa Su          Mo Tu We Th Fr Sa Su          Mo Tu We Th Fr Sa Su\n",
      "    1  2  3  4  5  6                    1  2  3  4                             1\n",
      " 7  8  9 10 11 12 13           5  6  7  8  9 10 11           2  3  4  5  6  7  8\n",
      "14 15 16 17 18 19 20          12 13 14 15 16 17 18           9 10 11 12 13 14 15\n",
      "21 22 23 24 25 26 27          19 20 21 22 23 24 25          16 17 18 19 20 21 22\n",
      "28 29 30                      26 27 28 29 30 31             23 24 25 26 27 28 29\n",
      "                                                            30\n",
      "\n",
      "        July                         August                      September\n",
      "Mo Tu We Th Fr Sa Su          Mo Tu We Th Fr Sa Su          Mo Tu We Th Fr Sa Su\n",
      "    1  2  3  4  5  6                       1  2  3           1  2  3  4  5  6  7\n",
      " 7  8  9 10 11 12 13           4  5  6  7  8  9 10           8  9 10 11 12 13 14\n",
      "14 15 16 17 18 19 20          11 12 13 14 15 16 17          15 16 17 18 19 20 21\n",
      "21 22 23 24 25 26 27          18 19 20 21 22 23 24          22 23 24 25 26 27 28\n",
      "28 29 30 31                   25 26 27 28 29 30 31          29 30\n",
      "\n",
      "      October                       November                      December\n",
      "Mo Tu We Th Fr Sa Su          Mo Tu We Th Fr Sa Su          Mo Tu We Th Fr Sa Su\n",
      "       1  2  3  4  5                          1  2           1  2  3  4  5  6  7\n",
      " 6  7  8  9 10 11 12           3  4  5  6  7  8  9           8  9 10 11 12 13 14\n",
      "13 14 15 16 17 18 19          10 11 12 13 14 15 16          15 16 17 18 19 20 21\n",
      "20 21 22 23 24 25 26          17 18 19 20 21 22 23          22 23 24 25 26 27 28\n",
      "27 28 29 30 31                24 25 26 27 28 29 30          29 30 31\n",
      "\n"
     ]
    }
   ],
   "source": [
    "print(calendar.calendar(1947,2,1,10))"
   ]
  },
  {
   "cell_type": "code",
   "execution_count": 27,
   "metadata": {},
   "outputs": [
    {
     "data": {
      "text/plain": [
       "0"
      ]
     },
     "execution_count": 27,
     "metadata": {},
     "output_type": "execute_result"
    }
   ],
   "source": [
    "calendar.firstweekday()"
   ]
  },
  {
   "cell_type": "code",
   "execution_count": 30,
   "metadata": {},
   "outputs": [],
   "source": [
    "calendar.setfirstweekday(2)"
   ]
  },
  {
   "cell_type": "code",
   "execution_count": 31,
   "metadata": {},
   "outputs": [
    {
     "data": {
      "text/plain": [
       "2"
      ]
     },
     "execution_count": 31,
     "metadata": {},
     "output_type": "execute_result"
    }
   ],
   "source": [
    "calendar.firstweekday()"
   ]
  },
  {
   "cell_type": "code",
   "execution_count": 32,
   "metadata": {},
   "outputs": [
    {
     "name": "stdout",
     "output_type": "stream",
     "text": [
      "                                      1947\n",
      "\n",
      "      January                       February                       March\n",
      "We Th Fr Sa Su Mo Tu          We Th Fr Sa Su Mo Tu          We Th Fr Sa Su Mo Tu\n",
      " 1  2  3  4  5  6  7                    1  2  3  4                    1  2  3  4\n",
      " 8  9 10 11 12 13 14           5  6  7  8  9 10 11           5  6  7  8  9 10 11\n",
      "15 16 17 18 19 20 21          12 13 14 15 16 17 18          12 13 14 15 16 17 18\n",
      "22 23 24 25 26 27 28          19 20 21 22 23 24 25          19 20 21 22 23 24 25\n",
      "29 30 31                      26 27 28                      26 27 28 29 30 31\n",
      "\n",
      "       April                          May                           June\n",
      "We Th Fr Sa Su Mo Tu          We Th Fr Sa Su Mo Tu          We Th Fr Sa Su Mo Tu\n",
      "                   1              1  2  3  4  5  6                       1  2  3\n",
      " 2  3  4  5  6  7  8           7  8  9 10 11 12 13           4  5  6  7  8  9 10\n",
      " 9 10 11 12 13 14 15          14 15 16 17 18 19 20          11 12 13 14 15 16 17\n",
      "16 17 18 19 20 21 22          21 22 23 24 25 26 27          18 19 20 21 22 23 24\n",
      "23 24 25 26 27 28 29          28 29 30 31                   25 26 27 28 29 30\n",
      "30\n",
      "\n",
      "        July                         August                      September\n",
      "We Th Fr Sa Su Mo Tu          We Th Fr Sa Su Mo Tu          We Th Fr Sa Su Mo Tu\n",
      "                   1                 1  2  3  4  5                          1  2\n",
      " 2  3  4  5  6  7  8           6  7  8  9 10 11 12           3  4  5  6  7  8  9\n",
      " 9 10 11 12 13 14 15          13 14 15 16 17 18 19          10 11 12 13 14 15 16\n",
      "16 17 18 19 20 21 22          20 21 22 23 24 25 26          17 18 19 20 21 22 23\n",
      "23 24 25 26 27 28 29          27 28 29 30 31                24 25 26 27 28 29 30\n",
      "30 31\n",
      "\n",
      "      October                       November                      December\n",
      "We Th Fr Sa Su Mo Tu          We Th Fr Sa Su Mo Tu          We Th Fr Sa Su Mo Tu\n",
      " 1  2  3  4  5  6  7                    1  2  3  4                          1  2\n",
      " 8  9 10 11 12 13 14           5  6  7  8  9 10 11           3  4  5  6  7  8  9\n",
      "15 16 17 18 19 20 21          12 13 14 15 16 17 18          10 11 12 13 14 15 16\n",
      "22 23 24 25 26 27 28          19 20 21 22 23 24 25          17 18 19 20 21 22 23\n",
      "29 30 31                      26 27 28 29 30                24 25 26 27 28 29 30\n",
      "                                                            31\n",
      "\n"
     ]
    }
   ],
   "source": [
    "print(calendar.calendar(1947,2,1,10))\n"
   ]
  },
  {
   "cell_type": "code",
   "execution_count": 38,
   "metadata": {},
   "outputs": [
    {
     "data": {
      "text/plain": [
       "False"
      ]
     },
     "execution_count": 38,
     "metadata": {},
     "output_type": "execute_result"
    }
   ],
   "source": [
    "calendar.isleap(2021)\n",
    "#isleadp returns whether given year is leap o5 not"
   ]
  },
  {
   "cell_type": "code",
   "execution_count": 18,
   "metadata": {},
   "outputs": [],
   "source": [
    "def getweeeKoftheday():\n",
    "    given_week_day = input(\"Enter the date in Month Day Year format:\")\n",
    "    month,day,year = map(int,given_week_day.split(\" \"))\n",
    "\n",
    "    weeks=(\n",
    "        \"MONDAY\",\n",
    "        \"TUESDAY\",\n",
    "        \"WEDNESDAY\",\n",
    "        \"THURSDAY\",\n",
    "        \"FRIDAY\",\n",
    "        \"SATURDAY\",\n",
    "        \"SUNDAY\"\n",
    "    )\n",
    "\n",
    "    week_name=calendar.weekday(year, month ,day)\n",
    "    week = weeks[week_name]\n",
    "    return f\"weekname is{given_week_day=} is {week=}\"\n",
    "\n"
   ]
  },
  {
   "cell_type": "code",
   "execution_count": 19,
   "metadata": {},
   "outputs": [
    {
     "data": {
      "text/plain": [
       "\"weekname isgiven_week_day='07 11 2000' is week='TUESDAY'\""
      ]
     },
     "execution_count": 19,
     "metadata": {},
     "output_type": "execute_result"
    }
   ],
   "source": [
    "getweeeKoftheday()"
   ]
  },
  {
   "cell_type": "code",
   "execution_count": 29,
   "metadata": {},
   "outputs": [
    {
     "name": "stdout",
     "output_type": "stream",
     "text": [
      "   September 2000\n",
      "Mo Tu We Th Fr Sa Su\n",
      "             1  2  3\n",
      " 4  5  6  7  8  9 10\n",
      "11 12 13 14 15 16 17\n",
      "18 19 20 21 22 23 24\n",
      "25 26 27 28 29 30\n",
      "\n",
      "                                        2000\n",
      "\n",
      "      January                         February                         March\n",
      "Mo Tu We Th Fr Sa Su            Mo Tu We Th Fr Sa Su            Mo Tu We Th Fr Sa Su\n",
      "                1  2                1  2  3  4  5  6                   1  2  3  4  5\n",
      " 3  4  5  6  7  8  9             7  8  9 10 11 12 13             6  7  8  9 10 11 12\n",
      "10 11 12 13 14 15 16            14 15 16 17 18 19 20            13 14 15 16 17 18 19\n",
      "17 18 19 20 21 22 23            21 22 23 24 25 26 27            20 21 22 23 24 25 26\n",
      "24 25 26 27 28 29 30            28 29                           27 28 29 30 31\n",
      "31\n",
      "\n",
      "       April                            May                             June\n",
      "Mo Tu We Th Fr Sa Su            Mo Tu We Th Fr Sa Su            Mo Tu We Th Fr Sa Su\n",
      "                1  2             1  2  3  4  5  6  7                      1  2  3  4\n",
      " 3  4  5  6  7  8  9             8  9 10 11 12 13 14             5  6  7  8  9 10 11\n",
      "10 11 12 13 14 15 16            15 16 17 18 19 20 21            12 13 14 15 16 17 18\n",
      "17 18 19 20 21 22 23            22 23 24 25 26 27 28            19 20 21 22 23 24 25\n",
      "24 25 26 27 28 29 30            29 30 31                        26 27 28 29 30\n",
      "\n",
      "        July                           August                        September\n",
      "Mo Tu We Th Fr Sa Su            Mo Tu We Th Fr Sa Su            Mo Tu We Th Fr Sa Su\n",
      "                1  2                1  2  3  4  5  6                         1  2  3\n",
      " 3  4  5  6  7  8  9             7  8  9 10 11 12 13             4  5  6  7  8  9 10\n",
      "10 11 12 13 14 15 16            14 15 16 17 18 19 20            11 12 13 14 15 16 17\n",
      "17 18 19 20 21 22 23            21 22 23 24 25 26 27            18 19 20 21 22 23 24\n",
      "24 25 26 27 28 29 30            28 29 30 31                     25 26 27 28 29 30\n",
      "31\n",
      "\n",
      "      October                         November                        December\n",
      "Mo Tu We Th Fr Sa Su            Mo Tu We Th Fr Sa Su            Mo Tu We Th Fr Sa Su\n",
      "                   1                   1  2  3  4  5                         1  2  3\n",
      " 2  3  4  5  6  7  8             6  7  8  9 10 11 12             4  5  6  7  8  9 10\n",
      " 9 10 11 12 13 14 15            13 14 15 16 17 18 19            11 12 13 14 15 16 17\n",
      "16 17 18 19 20 21 22            20 21 22 23 24 25 26            18 19 20 21 22 23 24\n",
      "23 24 25 26 27 28 29            27 28 29 30                     25 26 27 28 29 30 31\n",
      "30 31\n",
      "\n"
     ]
    }
   ],
   "source": [
    "print(calendar.month(2000,9))\n",
    "print(calendar.calendar(2000,2,1,12))"
   ]
  },
  {
   "cell_type": "code",
   "execution_count": 15,
   "metadata": {},
   "outputs": [
    {
     "ename": "NameError",
     "evalue": "name 'calendar' is not defined",
     "output_type": "error",
     "traceback": [
      "\u001b[31m---------------------------------------------------------------------------\u001b[39m",
      "\u001b[31mNameError\u001b[39m                                 Traceback (most recent call last)",
      "\u001b[36mCell\u001b[39m\u001b[36m \u001b[39m\u001b[32mIn[15]\u001b[39m\u001b[32m, line 2\u001b[39m\n\u001b[32m      1\u001b[39m \u001b[38;5;66;03m# leap days - Gives how many are leap years btwn the mentioned two yeard\u001b[39;00m\n\u001b[32m----> \u001b[39m\u001b[32m2\u001b[39m \u001b[43mcalendar\u001b[49m.leapdays(\u001b[32m2000\u001b[39m,\u001b[32m2024\u001b[39m)\n",
      "\u001b[31mNameError\u001b[39m: name 'calendar' is not defined"
     ]
    }
   ],
   "source": [
    "# leap days - Gives how many are leap years btwn the mentioned two yeard\n",
    "calendar.leapdays(2000,2024)"
   ]
  },
  {
   "cell_type": "code",
   "execution_count": null,
   "metadata": {},
   "outputs": [],
   "source": []
  }
 ],
 "metadata": {
  "kernelspec": {
   "display_name": "Python 3",
   "language": "python",
   "name": "python3"
  },
  "language_info": {
   "codemirror_mode": {
    "name": "ipython",
    "version": 3
   },
   "file_extension": ".py",
   "mimetype": "text/x-python",
   "name": "python",
   "nbconvert_exporter": "python",
   "pygments_lexer": "ipython3",
   "version": "3.12.1"
  }
 },
 "nbformat": 4,
 "nbformat_minor": 2
}
