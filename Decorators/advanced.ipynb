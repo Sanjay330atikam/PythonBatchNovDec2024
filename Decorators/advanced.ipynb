{
 "cells": [
  {
   "cell_type": "markdown",
   "metadata": {},
   "source": [
    "LRU CACHE(last Recelnty used)\n",
    "- it is a desgin pattern \n",
    "-lru_cache(maxsize,typed)\n",
    "- this make a note of arguments we are passing"
   ]
  },
  {
   "cell_type": "code",
   "execution_count": 4,
   "metadata": {},
   "outputs": [
    {
     "name": "stdout",
     "output_type": "stream",
     "text": [
      "calaculating = 3\n",
      "calaculating = 3\n",
      "calaculating = 4\n"
     ]
    }
   ],
   "source": [
    "def add(a,b):\n",
    "    print(f\"cal\")\n",
    "    return a+b\n",
    "print(\"calaculating =\",add(1,2))\n",
    "print(\"calaculating =\",add(1,2))#call is made\n",
    "print(\"calaculating =\",add(1,3))"
   ]
  },
  {
   "cell_type": "code",
   "execution_count": 10,
   "metadata": {},
   "outputs": [
    {
     "name": "stdout",
     "output_type": "stream",
     "text": [
      "calaculating = 2\n",
      "calaculating = 2\n",
      "calaculating = 4\n"
     ]
    }
   ],
   "source": [
    "from functools import lru_cache\n",
    "\n",
    "@lru_cache\n",
    "def add(a,b):\n",
    "    return a+b\n",
    "print(\"calaculating =\",add(1,1))\n",
    "print(\"calaculating =\",add(1,1))#call is not made\n",
    "print(\"calaculating =\",add(1,3))"
   ]
  },
  {
   "cell_type": "code",
   "execution_count": 5,
   "metadata": {},
   "outputs": [
    {
     "name": "stdout",
     "output_type": "stream",
     "text": [
      "0.010853423998923972\n"
     ]
    }
   ],
   "source": [
    "#timeit - we can pass anything and ask howmuch time it takes\n",
    "import timeit\n",
    "print(timeit.timeit('1+234+23'))"
   ]
  },
  {
   "cell_type": "markdown",
   "metadata": {},
   "source": [
    "Class decorator\n",
    "- we can class ad decortaor \n",
    "@class eg"
   ]
  }
 ],
 "metadata": {
  "kernelspec": {
   "display_name": "Python 3",
   "language": "python",
   "name": "python3"
  },
  "language_info": {
   "codemirror_mode": {
    "name": "ipython",
    "version": 3
   },
   "file_extension": ".py",
   "mimetype": "text/x-python",
   "name": "python",
   "nbconvert_exporter": "python",
   "pygments_lexer": "ipython3",
   "version": "3.12.1"
  }
 },
 "nbformat": 4,
 "nbformat_minor": 2
}
