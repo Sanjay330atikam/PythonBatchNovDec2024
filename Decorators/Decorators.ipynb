{
 "cells": [
  {
   "cell_type": "markdown",
   "metadata": {},
   "source": [
    "DECORATORS"
   ]
  },
  {
   "cell_type": "markdown",
   "metadata": {},
   "source": [
    "with out using the decorator"
   ]
  },
  {
   "cell_type": "code",
   "execution_count": 11,
   "metadata": {},
   "outputs": [
    {
     "data": {
      "text/plain": [
       "15"
      ]
     },
     "execution_count": 11,
     "metadata": {},
     "output_type": "execute_result"
    }
   ],
   "source": [
    "def add(n1,n2):\n",
    "    return n1+n2\n",
    "add(10,5)"
   ]
  },
  {
   "cell_type": "code",
   "execution_count": 12,
   "metadata": {},
   "outputs": [
    {
     "data": {
      "text/plain": [
       "'105'"
      ]
     },
     "execution_count": 12,
     "metadata": {},
     "output_type": "execute_result"
    }
   ],
   "source": [
    "add('10','5')"
   ]
  },
  {
   "cell_type": "code",
   "execution_count": 13,
   "metadata": {},
   "outputs": [
    {
     "ename": "TypeError",
     "evalue": "can only concatenate str (not \"int\") to str",
     "output_type": "error",
     "traceback": [
      "\u001b[0;31m---------------------------------------------------------------------------\u001b[0m",
      "\u001b[0;31mTypeError\u001b[0m                                 Traceback (most recent call last)",
      "Cell \u001b[0;32mIn[13], line 1\u001b[0m\n\u001b[0;32m----> 1\u001b[0m \u001b[43madd\u001b[49m\u001b[43m(\u001b[49m\u001b[38;5;124;43m'\u001b[39;49m\u001b[38;5;124;43m10\u001b[39;49m\u001b[38;5;124;43m'\u001b[39;49m\u001b[43m,\u001b[49m\u001b[38;5;241;43m5\u001b[39;49m\u001b[43m)\u001b[49m\n",
      "Cell \u001b[0;32mIn[11], line 2\u001b[0m, in \u001b[0;36madd\u001b[0;34m(n1, n2)\u001b[0m\n\u001b[1;32m      1\u001b[0m \u001b[38;5;28;01mdef\u001b[39;00m \u001b[38;5;21madd\u001b[39m(n1,n2):\n\u001b[0;32m----> 2\u001b[0m     \u001b[38;5;28;01mreturn\u001b[39;00m \u001b[43mn1\u001b[49m\u001b[38;5;241;43m+\u001b[39;49m\u001b[43mn2\u001b[49m\n",
      "\u001b[0;31mTypeError\u001b[0m: can only concatenate str (not \"int\") to str"
     ]
    }
   ],
   "source": [
    "add('10',5)"
   ]
  },
  {
   "cell_type": "code",
   "execution_count": 14,
   "metadata": {},
   "outputs": [
    {
     "name": "stdout",
     "output_type": "stream",
     "text": [
      "21\n",
      "120\n",
      "can only concatenate str (not \"int\") to str\n"
     ]
    }
   ],
   "source": [
    "def add(a,b):\n",
    "    try:\n",
    "        a+b\n",
    "    except Exception as e:\n",
    "      return e\n",
    "    else:\n",
    "          return a +b\n",
    "print(f\"{add(1,20)}\")\n",
    "print(f\"{add('1','20')}\")\n",
    "print(f\"{add('1',20)}\")"
   ]
  },
  {
   "cell_type": "code",
   "execution_count": 15,
   "metadata": {},
   "outputs": [
    {
     "data": {
      "text/plain": [
       "5.0"
      ]
     },
     "execution_count": 15,
     "metadata": {},
     "output_type": "execute_result"
    }
   ],
   "source": [
    "def div(n1,n2):\n",
    "    return n1/n2\n",
    "div(10,2)"
   ]
  },
  {
   "cell_type": "code",
   "execution_count": 16,
   "metadata": {},
   "outputs": [
    {
     "ename": "TypeError",
     "evalue": "unsupported operand type(s) for /: 'str' and 'int'",
     "output_type": "error",
     "traceback": [
      "\u001b[0;31m---------------------------------------------------------------------------\u001b[0m",
      "\u001b[0;31mTypeError\u001b[0m                                 Traceback (most recent call last)",
      "Cell \u001b[0;32mIn[16], line 1\u001b[0m\n\u001b[0;32m----> 1\u001b[0m \u001b[43mdiv\u001b[49m\u001b[43m(\u001b[49m\u001b[38;5;124;43m'\u001b[39;49m\u001b[38;5;124;43m10\u001b[39;49m\u001b[38;5;124;43m'\u001b[39;49m\u001b[43m,\u001b[49m\u001b[38;5;241;43m2\u001b[39;49m\u001b[43m)\u001b[49m\n",
      "Cell \u001b[0;32mIn[15], line 2\u001b[0m, in \u001b[0;36mdiv\u001b[0;34m(n1, n2)\u001b[0m\n\u001b[1;32m      1\u001b[0m \u001b[38;5;28;01mdef\u001b[39;00m \u001b[38;5;21mdiv\u001b[39m(n1,n2):\n\u001b[0;32m----> 2\u001b[0m     \u001b[38;5;28;01mreturn\u001b[39;00m \u001b[43mn1\u001b[49m\u001b[38;5;241;43m/\u001b[39;49m\u001b[43mn2\u001b[49m\n",
      "\u001b[0;31mTypeError\u001b[0m: unsupported operand type(s) for /: 'str' and 'int'"
     ]
    }
   ],
   "source": [
    "div('10',2)"
   ]
  },
  {
   "cell_type": "code",
   "execution_count": 17,
   "metadata": {},
   "outputs": [
    {
     "ename": "ZeroDivisionError",
     "evalue": "division by zero",
     "output_type": "error",
     "traceback": [
      "\u001b[0;31m---------------------------------------------------------------------------\u001b[0m",
      "\u001b[0;31mZeroDivisionError\u001b[0m                         Traceback (most recent call last)",
      "Cell \u001b[0;32mIn[17], line 1\u001b[0m\n\u001b[0;32m----> 1\u001b[0m \u001b[43mdiv\u001b[49m\u001b[43m(\u001b[49m\u001b[38;5;241;43m10\u001b[39;49m\u001b[43m,\u001b[49m\u001b[38;5;241;43m0\u001b[39;49m\u001b[43m)\u001b[49m\n",
      "Cell \u001b[0;32mIn[15], line 2\u001b[0m, in \u001b[0;36mdiv\u001b[0;34m(n1, n2)\u001b[0m\n\u001b[1;32m      1\u001b[0m \u001b[38;5;28;01mdef\u001b[39;00m \u001b[38;5;21mdiv\u001b[39m(n1,n2):\n\u001b[0;32m----> 2\u001b[0m     \u001b[38;5;28;01mreturn\u001b[39;00m \u001b[43mn1\u001b[49m\u001b[38;5;241;43m/\u001b[39;49m\u001b[43mn2\u001b[49m\n",
      "\u001b[0;31mZeroDivisionError\u001b[0m: division by zero"
     ]
    }
   ],
   "source": [
    "div(10,0)"
   ]
  },
  {
   "cell_type": "code",
   "execution_count": 24,
   "metadata": {},
   "outputs": [
    {
     "name": "stdout",
     "output_type": "stream",
     "text": [
      "5.0\n",
      "unsupported operand type(s) for /: 'int' and 'str'\n",
      "division by zero\n"
     ]
    }
   ],
   "source": [
    "def div(a,b):\n",
    "    try:\n",
    "        a/b\n",
    "    except Exception as e:\n",
    "          return e \n",
    "    else:\n",
    "         return a/b\n",
    "    \n",
    "print(f\"{div(10,2)}\")\n",
    "print(f\"{div(10,'2')}\")\n",
    "print(f\"{div(10,0)}\")"
   ]
  },
  {
   "cell_type": "markdown",
   "metadata": {},
   "source": [
    "Decorators \n",
    "- We can pass function to one function that is use of decorators\n",
    "- Decorators has inner and outer function\n",
    "- We have to return the inner function for decorators\n",
    "- Decorator means passsing function as input to another"
   ]
  },
  {
   "cell_type": "code",
   "execution_count": 27,
   "metadata": {},
   "outputs": [
    {
     "name": "stdout",
     "output_type": "stream",
     "text": [
      "<function exception_handler.<locals>.inner at 0x7a49bf264720>\n"
     ]
    }
   ],
   "source": [
    "def exception_handler(func):\n",
    "\n",
    "    def inner(a,b):\n",
    "     try:\n",
    "        a+b\n",
    "     except Exception as e:\n",
    "        return e\n",
    "     else:\n",
    "        return a+b\n",
    "    return inner\n",
    "    \n",
    "add_with_exception_handler = exception_handler(add)\n",
    "print(add_with_exception_handler)"
   ]
  },
  {
   "cell_type": "code",
   "execution_count": 28,
   "metadata": {},
   "outputs": [
    {
     "data": {
      "text/plain": [
       "12"
      ]
     },
     "execution_count": 28,
     "metadata": {},
     "output_type": "execute_result"
    }
   ],
   "source": [
    "add_with_exception_handler(10,2)"
   ]
  },
  {
   "cell_type": "code",
   "execution_count": 29,
   "metadata": {},
   "outputs": [
    {
     "name": "stdout",
     "output_type": "stream",
     "text": [
      "<function except_handling.<locals>.inner at 0x7a49bf2a8360>\n"
     ]
    }
   ],
   "source": [
    "def except_handling(func):\n",
    "    def inner(a,b):\n",
    "        try:\n",
    "            a/b\n",
    "        except Exception as e:\n",
    "           return e\n",
    "        else:\n",
    "            return a/b\n",
    "    return inner\n",
    "\n",
    "div_with_exception_handling = except_handling(div)\n",
    "print(div_with_exception_handling)"
   ]
  },
  {
   "cell_type": "code",
   "execution_count": 30,
   "metadata": {},
   "outputs": [
    {
     "data": {
      "text/plain": [
       "5.0"
      ]
     },
     "execution_count": 30,
     "metadata": {},
     "output_type": "execute_result"
    }
   ],
   "source": [
    "div_with_exception_handling(10,2)"
   ]
  },
  {
   "cell_type": "code",
   "execution_count": 31,
   "metadata": {},
   "outputs": [
    {
     "name": "stdout",
     "output_type": "stream",
     "text": [
      "<function exception_handler.<locals>.inner at 0x7a49bf34a020>\n",
      "<function except_handling.<locals>.inner at 0x7a49bf2caa20>\n",
      "801\n",
      "4.644444444444445\n"
     ]
    }
   ],
   "source": [
    "def except_handling(func):\n",
    "    def inner(a,b):\n",
    "        try:\n",
    "            result = func(a,b)# taking a,b as arguments for function it would be easy\n",
    "        except Exception as e:\n",
    "           return e\n",
    "        else:\n",
    "            return result\n",
    "    return inner\n",
    "#consoldating all the answers together\n",
    "def add(a,b):\n",
    "    return a+b\n",
    "def div(a,b):\n",
    "    return a/b\n",
    "\n",
    "add_with_exception_handler = exception_handler(add)\n",
    "print(add_with_exception_handler)\n",
    "\n",
    "div_with_exception_handling = except_handling(div)\n",
    "print(div_with_exception_handling)\n",
    "\n",
    "print(add_with_exception_handler(123,678))\n",
    "print(div_with_exception_handling(209,45))\n",
    "\n",
    "#Solving the problems which has expectional handling"
   ]
  },
  {
   "cell_type": "code",
   "execution_count": 5,
   "metadata": {},
   "outputs": [
    {
     "name": "stdout",
     "output_type": "stream",
     "text": [
      "<function exception_handler.<locals>.inner at 0x7c10c565bce0>\n",
      "<function except_handling.<locals>.inner at 0x7c10c565b880>\n",
      "801\n",
      "4.644444444444445\n",
      "add_with_exception_handler =<function exception_handler.<locals>.inner at 0x7c10c565b7e0>\n",
      "add_with_exception_handler(23,4,5) =32\n"
     ]
    }
   ],
   "source": [
    "def exception_handler(func):\n",
    "    def inner(*args,**kwargs):#-- we can pas variable arguments\n",
    "        try:\n",
    "            result = func(*args,**kwargs)# taking a,b as arguments for function it would be easy\n",
    "        except Exception as e:\n",
    "           return e\n",
    "        else:\n",
    "            return result\n",
    "    return inner\n",
    "#consoldating all the answers together\n",
    "def add(a,b):\n",
    "    return a+b\n",
    "def div(a,b):\n",
    "    return a/b\n",
    "\n",
    "add_with_exception_handler = exception_handler(add)\n",
    "print(add_with_exception_handler)\n",
    "\n",
    "div_with_exception_handling = except_handling(div)\n",
    "print(div_with_exception_handling)\n",
    "\n",
    "print(add_with_exception_handler(123,678))\n",
    "print(div_with_exception_handling(209,45))\n",
    "\n",
    "def addition(n1,n2,n3):\n",
    "    return n1+n2+n3\n",
    "add_with_exception_handler=exception_handler(addition)\n",
    "print(f\"{add_with_exception_handler =}\")\n",
    "\n",
    "print(f\"{add_with_exception_handler(23,4,5) =}\")\n"
   ]
  },
  {
   "cell_type": "code",
   "execution_count": 8,
   "metadata": {},
   "outputs": [
    {
     "name": "stdout",
     "output_type": "stream",
     "text": [
      "1.3333333333333333\n"
     ]
    }
   ],
   "source": [
    "def outer(func):\n",
    "    def inner(num1,num2):#*args,**kwargs\n",
    "        try:\n",
    "            func(num1,num2)\n",
    "        except Exception as e:\n",
    "            return e\n",
    "        else:\n",
    "            return func(num1,num2)##*args,**kwargs\n",
    "    return inner\n",
    "\n",
    "def div(a,b):\n",
    "    return a/b\n",
    "\n",
    "foo=outer(div)\n",
    "print(foo(4,3))"
   ]
  }
 ],
 "metadata": {
  "kernelspec": {
   "display_name": "Python 3",
   "language": "python",
   "name": "python3"
  },
  "language_info": {
   "codemirror_mode": {
    "name": "ipython",
    "version": 3
   },
   "file_extension": ".py",
   "mimetype": "text/x-python",
   "name": "python",
   "nbconvert_exporter": "python",
   "pygments_lexer": "ipython3",
   "version": "3.12.1"
  }
 },
 "nbformat": 4,
 "nbformat_minor": 2
}
