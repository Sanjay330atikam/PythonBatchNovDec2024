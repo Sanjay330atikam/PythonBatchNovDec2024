{
 "cells": [
  {
   "cell_type": "markdown",
   "metadata": {},
   "source": [
    "DECORATORS"
   ]
  },
  {
   "cell_type": "markdown",
   "metadata": {},
   "source": [
    "with out using the decorator"
   ]
  },
  {
   "cell_type": "code",
   "execution_count": 3,
   "metadata": {},
   "outputs": [
    {
     "data": {
      "text/plain": [
       "15"
      ]
     },
     "execution_count": 3,
     "metadata": {},
     "output_type": "execute_result"
    }
   ],
   "source": [
    "def add(n1,n2):\n",
    "    return n1+n2\n",
    "add(10,5)"
   ]
  },
  {
   "cell_type": "code",
   "execution_count": 4,
   "metadata": {},
   "outputs": [
    {
     "data": {
      "text/plain": [
       "'105'"
      ]
     },
     "execution_count": 4,
     "metadata": {},
     "output_type": "execute_result"
    }
   ],
   "source": [
    "add('10','5')"
   ]
  },
  {
   "cell_type": "code",
   "execution_count": 5,
   "metadata": {},
   "outputs": [
    {
     "data": {
      "text/plain": [
       "15"
      ]
     },
     "execution_count": 5,
     "metadata": {},
     "output_type": "execute_result"
    }
   ],
   "source": [
    "add(10,5)"
   ]
  },
  {
   "cell_type": "code",
   "execution_count": 14,
   "metadata": {},
   "outputs": [
    {
     "name": "stdout",
     "output_type": "stream",
     "text": [
      "21\n",
      "120\n",
      "can only concatenate str (not \"int\") to str\n"
     ]
    }
   ],
   "source": [
    "def add(a,b):\n",
    "    try:\n",
    "        a+b\n",
    "    except Exception as e:\n",
    "      return e\n",
    "    else:\n",
    "          return a +b\n",
    "print(f\"{add(1,20)}\")\n",
    "print(f\"{add('1','20')}\")\n",
    "print(f\"{add('1',20)}\")"
   ]
  },
  {
   "cell_type": "code",
   "execution_count": 8,
   "metadata": {},
   "outputs": [
    {
     "data": {
      "text/plain": [
       "5.0"
      ]
     },
     "execution_count": 8,
     "metadata": {},
     "output_type": "execute_result"
    }
   ],
   "source": [
    "def div(n1,n2):\n",
    "    return n1/n2\n",
    "div(10,2)"
   ]
  },
  {
   "cell_type": "code",
   "execution_count": 9,
   "metadata": {},
   "outputs": [
    {
     "data": {
      "text/plain": [
       "5.0"
      ]
     },
     "execution_count": 9,
     "metadata": {},
     "output_type": "execute_result"
    }
   ],
   "source": [
    "div(10,2)"
   ]
  },
  {
   "cell_type": "code",
   "execution_count": 11,
   "metadata": {},
   "outputs": [
    {
     "ename": "ZeroDivisionError",
     "evalue": "division by zero",
     "output_type": "error",
     "traceback": [
      "\u001b[31m---------------------------------------------------------------------------\u001b[39m",
      "\u001b[31mZeroDivisionError\u001b[39m                         Traceback (most recent call last)",
      "\u001b[36mCell\u001b[39m\u001b[36m \u001b[39m\u001b[32mIn[11]\u001b[39m\u001b[32m, line 1\u001b[39m\n\u001b[32m----> \u001b[39m\u001b[32m1\u001b[39m \u001b[43mdiv\u001b[49m\u001b[43m(\u001b[49m\u001b[32;43m10\u001b[39;49m\u001b[43m,\u001b[49m\u001b[32;43m0\u001b[39;49m\u001b[43m)\u001b[49m\n",
      "\u001b[36mCell\u001b[39m\u001b[36m \u001b[39m\u001b[32mIn[8]\u001b[39m\u001b[32m, line 2\u001b[39m, in \u001b[36mdiv\u001b[39m\u001b[34m(n1, n2)\u001b[39m\n\u001b[32m      1\u001b[39m \u001b[38;5;28;01mdef\u001b[39;00m\u001b[38;5;250m \u001b[39m\u001b[34mdiv\u001b[39m(n1,n2):\n\u001b[32m----> \u001b[39m\u001b[32m2\u001b[39m     \u001b[38;5;28;01mreturn\u001b[39;00m \u001b[43mn1\u001b[49m\u001b[43m/\u001b[49m\u001b[43mn2\u001b[49m\n",
      "\u001b[31mZeroDivisionError\u001b[39m: division by zero"
     ]
    }
   ],
   "source": [
    "div(10,0)"
   ]
  },
  {
   "cell_type": "code",
   "execution_count": 24,
   "metadata": {},
   "outputs": [
    {
     "name": "stdout",
     "output_type": "stream",
     "text": [
      "5.0\n",
      "unsupported operand type(s) for /: 'int' and 'str'\n",
      "division by zero\n"
     ]
    }
   ],
   "source": [
    "def div(a,b):\n",
    "    try:\n",
    "        a/b\n",
    "    except Exception as e:\n",
    "          return e \n",
    "    else:\n",
    "         return a/b\n",
    "    \n",
    "print(f\"{div(10,2)}\")\n",
    "print(f\"{div(10,'2')}\")\n",
    "print(f\"{div(10,0)}\")"
   ]
  },
  {
   "cell_type": "markdown",
   "metadata": {},
   "source": [
    "Decorators \n",
    "- We can pass function to one function that is use of decorators\n",
    "- Decorators has inner and outer function\n",
    "- We have to return the inner function for decorators\n",
    "- Decorator means passsing function as input to another"
   ]
  },
  {
   "cell_type": "code",
   "execution_count": 27,
   "metadata": {},
   "outputs": [
    {
     "name": "stdout",
     "output_type": "stream",
     "text": [
      "<function exception_handler.<locals>.inner at 0x7a49bf264720>\n"
     ]
    }
   ],
   "source": [
    "def exception_handler(func):\n",
    "\n",
    "    def inner(a,b):\n",
    "     try:\n",
    "        a+b\n",
    "     except Exception as e:\n",
    "        return e\n",
    "     else:\n",
    "        return a+b\n",
    "    return inner\n",
    "    \n",
    "add_with_exception_handler = exception_handler(add)\n",
    "print(add_with_exception_handler)"
   ]
  },
  {
   "cell_type": "code",
   "execution_count": 28,
   "metadata": {},
   "outputs": [
    {
     "data": {
      "text/plain": [
       "12"
      ]
     },
     "execution_count": 28,
     "metadata": {},
     "output_type": "execute_result"
    }
   ],
   "source": [
    "add_with_exception_handler(10,2)"
   ]
  },
  {
   "cell_type": "code",
   "execution_count": 29,
   "metadata": {},
   "outputs": [
    {
     "name": "stdout",
     "output_type": "stream",
     "text": [
      "<function except_handling.<locals>.inner at 0x7a49bf2a8360>\n"
     ]
    }
   ],
   "source": [
    "def except_handling(func):\n",
    "    def inner(a,b):\n",
    "        try:\n",
    "            a/b\n",
    "        except Exception as e:\n",
    "           return e\n",
    "        else:\n",
    "            return a/b\n",
    "    return inner\n",
    "\n",
    "div_with_exception_handling = except_handling(div)\n",
    "print(div_with_exception_handling)"
   ]
  },
  {
   "cell_type": "code",
   "execution_count": 30,
   "metadata": {},
   "outputs": [
    {
     "data": {
      "text/plain": [
       "5.0"
      ]
     },
     "execution_count": 30,
     "metadata": {},
     "output_type": "execute_result"
    }
   ],
   "source": [
    "div_with_exception_handling(10,2)"
   ]
  },
  {
   "cell_type": "code",
   "execution_count": 3,
   "metadata": {},
   "outputs": [
    {
     "name": "stdout",
     "output_type": "stream",
     "text": [
      "<function exception_handler.<locals>.inner at 0x78463c2ce160>\n",
      "<function except_handling.<locals>.inner at 0x78463c2cf2e0>\n",
      "801\n",
      "4.644444444444445\n"
     ]
    }
   ],
   "source": [
    "def except_handling(func):\n",
    "    def inner(a,b):\n",
    "        try:\n",
    "            result = func(a,b)# taking a,b as arguments for function it would be easy\n",
    "        except Exception as e:\n",
    "           return e\n",
    "        else:\n",
    "            return result\n",
    "    return inner\n",
    "#consoldating all the answers together\n",
    "def add(a,b):\n",
    "    return a+b\n",
    "def div(a,b):\n",
    "    return a/b\n",
    "\n",
    "add_with_exception_handler = exception_handler(add)\n",
    "print(add_with_exception_handler)\n",
    "\n",
    "div_with_exception_handling = except_handling(div)\n",
    "print(div_with_exception_handling)\n",
    "\n",
    "print(add_with_exception_handler(123,678))\n",
    "print(div_with_exception_handling(209,45))\n",
    "\n",
    "#Solving the problems which has expectional handling"
   ]
  },
  {
   "cell_type": "code",
   "execution_count": 9,
   "metadata": {},
   "outputs": [
    {
     "name": "stdout",
     "output_type": "stream",
     "text": [
      "<function exception_handler.<locals>.inner at 0x784626de44a0>\n",
      "<function except_handling.<locals>.inner at 0x784626de45e0>\n",
      "801\n",
      "4.644444444444445\n",
      "add_with_exception_handler =<function exception_handler.<locals>.inner at 0x78463c2cf2e0>\n",
      "add_with_exception_handler(23,4,5) =32\n"
     ]
    }
   ],
   "source": [
    "def exception_handler(func):\n",
    "    def inner(*args,**kwargs):#-- we can pas variable arguments\n",
    "        try:\n",
    "            result = func(*args,**kwargs)# taking a,b as arguments for function it would be easy\n",
    "        except Exception as e:\n",
    "           return e\n",
    "        else:\n",
    "            return result\n",
    "    return inner\n",
    "#consoldating all the answers together\n",
    "def add(a,b):\n",
    "    return a+b\n",
    "def div(a,b):\n",
    "    return a/b\n",
    "\n",
    "add_with_exception_handler = exception_handler(add)\n",
    "print(add_with_exception_handler)\n",
    "\n",
    "div_with_exception_handling = except_handling(div)\n",
    "print(div_with_exception_handling)\n",
    "\n",
    "print(add_with_exception_handler(123,678))\n",
    "print(div_with_exception_handling(209,45))\n",
    "\n",
    "def addition(n1,n2,n3):\n",
    "    return n1+n2+n3\n",
    "add_with_exception_handler=exception_handler(addition)\n",
    "print(f\"{add_with_exception_handler =}\")\n",
    "\n",
    "print(f\"{add_with_exception_handler(23,4,5) =}\")\n"
   ]
  },
  {
   "cell_type": "code",
   "execution_count": 8,
   "metadata": {},
   "outputs": [
    {
     "name": "stdout",
     "output_type": "stream",
     "text": [
      "1.3333333333333333\n"
     ]
    }
   ],
   "source": [
    "def outer(func):\n",
    "    def inner(num1,num2):#*args,**kwargs\n",
    "        try:\n",
    "            func(num1,num2)\n",
    "        except Exception as e:\n",
    "            return e\n",
    "        else:\n",
    "            return func(num1,num2)##*args,**kwargs\n",
    "    return inner\n",
    "\n",
    "def div(a,b):\n",
    "    return a/b\n",
    "\n",
    "foo=outer(div)\n",
    "print(foo(4,3))"
   ]
  },
  {
   "cell_type": "markdown",
   "metadata": {},
   "source": [
    "Decorator Synatic Sugar\n",
    "\n"
   ]
  },
  {
   "cell_type": "code",
   "execution_count": 19,
   "metadata": {},
   "outputs": [
    {
     "name": "stdout",
     "output_type": "stream",
     "text": [
      "5.0\n",
      "division by zero\n"
     ]
    }
   ],
   "source": [
    "@except_handling#indirectly except handler\n",
    "def div(a,b):\n",
    "    return a/b\n",
    "print(div(10,2))\n",
    "print(div(2,0))"
   ]
  },
  {
   "cell_type": "code",
   "execution_count": 18,
   "metadata": {},
   "outputs": [
    {
     "name": "stdout",
     "output_type": "stream",
     "text": [
      "35\n",
      "101\n"
     ]
    }
   ],
   "source": [
    "@exception_handler\n",
    "def add(n,m):\n",
    "    return n+m\n",
    "\n",
    "print(add(1,34))\n",
    "print(add(34,67))"
   ]
  },
  {
   "cell_type": "code",
   "execution_count": 24,
   "metadata": {},
   "outputs": [
    {
     "name": "stdout",
     "output_type": "stream",
     "text": [
      "makebold - *args ('Sanjay', '2000000')\n",
      "makebold - *kw*args {}\n",
      "\n",
      "makebold - *args ('Sanjay', '2000000')\n",
      "makebold - *kw*args {}\n",
      "\n",
      "<b><b>Hello world: {name}\t Salary: {salary}<b><b>\n"
     ]
    }
   ],
   "source": [
    "def makebold(fn):\n",
    "    def wrapped(*args,**kwargs):\n",
    "        print(\"makebold - *args\",args)\n",
    "        print(\"makebold - *kw*args\",kwargs)\n",
    "        print()\n",
    "        return \"<b>\"+fn(*args,**kwargs)+\"<b>\"\n",
    "    return wrapped\n",
    "\n",
    "def makitalic(fn):\n",
    "    def wrapped(*args,**kwargs):\n",
    "        print(\"makebold - *args\",args)\n",
    "        print(\"makebold - *kw*args\",kwargs)\n",
    "        print()\n",
    "        return \"<b>\"+fn(*args,**kwargs)+\"<b>\"\n",
    "    return wrapped\n",
    "\n",
    "@makebold\n",
    "@makitalic\n",
    "def hello(name,salary=200000):\n",
    "    return(\"Hello world: {name}\\t Salary: {salary}\")\n",
    "\n",
    "print(hello(\"Sanjay\",'2000000'))"
   ]
  },
  {
   "cell_type": "code",
   "execution_count": 25,
   "metadata": {},
   "outputs": [
    {
     "name": "stdout",
     "output_type": "stream",
     "text": [
      "makebold - *args ('Sanjay', '200000')\n",
      "makebold - *kw*args {}\n",
      "\n",
      "makebold - *args ('Sanjay', '200000')\n",
      "makebold - *kw*args {}\n",
      "\n",
      "<b><b>hello world:Sanjay\t salary:200000<b><b>\n",
      "makebold - *args ('SAM', '500000')\n",
      "makebold - *kw*args {}\n",
      "\n",
      "makebold - *args ('SAM', '500000')\n",
      "makebold - *kw*args {}\n",
      "\n",
      "<b><b>hello world:SAM\t salary:500000<b><b>\n"
     ]
    }
   ],
   "source": [
    "@makebold\n",
    "@makitalic\n",
    "def hello(name,salary=10000):\n",
    "    return \"hello world:{}\\t salary:{}\".format(name,salary)\n",
    "print(hello('Sanjay','200000'))\n",
    "print(hello('SAM',\"500000\"))"
   ]
  },
  {
   "cell_type": "code",
   "execution_count": 27,
   "metadata": {},
   "outputs": [
    {
     "name": "stdout",
     "output_type": "stream",
     "text": [
      "function - start\n",
      "function-end\n",
      "801\n",
      "function - start\n",
      "function-end\n",
      "132678\n"
     ]
    }
   ],
   "source": [
    "def addition(num1,num2):\n",
    "    print(\"function - start\")\n",
    "    result = num1+num2\n",
    "    print(\"function-end\")\n",
    "    return result\n",
    "\n",
    "\n",
    "def multilpication(num1,num2):\n",
    "    print(\"function - start\")\n",
    "    result = num1*num2\n",
    "    print(\"function-end\")\n",
    "    return result\n",
    "\n",
    "print(addition(234,567))\n",
    "print(multilpication(234,567))\n",
    "\n",
    "#In this we are using too many print statements this can be reduced by using Decorators\n",
    "#in next step"
   ]
  },
  {
   "cell_type": "code",
   "execution_count": 28,
   "metadata": {},
   "outputs": [
    {
     "name": "stdout",
     "output_type": "stream",
     "text": [
      "\n",
      "****USING DECORATORS\n",
      "function-start\n",
      "function-before end\n",
      "801\n",
      "function-start\n",
      "function-before end\n",
      "132678\n"
     ]
    }
   ],
   "source": [
    "print(\"\\n****USING DECORATORS\")\n",
    "\n",
    "def printstatement(func):\n",
    "    def inner(*args,**kwargs):\n",
    "        print(\"function-start\")\n",
    "        result = func(*args,**kwargs)\n",
    "        print(\"function-before end\")\n",
    "        return result\n",
    "    return inner\n",
    "\n",
    "@printstatement\n",
    "def additin111(a,b):\n",
    "    return a+b\n",
    "@printstatement\n",
    "def multilpi2222(a,b):\n",
    "    return a*b\n",
    "\n",
    "print(additin111(234,567))\n",
    "print(multilpi2222(234,567))"
   ]
  },
  {
   "cell_type": "code",
   "execution_count": 49,
   "metadata": {},
   "outputs": [
    {
     "data": {
      "text/plain": [
       "<function __main__.get_even_number(num)>"
      ]
     },
     "execution_count": 49,
     "metadata": {},
     "output_type": "execute_result"
    }
   ],
   "source": [
    "#decorator to calculate the time taken by a function. \n",
    "def get_even_number(num):\n",
    "    even_numbers = []\n",
    "    for i in range(num):\n",
    "        if i % 2==0:\n",
    "         even_numbers.append(i)\n",
    "    return get_even_number\n",
    "\n",
    "get_even_number(10)\n",
    "\n",
    "\n",
    "\n"
   ]
  },
  {
   "cell_type": "code",
   "execution_count": 53,
   "metadata": {},
   "outputs": [
    {
     "data": {
      "text/plain": [
       "15548421956344"
      ]
     },
     "execution_count": 53,
     "metadata": {},
     "output_type": "execute_result"
    }
   ],
   "source": [
    "import time\n",
    "time.perf_counter_ns()#tells how many nano seconds were completed"
   ]
  },
  {
   "cell_type": "code",
   "execution_count": 56,
   "metadata": {},
   "outputs": [
    {
     "name": "stdout",
     "output_type": "stream",
     "text": [
      "TIME TAKEN =-6652ns\n",
      "[0, 2, 4, 6, 8, 10, 12, 14, 16, 18, 20, 22, 24, 26, 28, 30, 32, 34, 36, 38, 40, 42, 44, 46, 48, 50, 52, 54, 56, 58, 60, 62, 64, 66, 68, 70, 72, 74, 76, 78, 80, 82, 84, 86, 88, 90, 92, 94, 96, 98]\n",
      "TIME TAKEN =-41868ns\n",
      "[0, 2, 4, 6, 8, 10, 12, 14, 16, 18, 20, 22, 24, 26, 28, 30, 32, 34, 36, 38, 40, 42, 44, 46, 48, 50, 52, 54, 56, 58, 60, 62, 64, 66, 68, 70, 72, 74, 76, 78, 80, 82, 84, 86, 88, 90, 92, 94, 96, 98, 100, 102, 104, 106, 108, 110, 112, 114, 116, 118, 120, 122, 124, 126, 128, 130, 132, 134, 136, 138, 140, 142, 144, 146, 148, 150, 152, 154, 156, 158, 160, 162, 164, 166, 168, 170, 172, 174, 176, 178, 180, 182, 184, 186, 188, 190, 192, 194, 196, 198, 200, 202, 204, 206, 208, 210, 212, 214, 216, 218, 220, 222, 224, 226, 228, 230, 232, 234, 236, 238, 240, 242, 244, 246, 248, 250, 252, 254, 256, 258, 260, 262, 264, 266, 268, 270, 272, 274, 276, 278, 280, 282, 284, 286, 288, 290, 292, 294, 296, 298, 300, 302, 304, 306, 308, 310, 312, 314, 316, 318, 320, 322, 324, 326, 328, 330, 332, 334, 336, 338, 340, 342, 344, 346, 348, 350, 352, 354, 356, 358, 360, 362, 364, 366, 368, 370, 372, 374, 376, 378, 380, 382, 384, 386, 388, 390, 392, 394, 396, 398, 400, 402, 404, 406, 408, 410, 412, 414, 416, 418, 420, 422, 424, 426, 428, 430, 432, 434, 436, 438, 440, 442, 444, 446, 448, 450, 452, 454, 456, 458, 460, 462, 464, 466, 468, 470, 472, 474, 476, 478, 480, 482, 484, 486, 488, 490, 492, 494, 496, 498, 500, 502, 504, 506, 508, 510, 512, 514, 516, 518, 520, 522, 524, 526, 528, 530, 532, 534, 536, 538, 540, 542, 544, 546, 548, 550, 552, 554, 556, 558, 560, 562, 564, 566, 568, 570, 572, 574, 576, 578, 580, 582, 584, 586, 588, 590, 592, 594, 596, 598, 600, 602, 604, 606, 608, 610, 612, 614, 616, 618, 620, 622, 624, 626, 628, 630, 632, 634, 636, 638, 640, 642, 644, 646, 648, 650, 652, 654, 656, 658, 660, 662, 664, 666, 668, 670, 672, 674, 676, 678, 680, 682, 684, 686, 688, 690, 692, 694, 696, 698, 700, 702, 704, 706, 708, 710, 712, 714, 716, 718, 720, 722, 724, 726, 728, 730, 732, 734, 736, 738, 740, 742, 744, 746, 748, 750, 752, 754, 756, 758, 760, 762, 764, 766, 768, 770, 772, 774, 776, 778, 780, 782, 784, 786, 788, 790, 792, 794, 796, 798, 800, 802, 804, 806, 808, 810, 812, 814, 816, 818, 820, 822, 824, 826, 828, 830, 832, 834, 836, 838, 840, 842, 844, 846, 848, 850, 852, 854, 856, 858, 860, 862, 864, 866, 868, 870, 872, 874, 876, 878, 880, 882, 884, 886, 888, 890, 892, 894, 896, 898, 900, 902, 904, 906, 908, 910, 912, 914, 916, 918, 920, 922, 924, 926, 928, 930, 932, 934, 936, 938, 940, 942, 944, 946, 948, 950, 952, 954, 956, 958, 960, 962, 964, 966, 968, 970, 972, 974, 976, 978, 980, 982, 984, 986, 988, 990, 992, 994, 996, 998]\n"
     ]
    }
   ],
   "source": [
    "def get_even_number(num):\n",
    "    start_time = time.perf_counter_ns()# this perf_counter gives u number in nanoseconds\n",
    "\n",
    "    even_numbers = []\n",
    "    for i in range(num):\n",
    "        if i % 2 ==0:\n",
    "            even_numbers.append(i)\n",
    "    end_time = time.perf_counter_ns()\n",
    "    print(f\"TIME TAKEN ={end_time-start_time}ns\")\n",
    "    return even_numbers\n",
    "\n",
    "print(get_even_number(100))\n",
    "print(get_even_number(1000))"
   ]
  },
  {
   "cell_type": "code",
   "execution_count": 59,
   "metadata": {},
   "outputs": [
    {
     "name": "stdout",
     "output_type": "stream",
     "text": [
      "TIME TAKEN =802ns\n",
      "TIME TAKEN =601ns\n"
     ]
    },
    {
     "data": {
      "text/plain": [
       "'HELLO MAHENDER! Welcome to this wolrd'"
      ]
     },
     "execution_count": 59,
     "metadata": {},
     "output_type": "execute_result"
    }
   ],
   "source": [
    "def Hello_Wolrd(name):\n",
    "    start_time = time.perf_counter_ns()\n",
    "\n",
    "    greetings =f'HELLO {name}! Welcome to this wolrd'\n",
    "    end_time = time.perf_counter_ns()\n",
    "    print(f\"TIME TAKEN ={end_time-start_time}ns\")\n",
    "    return greetings\n",
    "\n",
    "Hello_Wolrd('SANJAY')\n",
    "Hello_Wolrd('MAHENDER')\n",
    "#time _ taken is common from above two codes so we can write decoartor for that\n"
   ]
  },
  {
   "cell_type": "code",
   "execution_count": 72,
   "metadata": {},
   "outputs": [
    {
     "name": "stdout",
     "output_type": "stream",
     "text": [
      "TIME TAKEN 10840 ns\n",
      "[0, 2, 4, 6, 8, 10, 12, 14, 16, 18, 20, 22, 24, 26, 28, 30, 32, 34, 36, 38, 40, 42, 44, 46, 48, 50, 52, 54, 56, 58, 60, 62, 64, 66, 68, 70, 72, 74, 76, 78, 80, 82, 84, 86, 88, 90, 92, 94, 96, 98]\n",
      "TIME TAKEN 79859 ns\n",
      "[0, 2, 4, 6, 8, 10, 12, 14, 16, 18, 20, 22, 24, 26, 28, 30, 32, 34, 36, 38, 40, 42, 44, 46, 48, 50, 52, 54, 56, 58, 60, 62, 64, 66, 68, 70, 72, 74, 76, 78, 80, 82, 84, 86, 88, 90, 92, 94, 96, 98, 100, 102, 104, 106, 108, 110, 112, 114, 116, 118, 120, 122, 124, 126, 128, 130, 132, 134, 136, 138, 140, 142, 144, 146, 148, 150, 152, 154, 156, 158, 160, 162, 164, 166, 168, 170, 172, 174, 176, 178, 180, 182, 184, 186, 188, 190, 192, 194, 196, 198, 200, 202, 204, 206, 208, 210, 212, 214, 216, 218, 220, 222, 224, 226, 228, 230, 232, 234, 236, 238, 240, 242, 244, 246, 248, 250, 252, 254, 256, 258, 260, 262, 264, 266, 268, 270, 272, 274, 276, 278, 280, 282, 284, 286, 288, 290, 292, 294, 296, 298, 300, 302, 304, 306, 308, 310, 312, 314, 316, 318, 320, 322, 324, 326, 328, 330, 332, 334, 336, 338, 340, 342, 344, 346, 348, 350, 352, 354, 356, 358, 360, 362, 364, 366, 368, 370, 372, 374, 376, 378, 380, 382, 384, 386, 388, 390, 392, 394, 396, 398, 400, 402, 404, 406, 408, 410, 412, 414, 416, 418, 420, 422, 424, 426, 428, 430, 432, 434, 436, 438, 440, 442, 444, 446, 448, 450, 452, 454, 456, 458, 460, 462, 464, 466, 468, 470, 472, 474, 476, 478, 480, 482, 484, 486, 488, 490, 492, 494, 496, 498, 500, 502, 504, 506, 508, 510, 512, 514, 516, 518, 520, 522, 524, 526, 528, 530, 532, 534, 536, 538, 540, 542, 544, 546, 548, 550, 552, 554, 556, 558, 560, 562, 564, 566, 568, 570, 572, 574, 576, 578, 580, 582, 584, 586, 588, 590, 592, 594, 596, 598, 600, 602, 604, 606, 608, 610, 612, 614, 616, 618, 620, 622, 624, 626, 628, 630, 632, 634, 636, 638, 640, 642, 644, 646, 648, 650, 652, 654, 656, 658, 660, 662, 664, 666, 668, 670, 672, 674, 676, 678, 680, 682, 684, 686, 688, 690, 692, 694, 696, 698, 700, 702, 704, 706, 708, 710, 712, 714, 716, 718, 720, 722, 724, 726, 728, 730, 732, 734, 736, 738, 740, 742, 744, 746, 748, 750, 752, 754, 756, 758, 760, 762, 764, 766, 768, 770, 772, 774, 776, 778, 780, 782, 784, 786, 788, 790, 792, 794, 796, 798, 800, 802, 804, 806, 808, 810, 812, 814, 816, 818, 820, 822, 824, 826, 828, 830, 832, 834, 836, 838, 840, 842, 844, 846, 848, 850, 852, 854, 856, 858, 860, 862, 864, 866, 868, 870, 872, 874, 876, 878, 880, 882, 884, 886, 888, 890, 892, 894, 896, 898, 900, 902, 904, 906, 908, 910, 912, 914, 916, 918, 920, 922, 924, 926, 928, 930, 932, 934, 936, 938, 940, 942, 944, 946, 948, 950, 952, 954, 956, 958, 960, 962, 964, 966, 968, 970, 972, 974, 976, 978, 980, 982, 984, 986, 988, 990, 992, 994, 996, 998]\n",
      "TIME TAKEN 1433 ns\n",
      "TIME TAKEN 1092 ns\n"
     ]
    },
    {
     "data": {
      "text/plain": [
       "'HELLO MAHENDER! Welcome to this wolrd'"
      ]
     },
     "execution_count": 72,
     "metadata": {},
     "output_type": "execute_result"
    }
   ],
   "source": [
    "#Creating a decorator for time - taken \n",
    "def time_taken(func):\n",
    "       def inner(*args,**kwargs):\n",
    "        start_time = time.perf_counter_ns()\n",
    "\n",
    "        result = func(*args,**kwargs)\n",
    "\n",
    "        end_time = time.perf_counter_ns()\n",
    "        print(f\"TIME TAKEN {end_time-start_time} ns\")\n",
    "        \n",
    "        return result\n",
    "       return inner\n",
    "\n",
    "           \n",
    "\n",
    "\n",
    "@time_taken\n",
    "def get_even_number(num):\n",
    "    even_numbers = []\n",
    "    for i in range(num):\n",
    "        if i % 2 ==0:\n",
    "            even_numbers.append(i)\n",
    "    return even_numbers\n",
    "\n",
    "print(get_even_number(100))\n",
    "print(get_even_number(1000))\n",
    "\n",
    "@time_taken\n",
    "def Hello_Wolrd(name):\n",
    "    greetings =f'HELLO {name}! Welcome to this wolrd'\n",
    "    return greetings\n",
    "\n",
    "Hello_Wolrd('SANJAY')\n",
    "Hello_Wolrd('MAHENDER')\n"
   ]
  },
  {
   "cell_type": "markdown",
   "metadata": {},
   "source": [
    "### WRAPS can be used we  are wriiting DOC strings in an function to return them wraps are used. ###"
   ]
  },
  {
   "cell_type": "markdown",
   "metadata": {},
   "source": []
  }
 ],
 "metadata": {
  "kernelspec": {
   "display_name": "Python 3",
   "language": "python",
   "name": "python3"
  },
  "language_info": {
   "codemirror_mode": {
    "name": "ipython",
    "version": 3
   },
   "file_extension": ".py",
   "mimetype": "text/x-python",
   "name": "python",
   "nbconvert_exporter": "python",
   "pygments_lexer": "ipython3",
   "version": "3.12.1"
  }
 },
 "nbformat": 4,
 "nbformat_minor": 2
}
