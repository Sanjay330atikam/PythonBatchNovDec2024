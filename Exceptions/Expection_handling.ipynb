{
 "cells": [
  {
   "cell_type": "markdown",
   "metadata": {},
   "source": [
    "## Exception Handling\n",
    "FOUR BLOCKS - Try, except, else, finally \n",
    "\n",
    "##Exception Flows\n",
    "when no error - try>else>finally\n",
    "when error    -try>except>finally"
   ]
  },
  {
   "cell_type": "code",
   "execution_count": 6,
   "metadata": {},
   "outputs": [],
   "source": [
    "num3 = '12,34,45'\n",
    "try:\n",
    "    num3 = int(input('Enter a number'))\n",
    "    print\n",
    "    (num3)\n",
    "except:\n",
    " pass\n"
   ]
  },
  {
   "cell_type": "code",
   "execution_count": 9,
   "metadata": {},
   "outputs": [],
   "source": [
    "try:\n",
    "    num = int(input('Enter a number'))\n",
    "    print\n",
    "    (num)\n",
    "except:\n",
    "    print(\"got error\")\n",
    "\n",
    "    # try:\n",
    "    #    num3 = int(input('Enter a number'))\n",
    "    # print(num3)\n",
    "    # except Exception as ex:\n",
    "    #      print(\"got error\")"
   ]
  },
  {
   "cell_type": "code",
   "execution_count": 3,
   "metadata": {},
   "outputs": [],
   "source": [
    "# try \n",
    "#     10/0\n",
    "#     10/0\n",
    "#     10%0\n",
    "\n",
    "#     int(12)\n",
    "#     int(12.3)\n",
    "#     int('12.3')\n",
    "\n",
    "#     num1.upper()\n",
    "# except Exception as ex:\n",
    "#     print(f'{ex =}')\n",
    "\n"
   ]
  },
  {
   "cell_type": "code",
   "execution_count": 4,
   "metadata": {},
   "outputs": [
    {
     "name": "stdout",
     "output_type": "stream",
     "text": [
      "add_result\n"
     ]
    }
   ],
   "source": [
    "num1=2003\n",
    "num2=2004\n",
    "add_result = num1 + num2\n",
    "print(\"add_result\")"
   ]
  }
 ],
 "metadata": {
  "kernelspec": {
   "display_name": "Python 3",
   "language": "python",
   "name": "python3"
  },
  "language_info": {
   "codemirror_mode": {
    "name": "ipython",
    "version": 3
   },
   "file_extension": ".py",
   "mimetype": "text/x-python",
   "name": "python",
   "nbconvert_exporter": "python",
   "pygments_lexer": "ipython3",
   "version": "3.12.1"
  }
 },
 "nbformat": 4,
 "nbformat_minor": 2
}
